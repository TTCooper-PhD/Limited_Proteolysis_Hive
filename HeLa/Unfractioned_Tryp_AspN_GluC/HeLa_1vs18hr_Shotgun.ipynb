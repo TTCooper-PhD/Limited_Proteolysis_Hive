{
 "cells": [
  {
   "cell_type": "code",
   "execution_count": 1,
   "metadata": {},
   "outputs": [],
   "source": [
    "import Peptide_Chef as Chef\n",
    "import math\n",
    "import numpy as np\n",
    "import pandas as pd\n",
    "import matplotlib \n",
    "import matplotlib.pyplot as plt\n",
    "import seaborn as sns\n",
    "# from Peptide_Chef import Cook_Book"
   ]
  },
  {
   "cell_type": "code",
   "execution_count": 2,
   "metadata": {},
   "outputs": [
    {
     "name": "stdout",
     "output_type": "stream",
     "text": [
      "The numpy version is 1.19.1.\n",
      "The pandas version is 1.0.5.\n",
      "The matplotlib version is 3.2.2.\n",
      "The seaborn version is 0.11.0.\n"
     ]
    }
   ],
   "source": [
    "print('The numpy version is {}.'.format(np.__version__))\n",
    "print('The pandas version is {}.'.format(pd.__version__))\n",
    "print('The matplotlib version is {}.'.format(matplotlib.__version__))\n",
    "print('The seaborn version is {}.'.format(sns.__version__))"
   ]
  },
  {
   "cell_type": "markdown",
   "metadata": {},
   "source": [
    "# In silico Digestion "
   ]
  },
  {
   "cell_type": "code",
   "execution_count": 3,
   "metadata": {},
   "outputs": [],
   "source": [
    "# use labelling format (below) to keep track of dfs.\n",
    "##(*_dig= Digestion of Given Enzyme/Missed/Length/Charge)"
   ]
  },
  {
   "cell_type": "code",
   "execution_count": 4,
   "metadata": {},
   "outputs": [],
   "source": [
    "url=\"https://ftp.uniprot.org/pub/databases/uniprot/current_release/knowledgebase/reference_proteomes/Eukaryota/UP000005640/UP000005640_9606.fasta.gz\""
   ]
  },
  {
   "cell_type": "code",
   "execution_count": 5,
   "metadata": {
    "scrolled": true
   },
   "outputs": [
    {
     "name": "stdout",
     "output_type": "stream",
     "text": [
      "Downloading the FASTA file from url...\n",
      "Unzipping...\n",
      "Takeout is Done!\n",
      "Here ya go boss!\n"
     ]
    }
   ],
   "source": [
    "Menu=Chef.CookBook(homebrew=False, takeout=True,url=url,measure=True, target=\"Peptide\")"
   ]
  },
  {
   "cell_type": "code",
   "execution_count": 6,
   "metadata": {
    "scrolled": false
   },
   "outputs": [
    {
     "data": {
      "text/html": [
       "<div>\n",
       "<style scoped>\n",
       "    .dataframe tbody tr th:only-of-type {\n",
       "        vertical-align: middle;\n",
       "    }\n",
       "\n",
       "    .dataframe tbody tr th {\n",
       "        vertical-align: top;\n",
       "    }\n",
       "\n",
       "    .dataframe thead th {\n",
       "        text-align: right;\n",
       "    }\n",
       "</style>\n",
       "<table border=\"1\" class=\"dataframe\">\n",
       "  <thead>\n",
       "    <tr style=\"text-align: right;\">\n",
       "      <th></th>\n",
       "      <th>Peptide</th>\n",
       "      <th>UniprotID</th>\n",
       "      <th>Gene</th>\n",
       "      <th>Identification</th>\n",
       "      <th>Protein_Length</th>\n",
       "    </tr>\n",
       "  </thead>\n",
       "  <tbody>\n",
       "    <tr>\n",
       "      <th>0</th>\n",
       "      <td>MGCCGCGSCGGCGGGCGGCGGGCGGGCGGGCGSCTTCRCYRVGCCS...</td>\n",
       "      <td>A0A286YF01</td>\n",
       "      <td>SCGR7</td>\n",
       "      <td>HUMAN Small cysteine and glycine repeat-contai...</td>\n",
       "      <td>96</td>\n",
       "    </tr>\n",
       "    <tr>\n",
       "      <th>1</th>\n",
       "      <td>MRAKPQSPLPRNPVPAWSPPTTTTDPMLEKDAAGGDFPANLVLQLM...</td>\n",
       "      <td>A1L1A6</td>\n",
       "      <td>IGS23</td>\n",
       "      <td>HUMAN Immunoglobulin superfamily member 23 OS=...</td>\n",
       "      <td>192</td>\n",
       "    </tr>\n",
       "    <tr>\n",
       "      <th>2</th>\n",
       "      <td>MVLLAGTRPQGGEARCMIPPPPSPLLGAQVEEDRTEFKEFQDFSSL...</td>\n",
       "      <td>A6NHS1</td>\n",
       "      <td>YK042</td>\n",
       "      <td>HUMAN Putative uncharacterized protein ENSP000...</td>\n",
       "      <td>94</td>\n",
       "    </tr>\n",
       "    <tr>\n",
       "      <th>3</th>\n",
       "      <td>MRLCLIPWNTTPHRVLPPVVWSAPSRKKPVLSARNSMMFGHLSPVR...</td>\n",
       "      <td>A6NL46</td>\n",
       "      <td>YF016</td>\n",
       "      <td>HUMAN Putative UPF0607 protein ENSP00000332738...</td>\n",
       "      <td>340</td>\n",
       "    </tr>\n",
       "    <tr>\n",
       "      <th>4</th>\n",
       "      <td>MRLCLIPQNTGTPQRVLPPVVWSPPSRKKPMLSACNSMMFGHLSPV...</td>\n",
       "      <td>A8MUI8</td>\n",
       "      <td>YA034</td>\n",
       "      <td>HUMAN Putative UPF0607 protein ENSP00000383783...</td>\n",
       "      <td>341</td>\n",
       "    </tr>\n",
       "  </tbody>\n",
       "</table>\n",
       "</div>"
      ],
      "text/plain": [
       "                                             Peptide   UniprotID   Gene  \\\n",
       "0  MGCCGCGSCGGCGGGCGGCGGGCGGGCGGGCGSCTTCRCYRVGCCS...  A0A286YF01  SCGR7   \n",
       "1  MRAKPQSPLPRNPVPAWSPPTTTTDPMLEKDAAGGDFPANLVLQLM...      A1L1A6  IGS23   \n",
       "2  MVLLAGTRPQGGEARCMIPPPPSPLLGAQVEEDRTEFKEFQDFSSL...      A6NHS1  YK042   \n",
       "3  MRLCLIPWNTTPHRVLPPVVWSAPSRKKPVLSARNSMMFGHLSPVR...      A6NL46  YF016   \n",
       "4  MRLCLIPQNTGTPQRVLPPVVWSPPSRKKPMLSACNSMMFGHLSPV...      A8MUI8  YA034   \n",
       "\n",
       "                                      Identification  Protein_Length  \n",
       "0  HUMAN Small cysteine and glycine repeat-contai...              96  \n",
       "1  HUMAN Immunoglobulin superfamily member 23 OS=...             192  \n",
       "2  HUMAN Putative uncharacterized protein ENSP000...              94  \n",
       "3  HUMAN Putative UPF0607 protein ENSP00000332738...             340  \n",
       "4  HUMAN Putative UPF0607 protein ENSP00000383783...             341  "
      ]
     },
     "execution_count": 6,
     "metadata": {},
     "output_type": "execute_result"
    }
   ],
   "source": [
    "Menu.head()"
   ]
  },
  {
   "cell_type": "code",
   "execution_count": 7,
   "metadata": {
    "scrolled": false
   },
   "outputs": [
    {
     "data": {
      "text/plain": [
       "{'arg-c': 'R',\n",
       " 'asp-n': '\\\\w(?=D)',\n",
       " 'bnps-skatole': 'W',\n",
       " 'caspase 1': '(?<=[FWYL]\\\\w[HAT])D(?=[^PEDQKR])',\n",
       " 'caspase 2': '(?<=DVA)D(?=[^PEDQKR])',\n",
       " 'caspase 3': '(?<=DMQ)D(?=[^PEDQKR])',\n",
       " 'caspase 4': '(?<=LEV)D(?=[^PEDQKR])',\n",
       " 'caspase 5': '(?<=[LW]EH)D',\n",
       " 'caspase 6': '(?<=VE[HI])D(?=[^PEDQKR])',\n",
       " 'caspase 7': '(?<=DEV)D(?=[^PEDQKR])',\n",
       " 'caspase 8': '(?<=[IL]ET)D(?=[^PEDQKR])',\n",
       " 'caspase 9': '(?<=LEH)D',\n",
       " 'caspase 10': '(?<=IEA)D',\n",
       " 'chymotrypsin high specificity': '([FY](?=[^P]))|(W(?=[^MP]))',\n",
       " 'chymotrypsin low specificity': '([FLY](?=[^P]))|(W(?=[^MP]))|(M(?=[^PY]))|(H(?=[^DMPW]))',\n",
       " 'clostripain': 'R',\n",
       " 'cnbr': 'M',\n",
       " 'enterokinase': '(?<=[DE]{3})K',\n",
       " 'factor xa': '(?<=[AFGILTVM][DE]G)R',\n",
       " 'formic acid': 'D',\n",
       " 'glutamyl endopeptidase': 'E',\n",
       " 'granzyme b': '(?<=IEP)D',\n",
       " 'hydroxylamine': 'N(?=G)',\n",
       " 'iodosobenzoic acid': 'W',\n",
       " 'lysc': 'K',\n",
       " 'ntcb': '\\\\w(?=C)',\n",
       " 'pepsin ph1.3': '((?<=[^HKR][^P])[^R](?=[FL][^P]))|((?<=[^HKR][^P])[FL](?=\\\\w[^P]))',\n",
       " 'pepsin ph2.0': '((?<=[^HKR][^P])[^R](?=[FLWY][^P]))|((?<=[^HKR][^P])[FLWY](?=\\\\w[^P]))',\n",
       " 'proline endopeptidase': '(?<=[HKR])P(?=[^P])',\n",
       " 'proteinase k': '[AEFILTVWY]',\n",
       " 'staphylococcal peptidase i': '(?<=[^E])E',\n",
       " 'thermolysin': '[^DE](?=[AFILMV])',\n",
       " 'thrombin': '((?<=G)R(?=G))|((?<=[AFGILTVM][AFGILTVWA]P)R(?=[^DE][^DE]))',\n",
       " 'trypsin': '([KR](?=[^P]))|((?<=W)K(?=P))|((?<=M)R(?=P))',\n",
       " 'trypsin_exception': '((?<=[CD])K(?=D))|((?<=C)K(?=[HY]))|((?<=C)R(?=K))|((?<=R)R(?=[HR]))'}"
      ]
     },
     "execution_count": 7,
     "metadata": {},
     "output_type": "execute_result"
    }
   ],
   "source": [
    "Chef.rules"
   ]
  },
  {
   "cell_type": "markdown",
   "metadata": {},
   "source": [
    "## Trypsin in Silco Digestion"
   ]
  },
  {
   "cell_type": "code",
   "execution_count": 20,
   "metadata": {
    "scrolled": true
   },
   "outputs": [
    {
     "name": "stdout",
     "output_type": "stream",
     "text": [
      "You order is being processed and the butcher is preparing your trypsin-cut protein(s)!\n",
      "The butcher is working...\n",
      "Generating trypsin-cut peptides based on 0-missed cleavages. \n",
      "Preparing your order...\n",
      "Order is up! You have acquired 416712 peptides that are between 7 and 100 amino acids!\n",
      "You order is being processed and the butcher is preparing your trypsin-cut protein(s)!\n",
      "The butcher is working...\n",
      "Generating trypsin-cut peptides based on 1-missed cleavages. \n",
      "Preparing your order...\n",
      "Order is up! You have acquired 1149634 peptides that are between 7 and 100 amino acids!\n",
      "You order is being processed and the butcher is preparing your trypsin-cut protein(s)!\n",
      "The butcher is working...\n",
      "Generating trypsin-cut peptides based on 2-missed cleavages. \n",
      "Preparing your order...\n",
      "Order is up! You have acquired 1989047 peptides that are between 7 and 100 amino acids!\n",
      "You order is being processed and the butcher is preparing your trypsin-cut protein(s)!\n",
      "The butcher is working...\n",
      "Generating trypsin-cut peptides based on 3-missed cleavages. \n",
      "Preparing your order...\n",
      "Order is up! You have acquired 2837952 peptides that are between 7 and 100 amino acids!\n"
     ]
    }
   ],
   "source": [
    "# Trypsin in Silco Digestion\n",
    "missed_sites=[0,1,2,3]\n",
    "enzyme=\"trypsin\"\n",
    "Tryp_Peptides=[]\n",
    "for site in missed_sites:\n",
    "    x=f\"Tryp_{site}_dig\"\n",
    "    z=Chef.ButcherShop(Menu,target=\"Peptide\",identifier=\"Gene\", rule=enzyme,min_charge=1.55,missed=site,exception=None,min_length=7,max_length=100)\n",
    "    globals()[str(x)]=Chef.Deli(z,meat_package=True)\n",
    "    Tryp_Peptides.append(globals()[str(x)])\n",
    "    "
   ]
  },
  {
   "cell_type": "code",
   "execution_count": 21,
   "metadata": {
    "scrolled": false
   },
   "outputs": [
    {
     "data": {
      "text/html": [
       "<div>\n",
       "<style scoped>\n",
       "    .dataframe tbody tr th:only-of-type {\n",
       "        vertical-align: middle;\n",
       "    }\n",
       "\n",
       "    .dataframe tbody tr th {\n",
       "        vertical-align: top;\n",
       "    }\n",
       "\n",
       "    .dataframe thead th {\n",
       "        text-align: right;\n",
       "    }\n",
       "</style>\n",
       "<table border=\"1\" class=\"dataframe\">\n",
       "  <thead>\n",
       "    <tr style=\"text-align: right;\">\n",
       "      <th></th>\n",
       "      <th>SCGR7</th>\n",
       "      <th>gene</th>\n",
       "      <th>aa_comp</th>\n",
       "      <th>peptide</th>\n",
       "      <th>Length</th>\n",
       "      <th>z</th>\n",
       "      <th>Mass</th>\n",
       "      <th>m/z</th>\n",
       "      <th>counts</th>\n",
       "    </tr>\n",
       "  </thead>\n",
       "  <tbody>\n",
       "    <tr>\n",
       "      <th>0</th>\n",
       "      <td>TCGSCGCGCGK</td>\n",
       "      <td>SCGR7</td>\n",
       "      <td>{'T': 1, 'C': 4, 'G': 4, 'S': 1, 'K': 1}</td>\n",
       "      <td>TCGSCGCGCGK</td>\n",
       "      <td>11</td>\n",
       "      <td>1.686</td>\n",
       "      <td>956.297266</td>\n",
       "      <td>567.198853</td>\n",
       "      <td>4</td>\n",
       "    </tr>\n",
       "    <tr>\n",
       "      <th>1</th>\n",
       "      <td>TCGSCGCGCGK</td>\n",
       "      <td>SCGR7</td>\n",
       "      <td>{'T': 1, 'C': 4, 'G': 4, 'S': 1, 'K': 1}</td>\n",
       "      <td>TCGSCGCGCGK</td>\n",
       "      <td>11</td>\n",
       "      <td>1.686</td>\n",
       "      <td>956.297266</td>\n",
       "      <td>567.198853</td>\n",
       "      <td>4</td>\n",
       "    </tr>\n",
       "    <tr>\n",
       "      <th>2</th>\n",
       "      <td>TCGSCGCGCGK</td>\n",
       "      <td>SCGR7</td>\n",
       "      <td>{'T': 1, 'C': 4, 'G': 4, 'S': 1, 'K': 1}</td>\n",
       "      <td>TCGSCGCGCGK</td>\n",
       "      <td>11</td>\n",
       "      <td>1.686</td>\n",
       "      <td>956.297266</td>\n",
       "      <td>567.198853</td>\n",
       "      <td>4</td>\n",
       "    </tr>\n",
       "    <tr>\n",
       "      <th>3</th>\n",
       "      <td>TCGSCGCGCGK</td>\n",
       "      <td>SCGR7</td>\n",
       "      <td>{'T': 1, 'C': 4, 'G': 4, 'S': 1, 'K': 1}</td>\n",
       "      <td>TCGSCGCGCGK</td>\n",
       "      <td>11</td>\n",
       "      <td>1.686</td>\n",
       "      <td>956.297266</td>\n",
       "      <td>567.198853</td>\n",
       "      <td>4</td>\n",
       "    </tr>\n",
       "    <tr>\n",
       "      <th>4</th>\n",
       "      <td>NaN</td>\n",
       "      <td>IGS23</td>\n",
       "      <td>{'Q': 3, 'L': 9, 'V': 2, 'S': 6, 'E': 4, 'P': ...</td>\n",
       "      <td>QLVSEPVTISLPKPIMQPTEAEPMEPDPTLSLSGGSAIGLLAAGIL...</td>\n",
       "      <td>64</td>\n",
       "      <td>2.642</td>\n",
       "      <td>6463.464677</td>\n",
       "      <td>2446.428720</td>\n",
       "      <td>7</td>\n",
       "    </tr>\n",
       "  </tbody>\n",
       "</table>\n",
       "</div>"
      ],
      "text/plain": [
       "         SCGR7   gene                                            aa_comp  \\\n",
       "0  TCGSCGCGCGK  SCGR7           {'T': 1, 'C': 4, 'G': 4, 'S': 1, 'K': 1}   \n",
       "1  TCGSCGCGCGK  SCGR7           {'T': 1, 'C': 4, 'G': 4, 'S': 1, 'K': 1}   \n",
       "2  TCGSCGCGCGK  SCGR7           {'T': 1, 'C': 4, 'G': 4, 'S': 1, 'K': 1}   \n",
       "3  TCGSCGCGCGK  SCGR7           {'T': 1, 'C': 4, 'G': 4, 'S': 1, 'K': 1}   \n",
       "4          NaN  IGS23  {'Q': 3, 'L': 9, 'V': 2, 'S': 6, 'E': 4, 'P': ...   \n",
       "\n",
       "                                             peptide  Length      z  \\\n",
       "0                                        TCGSCGCGCGK      11  1.686   \n",
       "1                                        TCGSCGCGCGK      11  1.686   \n",
       "2                                        TCGSCGCGCGK      11  1.686   \n",
       "3                                        TCGSCGCGCGK      11  1.686   \n",
       "4  QLVSEPVTISLPKPIMQPTEAEPMEPDPTLSLSGGSAIGLLAAGIL...      64  2.642   \n",
       "\n",
       "          Mass          m/z  counts  \n",
       "0   956.297266   567.198853       4  \n",
       "1   956.297266   567.198853       4  \n",
       "2   956.297266   567.198853       4  \n",
       "3   956.297266   567.198853       4  \n",
       "4  6463.464677  2446.428720       7  "
      ]
     },
     "execution_count": 21,
     "metadata": {},
     "output_type": "execute_result"
    }
   ],
   "source": [
    "Tryp_0_dig.head()"
   ]
  },
  {
   "cell_type": "code",
   "execution_count": 22,
   "metadata": {
    "scrolled": false
   },
   "outputs": [
    {
     "data": {
      "text/plain": [
       "5227"
      ]
     },
     "execution_count": 22,
     "metadata": {},
     "output_type": "execute_result"
    }
   ],
   "source": [
    "Marked = set(Tryp_0_dig.gene)\n",
    "Total= set(Menu.Gene)\n",
    "unique= list(Marked ^ Total)\n",
    "len(unique)"
   ]
  },
  {
   "cell_type": "code",
   "execution_count": 23,
   "metadata": {},
   "outputs": [
    {
     "data": {
      "text/html": [
       "<div>\n",
       "<style scoped>\n",
       "    .dataframe tbody tr th:only-of-type {\n",
       "        vertical-align: middle;\n",
       "    }\n",
       "\n",
       "    .dataframe tbody tr th {\n",
       "        vertical-align: top;\n",
       "    }\n",
       "\n",
       "    .dataframe thead th {\n",
       "        text-align: right;\n",
       "    }\n",
       "</style>\n",
       "<table border=\"1\" class=\"dataframe\">\n",
       "  <thead>\n",
       "    <tr style=\"text-align: right;\">\n",
       "      <th></th>\n",
       "      <th>index</th>\n",
       "      <th>Peptide</th>\n",
       "      <th>UniprotID</th>\n",
       "      <th>Gene</th>\n",
       "      <th>Identification</th>\n",
       "      <th>Protein_Length</th>\n",
       "    </tr>\n",
       "  </thead>\n",
       "  <tbody>\n",
       "    <tr>\n",
       "      <th>0</th>\n",
       "      <td>6</td>\n",
       "      <td>MVGGGWKRRPGAGAGPQCEKTVDVKKSKFCEADVSSDLRKEVENHY...</td>\n",
       "      <td>A8MVJ9</td>\n",
       "      <td>HPF1L</td>\n",
       "      <td>HUMAN Putative histone PARylation factor 1-lik...</td>\n",
       "      <td>347</td>\n",
       "    </tr>\n",
       "    <tr>\n",
       "      <th>1</th>\n",
       "      <td>9</td>\n",
       "      <td>MTGSNSHITILTLNVNGLNSPIKRHRLASWIKSQDPSVCCIQETHL...</td>\n",
       "      <td>O00370</td>\n",
       "      <td>LORF2</td>\n",
       "      <td>HUMAN LINE-1 retrotransposable element ORF2 pr...</td>\n",
       "      <td>1275</td>\n",
       "    </tr>\n",
       "    <tr>\n",
       "      <th>2</th>\n",
       "      <td>13</td>\n",
       "      <td>MASKPAAGKSRGEKRKRVVLTLKEKIDICTRLEKGESRKALMQEYN...</td>\n",
       "      <td>O75564</td>\n",
       "      <td>JERKY</td>\n",
       "      <td>HUMAN Jerky protein homolog OS=Homo sapiens OX...</td>\n",
       "      <td>556</td>\n",
       "    </tr>\n",
       "    <tr>\n",
       "      <th>3</th>\n",
       "      <td>20</td>\n",
       "      <td>MAENGDNEKMAALEAKICHQIEYYFGDFNLPRDKFLKEQIKLDEGW...</td>\n",
       "      <td>P05455</td>\n",
       "      <td>LA</td>\n",
       "      <td>HUMAN Lupus La protein OS=Homo sapiens OX=9606...</td>\n",
       "      <td>408</td>\n",
       "    </tr>\n",
       "    <tr>\n",
       "      <th>4</th>\n",
       "      <td>21</td>\n",
       "      <td>MIRTLLLSTLVAGALSCGVSTYAPDMSRMLGGEEARPNSWPWQVSL...</td>\n",
       "      <td>P08218</td>\n",
       "      <td>CEL2B</td>\n",
       "      <td>HUMAN Chymotrypsin-like elastase family member...</td>\n",
       "      <td>269</td>\n",
       "    </tr>\n",
       "    <tr>\n",
       "      <th>...</th>\n",
       "      <td>...</td>\n",
       "      <td>...</td>\n",
       "      <td>...</td>\n",
       "      <td>...</td>\n",
       "      <td>...</td>\n",
       "      <td>...</td>\n",
       "    </tr>\n",
       "    <tr>\n",
       "      <th>5222</th>\n",
       "      <td>20596</td>\n",
       "      <td>MADRSLEGMALPLEVRARLAELELELSEGDITQKGYEKKRSKLIGA...</td>\n",
       "      <td>Q9Y2E4</td>\n",
       "      <td>DIP2C</td>\n",
       "      <td>HUMAN Disco-interacting protein 2 homolog C OS...</td>\n",
       "      <td>1556</td>\n",
       "    </tr>\n",
       "    <tr>\n",
       "      <th>5223</th>\n",
       "      <td>20601</td>\n",
       "      <td>MATERSRSAMDSPVPASMFAPEPSSPGAARAAAAAARLHGGFDSDC...</td>\n",
       "      <td>O00178</td>\n",
       "      <td>GTPB1</td>\n",
       "      <td>HUMAN GTP-binding protein 1 OS=Homo sapiens OX...</td>\n",
       "      <td>669</td>\n",
       "    </tr>\n",
       "    <tr>\n",
       "      <th>5224</th>\n",
       "      <td>20602</td>\n",
       "      <td>MASRKEGTGSTATSSSSTAGAAGKGKGKGGSGDSAVKQVQIDGLVV...</td>\n",
       "      <td>O15372</td>\n",
       "      <td>EIF3H</td>\n",
       "      <td>HUMAN Eukaryotic translation initiation factor...</td>\n",
       "      <td>352</td>\n",
       "    </tr>\n",
       "    <tr>\n",
       "      <th>5225</th>\n",
       "      <td>20606</td>\n",
       "      <td>MSATDRMGPRAVPGLRLALLLLLVLGTPKSGVQGQEGLDFPEYDGV...</td>\n",
       "      <td>P31415</td>\n",
       "      <td>CASQ1</td>\n",
       "      <td>HUMAN Calsequestrin-1 OS=Homo sapiens OX=9606 ...</td>\n",
       "      <td>396</td>\n",
       "    </tr>\n",
       "    <tr>\n",
       "      <th>5226</th>\n",
       "      <td>20610</td>\n",
       "      <td>MAAGKSGGSAGEITFLEALARSESKRDGGFKNNWSFDHEEESEGDT...</td>\n",
       "      <td>Q9GZR1</td>\n",
       "      <td>SENP6</td>\n",
       "      <td>HUMAN Sentrin-specific protease 6 OS=Homo sapi...</td>\n",
       "      <td>1112</td>\n",
       "    </tr>\n",
       "  </tbody>\n",
       "</table>\n",
       "<p>5227 rows × 6 columns</p>\n",
       "</div>"
      ],
      "text/plain": [
       "      index                                            Peptide UniprotID  \\\n",
       "0         6  MVGGGWKRRPGAGAGPQCEKTVDVKKSKFCEADVSSDLRKEVENHY...    A8MVJ9   \n",
       "1         9  MTGSNSHITILTLNVNGLNSPIKRHRLASWIKSQDPSVCCIQETHL...    O00370   \n",
       "2        13  MASKPAAGKSRGEKRKRVVLTLKEKIDICTRLEKGESRKALMQEYN...    O75564   \n",
       "3        20  MAENGDNEKMAALEAKICHQIEYYFGDFNLPRDKFLKEQIKLDEGW...    P05455   \n",
       "4        21  MIRTLLLSTLVAGALSCGVSTYAPDMSRMLGGEEARPNSWPWQVSL...    P08218   \n",
       "...     ...                                                ...       ...   \n",
       "5222  20596  MADRSLEGMALPLEVRARLAELELELSEGDITQKGYEKKRSKLIGA...    Q9Y2E4   \n",
       "5223  20601  MATERSRSAMDSPVPASMFAPEPSSPGAARAAAAAARLHGGFDSDC...    O00178   \n",
       "5224  20602  MASRKEGTGSTATSSSSTAGAAGKGKGKGGSGDSAVKQVQIDGLVV...    O15372   \n",
       "5225  20606  MSATDRMGPRAVPGLRLALLLLLVLGTPKSGVQGQEGLDFPEYDGV...    P31415   \n",
       "5226  20610  MAAGKSGGSAGEITFLEALARSESKRDGGFKNNWSFDHEEESEGDT...    Q9GZR1   \n",
       "\n",
       "       Gene                                     Identification  Protein_Length  \n",
       "0     HPF1L  HUMAN Putative histone PARylation factor 1-lik...             347  \n",
       "1     LORF2  HUMAN LINE-1 retrotransposable element ORF2 pr...            1275  \n",
       "2     JERKY  HUMAN Jerky protein homolog OS=Homo sapiens OX...             556  \n",
       "3        LA  HUMAN Lupus La protein OS=Homo sapiens OX=9606...             408  \n",
       "4     CEL2B  HUMAN Chymotrypsin-like elastase family member...             269  \n",
       "...     ...                                                ...             ...  \n",
       "5222  DIP2C  HUMAN Disco-interacting protein 2 homolog C OS...            1556  \n",
       "5223  GTPB1  HUMAN GTP-binding protein 1 OS=Homo sapiens OX...             669  \n",
       "5224  EIF3H  HUMAN Eukaryotic translation initiation factor...             352  \n",
       "5225  CASQ1  HUMAN Calsequestrin-1 OS=Homo sapiens OX=9606 ...             396  \n",
       "5226  SENP6  HUMAN Sentrin-specific protease 6 OS=Homo sapi...            1112  \n",
       "\n",
       "[5227 rows x 6 columns]"
      ]
     },
     "execution_count": 23,
     "metadata": {},
     "output_type": "execute_result"
    }
   ],
   "source": [
    "T_Missed = Menu[Menu['Gene'].isin(unique)]\n",
    "T_Missed.reset_index(inplace=True)\n",
    "T_Missed"
   ]
  },
  {
   "cell_type": "code",
   "execution_count": 24,
   "metadata": {
    "scrolled": true
   },
   "outputs": [
    {
     "data": {
      "text/plain": [
       "['MTGSNSHITILTLNVNGLNSPIK',\n",
       " 'MTGSNSHITILTLNVNGLNSPIKR',\n",
       " 'HRLASWIK',\n",
       " 'LASWIKSQDPSVCCIQETHLTCR',\n",
       " 'SQDPSVCCIQETHLTCR',\n",
       " 'SQDPSVCCIQETHLTCRDTHR',\n",
       " 'KIYQANGK',\n",
       " 'IYQANGK',\n",
       " 'IYQANGKQK',\n",
       " 'KAGVAILVSDK',\n",
       " 'AGVAILVSDK',\n",
       " 'AGVAILVSDKTDFKPTK',\n",
       " 'TDFKPTK',\n",
       " 'TDFKPTKIK',\n",
       " 'DKEGHYIMVK',\n",
       " 'EGHYIMVK',\n",
       " 'EGHYIMVKGSIQQEELTILNIYAPNTGAPR',\n",
       " 'GSIQQEELTILNIYAPNTGAPR',\n",
       " 'GSIQQEELTILNIYAPNTGAPRFIK',\n",
       " 'FIKQVLSDLQR',\n",
       " 'QVLSDLQR',\n",
       " 'QVLSDLQRDLDSHTLIMGDFNTPLSILDR',\n",
       " 'DLDSHTLIMGDFNTPLSILDR',\n",
       " 'DLDSHTLIMGDFNTPLSILDRSTR',\n",
       " 'VNKDTQELNSALHQTDLIDIYR',\n",
       " 'DTQELNSALHQTDLIDIYR',\n",
       " 'DTQELNSALHQTDLIDIYRTLHPK',\n",
       " 'TLHPKSTEYTFFSAPHHTYSK',\n",
       " 'STEYTFFSAPHHTYSK',\n",
       " 'STEYTFFSAPHHTYSKIDHIVGSK',\n",
       " 'IDHIVGSK',\n",
       " 'IDHIVGSKALLSK',\n",
       " 'ALLSKCK',\n",
       " 'RTEIITNYLSDHSAIK',\n",
       " 'TEIITNYLSDHSAIK',\n",
       " 'TEIITNYLSDHSAIKLELR',\n",
       " 'IKNLTQSR',\n",
       " 'NLTQSRSTTWK',\n",
       " 'STTWKLNNLLLNDYWVHNEMK',\n",
       " 'LNNLLLNDYWVHNEMK',\n",
       " 'LNNLLLNDYWVHNEMKAEIK',\n",
       " 'AEIKMFFETNENK',\n",
       " 'MFFETNENK',\n",
       " 'MFFETNENKDTTYQNLWDAFK',\n",
       " 'DTTYQNLWDAFK',\n",
       " 'DTTYQNLWDAFKAVCR',\n",
       " 'GKFIALNAYK',\n",
       " 'FIALNAYK',\n",
       " 'FIALNAYKR',\n",
       " 'SKIDTLTSQLK',\n",
       " 'IDTLTSQLK',\n",
       " 'IDTLTSQLKELEK',\n",
       " 'ELEKQEQTHSK',\n",
       " 'QEQTHSK',\n",
       " 'QEQTHSKASR',\n",
       " 'QEITKIR',\n",
       " 'AELKEIETQK',\n",
       " 'EIETQKTLQK',\n",
       " 'TLQKINESR',\n",
       " 'INESRSWFFER',\n",
       " 'SWFFERINK',\n",
       " 'INKIDRPLAR',\n",
       " 'IDRPLAR',\n",
       " 'IDRPLARLIK',\n",
       " 'EKNQIDTIK',\n",
       " 'NQIDTIK',\n",
       " 'NQIDTIKNDK',\n",
       " 'NDKGDITTDPTEIQTTIR',\n",
       " 'GDITTDPTEIQTTIR',\n",
       " 'GDITTDPTEIQTTIREYYK',\n",
       " 'EYYKHLYANK',\n",
       " 'HLYANKLENLEEMDTFLDTYTLPR',\n",
       " 'LENLEEMDTFLDTYTLPR',\n",
       " 'LENLEEMDTFLDTYTLPRLNQEEVESLNRPITGSEIVAIINSLPTK',\n",
       " 'LNQEEVESLNRPITGSEIVAIINSLPTK',\n",
       " 'LNQEEVESLNRPITGSEIVAIINSLPTKK',\n",
       " 'KSPGPDGFTAEFYQR',\n",
       " 'SPGPDGFTAEFYQR',\n",
       " 'SPGPDGFTAEFYQRYK',\n",
       " 'YKEELVPFLLK',\n",
       " 'EELVPFLLK',\n",
       " 'EELVPFLLKLFQSIEK',\n",
       " 'LFQSIEK',\n",
       " 'LFQSIEKEGILPNSFYEASIILIPKPGR',\n",
       " 'EGILPNSFYEASIILIPKPGR',\n",
       " 'EGILPNSFYEASIILIPKPGRDTTK',\n",
       " 'KENFRPISLMNIDAK',\n",
       " 'ENFRPISLMNIDAK',\n",
       " 'ENFRPISLMNIDAKILNK',\n",
       " 'ILNKILANR',\n",
       " 'ILANRIQQHIK',\n",
       " 'IQQHIKK',\n",
       " 'KLIHHDQVGFIPGMQGWFNIR',\n",
       " 'LIHHDQVGFIPGMQGWFNIR',\n",
       " 'LIHHDQVGFIPGMQGWFNIRK',\n",
       " 'KSINVIQHINR',\n",
       " 'SINVIQHINR',\n",
       " 'SINVIQHINRAK',\n",
       " 'DKNHVIISIDAEK',\n",
       " 'NHVIISIDAEK',\n",
       " 'NHVIISIDAEKAFDK',\n",
       " 'AFDKIQQPFMLK',\n",
       " 'IQQPFMLK',\n",
       " 'IQQPFMLKTLNK',\n",
       " 'TLNKLGIDGMYLK',\n",
       " 'LGIDGMYLK',\n",
       " 'LGIDGMYLKIIR',\n",
       " 'IIRAIYDKPTANIILNGQK',\n",
       " 'AIYDKPTANIILNGQK',\n",
       " 'AIYDKPTANIILNGQKLEAFPLK',\n",
       " 'LEAFPLK',\n",
       " 'LEAFPLKTGTR',\n",
       " 'TGTRQGCPLSPLLFNIVLEVLAR',\n",
       " 'QGCPLSPLLFNIVLEVLAR',\n",
       " 'QGCPLSPLLFNIVLEVLARAIR',\n",
       " 'EIKGIQLGK',\n",
       " 'GIQLGKEEVK',\n",
       " 'EEVKLSLFADDMIVYLENPIVSAQNLLK',\n",
       " 'LSLFADDMIVYLENPIVSAQNLLK',\n",
       " 'LSLFADDMIVYLENPIVSAQNLLKLISNFSK',\n",
       " 'LISNFSK',\n",
       " 'LISNFSKVSGYK',\n",
       " 'VSGYKINVQK',\n",
       " 'INVQKSQAFLYNNNR',\n",
       " 'SQAFLYNNNR',\n",
       " 'SQAFLYNNNRQTESQIMGELPFTIASK',\n",
       " 'QTESQIMGELPFTIASK',\n",
       " 'QTESQIMGELPFTIASKR',\n",
       " 'IKYLGIQLTR',\n",
       " 'YLGIQLTR',\n",
       " 'YLGIQLTRDVK',\n",
       " 'DVKDLFK',\n",
       " 'DLFKENYKPLLK',\n",
       " 'ENYKPLLK',\n",
       " 'ENYKPLLKEIK',\n",
       " 'EIKEDTNK',\n",
       " 'EDTNKWK',\n",
       " 'WKNIPCSWVGR',\n",
       " 'NIPCSWVGR',\n",
       " 'NIPCSWVGRINIVK',\n",
       " 'INIVKMAILPK',\n",
       " 'MAILPKVIYR',\n",
       " 'VIYRFNAIPIK',\n",
       " 'FNAIPIK',\n",
       " 'FNAIPIKLPMTFFTELEK',\n",
       " 'LPMTFFTELEK',\n",
       " 'LPMTFFTELEKTTLK',\n",
       " 'TTLKFIWNQK',\n",
       " 'FIWNQKR',\n",
       " 'IAKSILSQK',\n",
       " 'SILSQKNK',\n",
       " 'NKAGGITLPDFK',\n",
       " 'AGGITLPDFK',\n",
       " 'AGGITLPDFKLYYK',\n",
       " 'LYYKATVTK',\n",
       " 'ATVTKTAWYWYQNR',\n",
       " 'TAWYWYQNR',\n",
       " 'TAWYWYQNRDIDQWNR',\n",
       " 'DIDQWNR',\n",
       " 'DIDQWNRTEPSEIMPHIYNYLIFDKPEK',\n",
       " 'TEPSEIMPHIYNYLIFDKPEK',\n",
       " 'TEPSEIMPHIYNYLIFDKPEKNK',\n",
       " 'QWGKDSLLNK',\n",
       " 'DSLLNKWCWENWLAICR',\n",
       " 'WCWENWLAICR',\n",
       " 'WCWENWLAICRK',\n",
       " 'LKLDPFLTPYTK',\n",
       " 'LDPFLTPYTK',\n",
       " 'LDPFLTPYTKINSR',\n",
       " 'INSRWIK',\n",
       " 'WIKDLNVKPK',\n",
       " 'DLNVKPK',\n",
       " 'DLNVKPKTIK',\n",
       " 'TIKTLEENLGITIQDIGVGK',\n",
       " 'TLEENLGITIQDIGVGK',\n",
       " 'TLEENLGITIQDIGVGKDFMSK',\n",
       " 'DFMSKTPK',\n",
       " 'TPKAMATK',\n",
       " 'AMATKDK',\n",
       " 'IDKWDLIK',\n",
       " 'WDLIKLK',\n",
       " 'LKSFCTAK',\n",
       " 'SFCTAKETTIR',\n",
       " 'ETTIRVNR',\n",
       " 'VNRQPTTWEK',\n",
       " 'QPTTWEK',\n",
       " 'QPTTWEKIFATYSSDK',\n",
       " 'IFATYSSDK',\n",
       " 'IFATYSSDKGLISR',\n",
       " 'GLISRIYNELK',\n",
       " 'IYNELKQIYK',\n",
       " 'KTNNPIK',\n",
       " 'TNNPIKK',\n",
       " 'WAKDMNR',\n",
       " 'DMNRHFSK',\n",
       " 'HFSKEDIYAAK',\n",
       " 'EDIYAAK',\n",
       " 'EDIYAAKK',\n",
       " 'KCSSSLAIR',\n",
       " 'CSSSLAIR',\n",
       " 'CSSSLAIREMQIK',\n",
       " 'EMQIKTTMR',\n",
       " 'TTMRYHLTPVR',\n",
       " 'YHLTPVR',\n",
       " 'YHLTPVRMAIIK',\n",
       " 'SGNNRCWR',\n",
       " 'CWRGCGEIGTLVHCWWDCK',\n",
       " 'GCGEIGTLVHCWWDCK',\n",
       " 'GCGEIGTLVHCWWDCKLVQPLWK',\n",
       " 'LVQPLWK',\n",
       " 'LVQPLWKSVWR',\n",
       " 'SVWRFLR',\n",
       " 'FLRDLELEIPFDPAIPLLGIYPK',\n",
       " 'DLELEIPFDPAIPLLGIYPK',\n",
       " 'DLELEIPFDPAIPLLGIYPKDYK',\n",
       " 'DYKSCCYK',\n",
       " 'SCCYKDTCTR',\n",
       " 'DTCTRMFIAALFTIAK',\n",
       " 'MFIAALFTIAK',\n",
       " 'MFIAALFTIAKTWNQPNCPTMIDWIK',\n",
       " 'TWNQPNCPTMIDWIK',\n",
       " 'TWNQPNCPTMIDWIKK',\n",
       " 'KMWHIYTMEYYAAIK',\n",
       " 'MWHIYTMEYYAAIK',\n",
       " 'MWHIYTMEYYAAIKNDEFISFVGTWMK',\n",
       " 'NDEFISFVGTWMK',\n",
       " 'NDEFISFVGTWMKLETIILSK',\n",
       " 'LETIILSK',\n",
       " 'LETIILSKLSQEQK',\n",
       " 'LSQEQKTK',\n",
       " 'HRIFSLIGGN',\n",
       " 'IFSLIGGN']"
      ]
     },
     "execution_count": 24,
     "metadata": {},
     "output_type": "execute_result"
    }
   ],
   "source": [
    "x=Chef.Cleaver(T_Missed[\"Peptide\"][1],rule=\"trypsin\",exception=None,missed_cleavages=1,min_length=7,max_length=100)\n",
    "x"
   ]
  },
  {
   "cell_type": "code",
   "execution_count": 25,
   "metadata": {
    "scrolled": true
   },
   "outputs": [
    {
     "name": "stdout",
     "output_type": "stream",
     "text": [
      "Marinating peptides...\n"
     ]
    },
    {
     "name": "stderr",
     "output_type": "stream",
     "text": [
      "C:\\Users\\tcoop\\Anaconda3\\envs\\SciFly\\lib\\site-packages\\Peptide_Chef\\__init__.py:345: SettingWithCopyWarning: \n",
      "A value is trying to be set on a copy of a slice from a DataFrame.\n",
      "Try using .loc[row_indexer,col_indexer] = value instead\n",
      "\n",
      "See the caveats in the documentation: https://pandas.pydata.org/pandas-docs/stable/user_guide/indexing.html#returning-a-view-versus-a-copy\n",
      "  df[\"IPC\"]=df[target].apply(Scales.Peptide_IPC)\n"
     ]
    },
    {
     "name": "stdout",
     "output_type": "stream",
     "text": [
      "IPC calculated!\n"
     ]
    },
    {
     "name": "stderr",
     "output_type": "stream",
     "text": [
      "C:\\Users\\tcoop\\Anaconda3\\envs\\SciFly\\lib\\site-packages\\Peptide_Chef\\__init__.py:348: SettingWithCopyWarning: \n",
      "A value is trying to be set on a copy of a slice from a DataFrame.\n",
      "Try using .loc[row_indexer,col_indexer] = value instead\n",
      "\n",
      "See the caveats in the documentation: https://pandas.pydata.org/pandas-docs/stable/user_guide/indexing.html#returning-a-view-versus-a-copy\n",
      "  df[\"Hydro_Sum\"]=df[target].apply(Scales.Peptide_GRAVY)\n",
      "C:\\Users\\tcoop\\Anaconda3\\envs\\SciFly\\lib\\site-packages\\Peptide_Chef\\__init__.py:351: SettingWithCopyWarning: \n",
      "A value is trying to be set on a copy of a slice from a DataFrame.\n",
      "Try using .loc[row_indexer,col_indexer] = value instead\n",
      "\n",
      "See the caveats in the documentation: https://pandas.pydata.org/pandas-docs/stable/user_guide/indexing.html#returning-a-view-versus-a-copy\n",
      "  df[\"Neutral_Z\"]=df[target].apply(Scales.Peptide_Neutral_pH)\n"
     ]
    },
    {
     "name": "stdout",
     "output_type": "stream",
     "text": [
      "Its all GRAVY Baby!\n",
      "Charge at Neutral pH added!\n",
      "Peptides have been marinated!\n"
     ]
    },
    {
     "data": {
      "text/html": [
       "<div>\n",
       "<style scoped>\n",
       "    .dataframe tbody tr th:only-of-type {\n",
       "        vertical-align: middle;\n",
       "    }\n",
       "\n",
       "    .dataframe tbody tr th {\n",
       "        vertical-align: top;\n",
       "    }\n",
       "\n",
       "    .dataframe thead th {\n",
       "        text-align: right;\n",
       "    }\n",
       "</style>\n",
       "<table border=\"1\" class=\"dataframe\">\n",
       "  <thead>\n",
       "    <tr style=\"text-align: right;\">\n",
       "      <th></th>\n",
       "      <th>index</th>\n",
       "      <th>Peptide</th>\n",
       "      <th>UniprotID</th>\n",
       "      <th>Gene</th>\n",
       "      <th>Identification</th>\n",
       "      <th>Protein_Length</th>\n",
       "      <th>IPC</th>\n",
       "      <th>Hydro_Sum</th>\n",
       "      <th>Neutral_Z</th>\n",
       "    </tr>\n",
       "  </thead>\n",
       "  <tbody>\n",
       "    <tr>\n",
       "      <th>0</th>\n",
       "      <td>6</td>\n",
       "      <td>MVGGGWKRRPGAGAGPQCEKTVDVKKSKFCEADVSSDLRKEVENHY...</td>\n",
       "      <td>A8MVJ9</td>\n",
       "      <td>HPF1L</td>\n",
       "      <td>HUMAN Putative histone PARylation factor 1-lik...</td>\n",
       "      <td>347</td>\n",
       "      <td>8.111865</td>\n",
       "      <td>-0.540922</td>\n",
       "      <td>3.0</td>\n",
       "    </tr>\n",
       "    <tr>\n",
       "      <th>1</th>\n",
       "      <td>9</td>\n",
       "      <td>MTGSNSHITILTLNVNGLNSPIKRHRLASWIKSQDPSVCCIQETHL...</td>\n",
       "      <td>O00370</td>\n",
       "      <td>LORF2</td>\n",
       "      <td>HUMAN LINE-1 retrotransposable element ORF2 pr...</td>\n",
       "      <td>1275</td>\n",
       "      <td>10.057510</td>\n",
       "      <td>-0.512000</td>\n",
       "      <td>80.0</td>\n",
       "    </tr>\n",
       "    <tr>\n",
       "      <th>2</th>\n",
       "      <td>13</td>\n",
       "      <td>MASKPAAGKSRGEKRKRVVLTLKEKIDICTRLEKGESRKALMQEYN...</td>\n",
       "      <td>O75564</td>\n",
       "      <td>JERKY</td>\n",
       "      <td>HUMAN Jerky protein homolog OS=Homo sapiens OX...</td>\n",
       "      <td>556</td>\n",
       "      <td>7.848545</td>\n",
       "      <td>-0.411331</td>\n",
       "      <td>3.0</td>\n",
       "    </tr>\n",
       "    <tr>\n",
       "      <th>3</th>\n",
       "      <td>20</td>\n",
       "      <td>MAENGDNEKMAALEAKICHQIEYYFGDFNLPRDKFLKEQIKLDEGW...</td>\n",
       "      <td>P05455</td>\n",
       "      <td>LA</td>\n",
       "      <td>HUMAN Lupus La protein OS=Homo sapiens OX=9606...</td>\n",
       "      <td>408</td>\n",
       "      <td>6.780635</td>\n",
       "      <td>-0.973284</td>\n",
       "      <td>-1.0</td>\n",
       "    </tr>\n",
       "    <tr>\n",
       "      <th>4</th>\n",
       "      <td>21</td>\n",
       "      <td>MIRTLLLSTLVAGALSCGVSTYAPDMSRMLGGEEARPNSWPWQVSL...</td>\n",
       "      <td>P08218</td>\n",
       "      <td>CEL2B</td>\n",
       "      <td>HUMAN Chymotrypsin-like elastase family member...</td>\n",
       "      <td>269</td>\n",
       "      <td>6.546572</td>\n",
       "      <td>0.004089</td>\n",
       "      <td>-1.0</td>\n",
       "    </tr>\n",
       "    <tr>\n",
       "      <th>...</th>\n",
       "      <td>...</td>\n",
       "      <td>...</td>\n",
       "      <td>...</td>\n",
       "      <td>...</td>\n",
       "      <td>...</td>\n",
       "      <td>...</td>\n",
       "      <td>...</td>\n",
       "      <td>...</td>\n",
       "      <td>...</td>\n",
       "    </tr>\n",
       "    <tr>\n",
       "      <th>5222</th>\n",
       "      <td>20596</td>\n",
       "      <td>MADRSLEGMALPLEVRARLAELELELSEGDITQKGYEKKRSKLIGA...</td>\n",
       "      <td>Q9Y2E4</td>\n",
       "      <td>DIP2C</td>\n",
       "      <td>HUMAN Disco-interacting protein 2 homolog C OS...</td>\n",
       "      <td>1556</td>\n",
       "      <td>7.029326</td>\n",
       "      <td>-0.118188</td>\n",
       "      <td>-2.0</td>\n",
       "    </tr>\n",
       "    <tr>\n",
       "      <th>5223</th>\n",
       "      <td>20601</td>\n",
       "      <td>MATERSRSAMDSPVPASMFAPEPSSPGAARAAAAAARLHGGFDSDC...</td>\n",
       "      <td>O00178</td>\n",
       "      <td>GTPB1</td>\n",
       "      <td>HUMAN GTP-binding protein 1 OS=Homo sapiens OX...</td>\n",
       "      <td>669</td>\n",
       "      <td>8.316670</td>\n",
       "      <td>-0.307474</td>\n",
       "      <td>6.0</td>\n",
       "    </tr>\n",
       "    <tr>\n",
       "      <th>5224</th>\n",
       "      <td>20602</td>\n",
       "      <td>MASRKEGTGSTATSSSSTAGAAGKGKGKGGSGDSAVKQVQIDGLVV...</td>\n",
       "      <td>O15372</td>\n",
       "      <td>EIF3H</td>\n",
       "      <td>HUMAN Eukaryotic translation initiation factor...</td>\n",
       "      <td>352</td>\n",
       "      <td>6.109482</td>\n",
       "      <td>-0.552557</td>\n",
       "      <td>-5.0</td>\n",
       "    </tr>\n",
       "    <tr>\n",
       "      <th>5225</th>\n",
       "      <td>20606</td>\n",
       "      <td>MSATDRMGPRAVPGLRLALLLLLVLGTPKSGVQGQEGLDFPEYDGV...</td>\n",
       "      <td>P31415</td>\n",
       "      <td>CASQ1</td>\n",
       "      <td>HUMAN Calsequestrin-1 OS=Homo sapiens OX=9606 ...</td>\n",
       "      <td>396</td>\n",
       "      <td>3.858955</td>\n",
       "      <td>-0.432071</td>\n",
       "      <td>-71.0</td>\n",
       "    </tr>\n",
       "    <tr>\n",
       "      <th>5226</th>\n",
       "      <td>20610</td>\n",
       "      <td>MAAGKSGGSAGEITFLEALARSESKRDGGFKNNWSFDHEEESEGDT...</td>\n",
       "      <td>Q9GZR1</td>\n",
       "      <td>SENP6</td>\n",
       "      <td>HUMAN Sentrin-specific protease 6 OS=Homo sapi...</td>\n",
       "      <td>1112</td>\n",
       "      <td>6.300205</td>\n",
       "      <td>-0.717986</td>\n",
       "      <td>-10.0</td>\n",
       "    </tr>\n",
       "  </tbody>\n",
       "</table>\n",
       "<p>5227 rows × 9 columns</p>\n",
       "</div>"
      ],
      "text/plain": [
       "      index                                            Peptide UniprotID  \\\n",
       "0         6  MVGGGWKRRPGAGAGPQCEKTVDVKKSKFCEADVSSDLRKEVENHY...    A8MVJ9   \n",
       "1         9  MTGSNSHITILTLNVNGLNSPIKRHRLASWIKSQDPSVCCIQETHL...    O00370   \n",
       "2        13  MASKPAAGKSRGEKRKRVVLTLKEKIDICTRLEKGESRKALMQEYN...    O75564   \n",
       "3        20  MAENGDNEKMAALEAKICHQIEYYFGDFNLPRDKFLKEQIKLDEGW...    P05455   \n",
       "4        21  MIRTLLLSTLVAGALSCGVSTYAPDMSRMLGGEEARPNSWPWQVSL...    P08218   \n",
       "...     ...                                                ...       ...   \n",
       "5222  20596  MADRSLEGMALPLEVRARLAELELELSEGDITQKGYEKKRSKLIGA...    Q9Y2E4   \n",
       "5223  20601  MATERSRSAMDSPVPASMFAPEPSSPGAARAAAAAARLHGGFDSDC...    O00178   \n",
       "5224  20602  MASRKEGTGSTATSSSSTAGAAGKGKGKGGSGDSAVKQVQIDGLVV...    O15372   \n",
       "5225  20606  MSATDRMGPRAVPGLRLALLLLLVLGTPKSGVQGQEGLDFPEYDGV...    P31415   \n",
       "5226  20610  MAAGKSGGSAGEITFLEALARSESKRDGGFKNNWSFDHEEESEGDT...    Q9GZR1   \n",
       "\n",
       "       Gene                                     Identification  \\\n",
       "0     HPF1L  HUMAN Putative histone PARylation factor 1-lik...   \n",
       "1     LORF2  HUMAN LINE-1 retrotransposable element ORF2 pr...   \n",
       "2     JERKY  HUMAN Jerky protein homolog OS=Homo sapiens OX...   \n",
       "3        LA  HUMAN Lupus La protein OS=Homo sapiens OX=9606...   \n",
       "4     CEL2B  HUMAN Chymotrypsin-like elastase family member...   \n",
       "...     ...                                                ...   \n",
       "5222  DIP2C  HUMAN Disco-interacting protein 2 homolog C OS...   \n",
       "5223  GTPB1  HUMAN GTP-binding protein 1 OS=Homo sapiens OX...   \n",
       "5224  EIF3H  HUMAN Eukaryotic translation initiation factor...   \n",
       "5225  CASQ1  HUMAN Calsequestrin-1 OS=Homo sapiens OX=9606 ...   \n",
       "5226  SENP6  HUMAN Sentrin-specific protease 6 OS=Homo sapi...   \n",
       "\n",
       "      Protein_Length        IPC  Hydro_Sum  Neutral_Z  \n",
       "0                347   8.111865  -0.540922        3.0  \n",
       "1               1275  10.057510  -0.512000       80.0  \n",
       "2                556   7.848545  -0.411331        3.0  \n",
       "3                408   6.780635  -0.973284       -1.0  \n",
       "4                269   6.546572   0.004089       -1.0  \n",
       "...              ...        ...        ...        ...  \n",
       "5222            1556   7.029326  -0.118188       -2.0  \n",
       "5223             669   8.316670  -0.307474        6.0  \n",
       "5224             352   6.109482  -0.552557       -5.0  \n",
       "5225             396   3.858955  -0.432071      -71.0  \n",
       "5226            1112   6.300205  -0.717986      -10.0  \n",
       "\n",
       "[5227 rows x 9 columns]"
      ]
     },
     "execution_count": 25,
     "metadata": {},
     "output_type": "execute_result"
    }
   ],
   "source": [
    "Chef.Marinate(T_Missed,\"Peptide\",length=0,IPC=True,Hydro=True,GRAVY=True,NeutralZ=True,Peptide_Inspector=False)"
   ]
  },
  {
   "cell_type": "code",
   "execution_count": 26,
   "metadata": {},
   "outputs": [
    {
     "data": {
      "text/plain": [
       "4"
      ]
     },
     "execution_count": 26,
     "metadata": {},
     "output_type": "execute_result"
    }
   ],
   "source": [
    "len(Tryp_Peptides)"
   ]
  },
  {
   "cell_type": "code",
   "execution_count": 27,
   "metadata": {
    "scrolled": true
   },
   "outputs": [
    {
     "data": {
      "image/png": "[encoded data removed]",
      "text/plain": [
       "<Figure size 432x288 with 1 Axes>"
      ]
     },
     "metadata": {
      "needs_background": "light"
     },
     "output_type": "display_data"
    }
   ],
   "source": [
    "T_Pep_Counts=[]\n",
    "#Count are in Log10\n",
    "for df in Tryp_Peptides:\n",
    "    log = math.log2(len(df))\n",
    "    T_Pep_Counts.append(log)\n",
    "plt.plot(missed_sites,T_Pep_Counts,color=\"black\")\n",
    "plt.title('Trypsin Digestion - Human Proteome')\n",
    "plt.xlabel('Missed Cleavages per Proteins', fontsize=14)\n",
    "plt.ylabel('Log2(Number of Peptides)', fontsize=14)\n",
    "plt.xticks(fontsize=14)\n",
    "plt.yticks(fontsize=14)\n",
    "plt.ylim([15, 25])\n",
    "Ratios=[]\n",
    "for count in T_Pep_Counts:\n",
    "    ratio=2**(count-T_Pep_Counts[0])\n",
    "    ratiox=float(round(ratio,2))\n",
    "    Ratios.append(ratiox)\n",
    "for x_, y_, name in zip(missed_sites,T_Pep_Counts, Ratios):\n",
    "    plt.text(x_-0.1,y_ + 0.5, name , fontsize=14, color=\"red\")\n",
    "plt.text(1,16,\"Fold Change (rel. 0)\",color=\"red\")\n",
    "plt.show()"
   ]
  },
  {
   "cell_type": "code",
   "execution_count": 28,
   "metadata": {
    "scrolled": false
   },
   "outputs": [
    {
     "name": "stdout",
     "output_type": "stream",
     "text": [
      "The number of proteins with > 0 peptides : 15387.0\n",
      "Ratio of Proteins with > 0 Peptides Identified: 100.000\n",
      "The number of proteins with > 0 peptides : 15411.0\n",
      "Ratio of Proteins with > 0 Peptides Identified: 100.000\n",
      "The number of proteins with > 0 peptides : 15411.0\n",
      "Ratio of Proteins with > 0 Peptides Identified: 100.000\n",
      "The number of proteins with > 0 peptides : 15412.0\n",
      "Ratio of Proteins with > 0 Peptides Identified: 100.000\n"
     ]
    },
    {
     "data": {
      "image/png": "[encoded data removed]",
      "text/plain": [
       "<Figure size 432x288 with 1 Axes>"
      ]
     },
     "metadata": {
      "needs_background": "light"
     },
     "output_type": "display_data"
    }
   ],
   "source": [
    "T_Pro_Counts=[]\n",
    "xx=[]\n",
    "#Count are in Log10\n",
    "for df in Tryp_Peptides:\n",
    "    x,y,z=Chef.Wishbone(df,\"gene\",0)\n",
    "    T_Pro_Counts.append(y)\n",
    "    xx.append(x)\n",
    "plt.plot(missed_sites,T_Pro_Counts,color=\"black\")\n",
    "plt.title('Trypsin Digestion - Human Proteome')\n",
    "plt.xlabel('Missed Cleavages per Proteins', fontsize=14)\n",
    "plt.ylabel('Number of Protein', fontsize=14)\n",
    "plt.xticks(fontsize=14)\n",
    "plt.yticks(fontsize=14)\n",
    "plt.show()"
   ]
  },
  {
   "cell_type": "code",
   "execution_count": 29,
   "metadata": {},
   "outputs": [
    {
     "name": "stdout",
     "output_type": "stream",
     "text": [
      "The number of proteins with > 1 peptides : 15288.0\n",
      "Ratio of Proteins with > 1 Peptides Identified: 99.357\n",
      "The number of proteins with > 1 peptides : 15401.0\n",
      "Ratio of Proteins with > 1 Peptides Identified: 99.935\n",
      "The number of proteins with > 1 peptides : 15402.0\n",
      "Ratio of Proteins with > 1 Peptides Identified: 99.942\n",
      "The number of proteins with > 1 peptides : 15403.0\n",
      "Ratio of Proteins with > 1 Peptides Identified: 99.942\n"
     ]
    },
    {
     "data": {
      "image/png": "[encoded data removed]",
      "text/plain": [
       "<Figure size 432x288 with 1 Axes>"
      ]
     },
     "metadata": {
      "needs_background": "light"
     },
     "output_type": "display_data"
    }
   ],
   "source": [
    "T_Pro_Counts=[]\n",
    "xx=[]\n",
    "#Count are in Log10\n",
    "for df in Tryp_Peptides:\n",
    "    x,y,z=Chef.Wishbone(df,\"gene\",1)\n",
    "    T_Pro_Counts.append(y)\n",
    "    xx.append(x)\n",
    "plt.plot(missed_sites,T_Pro_Counts,color=\"black\")\n",
    "plt.title('Trypsin Digestion - Human Proteome')\n",
    "plt.xlabel('Missed Cleavages per Proteins', fontsize=14)\n",
    "plt.ylabel('Number of Protein', fontsize=14)\n",
    "plt.xticks(fontsize=14)\n",
    "plt.yticks(fontsize=14)\n",
    "plt.show()"
   ]
  },
  {
   "cell_type": "code",
   "execution_count": 30,
   "metadata": {},
   "outputs": [
    {
     "data": {
      "text/html": [
       "<div>\n",
       "<style scoped>\n",
       "    .dataframe tbody tr th:only-of-type {\n",
       "        vertical-align: middle;\n",
       "    }\n",
       "\n",
       "    .dataframe tbody tr th {\n",
       "        vertical-align: top;\n",
       "    }\n",
       "\n",
       "    .dataframe thead th {\n",
       "        text-align: right;\n",
       "    }\n",
       "</style>\n",
       "<table border=\"1\" class=\"dataframe\">\n",
       "  <thead>\n",
       "    <tr style=\"text-align: right;\">\n",
       "      <th></th>\n",
       "      <th>gene</th>\n",
       "    </tr>\n",
       "  </thead>\n",
       "  <tbody>\n",
       "    <tr>\n",
       "      <th>TITIN</th>\n",
       "      <td>1852</td>\n",
       "    </tr>\n",
       "    <tr>\n",
       "      <th>MUC16</th>\n",
       "      <td>566</td>\n",
       "    </tr>\n",
       "    <tr>\n",
       "      <th>DYST</th>\n",
       "      <td>440</td>\n",
       "    </tr>\n",
       "    <tr>\n",
       "      <th>MACF1</th>\n",
       "      <td>439</td>\n",
       "    </tr>\n",
       "    <tr>\n",
       "      <th>OBSCN</th>\n",
       "      <td>386</td>\n",
       "    </tr>\n",
       "    <tr>\n",
       "      <th>...</th>\n",
       "      <td>...</td>\n",
       "    </tr>\n",
       "    <tr>\n",
       "      <th>TYB4</th>\n",
       "      <td>2</td>\n",
       "    </tr>\n",
       "    <tr>\n",
       "      <th>A0A6Q8PFC9</th>\n",
       "      <td>2</td>\n",
       "    </tr>\n",
       "    <tr>\n",
       "      <th>A0A0G2JPN4</th>\n",
       "      <td>2</td>\n",
       "    </tr>\n",
       "    <tr>\n",
       "      <th>CD24</th>\n",
       "      <td>2</td>\n",
       "    </tr>\n",
       "    <tr>\n",
       "      <th>NUPR1</th>\n",
       "      <td>2</td>\n",
       "    </tr>\n",
       "  </tbody>\n",
       "</table>\n",
       "<p>15288 rows × 1 columns</p>\n",
       "</div>"
      ],
      "text/plain": [
       "            gene\n",
       "TITIN       1852\n",
       "MUC16        566\n",
       "DYST         440\n",
       "MACF1        439\n",
       "OBSCN        386\n",
       "...          ...\n",
       "TYB4           2\n",
       "A0A6Q8PFC9     2\n",
       "A0A0G2JPN4     2\n",
       "CD24           2\n",
       "NUPR1          2\n",
       "\n",
       "[15288 rows x 1 columns]"
      ]
     },
     "execution_count": 30,
     "metadata": {},
     "output_type": "execute_result"
    }
   ],
   "source": [
    "xx[0]"
   ]
  },
  {
   "cell_type": "code",
   "execution_count": 31,
   "metadata": {},
   "outputs": [],
   "source": [
    "import re\n",
    "def Pep2Pro(protein,peptides):\n",
    "    protein = re.sub(r'[^A-Z]', '', protein)\n",
    "    mask = np.zeros(len(protein), dtype=np.int8)\n",
    "    for peptide in peptides:\n",
    "        indices = [m.start() for m in re.finditer(\n",
    "            '(?={})'.format(re.sub(r'[^A-Z]', '', peptide)), protein)]\n",
    "        for i in indices:\n",
    "            mask[i:i + len(peptide)] = 1\n",
    "    return mask.sum(dtype=float) / mask.size"
   ]
  },
  {
   "cell_type": "code",
   "execution_count": 32,
   "metadata": {},
   "outputs": [
    {
     "name": "stdout",
     "output_type": "stream",
     "text": [
      "On to the next...\n",
      "On to the next...\n",
      "On to the next...\n",
      "On to the next...\n",
      "Done\n"
     ]
    }
   ],
   "source": [
    "raw=Menu[[\"Peptide\", \"Gene\"]].set_index(\"Gene\").to_dict()[\"Peptide\"]\n",
    "Tryp_Silico_Coverage=pd.DataFrame()\n",
    "i=0\n",
    "columns=[\"Tryp_0\",\"Tryp_1\",\"Tryp_2\",\"Tryp_3\",]\n",
    "for df in Tryp_Peptides:\n",
    "    name=f\"SC_{columns[i]}\" \n",
    "    x_list=list()\n",
    "    for gene, protein in raw.items():\n",
    "        temp=df.loc[df.gene == gene][\"peptide\"]\n",
    "        temp2=list(temp)\n",
    "        x=Pep2Pro(protein,temp2)\n",
    "        x_list.append(x)\n",
    "    Tryp_Silico_Coverage[name]= np.array(x_list)\n",
    "    i+=1\n",
    "    print(\"On to the next...\")\n",
    "print(\"Done\")"
   ]
  },
  {
   "cell_type": "code",
   "execution_count": null,
   "metadata": {},
   "outputs": [],
   "source": [
    "Tryp_Silico_Coverage.replace(np.nan, 0, inplace=True)"
   ]
  },
  {
   "cell_type": "code",
   "execution_count": null,
   "metadata": {
    "scrolled": true
   },
   "outputs": [],
   "source": [
    "Tryp_Silico_Coverage.describe()"
   ]
  },
  {
   "cell_type": "code",
   "execution_count": null,
   "metadata": {},
   "outputs": [],
   "source": [
    "plt.hist(Tryp_Silico_Coverage['SC_Tryp_0'])"
   ]
  },
  {
   "cell_type": "code",
   "execution_count": null,
   "metadata": {},
   "outputs": [],
   "source": [
    "Tryp_Silico_Coverage.to_excel('Silico_Trypsin_Coverage.xlsx')"
   ]
  },
  {
   "cell_type": "code",
   "execution_count": null,
   "metadata": {
    "scrolled": false
   },
   "outputs": [],
   "source": [
    "df1 = Tryp_Silico_Coverage.stack().reset_index()\n",
    "df1.columns = ['Null','Digest','Coverage']\n",
    "df1.drop(['Null'], axis=1, inplace=True)\n",
    "sns.set(font_scale = 4)\n",
    "sns.set_style(\"white\")\n",
    "\n",
    "g=sns.displot(\n",
    "    data=df1,\n",
    "    x=\"Coverage\",hue=\"Digest\",\n",
    "    kind=\"kde\", height=20,log_scale=(0,0),\n",
    "    \n",
    ")\n",
    "plt.xlabel('Sequence Coverage', fontsize=48)\n",
    "plt.ylabel('Density(KDE)', fontsize=48)\n",
    "plt.title('Trypsin-Digested Human Proteome  Sequence Coverage',fontname='Arial',fontweight='bold',fontsize=34,pad=30,backgroundcolor='blue',color='yellow',style='oblique');"
   ]
  },
  {
   "cell_type": "markdown",
   "metadata": {},
   "source": [
    "## AspN in Silco Digestion"
   ]
  },
  {
   "cell_type": "code",
   "execution_count": null,
   "metadata": {},
   "outputs": [],
   "source": [
    "# AspN in Silco Digestion\n",
    "missed_sites=[0,1,2,3]\n",
    "enzyme=\"asp-n\"\n",
    "AspN_Peptides=[]\n",
    "for site in missed_sites:\n",
    "    x=f\"AspN_{site}_dig\"\n",
    "    zz=Chef.ButcherShop(Menu,target=\"Peptide\",identifier=\"Gene\", rule=enzyme,missed=site,exception=None,min_length=7,max_length=100)\n",
    "    globals()[str(x)]=Chef.Deli(zz,meat_package=True)\n",
    "    AspN_Peptides.append(globals()[str(x)])\n",
    "    \n",
    "    "
   ]
  },
  {
   "cell_type": "code",
   "execution_count": null,
   "metadata": {
    "scrolled": false
   },
   "outputs": [],
   "source": [
    "AspN_Peptides[0]"
   ]
  },
  {
   "cell_type": "code",
   "execution_count": null,
   "metadata": {},
   "outputs": [],
   "source": [
    "len(AspN_Peptides)"
   ]
  },
  {
   "cell_type": "code",
   "execution_count": null,
   "metadata": {
    "scrolled": true
   },
   "outputs": [],
   "source": [
    "A_Pep_Counts=[]\n",
    "#Count are in Log10\n",
    "for df in AspN_Peptides:\n",
    "    log = math.log2(len(df))\n",
    "    A_Pep_Counts.append(log)\n",
    "plt.plot(missed_sites,A_Pep_Counts,color=\"black\")\n",
    "plt.title('AspN Digestion - Human Proteome', fontsize=12)\n",
    "plt.xlabel('Missed Cleavages per Proteins', fontsize=14)\n",
    "plt.ylabel('Log2(Number of Peptides)', fontsize=14)\n",
    "plt.xticks(missed_sites,fontsize=14)\n",
    "plt.yticks(fontsize=14)\n",
    "plt.ylim([15, 25])\n",
    "Ratios=[]\n",
    "for count in A_Pep_Counts:\n",
    "    ratio=2**(count-A_Pep_Counts[0])\n",
    "    ratiox=float(round(ratio,2))\n",
    "    Ratios.append(ratiox)\n",
    "for x_, y_, name in zip(missed_sites,A_Pep_Counts, Ratios):\n",
    "    plt.text(x_-0.1,y_ + 0.5, name , fontsize=14, color=\"red\")\n",
    "plt.text(1,16,\"Fold Change (rel. 0)\",color=\"red\", fontsize=10)\n",
    "plt.show()"
   ]
  },
  {
   "cell_type": "code",
   "execution_count": null,
   "metadata": {},
   "outputs": [],
   "source": [
    "A_Pro_Counts=[]\n",
    "#Count are in Log10\n",
    "for df in AspN_Peptides:\n",
    "    x,y,z=Chef.Wishbone(df,\"gene\",1)\n",
    "    A_Pro_Counts.append(y)\n",
    "plt.plot(missed_sites,A_Pro_Counts,color=\"black\")\n",
    "plt.title('Asp-N Digestion - Human Proteome', fontsize=12)\n",
    "plt.xlabel('Missed Cleavages per Proteins', fontsize=14)\n",
    "plt.ylabel('Number of Proteins', fontsize=14)\n",
    "plt.xticks(missed_sites,fontsize=14)\n",
    "plt.yticks(fontsize=14)\n",
    "plt.show()"
   ]
  },
  {
   "cell_type": "code",
   "execution_count": null,
   "metadata": {},
   "outputs": [],
   "source": [
    "raw=Menu[[\"Peptide\", \"Gene\"]].set_index(\"Gene\").to_dict()[\"Peptide\"]\n",
    "AspN_Silico_Coverage=pd.DataFrame()\n",
    "i=0\n",
    "columns=[\"AspN_0\",\"AspN_1\",\"AspN_2\",\"AspN_3\",]\n",
    "for df in AspN_Peptides:\n",
    "    name=f\"SC_{columns[i]}\" \n",
    "    x_list=list()\n",
    "    max_len=len(df)\n",
    "    for gene, protein in raw.items():\n",
    "        temp=df.loc[df.gene == gene][\"peptide\"]\n",
    "        temp2=list(temp)\n",
    "        x=Pep2Pro(protein,temp2)\n",
    "        x_list.append(x)\n",
    "    AspN_Silico_Coverage[name]= np.array(x_list)\n",
    "    i+=1\n",
    "    print(\"On to the next...\")\n",
    "print(\"Done\")"
   ]
  },
  {
   "cell_type": "code",
   "execution_count": null,
   "metadata": {},
   "outputs": [],
   "source": [
    "AspN_Silico_Coverage.replace(0,np.nan, inplace=True)"
   ]
  },
  {
   "cell_type": "code",
   "execution_count": null,
   "metadata": {},
   "outputs": [],
   "source": [
    "AspN_Silico_Coverage.describe()"
   ]
  },
  {
   "cell_type": "code",
   "execution_count": null,
   "metadata": {},
   "outputs": [],
   "source": [
    "plt.hist(AspN_Silico_Coverage['SC_AspN_0'])"
   ]
  },
  {
   "cell_type": "code",
   "execution_count": null,
   "metadata": {},
   "outputs": [],
   "source": [
    "AspN_Silico_Coverage.to_excel('Silico_AspN_Coverage.xlsx')"
   ]
  },
  {
   "cell_type": "code",
   "execution_count": null,
   "metadata": {
    "scrolled": false
   },
   "outputs": [],
   "source": [
    "df1 = AspN_Silico_Coverage.stack().reset_index()\n",
    "df1.columns = ['Null','Digest','Coverage']\n",
    "df1.drop(['Null'], axis=1, inplace=True)\n",
    "sns.set(font_scale = 4)\n",
    "sns.set_style(\"white\")\n",
    "\n",
    "g=sns.displot(\n",
    "    data=df1,\n",
    "    x=\"Coverage\",hue=\"Digest\",\n",
    "    kind=\"kde\", height=20,log_scale=(0,0),\n",
    "    \n",
    ")\n",
    "plt.xlabel('Sequence Coverage', fontsize=48)\n",
    "plt.ylabel('Density(KDE)', fontsize=48)\n",
    "plt.title('AspN-Digested Human Proteome  Sequence Coverage',fontname='Arial',fontweight='bold',fontsize=34,pad=30,backgroundcolor='blue',color='yellow',style='oblique');"
   ]
  },
  {
   "cell_type": "markdown",
   "metadata": {},
   "source": [
    "## GluC in Silco Digestion"
   ]
  },
  {
   "cell_type": "code",
   "execution_count": null,
   "metadata": {},
   "outputs": [],
   "source": [
    "# Trypsin in Silco Digestion\n",
    "missed_sites=[0,1,2,3]\n",
    "enzyme=\"glutamyl endopeptidase\"\n",
    "for site in missed_sites:\n",
    "    x=f\"GluC_{site}_dig\"\n",
    "    z=Chef.ButcherShop(Menu,target=\"Peptide\",identifier=\"Gene\", rule=enzyme,missed=site,exception=None,min_length=7,max_length=100)\n",
    "    globals()[str(x)]=Chef.Deli(z,meat_package=True)"
   ]
  },
  {
   "cell_type": "code",
   "execution_count": null,
   "metadata": {
    "scrolled": true
   },
   "outputs": [],
   "source": [
    "GluC_0_dig.head()"
   ]
  },
  {
   "cell_type": "markdown",
   "metadata": {},
   "source": [
    "# Raw Experimental Data"
   ]
  },
  {
   "cell_type": "code",
   "execution_count": null,
   "metadata": {},
   "outputs": [],
   "source": []
  }
 ],
 "metadata": {
  "kernelspec": {
   "display_name": "Python 3",
   "language": "python",
   "name": "python3"
  },
  "language_info": {
   "codemirror_mode": {
    "name": "ipython",
    "version": 3
   },
   "file_extension": ".py",
   "mimetype": "text/x-python",
   "name": "python",
   "nbconvert_exporter": "python",
   "pygments_lexer": "ipython3",
   "version": "3.8.3"
  },
  "toc": {
   "base_numbering": 1,
   "nav_menu": {},
   "number_sections": true,
   "sideBar": true,
   "skip_h1_title": false,
   "title_cell": "Table of Contents",
   "title_sidebar": "Contents",
   "toc_cell": false,
   "toc_position": {},
   "toc_section_display": true,
   "toc_window_display": true
  },
  "varInspector": {
   "cols": {
    "lenName": 16,
    "lenType": 16,
    "lenVar": 40
   },
   "kernels_config": {
    "python": {
     "delete_cmd_postfix": "",
     "delete_cmd_prefix": "del ",
     "library": "var_list.py",
     "varRefreshCmd": "print(var_dic_list())"
    },
    "r": {
     "delete_cmd_postfix": ") ",
     "delete_cmd_prefix": "rm(",
     "library": "var_list.r",
     "varRefreshCmd": "cat(var_dic_list()) "
    }
   },
   "types_to_exclude": [
    "module",
    "function",
    "builtin_function_or_method",
    "instance",
    "_Feature"
   ],
   "window_display": false
  }
 },
 "nbformat": 4,
 "nbformat_minor": 4
}
