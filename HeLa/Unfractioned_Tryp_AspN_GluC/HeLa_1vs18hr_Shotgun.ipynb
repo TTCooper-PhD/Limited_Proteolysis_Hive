{
 "cells": [
  {
   "cell_type": "code",
   "execution_count": 12,
   "metadata": {},
   "outputs": [],
   "source": [
    "import Peptide_Chef as Chef\n",
    "# from Peptide_Chef import Cook_Book"
   ]
  },
  {
   "cell_type": "code",
   "execution_count": 13,
   "metadata": {},
   "outputs": [],
   "source": [
    "url=\"https://ftp.uniprot.org/pub/databases/uniprot/current_release/knowledgebase/reference_proteomes/Eukaryota/UP000005640/UP000005640_9606.fasta.gz\""
   ]
  },
  {
   "cell_type": "code",
   "execution_count": 14,
   "metadata": {},
   "outputs": [
    {
     "name": "stdout",
     "output_type": "stream",
     "text": [
      "Downloading the FASTA file from url...\n",
      "Unzipping...\n",
      "Takeout is Done!\n"
     ]
    },
    {
     "data": {
      "text/html": [
       "<div>\n",
       "<style scoped>\n",
       "    .dataframe tbody tr th:only-of-type {\n",
       "        vertical-align: middle;\n",
       "    }\n",
       "\n",
       "    .dataframe tbody tr th {\n",
       "        vertical-align: top;\n",
       "    }\n",
       "\n",
       "    .dataframe thead th {\n",
       "        text-align: right;\n",
       "    }\n",
       "</style>\n",
       "<table border=\"1\" class=\"dataframe\">\n",
       "  <thead>\n",
       "    <tr style=\"text-align: right;\">\n",
       "      <th></th>\n",
       "      <th>Peptide</th>\n",
       "      <th>UniprotID</th>\n",
       "      <th>Gene</th>\n",
       "      <th>Identification</th>\n",
       "    </tr>\n",
       "  </thead>\n",
       "  <tbody>\n",
       "    <tr>\n",
       "      <th>0</th>\n",
       "      <td>MKHLWFFLLLVAAPRWVLSQVQLQESGPGLVKPSGTLSLTCAVSGG...</td>\n",
       "      <td>A0A075B6R2</td>\n",
       "      <td>HV404</td>\n",
       "      <td>HUMAN Immunoglobulin heavy variable 4-4 OS=Hom...</td>\n",
       "    </tr>\n",
       "    <tr>\n",
       "      <th>1</th>\n",
       "      <td>XNSGGSNYKLTFGKGTLLTVNP</td>\n",
       "      <td>A0A075B6W9</td>\n",
       "      <td>A0A075B6W9</td>\n",
       "      <td>HUMAN T cell receptor alpha joining 53 (Fragme...</td>\n",
       "    </tr>\n",
       "    <tr>\n",
       "      <th>2</th>\n",
       "      <td>XNSGGYQKVTFGTGTKLQVIP</td>\n",
       "      <td>A0A075B709</td>\n",
       "      <td>A0A075B709</td>\n",
       "      <td>HUMAN T cell receptor alpha joining 13 (Fragme...</td>\n",
       "    </tr>\n",
       "    <tr>\n",
       "      <th>3</th>\n",
       "      <td>MASNVTNKMDPHSVNSRVFIGNLNTLVVKKSDVEAIFSKYGKIAGC...</td>\n",
       "      <td>A0A0G2JNQ3</td>\n",
       "      <td>A0A0G2JNQ3</td>\n",
       "      <td>HUMAN Heterogeneous nuclear ribonucleoprotein ...</td>\n",
       "    </tr>\n",
       "    <tr>\n",
       "      <th>4</th>\n",
       "      <td>SNQPQHFGDGTRLSIL</td>\n",
       "      <td>A0A0J9YXM7</td>\n",
       "      <td>TJB15</td>\n",
       "      <td>HUMAN T cell receptor beta joining 1-5 OS=Homo...</td>\n",
       "    </tr>\n",
       "    <tr>\n",
       "      <th>...</th>\n",
       "      <td>...</td>\n",
       "      <td>...</td>\n",
       "      <td>...</td>\n",
       "      <td>...</td>\n",
       "    </tr>\n",
       "    <tr>\n",
       "      <th>20605</th>\n",
       "      <td>MKGTPSSLDTLMWIYHFHSSTEVALQPPLLSSLELSVAAAHEYLEQ...</td>\n",
       "      <td>Q6ZR85</td>\n",
       "      <td>CQ107</td>\n",
       "      <td>HUMAN Uncharacterized protein C17orf107 OS=Hom...</td>\n",
       "    </tr>\n",
       "    <tr>\n",
       "      <th>20606</th>\n",
       "      <td>MAALGTVLFTGVRRLHCSVAAWAGGQWRLQQGLAANPSGYGPLTEL...</td>\n",
       "      <td>Q86TS9</td>\n",
       "      <td>RM52</td>\n",
       "      <td>HUMAN 39S ribosomal protein L52, mitochondrial...</td>\n",
       "    </tr>\n",
       "    <tr>\n",
       "      <th>20607</th>\n",
       "      <td>MASSGEDISNDDDDMHPAAAGMADGVHLLGFSDEILLHILSHVPST...</td>\n",
       "      <td>Q96ME1</td>\n",
       "      <td>FXL18</td>\n",
       "      <td>HUMAN F-box/LRR-repeat protein 18 OS=Homo sapi...</td>\n",
       "    </tr>\n",
       "    <tr>\n",
       "      <th>20608</th>\n",
       "      <td>MTTETFVKDIKPGLKNLNLIFIVLETGRVTKTKDGHEVRTCKVADK...</td>\n",
       "      <td>Q9BQ15</td>\n",
       "      <td>SOSB1</td>\n",
       "      <td>HUMAN SOSS complex subunit B1 OS=Homo sapiens ...</td>\n",
       "    </tr>\n",
       "    <tr>\n",
       "      <th>20609</th>\n",
       "      <td>MAADLNLEWISLPRSWTYGITRGGRVFFINEEAKSTTWLHPVTGEA...</td>\n",
       "      <td>Q9HAU0</td>\n",
       "      <td>PKHA5</td>\n",
       "      <td>HUMAN Pleckstrin homology domain-containing fa...</td>\n",
       "    </tr>\n",
       "  </tbody>\n",
       "</table>\n",
       "<p>20610 rows × 4 columns</p>\n",
       "</div>"
      ],
      "text/plain": [
       "                                                 Peptide   UniprotID  \\\n",
       "0      MKHLWFFLLLVAAPRWVLSQVQLQESGPGLVKPSGTLSLTCAVSGG...  A0A075B6R2   \n",
       "1                                 XNSGGSNYKLTFGKGTLLTVNP  A0A075B6W9   \n",
       "2                                  XNSGGYQKVTFGTGTKLQVIP  A0A075B709   \n",
       "3      MASNVTNKMDPHSVNSRVFIGNLNTLVVKKSDVEAIFSKYGKIAGC...  A0A0G2JNQ3   \n",
       "4                                       SNQPQHFGDGTRLSIL  A0A0J9YXM7   \n",
       "...                                                  ...         ...   \n",
       "20605  MKGTPSSLDTLMWIYHFHSSTEVALQPPLLSSLELSVAAAHEYLEQ...      Q6ZR85   \n",
       "20606  MAALGTVLFTGVRRLHCSVAAWAGGQWRLQQGLAANPSGYGPLTEL...      Q86TS9   \n",
       "20607  MASSGEDISNDDDDMHPAAAGMADGVHLLGFSDEILLHILSHVPST...      Q96ME1   \n",
       "20608  MTTETFVKDIKPGLKNLNLIFIVLETGRVTKTKDGHEVRTCKVADK...      Q9BQ15   \n",
       "20609  MAADLNLEWISLPRSWTYGITRGGRVFFINEEAKSTTWLHPVTGEA...      Q9HAU0   \n",
       "\n",
       "             Gene                                     Identification  \n",
       "0           HV404  HUMAN Immunoglobulin heavy variable 4-4 OS=Hom...  \n",
       "1      A0A075B6W9  HUMAN T cell receptor alpha joining 53 (Fragme...  \n",
       "2      A0A075B709  HUMAN T cell receptor alpha joining 13 (Fragme...  \n",
       "3      A0A0G2JNQ3  HUMAN Heterogeneous nuclear ribonucleoprotein ...  \n",
       "4           TJB15  HUMAN T cell receptor beta joining 1-5 OS=Homo...  \n",
       "...           ...                                                ...  \n",
       "20605       CQ107  HUMAN Uncharacterized protein C17orf107 OS=Hom...  \n",
       "20606        RM52  HUMAN 39S ribosomal protein L52, mitochondrial...  \n",
       "20607       FXL18  HUMAN F-box/LRR-repeat protein 18 OS=Homo sapi...  \n",
       "20608       SOSB1  HUMAN SOSS complex subunit B1 OS=Homo sapiens ...  \n",
       "20609       PKHA5  HUMAN Pleckstrin homology domain-containing fa...  \n",
       "\n",
       "[20610 rows x 4 columns]"
      ]
     },
     "execution_count": 14,
     "metadata": {},
     "output_type": "execute_result"
    }
   ],
   "source": [
    "Chef.Cook_Book(homebrew=False, takeout=True,url=url)"
   ]
  },
  {
   "cell_type": "code",
   "execution_count": null,
   "metadata": {},
   "outputs": [],
   "source": []
  }
 ],
 "metadata": {
  "kernelspec": {
   "display_name": "Python 3",
   "language": "python",
   "name": "python3"
  },
  "language_info": {
   "codemirror_mode": {
    "name": "ipython",
    "version": 3
   },
   "file_extension": ".py",
   "mimetype": "text/x-python",
   "name": "python",
   "nbconvert_exporter": "python",
   "pygments_lexer": "ipython3",
   "version": "3.8.3"
  },
  "toc": {
   "base_numbering": 1,
   "nav_menu": {},
   "number_sections": true,
   "sideBar": true,
   "skip_h1_title": false,
   "title_cell": "Table of Contents",
   "title_sidebar": "Contents",
   "toc_cell": false,
   "toc_position": {},
   "toc_section_display": true,
   "toc_window_display": false
  },
  "varInspector": {
   "cols": {
    "lenName": 16,
    "lenType": 16,
    "lenVar": 40
   },
   "kernels_config": {
    "python": {
     "delete_cmd_postfix": "",
     "delete_cmd_prefix": "del ",
     "library": "var_list.py",
     "varRefreshCmd": "print(var_dic_list())"
    },
    "r": {
     "delete_cmd_postfix": ") ",
     "delete_cmd_prefix": "rm(",
     "library": "var_list.r",
     "varRefreshCmd": "cat(var_dic_list()) "
    }
   },
   "types_to_exclude": [
    "module",
    "function",
    "builtin_function_or_method",
    "instance",
    "_Feature"
   ],
   "window_display": false
  }
 },
 "nbformat": 4,
 "nbformat_minor": 4
}
