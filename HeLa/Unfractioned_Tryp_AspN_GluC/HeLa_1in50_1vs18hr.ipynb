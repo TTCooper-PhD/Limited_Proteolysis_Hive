{
 "cells": [
  {
   "cell_type": "markdown",
   "metadata": {},
   "source": [
    "#  <b>Limited Proteolysis of HeLa Cell Lysates by Tyler T. Cooper, PhD</b>"
   ]
  },
  {
   "cell_type": "markdown",
   "metadata": {},
   "source": [
    "### Libraries"
   ]
  },
  {
   "cell_type": "code",
   "execution_count": 1,
   "metadata": {},
   "outputs": [],
   "source": [
    "### Data Handling\n",
    "import numpy as np\n",
    "import pandas as pd\n",
    "from pandas import ExcelWriter\n",
    "from scipy.stats import pearsonr\n",
    "pd.options.display.max_columns = None\n",
    "#pd.options.display.max_rows = None\n",
    "from itertools import combinations\n",
    "import re\n",
    "#\n",
    "\n",
    "#Statistics\n",
    "import statsmodels.api as sm\n",
    "from statsmodels.formula.api import ols\n",
    "\n",
    "#Figure Generation\n",
    "import matplotlib\n",
    "import matplotlib.pyplot as plt\n",
    "import matplotlib.cm as cm\n",
    "import matplotlib.colors as colors\n",
    "from matplotlib import offsetbox\n",
    "from matplotlib.ticker import NullFormatter\n",
    "from mpl_toolkits.mplot3d import Axes3D\n",
    "from matplotlib.tri import Triangulation\n",
    "from mpl_toolkits.mplot3d import axes3d\n",
    "from IPython.display import Image, display\n",
    "import seaborn as sns\n",
    "from adjustText import adjust_text\n",
    "import glob\n",
    "import bioinfokit\n",
    "from bioinfokit import analys, visuz\n",
    "\n",
    "#Venn Diagrams\n",
    "from matplotlib_venn import venn2, venn2_circles, venn2_unweighted\n",
    "from matplotlib_venn import venn3, venn3_circles\n",
    "%matplotlib inline\n",
    "\n",
    "cmap = 'PRGn'\n",
    "fmt='eps'\n",
    "dpi=600"
   ]
  },
  {
   "cell_type": "code",
   "execution_count": 2,
   "metadata": {
    "scrolled": true
   },
   "outputs": [
    {
     "name": "stdout",
     "output_type": "stream",
     "text": [
      "The numpy version is 1.19.1.\n",
      "The pandas version is 1.0.5.\n",
      "The matplotlib version is 3.2.2.\n",
      "The seaborn version is 0.11.0.\n"
     ]
    }
   ],
   "source": [
    "print('The numpy version is {}.'.format(np.__version__))\n",
    "print('The pandas version is {}.'.format(pd.__version__))\n",
    "print('The matplotlib version is {}.'.format(matplotlib.__version__))\n",
    "print('The seaborn version is {}.'.format(sns.__version__))"
   ]
  },
  {
   "cell_type": "code",
   "execution_count": null,
   "metadata": {},
   "outputs": [],
   "source": []
  },
  {
   "cell_type": "markdown",
   "metadata": {},
   "source": [
    "# <b>Section 1: Analysis of Peptides</b>"
   ]
  },
  {
   "cell_type": "code",
   "execution_count": 3,
   "metadata": {
    "scrolled": true
   },
   "outputs": [
    {
     "data": {
      "text/html": [
       "<div>\n",
       "<style scoped>\n",
       "    .dataframe tbody tr th:only-of-type {\n",
       "        vertical-align: middle;\n",
       "    }\n",
       "\n",
       "    .dataframe tbody tr th {\n",
       "        vertical-align: top;\n",
       "    }\n",
       "\n",
       "    .dataframe thead th {\n",
       "        text-align: right;\n",
       "    }\n",
       "</style>\n",
       "<table border=\"1\" class=\"dataframe\">\n",
       "  <thead>\n",
       "    <tr style=\"text-align: right;\">\n",
       "      <th></th>\n",
       "      <th>Protein Group</th>\n",
       "      <th>Protein ID</th>\n",
       "      <th>Protein Accession</th>\n",
       "      <th>Peptide</th>\n",
       "      <th>Unique</th>\n",
       "      <th>Score (%)</th>\n",
       "      <th>-10lgP</th>\n",
       "      <th>Mass</th>\n",
       "      <th>Length</th>\n",
       "      <th>ppm</th>\n",
       "      <th>m/z</th>\n",
       "      <th>z</th>\n",
       "      <th>RT</th>\n",
       "      <th>Area Tryp_1hr_1:50_Rep1</th>\n",
       "      <th>Area Tryp_1hr_1:50_Rep2</th>\n",
       "      <th>Area Tryp_18hr_1:50_Rep1</th>\n",
       "      <th>Area AspN_1hr_1:50_Rep1</th>\n",
       "      <th>Area AspN_1hr_1:50_Rep2</th>\n",
       "      <th>Area AspN_18hr_1:50_Rep1</th>\n",
       "      <th>Area AspN_18hr_1:50_Rep2</th>\n",
       "      <th>Area GluC_1hr_1:50_Rep1</th>\n",
       "      <th>Area GluC_1hr_1:50_Rep2</th>\n",
       "      <th>Area GluC_18hr_1:50_Rep1</th>\n",
       "      <th>Area GluC_18hr_1:50_Rep2</th>\n",
       "      <th>Area Trypsin_18hr_1:50_Rep2</th>\n",
       "      <th>Fraction</th>\n",
       "      <th>Scan</th>\n",
       "      <th>Source File</th>\n",
       "      <th>#Feature</th>\n",
       "      <th>#Feature Tryp_1hr_1:50_Rep1</th>\n",
       "      <th>#Feature Tryp_1hr_1:50_Rep2</th>\n",
       "      <th>#Feature Tryp_18hr_1:50_Rep1</th>\n",
       "      <th>#Feature AspN_1hr_1:50_Rep1</th>\n",
       "      <th>#Feature AspN_1hr_1:50_Rep2</th>\n",
       "      <th>#Feature AspN_18hr_1:50_Rep1</th>\n",
       "      <th>#Feature AspN_18hr_1:50_Rep2</th>\n",
       "      <th>#Feature GluC_1hr_1:50_Rep1</th>\n",
       "      <th>#Feature GluC_1hr_1:50_Rep2</th>\n",
       "      <th>#Feature GluC_18hr_1:50_Rep1</th>\n",
       "      <th>#Feature GluC_18hr_1:50_Rep2</th>\n",
       "      <th>#Feature Trypsin_18hr_1:50_Rep2</th>\n",
       "      <th>Start</th>\n",
       "      <th>End</th>\n",
       "      <th>PTM</th>\n",
       "      <th>AScore</th>\n",
       "      <th>Found By</th>\n",
       "      <th>Protein</th>\n",
       "      <th>Gene</th>\n",
       "    </tr>\n",
       "  </thead>\n",
       "  <tbody>\n",
       "    <tr>\n",
       "      <th>0</th>\n",
       "      <td>1</td>\n",
       "      <td>42</td>\n",
       "      <td>P08238|HS90B_HUMAN</td>\n",
       "      <td>L.DKKVEKVTISNRLVSSPC(+57.02)C(+57.02)IVTSTYGWT...</td>\n",
       "      <td>Y</td>\n",
       "      <td>100.0</td>\n",
       "      <td>125.61</td>\n",
       "      <td>4741.4175</td>\n",
       "      <td>41</td>\n",
       "      <td>1.4</td>\n",
       "      <td>949.2921</td>\n",
       "      <td>5</td>\n",
       "      <td>215.58</td>\n",
       "      <td>NaN</td>\n",
       "      <td>NaN</td>\n",
       "      <td>NaN</td>\n",
       "      <td>26069000.0</td>\n",
       "      <td>NaN</td>\n",
       "      <td>83391000.0</td>\n",
       "      <td>NaN</td>\n",
       "      <td>NaN</td>\n",
       "      <td>NaN</td>\n",
       "      <td>NaN</td>\n",
       "      <td>NaN</td>\n",
       "      <td>NaN</td>\n",
       "      <td>6</td>\n",
       "      <td>F6:114936</td>\n",
       "      <td>tc_28Oct2020_18hrAspN1in50_HeLa_500ng_290minTC...</td>\n",
       "      <td>6</td>\n",
       "      <td>0</td>\n",
       "      <td>0</td>\n",
       "      <td>0</td>\n",
       "      <td>3</td>\n",
       "      <td>0</td>\n",
       "      <td>3</td>\n",
       "      <td>0</td>\n",
       "      <td>0</td>\n",
       "      <td>0</td>\n",
       "      <td>0</td>\n",
       "      <td>0</td>\n",
       "      <td>0</td>\n",
       "      <td>572</td>\n",
       "      <td>612</td>\n",
       "      <td>Carbamidomethylation; Deamidation (NQ)</td>\n",
       "      <td>C18:Carbamidomethylation:1000.00;C19:Carbamido...</td>\n",
       "      <td>PEAKS DB</td>\n",
       "      <td>P08238</td>\n",
       "      <td>HS90B_HUMAN</td>\n",
       "    </tr>\n",
       "    <tr>\n",
       "      <th>1</th>\n",
       "      <td>1</td>\n",
       "      <td>42</td>\n",
       "      <td>P08238|HS90B_HUMAN</td>\n",
       "      <td>L.DKKVEKVTISNRLVSSPC(+57.02)C(+57.02)IVTSTYGWT...</td>\n",
       "      <td>Y</td>\n",
       "      <td>100.0</td>\n",
       "      <td>121.69</td>\n",
       "      <td>4740.4336</td>\n",
       "      <td>41</td>\n",
       "      <td>-1.3</td>\n",
       "      <td>791.0785</td>\n",
       "      <td>6</td>\n",
       "      <td>213.93</td>\n",
       "      <td>NaN</td>\n",
       "      <td>NaN</td>\n",
       "      <td>NaN</td>\n",
       "      <td>339740000.0</td>\n",
       "      <td>563730000.0</td>\n",
       "      <td>303560000.0</td>\n",
       "      <td>183390000.0</td>\n",
       "      <td>NaN</td>\n",
       "      <td>NaN</td>\n",
       "      <td>NaN</td>\n",
       "      <td>NaN</td>\n",
       "      <td>NaN</td>\n",
       "      <td>4</td>\n",
       "      <td>F4:107863</td>\n",
       "      <td>tc_26Oct2020_1hrAspN1in50_HeLa_500ng_290minTC_...</td>\n",
       "      <td>15</td>\n",
       "      <td>0</td>\n",
       "      <td>0</td>\n",
       "      <td>0</td>\n",
       "      <td>3</td>\n",
       "      <td>5</td>\n",
       "      <td>3</td>\n",
       "      <td>4</td>\n",
       "      <td>0</td>\n",
       "      <td>0</td>\n",
       "      <td>0</td>\n",
       "      <td>0</td>\n",
       "      <td>0</td>\n",
       "      <td>572</td>\n",
       "      <td>612</td>\n",
       "      <td>Carbamidomethylation</td>\n",
       "      <td>C18:Carbamidomethylation:1000.00;C19:Carbamido...</td>\n",
       "      <td>PEAKS DB</td>\n",
       "      <td>P08238</td>\n",
       "      <td>HS90B_HUMAN</td>\n",
       "    </tr>\n",
       "    <tr>\n",
       "      <th>2</th>\n",
       "      <td>1</td>\n",
       "      <td>42</td>\n",
       "      <td>P08238|HS90B_HUMAN</td>\n",
       "      <td>M.PEEVHHGEEEVETFAFQAEIAQLMSLIINTFYSNKEIFLRELIS...</td>\n",
       "      <td>Y</td>\n",
       "      <td>100.0</td>\n",
       "      <td>116.27</td>\n",
       "      <td>5422.6704</td>\n",
       "      <td>47</td>\n",
       "      <td>-0.5</td>\n",
       "      <td>1085.5408</td>\n",
       "      <td>5</td>\n",
       "      <td>250.64</td>\n",
       "      <td>NaN</td>\n",
       "      <td>NaN</td>\n",
       "      <td>NaN</td>\n",
       "      <td>3723800.0</td>\n",
       "      <td>849160.0</td>\n",
       "      <td>3638700.0</td>\n",
       "      <td>1030200.0</td>\n",
       "      <td>NaN</td>\n",
       "      <td>NaN</td>\n",
       "      <td>NaN</td>\n",
       "      <td>NaN</td>\n",
       "      <td>NaN</td>\n",
       "      <td>5</td>\n",
       "      <td>F5:131414</td>\n",
       "      <td>tc_15Nov2020_1hrAspN1in50_HeLa_500ng_290min_Re...</td>\n",
       "      <td>6</td>\n",
       "      <td>0</td>\n",
       "      <td>0</td>\n",
       "      <td>0</td>\n",
       "      <td>2</td>\n",
       "      <td>1</td>\n",
       "      <td>2</td>\n",
       "      <td>1</td>\n",
       "      <td>0</td>\n",
       "      <td>0</td>\n",
       "      <td>0</td>\n",
       "      <td>0</td>\n",
       "      <td>0</td>\n",
       "      <td>2</td>\n",
       "      <td>48</td>\n",
       "      <td>NaN</td>\n",
       "      <td>NaN</td>\n",
       "      <td>PEAKS DB</td>\n",
       "      <td>P08238</td>\n",
       "      <td>HS90B_HUMAN</td>\n",
       "    </tr>\n",
       "    <tr>\n",
       "      <th>3</th>\n",
       "      <td>1</td>\n",
       "      <td>42</td>\n",
       "      <td>P08238|HS90B_HUMAN</td>\n",
       "      <td>R.DNSTMGYMMAKKHLEINPDHPIVETLRQ(+.98)KAEA.D</td>\n",
       "      <td>Y</td>\n",
       "      <td>100.0</td>\n",
       "      <td>112.41</td>\n",
       "      <td>3667.7795</td>\n",
       "      <td>32</td>\n",
       "      <td>-0.1</td>\n",
       "      <td>917.9521</td>\n",
       "      <td>4</td>\n",
       "      <td>149.94</td>\n",
       "      <td>NaN</td>\n",
       "      <td>NaN</td>\n",
       "      <td>NaN</td>\n",
       "      <td>196410000.0</td>\n",
       "      <td>NaN</td>\n",
       "      <td>297640000.0</td>\n",
       "      <td>NaN</td>\n",
       "      <td>NaN</td>\n",
       "      <td>NaN</td>\n",
       "      <td>NaN</td>\n",
       "      <td>NaN</td>\n",
       "      <td>NaN</td>\n",
       "      <td>6</td>\n",
       "      <td>F6:80159</td>\n",
       "      <td>tc_28Oct2020_18hrAspN1in50_HeLa_500ng_290minTC...</td>\n",
       "      <td>5</td>\n",
       "      <td>0</td>\n",
       "      <td>0</td>\n",
       "      <td>0</td>\n",
       "      <td>3</td>\n",
       "      <td>0</td>\n",
       "      <td>2</td>\n",
       "      <td>0</td>\n",
       "      <td>0</td>\n",
       "      <td>0</td>\n",
       "      <td>0</td>\n",
       "      <td>0</td>\n",
       "      <td>0</td>\n",
       "      <td>613</td>\n",
       "      <td>644</td>\n",
       "      <td>Deamidation (NQ)</td>\n",
       "      <td>Q28:Deamidation (NQ):115.60</td>\n",
       "      <td>PEAKS DB</td>\n",
       "      <td>P08238</td>\n",
       "      <td>HS90B_HUMAN</td>\n",
       "    </tr>\n",
       "    <tr>\n",
       "      <th>4</th>\n",
       "      <td>1</td>\n",
       "      <td>42</td>\n",
       "      <td>P08238|HS90B_HUMAN</td>\n",
       "      <td>K.HNDDEQYAWESSAGGSFTVR.A</td>\n",
       "      <td>N</td>\n",
       "      <td>100.0</td>\n",
       "      <td>111.18</td>\n",
       "      <td>2254.9514</td>\n",
       "      <td>20</td>\n",
       "      <td>0.4</td>\n",
       "      <td>1128.4834</td>\n",
       "      <td>2</td>\n",
       "      <td>136.17</td>\n",
       "      <td>1.180000e+09</td>\n",
       "      <td>1.176400e+09</td>\n",
       "      <td>2.468800e+09</td>\n",
       "      <td>NaN</td>\n",
       "      <td>NaN</td>\n",
       "      <td>NaN</td>\n",
       "      <td>NaN</td>\n",
       "      <td>NaN</td>\n",
       "      <td>NaN</td>\n",
       "      <td>NaN</td>\n",
       "      <td>NaN</td>\n",
       "      <td>884260000.0</td>\n",
       "      <td>23</td>\n",
       "      <td>F23:73418</td>\n",
       "      <td>tc_16Nov2020_18hrTryp1in50_HeLa_500ng_290min_R...</td>\n",
       "      <td>57</td>\n",
       "      <td>17</td>\n",
       "      <td>17</td>\n",
       "      <td>13</td>\n",
       "      <td>0</td>\n",
       "      <td>0</td>\n",
       "      <td>0</td>\n",
       "      <td>0</td>\n",
       "      <td>0</td>\n",
       "      <td>0</td>\n",
       "      <td>0</td>\n",
       "      <td>0</td>\n",
       "      <td>10</td>\n",
       "      <td>149</td>\n",
       "      <td>168</td>\n",
       "      <td>NaN</td>\n",
       "      <td>NaN</td>\n",
       "      <td>PEAKS DB</td>\n",
       "      <td>P08238</td>\n",
       "      <td>HS90B_HUMAN</td>\n",
       "    </tr>\n",
       "    <tr>\n",
       "      <th>...</th>\n",
       "      <td>...</td>\n",
       "      <td>...</td>\n",
       "      <td>...</td>\n",
       "      <td>...</td>\n",
       "      <td>...</td>\n",
       "      <td>...</td>\n",
       "      <td>...</td>\n",
       "      <td>...</td>\n",
       "      <td>...</td>\n",
       "      <td>...</td>\n",
       "      <td>...</td>\n",
       "      <td>...</td>\n",
       "      <td>...</td>\n",
       "      <td>...</td>\n",
       "      <td>...</td>\n",
       "      <td>...</td>\n",
       "      <td>...</td>\n",
       "      <td>...</td>\n",
       "      <td>...</td>\n",
       "      <td>...</td>\n",
       "      <td>...</td>\n",
       "      <td>...</td>\n",
       "      <td>...</td>\n",
       "      <td>...</td>\n",
       "      <td>...</td>\n",
       "      <td>...</td>\n",
       "      <td>...</td>\n",
       "      <td>...</td>\n",
       "      <td>...</td>\n",
       "      <td>...</td>\n",
       "      <td>...</td>\n",
       "      <td>...</td>\n",
       "      <td>...</td>\n",
       "      <td>...</td>\n",
       "      <td>...</td>\n",
       "      <td>...</td>\n",
       "      <td>...</td>\n",
       "      <td>...</td>\n",
       "      <td>...</td>\n",
       "      <td>...</td>\n",
       "      <td>...</td>\n",
       "      <td>...</td>\n",
       "      <td>...</td>\n",
       "      <td>...</td>\n",
       "      <td>...</td>\n",
       "      <td>...</td>\n",
       "      <td>...</td>\n",
       "      <td>...</td>\n",
       "    </tr>\n",
       "    <tr>\n",
       "      <th>144286</th>\n",
       "      <td>5255</td>\n",
       "      <td>5322</td>\n",
       "      <td>Q9P2D7|DYH1_HUMAN</td>\n",
       "      <td>E.NIARLLFQE.D</td>\n",
       "      <td>Y</td>\n",
       "      <td>96.3</td>\n",
       "      <td>27.39</td>\n",
       "      <td>1102.6134</td>\n",
       "      <td>9</td>\n",
       "      <td>-11.5</td>\n",
       "      <td>552.3076</td>\n",
       "      <td>2</td>\n",
       "      <td>152.64</td>\n",
       "      <td>NaN</td>\n",
       "      <td>NaN</td>\n",
       "      <td>NaN</td>\n",
       "      <td>NaN</td>\n",
       "      <td>NaN</td>\n",
       "      <td>NaN</td>\n",
       "      <td>NaN</td>\n",
       "      <td>NaN</td>\n",
       "      <td>NaN</td>\n",
       "      <td>NaN</td>\n",
       "      <td>7847500.0</td>\n",
       "      <td>NaN</td>\n",
       "      <td>11</td>\n",
       "      <td>F11:77227</td>\n",
       "      <td>tc_16Nov2020_18hrGluC1in50_HeLa_500ng_290min_R...</td>\n",
       "      <td>1</td>\n",
       "      <td>0</td>\n",
       "      <td>0</td>\n",
       "      <td>0</td>\n",
       "      <td>0</td>\n",
       "      <td>0</td>\n",
       "      <td>0</td>\n",
       "      <td>0</td>\n",
       "      <td>0</td>\n",
       "      <td>0</td>\n",
       "      <td>0</td>\n",
       "      <td>1</td>\n",
       "      <td>0</td>\n",
       "      <td>1359</td>\n",
       "      <td>1367</td>\n",
       "      <td>NaN</td>\n",
       "      <td>NaN</td>\n",
       "      <td>PEAKS DB</td>\n",
       "      <td>Q9P2D7</td>\n",
       "      <td>DYH1_HUMAN</td>\n",
       "    </tr>\n",
       "    <tr>\n",
       "      <th>144287</th>\n",
       "      <td>5786</td>\n",
       "      <td>5276</td>\n",
       "      <td>Q9ULH7|MRTFB_HUMAN</td>\n",
       "      <td>E.KNILPVDSSVKE.A</td>\n",
       "      <td>Y</td>\n",
       "      <td>95.2</td>\n",
       "      <td>27.38</td>\n",
       "      <td>1327.7347</td>\n",
       "      <td>12</td>\n",
       "      <td>-0.6</td>\n",
       "      <td>443.5852</td>\n",
       "      <td>3</td>\n",
       "      <td>80.41</td>\n",
       "      <td>NaN</td>\n",
       "      <td>NaN</td>\n",
       "      <td>NaN</td>\n",
       "      <td>NaN</td>\n",
       "      <td>NaN</td>\n",
       "      <td>NaN</td>\n",
       "      <td>NaN</td>\n",
       "      <td>2076900.0</td>\n",
       "      <td>NaN</td>\n",
       "      <td>NaN</td>\n",
       "      <td>NaN</td>\n",
       "      <td>NaN</td>\n",
       "      <td>8</td>\n",
       "      <td>F8:37966</td>\n",
       "      <td>tc_27Oct2020_1hrGluC1in50_HeLa_500ng_290minTC_...</td>\n",
       "      <td>1</td>\n",
       "      <td>0</td>\n",
       "      <td>0</td>\n",
       "      <td>0</td>\n",
       "      <td>0</td>\n",
       "      <td>0</td>\n",
       "      <td>0</td>\n",
       "      <td>0</td>\n",
       "      <td>1</td>\n",
       "      <td>0</td>\n",
       "      <td>0</td>\n",
       "      <td>0</td>\n",
       "      <td>0</td>\n",
       "      <td>146</td>\n",
       "      <td>157</td>\n",
       "      <td>NaN</td>\n",
       "      <td>NaN</td>\n",
       "      <td>PEAKS DB</td>\n",
       "      <td>Q9ULH7</td>\n",
       "      <td>MRTFB_HUMAN</td>\n",
       "    </tr>\n",
       "    <tr>\n",
       "      <th>144288</th>\n",
       "      <td>5635</td>\n",
       "      <td>6094</td>\n",
       "      <td>Q9UPS6|SET1B_HUMAN</td>\n",
       "      <td>E.RSGPLASPVLLE.T</td>\n",
       "      <td>Y</td>\n",
       "      <td>94.9</td>\n",
       "      <td>27.36</td>\n",
       "      <td>1237.7030</td>\n",
       "      <td>12</td>\n",
       "      <td>0.7</td>\n",
       "      <td>619.8592</td>\n",
       "      <td>2</td>\n",
       "      <td>136.56</td>\n",
       "      <td>NaN</td>\n",
       "      <td>NaN</td>\n",
       "      <td>NaN</td>\n",
       "      <td>NaN</td>\n",
       "      <td>NaN</td>\n",
       "      <td>NaN</td>\n",
       "      <td>NaN</td>\n",
       "      <td>NaN</td>\n",
       "      <td>NaN</td>\n",
       "      <td>1734800.0</td>\n",
       "      <td>NaN</td>\n",
       "      <td>NaN</td>\n",
       "      <td>10</td>\n",
       "      <td>F10:73024</td>\n",
       "      <td>tc_27Oct2020_18hrGluC1in50_HeLa_500ng_290minTC...</td>\n",
       "      <td>1</td>\n",
       "      <td>0</td>\n",
       "      <td>0</td>\n",
       "      <td>0</td>\n",
       "      <td>0</td>\n",
       "      <td>0</td>\n",
       "      <td>0</td>\n",
       "      <td>0</td>\n",
       "      <td>0</td>\n",
       "      <td>0</td>\n",
       "      <td>1</td>\n",
       "      <td>0</td>\n",
       "      <td>0</td>\n",
       "      <td>1458</td>\n",
       "      <td>1469</td>\n",
       "      <td>NaN</td>\n",
       "      <td>NaN</td>\n",
       "      <td>PEAKS DB</td>\n",
       "      <td>Q9UPS6</td>\n",
       "      <td>SET1B_HUMAN</td>\n",
       "    </tr>\n",
       "    <tr>\n",
       "      <th>144289</th>\n",
       "      <td>5488</td>\n",
       "      <td>6047</td>\n",
       "      <td>Q8TEW0|PARD3_HUMAN</td>\n",
       "      <td>MKVTVC(+57.02)FGRTRVVVPC(+57.02)GDGHM(+15.99)K...</td>\n",
       "      <td>Y</td>\n",
       "      <td>93.4</td>\n",
       "      <td>27.36</td>\n",
       "      <td>4622.4697</td>\n",
       "      <td>40</td>\n",
       "      <td>17.7</td>\n",
       "      <td>771.4325</td>\n",
       "      <td>6</td>\n",
       "      <td>226.56</td>\n",
       "      <td>NaN</td>\n",
       "      <td>NaN</td>\n",
       "      <td>NaN</td>\n",
       "      <td>NaN</td>\n",
       "      <td>5612400.0</td>\n",
       "      <td>NaN</td>\n",
       "      <td>NaN</td>\n",
       "      <td>NaN</td>\n",
       "      <td>NaN</td>\n",
       "      <td>NaN</td>\n",
       "      <td>NaN</td>\n",
       "      <td>NaN</td>\n",
       "      <td>5</td>\n",
       "      <td>F5:119307</td>\n",
       "      <td>tc_15Nov2020_1hrAspN1in50_HeLa_500ng_290min_Re...</td>\n",
       "      <td>1</td>\n",
       "      <td>0</td>\n",
       "      <td>0</td>\n",
       "      <td>0</td>\n",
       "      <td>0</td>\n",
       "      <td>1</td>\n",
       "      <td>0</td>\n",
       "      <td>0</td>\n",
       "      <td>0</td>\n",
       "      <td>0</td>\n",
       "      <td>0</td>\n",
       "      <td>0</td>\n",
       "      <td>0</td>\n",
       "      <td>1</td>\n",
       "      <td>40</td>\n",
       "      <td>Carbamidomethylation; Oxidation (M)</td>\n",
       "      <td>C6:Carbamidomethylation:1000.00;C16:Carbamidom...</td>\n",
       "      <td>PEAKS DB</td>\n",
       "      <td>Q8TEW0</td>\n",
       "      <td>PARD3_HUMAN</td>\n",
       "    </tr>\n",
       "    <tr>\n",
       "      <th>144290</th>\n",
       "      <td>5915</td>\n",
       "      <td>6842</td>\n",
       "      <td>P55011|S12A2_HUMAN</td>\n",
       "      <td>K.QTPADGEASGESEPAKGSEEAK.G</td>\n",
       "      <td>Y</td>\n",
       "      <td>96.9</td>\n",
       "      <td>27.35</td>\n",
       "      <td>2173.9609</td>\n",
       "      <td>22</td>\n",
       "      <td>4.7</td>\n",
       "      <td>725.6643</td>\n",
       "      <td>3</td>\n",
       "      <td>22.69</td>\n",
       "      <td>NaN</td>\n",
       "      <td>3.199300e+05</td>\n",
       "      <td>NaN</td>\n",
       "      <td>NaN</td>\n",
       "      <td>NaN</td>\n",
       "      <td>NaN</td>\n",
       "      <td>NaN</td>\n",
       "      <td>NaN</td>\n",
       "      <td>NaN</td>\n",
       "      <td>NaN</td>\n",
       "      <td>NaN</td>\n",
       "      <td>NaN</td>\n",
       "      <td>2</td>\n",
       "      <td>F2:6292</td>\n",
       "      <td>tc_15Nov2020_1hrTryp1in50_HeLa_500ng_290min_Re...</td>\n",
       "      <td>1</td>\n",
       "      <td>0</td>\n",
       "      <td>1</td>\n",
       "      <td>0</td>\n",
       "      <td>0</td>\n",
       "      <td>0</td>\n",
       "      <td>0</td>\n",
       "      <td>0</td>\n",
       "      <td>0</td>\n",
       "      <td>0</td>\n",
       "      <td>0</td>\n",
       "      <td>0</td>\n",
       "      <td>0</td>\n",
       "      <td>115</td>\n",
       "      <td>136</td>\n",
       "      <td>NaN</td>\n",
       "      <td>NaN</td>\n",
       "      <td>PEAKS DB</td>\n",
       "      <td>P55011</td>\n",
       "      <td>S12A2_HUMAN</td>\n",
       "    </tr>\n",
       "  </tbody>\n",
       "</table>\n",
       "<p>144291 rows × 48 columns</p>\n",
       "</div>"
      ],
      "text/plain": [
       "        Protein Group  Protein ID   Protein Accession  \\\n",
       "0                   1          42  P08238|HS90B_HUMAN   \n",
       "1                   1          42  P08238|HS90B_HUMAN   \n",
       "2                   1          42  P08238|HS90B_HUMAN   \n",
       "3                   1          42  P08238|HS90B_HUMAN   \n",
       "4                   1          42  P08238|HS90B_HUMAN   \n",
       "...               ...         ...                 ...   \n",
       "144286           5255        5322   Q9P2D7|DYH1_HUMAN   \n",
       "144287           5786        5276  Q9ULH7|MRTFB_HUMAN   \n",
       "144288           5635        6094  Q9UPS6|SET1B_HUMAN   \n",
       "144289           5488        6047  Q8TEW0|PARD3_HUMAN   \n",
       "144290           5915        6842  P55011|S12A2_HUMAN   \n",
       "\n",
       "                                                  Peptide Unique  Score (%)  \\\n",
       "0       L.DKKVEKVTISNRLVSSPC(+57.02)C(+57.02)IVTSTYGWT...      Y      100.0   \n",
       "1       L.DKKVEKVTISNRLVSSPC(+57.02)C(+57.02)IVTSTYGWT...      Y      100.0   \n",
       "2       M.PEEVHHGEEEVETFAFQAEIAQLMSLIINTFYSNKEIFLRELIS...      Y      100.0   \n",
       "3              R.DNSTMGYMMAKKHLEINPDHPIVETLRQ(+.98)KAEA.D      Y      100.0   \n",
       "4                                K.HNDDEQYAWESSAGGSFTVR.A      N      100.0   \n",
       "...                                                   ...    ...        ...   \n",
       "144286                                      E.NIARLLFQE.D      Y       96.3   \n",
       "144287                                   E.KNILPVDSSVKE.A      Y       95.2   \n",
       "144288                                   E.RSGPLASPVLLE.T      Y       94.9   \n",
       "144289  MKVTVC(+57.02)FGRTRVVVPC(+57.02)GDGHM(+15.99)K...      Y       93.4   \n",
       "144290                         K.QTPADGEASGESEPAKGSEEAK.G      Y       96.9   \n",
       "\n",
       "        -10lgP       Mass  Length   ppm        m/z  z      RT  \\\n",
       "0       125.61  4741.4175      41   1.4   949.2921  5  215.58   \n",
       "1       121.69  4740.4336      41  -1.3   791.0785  6  213.93   \n",
       "2       116.27  5422.6704      47  -0.5  1085.5408  5  250.64   \n",
       "3       112.41  3667.7795      32  -0.1   917.9521  4  149.94   \n",
       "4       111.18  2254.9514      20   0.4  1128.4834  2  136.17   \n",
       "...        ...        ...     ...   ...        ... ..     ...   \n",
       "144286   27.39  1102.6134       9 -11.5   552.3076  2  152.64   \n",
       "144287   27.38  1327.7347      12  -0.6   443.5852  3   80.41   \n",
       "144288   27.36  1237.7030      12   0.7   619.8592  2  136.56   \n",
       "144289   27.36  4622.4697      40  17.7   771.4325  6  226.56   \n",
       "144290   27.35  2173.9609      22   4.7   725.6643  3   22.69   \n",
       "\n",
       "        Area Tryp_1hr_1:50_Rep1  Area Tryp_1hr_1:50_Rep2  \\\n",
       "0                           NaN                      NaN   \n",
       "1                           NaN                      NaN   \n",
       "2                           NaN                      NaN   \n",
       "3                           NaN                      NaN   \n",
       "4                  1.180000e+09             1.176400e+09   \n",
       "...                         ...                      ...   \n",
       "144286                      NaN                      NaN   \n",
       "144287                      NaN                      NaN   \n",
       "144288                      NaN                      NaN   \n",
       "144289                      NaN                      NaN   \n",
       "144290                      NaN             3.199300e+05   \n",
       "\n",
       "        Area Tryp_18hr_1:50_Rep1  Area AspN_1hr_1:50_Rep1  \\\n",
       "0                            NaN               26069000.0   \n",
       "1                            NaN              339740000.0   \n",
       "2                            NaN                3723800.0   \n",
       "3                            NaN              196410000.0   \n",
       "4                   2.468800e+09                      NaN   \n",
       "...                          ...                      ...   \n",
       "144286                       NaN                      NaN   \n",
       "144287                       NaN                      NaN   \n",
       "144288                       NaN                      NaN   \n",
       "144289                       NaN                      NaN   \n",
       "144290                       NaN                      NaN   \n",
       "\n",
       "        Area AspN_1hr_1:50_Rep2  Area AspN_18hr_1:50_Rep1  \\\n",
       "0                           NaN                83391000.0   \n",
       "1                   563730000.0               303560000.0   \n",
       "2                      849160.0                 3638700.0   \n",
       "3                           NaN               297640000.0   \n",
       "4                           NaN                       NaN   \n",
       "...                         ...                       ...   \n",
       "144286                      NaN                       NaN   \n",
       "144287                      NaN                       NaN   \n",
       "144288                      NaN                       NaN   \n",
       "144289                5612400.0                       NaN   \n",
       "144290                      NaN                       NaN   \n",
       "\n",
       "        Area AspN_18hr_1:50_Rep2  Area GluC_1hr_1:50_Rep1  \\\n",
       "0                            NaN                      NaN   \n",
       "1                    183390000.0                      NaN   \n",
       "2                      1030200.0                      NaN   \n",
       "3                            NaN                      NaN   \n",
       "4                            NaN                      NaN   \n",
       "...                          ...                      ...   \n",
       "144286                       NaN                      NaN   \n",
       "144287                       NaN                2076900.0   \n",
       "144288                       NaN                      NaN   \n",
       "144289                       NaN                      NaN   \n",
       "144290                       NaN                      NaN   \n",
       "\n",
       "        Area GluC_1hr_1:50_Rep2  Area GluC_18hr_1:50_Rep1  \\\n",
       "0                           NaN                       NaN   \n",
       "1                           NaN                       NaN   \n",
       "2                           NaN                       NaN   \n",
       "3                           NaN                       NaN   \n",
       "4                           NaN                       NaN   \n",
       "...                         ...                       ...   \n",
       "144286                      NaN                       NaN   \n",
       "144287                      NaN                       NaN   \n",
       "144288                      NaN                 1734800.0   \n",
       "144289                      NaN                       NaN   \n",
       "144290                      NaN                       NaN   \n",
       "\n",
       "        Area GluC_18hr_1:50_Rep2  Area Trypsin_18hr_1:50_Rep2  Fraction  \\\n",
       "0                            NaN                          NaN         6   \n",
       "1                            NaN                          NaN         4   \n",
       "2                            NaN                          NaN         5   \n",
       "3                            NaN                          NaN         6   \n",
       "4                            NaN                  884260000.0        23   \n",
       "...                          ...                          ...       ...   \n",
       "144286                 7847500.0                          NaN        11   \n",
       "144287                       NaN                          NaN         8   \n",
       "144288                       NaN                          NaN        10   \n",
       "144289                       NaN                          NaN         5   \n",
       "144290                       NaN                          NaN         2   \n",
       "\n",
       "             Scan                                        Source File  \\\n",
       "0       F6:114936  tc_28Oct2020_18hrAspN1in50_HeLa_500ng_290minTC...   \n",
       "1       F4:107863  tc_26Oct2020_1hrAspN1in50_HeLa_500ng_290minTC_...   \n",
       "2       F5:131414  tc_15Nov2020_1hrAspN1in50_HeLa_500ng_290min_Re...   \n",
       "3        F6:80159  tc_28Oct2020_18hrAspN1in50_HeLa_500ng_290minTC...   \n",
       "4       F23:73418  tc_16Nov2020_18hrTryp1in50_HeLa_500ng_290min_R...   \n",
       "...           ...                                                ...   \n",
       "144286  F11:77227  tc_16Nov2020_18hrGluC1in50_HeLa_500ng_290min_R...   \n",
       "144287   F8:37966  tc_27Oct2020_1hrGluC1in50_HeLa_500ng_290minTC_...   \n",
       "144288  F10:73024  tc_27Oct2020_18hrGluC1in50_HeLa_500ng_290minTC...   \n",
       "144289  F5:119307  tc_15Nov2020_1hrAspN1in50_HeLa_500ng_290min_Re...   \n",
       "144290    F2:6292  tc_15Nov2020_1hrTryp1in50_HeLa_500ng_290min_Re...   \n",
       "\n",
       "        #Feature  #Feature Tryp_1hr_1:50_Rep1  #Feature Tryp_1hr_1:50_Rep2  \\\n",
       "0              6                            0                            0   \n",
       "1             15                            0                            0   \n",
       "2              6                            0                            0   \n",
       "3              5                            0                            0   \n",
       "4             57                           17                           17   \n",
       "...          ...                          ...                          ...   \n",
       "144286         1                            0                            0   \n",
       "144287         1                            0                            0   \n",
       "144288         1                            0                            0   \n",
       "144289         1                            0                            0   \n",
       "144290         1                            0                            1   \n",
       "\n",
       "        #Feature Tryp_18hr_1:50_Rep1  #Feature AspN_1hr_1:50_Rep1  \\\n",
       "0                                  0                            3   \n",
       "1                                  0                            3   \n",
       "2                                  0                            2   \n",
       "3                                  0                            3   \n",
       "4                                 13                            0   \n",
       "...                              ...                          ...   \n",
       "144286                             0                            0   \n",
       "144287                             0                            0   \n",
       "144288                             0                            0   \n",
       "144289                             0                            0   \n",
       "144290                             0                            0   \n",
       "\n",
       "        #Feature AspN_1hr_1:50_Rep2  #Feature AspN_18hr_1:50_Rep1  \\\n",
       "0                                 0                             3   \n",
       "1                                 5                             3   \n",
       "2                                 1                             2   \n",
       "3                                 0                             2   \n",
       "4                                 0                             0   \n",
       "...                             ...                           ...   \n",
       "144286                            0                             0   \n",
       "144287                            0                             0   \n",
       "144288                            0                             0   \n",
       "144289                            1                             0   \n",
       "144290                            0                             0   \n",
       "\n",
       "        #Feature AspN_18hr_1:50_Rep2  #Feature GluC_1hr_1:50_Rep1  \\\n",
       "0                                  0                            0   \n",
       "1                                  4                            0   \n",
       "2                                  1                            0   \n",
       "3                                  0                            0   \n",
       "4                                  0                            0   \n",
       "...                              ...                          ...   \n",
       "144286                             0                            0   \n",
       "144287                             0                            1   \n",
       "144288                             0                            0   \n",
       "144289                             0                            0   \n",
       "144290                             0                            0   \n",
       "\n",
       "        #Feature GluC_1hr_1:50_Rep2  #Feature GluC_18hr_1:50_Rep1  \\\n",
       "0                                 0                             0   \n",
       "1                                 0                             0   \n",
       "2                                 0                             0   \n",
       "3                                 0                             0   \n",
       "4                                 0                             0   \n",
       "...                             ...                           ...   \n",
       "144286                            0                             0   \n",
       "144287                            0                             0   \n",
       "144288                            0                             1   \n",
       "144289                            0                             0   \n",
       "144290                            0                             0   \n",
       "\n",
       "        #Feature GluC_18hr_1:50_Rep2  #Feature Trypsin_18hr_1:50_Rep2  Start  \\\n",
       "0                                  0                                0    572   \n",
       "1                                  0                                0    572   \n",
       "2                                  0                                0      2   \n",
       "3                                  0                                0    613   \n",
       "4                                  0                               10    149   \n",
       "...                              ...                              ...    ...   \n",
       "144286                             1                                0   1359   \n",
       "144287                             0                                0    146   \n",
       "144288                             0                                0   1458   \n",
       "144289                             0                                0      1   \n",
       "144290                             0                                0    115   \n",
       "\n",
       "         End                                     PTM  \\\n",
       "0        612  Carbamidomethylation; Deamidation (NQ)   \n",
       "1        612                    Carbamidomethylation   \n",
       "2         48                                     NaN   \n",
       "3        644                        Deamidation (NQ)   \n",
       "4        168                                     NaN   \n",
       "...      ...                                     ...   \n",
       "144286  1367                                     NaN   \n",
       "144287   157                                     NaN   \n",
       "144288  1469                                     NaN   \n",
       "144289    40     Carbamidomethylation; Oxidation (M)   \n",
       "144290   136                                     NaN   \n",
       "\n",
       "                                                   AScore  Found By Protein  \\\n",
       "0       C18:Carbamidomethylation:1000.00;C19:Carbamido...  PEAKS DB  P08238   \n",
       "1       C18:Carbamidomethylation:1000.00;C19:Carbamido...  PEAKS DB  P08238   \n",
       "2                                                     NaN  PEAKS DB  P08238   \n",
       "3                             Q28:Deamidation (NQ):115.60  PEAKS DB  P08238   \n",
       "4                                                     NaN  PEAKS DB  P08238   \n",
       "...                                                   ...       ...     ...   \n",
       "144286                                                NaN  PEAKS DB  Q9P2D7   \n",
       "144287                                                NaN  PEAKS DB  Q9ULH7   \n",
       "144288                                                NaN  PEAKS DB  Q9UPS6   \n",
       "144289  C6:Carbamidomethylation:1000.00;C16:Carbamidom...  PEAKS DB  Q8TEW0   \n",
       "144290                                                NaN  PEAKS DB  P55011   \n",
       "\n",
       "               Gene  \n",
       "0       HS90B_HUMAN  \n",
       "1       HS90B_HUMAN  \n",
       "2       HS90B_HUMAN  \n",
       "3       HS90B_HUMAN  \n",
       "4       HS90B_HUMAN  \n",
       "...             ...  \n",
       "144286   DYH1_HUMAN  \n",
       "144287  MRTFB_HUMAN  \n",
       "144288  SET1B_HUMAN  \n",
       "144289  PARD3_HUMAN  \n",
       "144290  S12A2_HUMAN  \n",
       "\n",
       "[144291 rows x 48 columns]"
      ]
     },
     "execution_count": 3,
     "metadata": {},
     "output_type": "execute_result"
    }
   ],
   "source": [
    "og_pep = pd.read_csv(\"protein-peptides_1in50only.csv\")\n",
    "og_pep[['Protein', 'Gene']] = og_pep['Protein Accession'].str.split('|', 1, expand=True)\n",
    "og_pep"
   ]
  },
  {
   "cell_type": "markdown",
   "metadata": {},
   "source": [
    "## Hydrophibicity Calculator (Sum, Sum Normalized to Peptide Length, "
   ]
  },
  {
   "cell_type": "code",
   "execution_count": 4,
   "metadata": {},
   "outputs": [],
   "source": [
    "#### Code for isoelectric point was adopted and modified from Kozlowski LP (2016) IPC - Isoelectric Point Calculator. Biology Direct 11:55. doi: http://dx.doi.org/10.1186/s13062-016-0159-9)"
   ]
  },
  {
   "cell_type": "code",
   "execution_count": 5,
   "metadata": {},
   "outputs": [],
   "source": [
    "# to ad new pKa sets just add new dictionary       \n",
    "scales = {\n",
    "\"EMBOSS\":     {'Cterm': 3.6, 'pKAsp': 3.9,  'pKGlu': 4.1, 'pKCys': 8.5, 'pKTyr': 10.1, 'pk_his': 6.5, 'Nterm': 8.6, 'pKLys': 10.8, 'pKArg': 12.5},\n",
    "\"DTASelect\":  {'Cterm': 3.1, 'pKAsp': 4.4,  'pKGlu': 4.4, 'pKCys': 8.5, 'pKTyr': 10.0, 'pk_his': 6.5, 'Nterm': 8.0, 'pKLys': 10.0, 'pKArg': 12.0},\n",
    "\"Solomon\":    {'Cterm': 2.4, 'pKAsp': 3.9,  'pKGlu': 4.3, 'pKCys': 8.3, 'pKTyr': 10.1, 'pk_his': 6.0, 'Nterm': 9.6, 'pKLys': 10.5, 'pKArg': 12.5}, \n",
    "\"Sillero\":    {'Cterm': 3.2, 'pKAsp': 4.0,  'pKGlu': 4.5, 'pKCys': 9.0, 'pKTyr': 10.0, 'pk_his': 6.4, 'Nterm': 8.2, 'pKLys': 10.4, 'pKArg': 12.0},\n",
    "\"Rodwell\":    {'Cterm': 3.1, 'pKAsp': 3.68, 'pKGlu': 4.25,'pKCys': 8.33,'pKTyr': 10.07,'pk_his': 6.0, 'Nterm': 8.0, 'pKLys': 11.5, 'pKArg': 11.5},\n",
    "\"Patrickios\": {'Cterm': 4.2, 'pKAsp': 4.2,  'pKGlu': 4.2, 'pKCys': 0.0, 'pKTyr':  0.0, 'pk_his': 0.0, 'Nterm': 11.2,'pKLys': 11.2, 'pKArg': 11.2},\n",
    "\"Wikipedia\":  {'Cterm': 3.65,'pKAsp': 3.9,  'pKGlu': 4.07,'pKCys': 8.18,'pKTyr': 10.46,'pk_his': 6.04,'Nterm': 8.2, 'pKLys': 10.54,'pKArg': 12.48},\n",
    "\"Grimsley\":   {'Cterm': 3.3, 'pKAsp': 3.5,  'pKGlu': 4.2, 'pKCys': 6.8, 'pKTyr': 10.3, 'pk_his': 6.6, 'Nterm': 7.7, 'pKLys': 10.5, 'pKArg': 12.04},\n",
    "'Lehninger':  {'Cterm': 2.34,'pKAsp': 3.86, 'pKGlu': 4.25,'pKCys': 8.33,'pKTyr': 10.0, 'pk_his': 6.0, 'Nterm': 9.69,'pKLys': 10.5, 'pKArg': 12.4},\n",
    "'Bjellqvist': {'Cterm': 3.55,'pKAsp': 4.05, 'pKGlu': 4.45,'pKCys': 9.0, 'pKTyr': 10.0, 'pk_his': 5.98,'Nterm': 7.5, 'pKLys': 10.0, 'pKArg': 12.0},   \n",
    "'IPC_peptide':{'Cterm': 2.383, 'pKAsp': 3.887, 'pKGlu': 4.317, 'pKCys': 8.297, 'pKTyr': 10.071, 'pk_his': 6.018, 'Nterm': 9.564, 'pKLys': 10.517, 'pKArg': 12.503},    \n",
    "'IPC_protein':{'Cterm': 2.869, 'pKAsp': 3.872, 'pKGlu': 4.412, 'pKCys': 7.555, 'pKTyr': 10.85,  'pk_his': 5.637, 'Nterm': 9.094, 'pKLys': 9.052,  'pKArg': 11.84},     \n",
    "'Toseland':   {'Cterm': 3.19,'pKAsp': 3.6,  'pKGlu': 4.29,'pKCys': 6.87,'pKTyr': 9.61, 'pk_his': 6.33,'Nterm': 8.71, 'pKLys': 10.45, 'pKArg':  12},\n",
    "'Thurlkill':  {'Cterm': 3.67,'pKAsp': 3.67, 'pKGlu': 4.25,'pKCys': 8.55,'pKTyr': 9.84, 'pk_his': 6.54,'Nterm': 8.0, 'pKLys': 10.4, 'pKArg': 12.0},\n",
    "'Nozaki':     {'Cterm': 3.8, 'pKAsp': 4.0,  'pKGlu': 4.4, 'pKCys': 9.5, 'pKTyr': 9.6,  'pk_his': 6.3, 'Nterm': 7.5, 'pKLys': 10.4, 'pKArg': 12},   \n",
    "'Dawson':     {'Cterm': 3.2, 'pKAsp': 3.9,  'pKGlu': 4.3, 'pKCys': 8.3, 'pKTyr': 10.1, 'pk_his': 6.0, 'Nterm': 8.2, 'pKLys': 10.5, 'pKArg':  12},   \n",
    "          }\n",
    "\n",
    "aaDict = {'Asp':'D', 'Glu':'E', 'Cys':'C', 'Tyr':'Y', 'His':'H', \n",
    "          'Lys':'K', 'Arg':'R', 'Met':'M', 'Phe':'F', 'Leu':'L', \n",
    "          'Val':'V', 'Ala':'A', 'Gly':'G', 'Gln':'Q', 'Asn':'N',\n",
    "          'Ile':'I', 'Trp':'W', 'Ser':'S', 'Thr':'T', 'Sec':'U',\n",
    "          'Pro':'P', 'Xaa':'X', 'Sec':'U', 'Pyl':'O', 'Asx':'B',\n",
    "          'Xle':'J', }\n",
    "\n",
    "acidic = ['D', 'E', 'C', 'Y']\n",
    "basic = ['K', 'R', 'H']\n",
    "\n",
    "pKcterminal = {'D': 4.55, 'E': 4.75} \n",
    "pKnterminal = {'A': 7.59, 'M': 7.0, 'S': 6.93, 'P': 8.36, 'T': 6.82, 'V': 7.44, 'E': 7.7} \n"
   ]
  },
  {
   "cell_type": "markdown",
   "metadata": {},
   "source": [
    "#### Scale Selection"
   ]
  },
  {
   "cell_type": "code",
   "execution_count": 6,
   "metadata": {},
   "outputs": [],
   "source": [
    "scale='IPC_peptide'\n",
    "def isoelectric_point(seq, scale=scale):\n",
    "    pKCterm = scales[scale]['Cterm']\n",
    "    pKAsp = scales[scale]['pKAsp']\n",
    "    pKGlu = scales[scale]['pKGlu']\n",
    "    pKCys = scales[scale]['pKCys']\n",
    "    pKTyr = scales[scale]['pKTyr']\n",
    "    pKHis = scales[scale]['pk_his']\n",
    "    pKNterm = scales[scale]['Nterm']\n",
    "    pKLys = scales[scale]['pKLys'] \n",
    "    pKArg = scales[scale]['pKArg']\n",
    "    pH = 6.51             #starting po pI = 6.5 - theoretically it should be 7, but average protein pI is 6.5 so we increase the probability of finding the solution\n",
    "    pHprev = 0.0         \n",
    "    pHnext = 14.0        \n",
    "    E = 0.01             #epsilon means precision [pI = pH +- E]\n",
    "    temp = 0.01\n",
    "    nterm=seq[0]\n",
    "    if scale=='Bjellqvist':\n",
    "        if nterm in pKnterminal.keys():\n",
    "            pKNterm = pKnterminal[nterm]\n",
    "    \n",
    "    cterm=seq[-1]\n",
    "    if scale=='Bjellqvist':\n",
    "        if cterm in pKcterminal.keys():\n",
    "            pKCterm = pKcterminal[cterm] \n",
    "            \n",
    "    while 1:             #the infinite loop\n",
    "        QN1=-1.0/(1.0+pow(10,(pKCterm-pH)))                                        \n",
    "        QN2=-seq.count('D')/(1.0+pow(10,(pKAsp-pH)))           \n",
    "        QN3=-seq.count('E')/(1.0+pow(10,(pKGlu-pH)))           \n",
    "        QN4=-seq.count('C')/(1.0+pow(10,(pKCys-pH)))           \n",
    "        QN5=-seq.count('Y')/(1.0+pow(10,(pKTyr-pH)))        \n",
    "        QP1=seq.count('H')/(1.0+pow(10,(pH-pKHis)))            \n",
    "        QP2=1.0/(1.0+pow(10,(pH-pKNterm)))                \n",
    "        QP3=seq.count('K')/(1.0+pow(10,(pH-pKLys)))           \n",
    "        QP4=seq.count('R')/(1.0+pow(10,(pH-pKArg)))            \n",
    "        NQ=QN1+QN2+QN3+QN4+QN5+QP1+QP2+QP3+QP4\n",
    "        #print NQ\n",
    "        #%%%%%%%%%%%%%%%%%%%%%%%%%   BISECTION   %%%%%%%%%%%%%%%%%%%%%%%%\n",
    "        if NQ<0.0:              #we are out of range, thus the new pH value must be smaller                     \n",
    "            temp = pH\n",
    "            pH = pH-((pH-pHprev)/2.0)\n",
    "            pHnext = temp\n",
    "            #print \"pH: \", pH, \", \\tpHnext: \",pHnext\n",
    "        else:\n",
    "            temp = pH\n",
    "            pH = pH + ((pHnext-pH)/2.0)\n",
    "            pHprev = temp\n",
    "            #print \"pH: \", pH, \",\\tpHprev: \", pHprev\n",
    "\n",
    "        if (pH-pHprev<E) and (pHnext-pH<E): #terminal condition, finding pI with given precision\n",
    "            return pH"
   ]
  },
  {
   "cell_type": "code",
   "execution_count": 7,
   "metadata": {
    "scrolled": true
   },
   "outputs": [],
   "source": [
    "# og_pep['IPC'] = og_pep['Peptide'].apply(isoelectric_point)\n",
    "# og_pep"
   ]
  },
  {
   "cell_type": "markdown",
   "metadata": {},
   "source": [
    "#### Hydrophobicity_score = Hydro_Sum"
   ]
  },
  {
   "cell_type": "code",
   "execution_count": 8,
   "metadata": {
    "scrolled": true
   },
   "outputs": [
    {
     "data": {
      "text/html": [
       "<div>\n",
       "<style scoped>\n",
       "    .dataframe tbody tr th:only-of-type {\n",
       "        vertical-align: middle;\n",
       "    }\n",
       "\n",
       "    .dataframe tbody tr th {\n",
       "        vertical-align: top;\n",
       "    }\n",
       "\n",
       "    .dataframe thead th {\n",
       "        text-align: right;\n",
       "    }\n",
       "</style>\n",
       "<table border=\"1\" class=\"dataframe\">\n",
       "  <thead>\n",
       "    <tr style=\"text-align: right;\">\n",
       "      <th></th>\n",
       "      <th>Protein Group</th>\n",
       "      <th>Protein ID</th>\n",
       "      <th>Protein Accession</th>\n",
       "      <th>Peptide</th>\n",
       "      <th>Unique</th>\n",
       "      <th>Score (%)</th>\n",
       "      <th>-10lgP</th>\n",
       "      <th>Mass</th>\n",
       "      <th>Length</th>\n",
       "      <th>ppm</th>\n",
       "      <th>m/z</th>\n",
       "      <th>z</th>\n",
       "      <th>RT</th>\n",
       "      <th>Area Tryp_1hr_1:50_Rep1</th>\n",
       "      <th>Area Tryp_1hr_1:50_Rep2</th>\n",
       "      <th>Area Tryp_18hr_1:50_Rep1</th>\n",
       "      <th>Area AspN_1hr_1:50_Rep1</th>\n",
       "      <th>Area AspN_1hr_1:50_Rep2</th>\n",
       "      <th>Area AspN_18hr_1:50_Rep1</th>\n",
       "      <th>Area AspN_18hr_1:50_Rep2</th>\n",
       "      <th>Area GluC_1hr_1:50_Rep1</th>\n",
       "      <th>Area GluC_1hr_1:50_Rep2</th>\n",
       "      <th>Area GluC_18hr_1:50_Rep1</th>\n",
       "      <th>Area GluC_18hr_1:50_Rep2</th>\n",
       "      <th>Area Trypsin_18hr_1:50_Rep2</th>\n",
       "      <th>Fraction</th>\n",
       "      <th>Scan</th>\n",
       "      <th>Source File</th>\n",
       "      <th>#Feature</th>\n",
       "      <th>#Feature Tryp_1hr_1:50_Rep1</th>\n",
       "      <th>#Feature Tryp_1hr_1:50_Rep2</th>\n",
       "      <th>#Feature Tryp_18hr_1:50_Rep1</th>\n",
       "      <th>#Feature AspN_1hr_1:50_Rep1</th>\n",
       "      <th>#Feature AspN_1hr_1:50_Rep2</th>\n",
       "      <th>#Feature AspN_18hr_1:50_Rep1</th>\n",
       "      <th>#Feature AspN_18hr_1:50_Rep2</th>\n",
       "      <th>#Feature GluC_1hr_1:50_Rep1</th>\n",
       "      <th>#Feature GluC_1hr_1:50_Rep2</th>\n",
       "      <th>#Feature GluC_18hr_1:50_Rep1</th>\n",
       "      <th>#Feature GluC_18hr_1:50_Rep2</th>\n",
       "      <th>#Feature Trypsin_18hr_1:50_Rep2</th>\n",
       "      <th>Start</th>\n",
       "      <th>End</th>\n",
       "      <th>PTM</th>\n",
       "      <th>AScore</th>\n",
       "      <th>Found By</th>\n",
       "      <th>Protein</th>\n",
       "      <th>Gene</th>\n",
       "    </tr>\n",
       "  </thead>\n",
       "  <tbody>\n",
       "    <tr>\n",
       "      <th>0</th>\n",
       "      <td>1</td>\n",
       "      <td>42</td>\n",
       "      <td>P08238|HS90B_HUMAN</td>\n",
       "      <td>L.DKKVEKVTISNRLVSSPC(+57.02)C(+57.02)IVTSTYGWT...</td>\n",
       "      <td>Y</td>\n",
       "      <td>100.0</td>\n",
       "      <td>125.61</td>\n",
       "      <td>4741.4175</td>\n",
       "      <td>41</td>\n",
       "      <td>1.4</td>\n",
       "      <td>949.2921</td>\n",
       "      <td>5</td>\n",
       "      <td>215.58</td>\n",
       "      <td>NaN</td>\n",
       "      <td>NaN</td>\n",
       "      <td>NaN</td>\n",
       "      <td>26069000.0</td>\n",
       "      <td>NaN</td>\n",
       "      <td>83391000.0</td>\n",
       "      <td>NaN</td>\n",
       "      <td>NaN</td>\n",
       "      <td>NaN</td>\n",
       "      <td>NaN</td>\n",
       "      <td>NaN</td>\n",
       "      <td>NaN</td>\n",
       "      <td>6</td>\n",
       "      <td>F6:114936</td>\n",
       "      <td>tc_28Oct2020_18hrAspN1in50_HeLa_500ng_290minTC...</td>\n",
       "      <td>6</td>\n",
       "      <td>0</td>\n",
       "      <td>0</td>\n",
       "      <td>0</td>\n",
       "      <td>3</td>\n",
       "      <td>0</td>\n",
       "      <td>3</td>\n",
       "      <td>0</td>\n",
       "      <td>0</td>\n",
       "      <td>0</td>\n",
       "      <td>0</td>\n",
       "      <td>0</td>\n",
       "      <td>0</td>\n",
       "      <td>572</td>\n",
       "      <td>612</td>\n",
       "      <td>Carbamidomethylation; Deamidation (NQ)</td>\n",
       "      <td>C18:Carbamidomethylation:1000.00;C19:Carbamido...</td>\n",
       "      <td>PEAKS DB</td>\n",
       "      <td>P08238</td>\n",
       "      <td>HS90B_HUMAN</td>\n",
       "    </tr>\n",
       "    <tr>\n",
       "      <th>1</th>\n",
       "      <td>1</td>\n",
       "      <td>42</td>\n",
       "      <td>P08238|HS90B_HUMAN</td>\n",
       "      <td>L.DKKVEKVTISNRLVSSPC(+57.02)C(+57.02)IVTSTYGWT...</td>\n",
       "      <td>Y</td>\n",
       "      <td>100.0</td>\n",
       "      <td>121.69</td>\n",
       "      <td>4740.4336</td>\n",
       "      <td>41</td>\n",
       "      <td>-1.3</td>\n",
       "      <td>791.0785</td>\n",
       "      <td>6</td>\n",
       "      <td>213.93</td>\n",
       "      <td>NaN</td>\n",
       "      <td>NaN</td>\n",
       "      <td>NaN</td>\n",
       "      <td>339740000.0</td>\n",
       "      <td>563730000.0</td>\n",
       "      <td>303560000.0</td>\n",
       "      <td>183390000.0</td>\n",
       "      <td>NaN</td>\n",
       "      <td>NaN</td>\n",
       "      <td>NaN</td>\n",
       "      <td>NaN</td>\n",
       "      <td>NaN</td>\n",
       "      <td>4</td>\n",
       "      <td>F4:107863</td>\n",
       "      <td>tc_26Oct2020_1hrAspN1in50_HeLa_500ng_290minTC_...</td>\n",
       "      <td>15</td>\n",
       "      <td>0</td>\n",
       "      <td>0</td>\n",
       "      <td>0</td>\n",
       "      <td>3</td>\n",
       "      <td>5</td>\n",
       "      <td>3</td>\n",
       "      <td>4</td>\n",
       "      <td>0</td>\n",
       "      <td>0</td>\n",
       "      <td>0</td>\n",
       "      <td>0</td>\n",
       "      <td>0</td>\n",
       "      <td>572</td>\n",
       "      <td>612</td>\n",
       "      <td>Carbamidomethylation</td>\n",
       "      <td>C18:Carbamidomethylation:1000.00;C19:Carbamido...</td>\n",
       "      <td>PEAKS DB</td>\n",
       "      <td>P08238</td>\n",
       "      <td>HS90B_HUMAN</td>\n",
       "    </tr>\n",
       "    <tr>\n",
       "      <th>2</th>\n",
       "      <td>1</td>\n",
       "      <td>42</td>\n",
       "      <td>P08238|HS90B_HUMAN</td>\n",
       "      <td>M.PEEVHHGEEEVETFAFQAEIAQLMSLIINTFYSNKEIFLRELIS...</td>\n",
       "      <td>Y</td>\n",
       "      <td>100.0</td>\n",
       "      <td>116.27</td>\n",
       "      <td>5422.6704</td>\n",
       "      <td>47</td>\n",
       "      <td>-0.5</td>\n",
       "      <td>1085.5408</td>\n",
       "      <td>5</td>\n",
       "      <td>250.64</td>\n",
       "      <td>NaN</td>\n",
       "      <td>NaN</td>\n",
       "      <td>NaN</td>\n",
       "      <td>3723800.0</td>\n",
       "      <td>849160.0</td>\n",
       "      <td>3638700.0</td>\n",
       "      <td>1030200.0</td>\n",
       "      <td>NaN</td>\n",
       "      <td>NaN</td>\n",
       "      <td>NaN</td>\n",
       "      <td>NaN</td>\n",
       "      <td>NaN</td>\n",
       "      <td>5</td>\n",
       "      <td>F5:131414</td>\n",
       "      <td>tc_15Nov2020_1hrAspN1in50_HeLa_500ng_290min_Re...</td>\n",
       "      <td>6</td>\n",
       "      <td>0</td>\n",
       "      <td>0</td>\n",
       "      <td>0</td>\n",
       "      <td>2</td>\n",
       "      <td>1</td>\n",
       "      <td>2</td>\n",
       "      <td>1</td>\n",
       "      <td>0</td>\n",
       "      <td>0</td>\n",
       "      <td>0</td>\n",
       "      <td>0</td>\n",
       "      <td>0</td>\n",
       "      <td>2</td>\n",
       "      <td>48</td>\n",
       "      <td>NaN</td>\n",
       "      <td>NaN</td>\n",
       "      <td>PEAKS DB</td>\n",
       "      <td>P08238</td>\n",
       "      <td>HS90B_HUMAN</td>\n",
       "    </tr>\n",
       "    <tr>\n",
       "      <th>3</th>\n",
       "      <td>1</td>\n",
       "      <td>42</td>\n",
       "      <td>P08238|HS90B_HUMAN</td>\n",
       "      <td>R.DNSTMGYMMAKKHLEINPDHPIVETLRQ(+.98)KAEA.D</td>\n",
       "      <td>Y</td>\n",
       "      <td>100.0</td>\n",
       "      <td>112.41</td>\n",
       "      <td>3667.7795</td>\n",
       "      <td>32</td>\n",
       "      <td>-0.1</td>\n",
       "      <td>917.9521</td>\n",
       "      <td>4</td>\n",
       "      <td>149.94</td>\n",
       "      <td>NaN</td>\n",
       "      <td>NaN</td>\n",
       "      <td>NaN</td>\n",
       "      <td>196410000.0</td>\n",
       "      <td>NaN</td>\n",
       "      <td>297640000.0</td>\n",
       "      <td>NaN</td>\n",
       "      <td>NaN</td>\n",
       "      <td>NaN</td>\n",
       "      <td>NaN</td>\n",
       "      <td>NaN</td>\n",
       "      <td>NaN</td>\n",
       "      <td>6</td>\n",
       "      <td>F6:80159</td>\n",
       "      <td>tc_28Oct2020_18hrAspN1in50_HeLa_500ng_290minTC...</td>\n",
       "      <td>5</td>\n",
       "      <td>0</td>\n",
       "      <td>0</td>\n",
       "      <td>0</td>\n",
       "      <td>3</td>\n",
       "      <td>0</td>\n",
       "      <td>2</td>\n",
       "      <td>0</td>\n",
       "      <td>0</td>\n",
       "      <td>0</td>\n",
       "      <td>0</td>\n",
       "      <td>0</td>\n",
       "      <td>0</td>\n",
       "      <td>613</td>\n",
       "      <td>644</td>\n",
       "      <td>Deamidation (NQ)</td>\n",
       "      <td>Q28:Deamidation (NQ):115.60</td>\n",
       "      <td>PEAKS DB</td>\n",
       "      <td>P08238</td>\n",
       "      <td>HS90B_HUMAN</td>\n",
       "    </tr>\n",
       "    <tr>\n",
       "      <th>4</th>\n",
       "      <td>1</td>\n",
       "      <td>42</td>\n",
       "      <td>P08238|HS90B_HUMAN</td>\n",
       "      <td>K.HNDDEQYAWESSAGGSFTVR.A</td>\n",
       "      <td>N</td>\n",
       "      <td>100.0</td>\n",
       "      <td>111.18</td>\n",
       "      <td>2254.9514</td>\n",
       "      <td>20</td>\n",
       "      <td>0.4</td>\n",
       "      <td>1128.4834</td>\n",
       "      <td>2</td>\n",
       "      <td>136.17</td>\n",
       "      <td>1.180000e+09</td>\n",
       "      <td>1.176400e+09</td>\n",
       "      <td>2.468800e+09</td>\n",
       "      <td>NaN</td>\n",
       "      <td>NaN</td>\n",
       "      <td>NaN</td>\n",
       "      <td>NaN</td>\n",
       "      <td>NaN</td>\n",
       "      <td>NaN</td>\n",
       "      <td>NaN</td>\n",
       "      <td>NaN</td>\n",
       "      <td>884260000.0</td>\n",
       "      <td>23</td>\n",
       "      <td>F23:73418</td>\n",
       "      <td>tc_16Nov2020_18hrTryp1in50_HeLa_500ng_290min_R...</td>\n",
       "      <td>57</td>\n",
       "      <td>17</td>\n",
       "      <td>17</td>\n",
       "      <td>13</td>\n",
       "      <td>0</td>\n",
       "      <td>0</td>\n",
       "      <td>0</td>\n",
       "      <td>0</td>\n",
       "      <td>0</td>\n",
       "      <td>0</td>\n",
       "      <td>0</td>\n",
       "      <td>0</td>\n",
       "      <td>10</td>\n",
       "      <td>149</td>\n",
       "      <td>168</td>\n",
       "      <td>NaN</td>\n",
       "      <td>NaN</td>\n",
       "      <td>PEAKS DB</td>\n",
       "      <td>P08238</td>\n",
       "      <td>HS90B_HUMAN</td>\n",
       "    </tr>\n",
       "    <tr>\n",
       "      <th>...</th>\n",
       "      <td>...</td>\n",
       "      <td>...</td>\n",
       "      <td>...</td>\n",
       "      <td>...</td>\n",
       "      <td>...</td>\n",
       "      <td>...</td>\n",
       "      <td>...</td>\n",
       "      <td>...</td>\n",
       "      <td>...</td>\n",
       "      <td>...</td>\n",
       "      <td>...</td>\n",
       "      <td>...</td>\n",
       "      <td>...</td>\n",
       "      <td>...</td>\n",
       "      <td>...</td>\n",
       "      <td>...</td>\n",
       "      <td>...</td>\n",
       "      <td>...</td>\n",
       "      <td>...</td>\n",
       "      <td>...</td>\n",
       "      <td>...</td>\n",
       "      <td>...</td>\n",
       "      <td>...</td>\n",
       "      <td>...</td>\n",
       "      <td>...</td>\n",
       "      <td>...</td>\n",
       "      <td>...</td>\n",
       "      <td>...</td>\n",
       "      <td>...</td>\n",
       "      <td>...</td>\n",
       "      <td>...</td>\n",
       "      <td>...</td>\n",
       "      <td>...</td>\n",
       "      <td>...</td>\n",
       "      <td>...</td>\n",
       "      <td>...</td>\n",
       "      <td>...</td>\n",
       "      <td>...</td>\n",
       "      <td>...</td>\n",
       "      <td>...</td>\n",
       "      <td>...</td>\n",
       "      <td>...</td>\n",
       "      <td>...</td>\n",
       "      <td>...</td>\n",
       "      <td>...</td>\n",
       "      <td>...</td>\n",
       "      <td>...</td>\n",
       "      <td>...</td>\n",
       "    </tr>\n",
       "    <tr>\n",
       "      <th>144286</th>\n",
       "      <td>5255</td>\n",
       "      <td>5322</td>\n",
       "      <td>Q9P2D7|DYH1_HUMAN</td>\n",
       "      <td>E.NIARLLFQE.D</td>\n",
       "      <td>Y</td>\n",
       "      <td>96.3</td>\n",
       "      <td>27.39</td>\n",
       "      <td>1102.6134</td>\n",
       "      <td>9</td>\n",
       "      <td>-11.5</td>\n",
       "      <td>552.3076</td>\n",
       "      <td>2</td>\n",
       "      <td>152.64</td>\n",
       "      <td>NaN</td>\n",
       "      <td>NaN</td>\n",
       "      <td>NaN</td>\n",
       "      <td>NaN</td>\n",
       "      <td>NaN</td>\n",
       "      <td>NaN</td>\n",
       "      <td>NaN</td>\n",
       "      <td>NaN</td>\n",
       "      <td>NaN</td>\n",
       "      <td>NaN</td>\n",
       "      <td>7847500.0</td>\n",
       "      <td>NaN</td>\n",
       "      <td>11</td>\n",
       "      <td>F11:77227</td>\n",
       "      <td>tc_16Nov2020_18hrGluC1in50_HeLa_500ng_290min_R...</td>\n",
       "      <td>1</td>\n",
       "      <td>0</td>\n",
       "      <td>0</td>\n",
       "      <td>0</td>\n",
       "      <td>0</td>\n",
       "      <td>0</td>\n",
       "      <td>0</td>\n",
       "      <td>0</td>\n",
       "      <td>0</td>\n",
       "      <td>0</td>\n",
       "      <td>0</td>\n",
       "      <td>1</td>\n",
       "      <td>0</td>\n",
       "      <td>1359</td>\n",
       "      <td>1367</td>\n",
       "      <td>NaN</td>\n",
       "      <td>NaN</td>\n",
       "      <td>PEAKS DB</td>\n",
       "      <td>Q9P2D7</td>\n",
       "      <td>DYH1_HUMAN</td>\n",
       "    </tr>\n",
       "    <tr>\n",
       "      <th>144287</th>\n",
       "      <td>5786</td>\n",
       "      <td>5276</td>\n",
       "      <td>Q9ULH7|MRTFB_HUMAN</td>\n",
       "      <td>E.KNILPVDSSVKE.A</td>\n",
       "      <td>Y</td>\n",
       "      <td>95.2</td>\n",
       "      <td>27.38</td>\n",
       "      <td>1327.7347</td>\n",
       "      <td>12</td>\n",
       "      <td>-0.6</td>\n",
       "      <td>443.5852</td>\n",
       "      <td>3</td>\n",
       "      <td>80.41</td>\n",
       "      <td>NaN</td>\n",
       "      <td>NaN</td>\n",
       "      <td>NaN</td>\n",
       "      <td>NaN</td>\n",
       "      <td>NaN</td>\n",
       "      <td>NaN</td>\n",
       "      <td>NaN</td>\n",
       "      <td>2076900.0</td>\n",
       "      <td>NaN</td>\n",
       "      <td>NaN</td>\n",
       "      <td>NaN</td>\n",
       "      <td>NaN</td>\n",
       "      <td>8</td>\n",
       "      <td>F8:37966</td>\n",
       "      <td>tc_27Oct2020_1hrGluC1in50_HeLa_500ng_290minTC_...</td>\n",
       "      <td>1</td>\n",
       "      <td>0</td>\n",
       "      <td>0</td>\n",
       "      <td>0</td>\n",
       "      <td>0</td>\n",
       "      <td>0</td>\n",
       "      <td>0</td>\n",
       "      <td>0</td>\n",
       "      <td>1</td>\n",
       "      <td>0</td>\n",
       "      <td>0</td>\n",
       "      <td>0</td>\n",
       "      <td>0</td>\n",
       "      <td>146</td>\n",
       "      <td>157</td>\n",
       "      <td>NaN</td>\n",
       "      <td>NaN</td>\n",
       "      <td>PEAKS DB</td>\n",
       "      <td>Q9ULH7</td>\n",
       "      <td>MRTFB_HUMAN</td>\n",
       "    </tr>\n",
       "    <tr>\n",
       "      <th>144288</th>\n",
       "      <td>5635</td>\n",
       "      <td>6094</td>\n",
       "      <td>Q9UPS6|SET1B_HUMAN</td>\n",
       "      <td>E.RSGPLASPVLLE.T</td>\n",
       "      <td>Y</td>\n",
       "      <td>94.9</td>\n",
       "      <td>27.36</td>\n",
       "      <td>1237.7030</td>\n",
       "      <td>12</td>\n",
       "      <td>0.7</td>\n",
       "      <td>619.8592</td>\n",
       "      <td>2</td>\n",
       "      <td>136.56</td>\n",
       "      <td>NaN</td>\n",
       "      <td>NaN</td>\n",
       "      <td>NaN</td>\n",
       "      <td>NaN</td>\n",
       "      <td>NaN</td>\n",
       "      <td>NaN</td>\n",
       "      <td>NaN</td>\n",
       "      <td>NaN</td>\n",
       "      <td>NaN</td>\n",
       "      <td>1734800.0</td>\n",
       "      <td>NaN</td>\n",
       "      <td>NaN</td>\n",
       "      <td>10</td>\n",
       "      <td>F10:73024</td>\n",
       "      <td>tc_27Oct2020_18hrGluC1in50_HeLa_500ng_290minTC...</td>\n",
       "      <td>1</td>\n",
       "      <td>0</td>\n",
       "      <td>0</td>\n",
       "      <td>0</td>\n",
       "      <td>0</td>\n",
       "      <td>0</td>\n",
       "      <td>0</td>\n",
       "      <td>0</td>\n",
       "      <td>0</td>\n",
       "      <td>0</td>\n",
       "      <td>1</td>\n",
       "      <td>0</td>\n",
       "      <td>0</td>\n",
       "      <td>1458</td>\n",
       "      <td>1469</td>\n",
       "      <td>NaN</td>\n",
       "      <td>NaN</td>\n",
       "      <td>PEAKS DB</td>\n",
       "      <td>Q9UPS6</td>\n",
       "      <td>SET1B_HUMAN</td>\n",
       "    </tr>\n",
       "    <tr>\n",
       "      <th>144289</th>\n",
       "      <td>5488</td>\n",
       "      <td>6047</td>\n",
       "      <td>Q8TEW0|PARD3_HUMAN</td>\n",
       "      <td>MKVTVC(+57.02)FGRTRVVVPC(+57.02)GDGHM(+15.99)K...</td>\n",
       "      <td>Y</td>\n",
       "      <td>93.4</td>\n",
       "      <td>27.36</td>\n",
       "      <td>4622.4697</td>\n",
       "      <td>40</td>\n",
       "      <td>17.7</td>\n",
       "      <td>771.4325</td>\n",
       "      <td>6</td>\n",
       "      <td>226.56</td>\n",
       "      <td>NaN</td>\n",
       "      <td>NaN</td>\n",
       "      <td>NaN</td>\n",
       "      <td>NaN</td>\n",
       "      <td>5612400.0</td>\n",
       "      <td>NaN</td>\n",
       "      <td>NaN</td>\n",
       "      <td>NaN</td>\n",
       "      <td>NaN</td>\n",
       "      <td>NaN</td>\n",
       "      <td>NaN</td>\n",
       "      <td>NaN</td>\n",
       "      <td>5</td>\n",
       "      <td>F5:119307</td>\n",
       "      <td>tc_15Nov2020_1hrAspN1in50_HeLa_500ng_290min_Re...</td>\n",
       "      <td>1</td>\n",
       "      <td>0</td>\n",
       "      <td>0</td>\n",
       "      <td>0</td>\n",
       "      <td>0</td>\n",
       "      <td>1</td>\n",
       "      <td>0</td>\n",
       "      <td>0</td>\n",
       "      <td>0</td>\n",
       "      <td>0</td>\n",
       "      <td>0</td>\n",
       "      <td>0</td>\n",
       "      <td>0</td>\n",
       "      <td>1</td>\n",
       "      <td>40</td>\n",
       "      <td>Carbamidomethylation; Oxidation (M)</td>\n",
       "      <td>C6:Carbamidomethylation:1000.00;C16:Carbamidom...</td>\n",
       "      <td>PEAKS DB</td>\n",
       "      <td>Q8TEW0</td>\n",
       "      <td>PARD3_HUMAN</td>\n",
       "    </tr>\n",
       "    <tr>\n",
       "      <th>144290</th>\n",
       "      <td>5915</td>\n",
       "      <td>6842</td>\n",
       "      <td>P55011|S12A2_HUMAN</td>\n",
       "      <td>K.QTPADGEASGESEPAKGSEEAK.G</td>\n",
       "      <td>Y</td>\n",
       "      <td>96.9</td>\n",
       "      <td>27.35</td>\n",
       "      <td>2173.9609</td>\n",
       "      <td>22</td>\n",
       "      <td>4.7</td>\n",
       "      <td>725.6643</td>\n",
       "      <td>3</td>\n",
       "      <td>22.69</td>\n",
       "      <td>NaN</td>\n",
       "      <td>3.199300e+05</td>\n",
       "      <td>NaN</td>\n",
       "      <td>NaN</td>\n",
       "      <td>NaN</td>\n",
       "      <td>NaN</td>\n",
       "      <td>NaN</td>\n",
       "      <td>NaN</td>\n",
       "      <td>NaN</td>\n",
       "      <td>NaN</td>\n",
       "      <td>NaN</td>\n",
       "      <td>NaN</td>\n",
       "      <td>2</td>\n",
       "      <td>F2:6292</td>\n",
       "      <td>tc_15Nov2020_1hrTryp1in50_HeLa_500ng_290min_Re...</td>\n",
       "      <td>1</td>\n",
       "      <td>0</td>\n",
       "      <td>1</td>\n",
       "      <td>0</td>\n",
       "      <td>0</td>\n",
       "      <td>0</td>\n",
       "      <td>0</td>\n",
       "      <td>0</td>\n",
       "      <td>0</td>\n",
       "      <td>0</td>\n",
       "      <td>0</td>\n",
       "      <td>0</td>\n",
       "      <td>0</td>\n",
       "      <td>115</td>\n",
       "      <td>136</td>\n",
       "      <td>NaN</td>\n",
       "      <td>NaN</td>\n",
       "      <td>PEAKS DB</td>\n",
       "      <td>P55011</td>\n",
       "      <td>S12A2_HUMAN</td>\n",
       "    </tr>\n",
       "  </tbody>\n",
       "</table>\n",
       "<p>144291 rows × 48 columns</p>\n",
       "</div>"
      ],
      "text/plain": [
       "        Protein Group  Protein ID   Protein Accession  \\\n",
       "0                   1          42  P08238|HS90B_HUMAN   \n",
       "1                   1          42  P08238|HS90B_HUMAN   \n",
       "2                   1          42  P08238|HS90B_HUMAN   \n",
       "3                   1          42  P08238|HS90B_HUMAN   \n",
       "4                   1          42  P08238|HS90B_HUMAN   \n",
       "...               ...         ...                 ...   \n",
       "144286           5255        5322   Q9P2D7|DYH1_HUMAN   \n",
       "144287           5786        5276  Q9ULH7|MRTFB_HUMAN   \n",
       "144288           5635        6094  Q9UPS6|SET1B_HUMAN   \n",
       "144289           5488        6047  Q8TEW0|PARD3_HUMAN   \n",
       "144290           5915        6842  P55011|S12A2_HUMAN   \n",
       "\n",
       "                                                  Peptide Unique  Score (%)  \\\n",
       "0       L.DKKVEKVTISNRLVSSPC(+57.02)C(+57.02)IVTSTYGWT...      Y      100.0   \n",
       "1       L.DKKVEKVTISNRLVSSPC(+57.02)C(+57.02)IVTSTYGWT...      Y      100.0   \n",
       "2       M.PEEVHHGEEEVETFAFQAEIAQLMSLIINTFYSNKEIFLRELIS...      Y      100.0   \n",
       "3              R.DNSTMGYMMAKKHLEINPDHPIVETLRQ(+.98)KAEA.D      Y      100.0   \n",
       "4                                K.HNDDEQYAWESSAGGSFTVR.A      N      100.0   \n",
       "...                                                   ...    ...        ...   \n",
       "144286                                      E.NIARLLFQE.D      Y       96.3   \n",
       "144287                                   E.KNILPVDSSVKE.A      Y       95.2   \n",
       "144288                                   E.RSGPLASPVLLE.T      Y       94.9   \n",
       "144289  MKVTVC(+57.02)FGRTRVVVPC(+57.02)GDGHM(+15.99)K...      Y       93.4   \n",
       "144290                         K.QTPADGEASGESEPAKGSEEAK.G      Y       96.9   \n",
       "\n",
       "        -10lgP       Mass  Length   ppm        m/z  z      RT  \\\n",
       "0       125.61  4741.4175      41   1.4   949.2921  5  215.58   \n",
       "1       121.69  4740.4336      41  -1.3   791.0785  6  213.93   \n",
       "2       116.27  5422.6704      47  -0.5  1085.5408  5  250.64   \n",
       "3       112.41  3667.7795      32  -0.1   917.9521  4  149.94   \n",
       "4       111.18  2254.9514      20   0.4  1128.4834  2  136.17   \n",
       "...        ...        ...     ...   ...        ... ..     ...   \n",
       "144286   27.39  1102.6134       9 -11.5   552.3076  2  152.64   \n",
       "144287   27.38  1327.7347      12  -0.6   443.5852  3   80.41   \n",
       "144288   27.36  1237.7030      12   0.7   619.8592  2  136.56   \n",
       "144289   27.36  4622.4697      40  17.7   771.4325  6  226.56   \n",
       "144290   27.35  2173.9609      22   4.7   725.6643  3   22.69   \n",
       "\n",
       "        Area Tryp_1hr_1:50_Rep1  Area Tryp_1hr_1:50_Rep2  \\\n",
       "0                           NaN                      NaN   \n",
       "1                           NaN                      NaN   \n",
       "2                           NaN                      NaN   \n",
       "3                           NaN                      NaN   \n",
       "4                  1.180000e+09             1.176400e+09   \n",
       "...                         ...                      ...   \n",
       "144286                      NaN                      NaN   \n",
       "144287                      NaN                      NaN   \n",
       "144288                      NaN                      NaN   \n",
       "144289                      NaN                      NaN   \n",
       "144290                      NaN             3.199300e+05   \n",
       "\n",
       "        Area Tryp_18hr_1:50_Rep1  Area AspN_1hr_1:50_Rep1  \\\n",
       "0                            NaN               26069000.0   \n",
       "1                            NaN              339740000.0   \n",
       "2                            NaN                3723800.0   \n",
       "3                            NaN              196410000.0   \n",
       "4                   2.468800e+09                      NaN   \n",
       "...                          ...                      ...   \n",
       "144286                       NaN                      NaN   \n",
       "144287                       NaN                      NaN   \n",
       "144288                       NaN                      NaN   \n",
       "144289                       NaN                      NaN   \n",
       "144290                       NaN                      NaN   \n",
       "\n",
       "        Area AspN_1hr_1:50_Rep2  Area AspN_18hr_1:50_Rep1  \\\n",
       "0                           NaN                83391000.0   \n",
       "1                   563730000.0               303560000.0   \n",
       "2                      849160.0                 3638700.0   \n",
       "3                           NaN               297640000.0   \n",
       "4                           NaN                       NaN   \n",
       "...                         ...                       ...   \n",
       "144286                      NaN                       NaN   \n",
       "144287                      NaN                       NaN   \n",
       "144288                      NaN                       NaN   \n",
       "144289                5612400.0                       NaN   \n",
       "144290                      NaN                       NaN   \n",
       "\n",
       "        Area AspN_18hr_1:50_Rep2  Area GluC_1hr_1:50_Rep1  \\\n",
       "0                            NaN                      NaN   \n",
       "1                    183390000.0                      NaN   \n",
       "2                      1030200.0                      NaN   \n",
       "3                            NaN                      NaN   \n",
       "4                            NaN                      NaN   \n",
       "...                          ...                      ...   \n",
       "144286                       NaN                      NaN   \n",
       "144287                       NaN                2076900.0   \n",
       "144288                       NaN                      NaN   \n",
       "144289                       NaN                      NaN   \n",
       "144290                       NaN                      NaN   \n",
       "\n",
       "        Area GluC_1hr_1:50_Rep2  Area GluC_18hr_1:50_Rep1  \\\n",
       "0                           NaN                       NaN   \n",
       "1                           NaN                       NaN   \n",
       "2                           NaN                       NaN   \n",
       "3                           NaN                       NaN   \n",
       "4                           NaN                       NaN   \n",
       "...                         ...                       ...   \n",
       "144286                      NaN                       NaN   \n",
       "144287                      NaN                       NaN   \n",
       "144288                      NaN                 1734800.0   \n",
       "144289                      NaN                       NaN   \n",
       "144290                      NaN                       NaN   \n",
       "\n",
       "        Area GluC_18hr_1:50_Rep2  Area Trypsin_18hr_1:50_Rep2  Fraction  \\\n",
       "0                            NaN                          NaN         6   \n",
       "1                            NaN                          NaN         4   \n",
       "2                            NaN                          NaN         5   \n",
       "3                            NaN                          NaN         6   \n",
       "4                            NaN                  884260000.0        23   \n",
       "...                          ...                          ...       ...   \n",
       "144286                 7847500.0                          NaN        11   \n",
       "144287                       NaN                          NaN         8   \n",
       "144288                       NaN                          NaN        10   \n",
       "144289                       NaN                          NaN         5   \n",
       "144290                       NaN                          NaN         2   \n",
       "\n",
       "             Scan                                        Source File  \\\n",
       "0       F6:114936  tc_28Oct2020_18hrAspN1in50_HeLa_500ng_290minTC...   \n",
       "1       F4:107863  tc_26Oct2020_1hrAspN1in50_HeLa_500ng_290minTC_...   \n",
       "2       F5:131414  tc_15Nov2020_1hrAspN1in50_HeLa_500ng_290min_Re...   \n",
       "3        F6:80159  tc_28Oct2020_18hrAspN1in50_HeLa_500ng_290minTC...   \n",
       "4       F23:73418  tc_16Nov2020_18hrTryp1in50_HeLa_500ng_290min_R...   \n",
       "...           ...                                                ...   \n",
       "144286  F11:77227  tc_16Nov2020_18hrGluC1in50_HeLa_500ng_290min_R...   \n",
       "144287   F8:37966  tc_27Oct2020_1hrGluC1in50_HeLa_500ng_290minTC_...   \n",
       "144288  F10:73024  tc_27Oct2020_18hrGluC1in50_HeLa_500ng_290minTC...   \n",
       "144289  F5:119307  tc_15Nov2020_1hrAspN1in50_HeLa_500ng_290min_Re...   \n",
       "144290    F2:6292  tc_15Nov2020_1hrTryp1in50_HeLa_500ng_290min_Re...   \n",
       "\n",
       "        #Feature  #Feature Tryp_1hr_1:50_Rep1  #Feature Tryp_1hr_1:50_Rep2  \\\n",
       "0              6                            0                            0   \n",
       "1             15                            0                            0   \n",
       "2              6                            0                            0   \n",
       "3              5                            0                            0   \n",
       "4             57                           17                           17   \n",
       "...          ...                          ...                          ...   \n",
       "144286         1                            0                            0   \n",
       "144287         1                            0                            0   \n",
       "144288         1                            0                            0   \n",
       "144289         1                            0                            0   \n",
       "144290         1                            0                            1   \n",
       "\n",
       "        #Feature Tryp_18hr_1:50_Rep1  #Feature AspN_1hr_1:50_Rep1  \\\n",
       "0                                  0                            3   \n",
       "1                                  0                            3   \n",
       "2                                  0                            2   \n",
       "3                                  0                            3   \n",
       "4                                 13                            0   \n",
       "...                              ...                          ...   \n",
       "144286                             0                            0   \n",
       "144287                             0                            0   \n",
       "144288                             0                            0   \n",
       "144289                             0                            0   \n",
       "144290                             0                            0   \n",
       "\n",
       "        #Feature AspN_1hr_1:50_Rep2  #Feature AspN_18hr_1:50_Rep1  \\\n",
       "0                                 0                             3   \n",
       "1                                 5                             3   \n",
       "2                                 1                             2   \n",
       "3                                 0                             2   \n",
       "4                                 0                             0   \n",
       "...                             ...                           ...   \n",
       "144286                            0                             0   \n",
       "144287                            0                             0   \n",
       "144288                            0                             0   \n",
       "144289                            1                             0   \n",
       "144290                            0                             0   \n",
       "\n",
       "        #Feature AspN_18hr_1:50_Rep2  #Feature GluC_1hr_1:50_Rep1  \\\n",
       "0                                  0                            0   \n",
       "1                                  4                            0   \n",
       "2                                  1                            0   \n",
       "3                                  0                            0   \n",
       "4                                  0                            0   \n",
       "...                              ...                          ...   \n",
       "144286                             0                            0   \n",
       "144287                             0                            1   \n",
       "144288                             0                            0   \n",
       "144289                             0                            0   \n",
       "144290                             0                            0   \n",
       "\n",
       "        #Feature GluC_1hr_1:50_Rep2  #Feature GluC_18hr_1:50_Rep1  \\\n",
       "0                                 0                             0   \n",
       "1                                 0                             0   \n",
       "2                                 0                             0   \n",
       "3                                 0                             0   \n",
       "4                                 0                             0   \n",
       "...                             ...                           ...   \n",
       "144286                            0                             0   \n",
       "144287                            0                             0   \n",
       "144288                            0                             1   \n",
       "144289                            0                             0   \n",
       "144290                            0                             0   \n",
       "\n",
       "        #Feature GluC_18hr_1:50_Rep2  #Feature Trypsin_18hr_1:50_Rep2  Start  \\\n",
       "0                                  0                                0    572   \n",
       "1                                  0                                0    572   \n",
       "2                                  0                                0      2   \n",
       "3                                  0                                0    613   \n",
       "4                                  0                               10    149   \n",
       "...                              ...                              ...    ...   \n",
       "144286                             1                                0   1359   \n",
       "144287                             0                                0    146   \n",
       "144288                             0                                0   1458   \n",
       "144289                             0                                0      1   \n",
       "144290                             0                                0    115   \n",
       "\n",
       "         End                                     PTM  \\\n",
       "0        612  Carbamidomethylation; Deamidation (NQ)   \n",
       "1        612                    Carbamidomethylation   \n",
       "2         48                                     NaN   \n",
       "3        644                        Deamidation (NQ)   \n",
       "4        168                                     NaN   \n",
       "...      ...                                     ...   \n",
       "144286  1367                                     NaN   \n",
       "144287   157                                     NaN   \n",
       "144288  1469                                     NaN   \n",
       "144289    40     Carbamidomethylation; Oxidation (M)   \n",
       "144290   136                                     NaN   \n",
       "\n",
       "                                                   AScore  Found By Protein  \\\n",
       "0       C18:Carbamidomethylation:1000.00;C19:Carbamido...  PEAKS DB  P08238   \n",
       "1       C18:Carbamidomethylation:1000.00;C19:Carbamido...  PEAKS DB  P08238   \n",
       "2                                                     NaN  PEAKS DB  P08238   \n",
       "3                             Q28:Deamidation (NQ):115.60  PEAKS DB  P08238   \n",
       "4                                                     NaN  PEAKS DB  P08238   \n",
       "...                                                   ...       ...     ...   \n",
       "144286                                                NaN  PEAKS DB  Q9P2D7   \n",
       "144287                                                NaN  PEAKS DB  Q9ULH7   \n",
       "144288                                                NaN  PEAKS DB  Q9UPS6   \n",
       "144289  C6:Carbamidomethylation:1000.00;C16:Carbamidom...  PEAKS DB  Q8TEW0   \n",
       "144290                                                NaN  PEAKS DB  P55011   \n",
       "\n",
       "               Gene  \n",
       "0       HS90B_HUMAN  \n",
       "1       HS90B_HUMAN  \n",
       "2       HS90B_HUMAN  \n",
       "3       HS90B_HUMAN  \n",
       "4       HS90B_HUMAN  \n",
       "...             ...  \n",
       "144286   DYH1_HUMAN  \n",
       "144287  MRTFB_HUMAN  \n",
       "144288  SET1B_HUMAN  \n",
       "144289  PARD3_HUMAN  \n",
       "144290  S12A2_HUMAN  \n",
       "\n",
       "[144291 rows x 48 columns]"
      ]
     },
     "execution_count": 8,
     "metadata": {},
     "output_type": "execute_result"
    }
   ],
   "source": [
    "def hydrophobicity_score(peptide):\n",
    "    hydro = { 'A':  0.31, 'R': -1.01, 'N': -0.60,'D': -0.77, 'C':  1.54, 'Q': -0.22,'E': -0.64, 'G':  0.00, 'H':  0.13,\n",
    "             'I':  1.80, 'L':  1.70, 'K': -0.99,'M':  1.23, 'F':  1.79, 'P':  0.72,\n",
    "             'S': -0.04, 'T':  0.26, 'W':  2.25,'Y':  0.96, 'V':  1.22,\n",
    "    }\n",
    "    hydro_score = [hydro.get(aa,0.0)for aa in peptide]\n",
    "    return sum(hydro_score)\n",
    "\n",
    "# og_pep['Hydro_Sum'] = og_pep['Peptide'].apply(hydrophobicity_score)\n",
    "og_pep"
   ]
  },
  {
   "cell_type": "code",
   "execution_count": 9,
   "metadata": {
    "scrolled": true
   },
   "outputs": [],
   "source": [
    "# og_pep['Hydro_Sum_Norm']=og_pep['Hydro_Sum'] / og_pep['Length']\n",
    "# og_pep"
   ]
  },
  {
   "cell_type": "markdown",
   "metadata": {},
   "source": [
    "#### Neutral Charge Calculator"
   ]
  },
  {
   "cell_type": "code",
   "execution_count": 10,
   "metadata": {},
   "outputs": [],
   "source": [
    "aa_z = {'E': -1, 'D': -1, 'K': 1, 'R': 1} \n",
    "#Charge of Amino Acids to Determine Overall Charge of Peptide\n",
    "def overall_charge(sequence, z_dict=aa_z):\n",
    "#Calculates the charge of the peptide sequence at neutral pH ~7.4\n",
    "    peptide_charge = [z_dict.get(aa, 0.0) for aa in sequence]\n",
    "    return sum(peptide_charge)\n",
    "# og_pep['Neutral_Z'] = og_pep['Peptide'].apply(overall_charge)\n",
    "# og_pep"
   ]
  },
  {
   "cell_type": "code",
   "execution_count": 11,
   "metadata": {},
   "outputs": [],
   "source": [
    "og_mz=og_pep[['Protein ID','Protein', 'Peptide','Gene','Mass','RT','Score (%)','m/z','z','Length']]\n"
   ]
  },
  {
   "cell_type": "markdown",
   "metadata": {},
   "source": [
    "## Correlation of Peptide Variables - Whole Data Set"
   ]
  },
  {
   "cell_type": "code",
   "execution_count": 12,
   "metadata": {},
   "outputs": [],
   "source": [
    "# og_corr=og_pep[['Mass','RT','Score (%)','m/z','z','Length','IPC','Neutral_Z', 'Hydro_Sum','Hydro_Sum_Norm']]"
   ]
  },
  {
   "cell_type": "code",
   "execution_count": 13,
   "metadata": {},
   "outputs": [],
   "source": [
    "# plt.figure(figsize=(16, 6))\n",
    "# # define the mask to set the values in the upper triangle to True\n",
    "# mask = np.triu(np.ones_like(og_corr.corr(), dtype=np.bool))\n",
    "# heatmap = sns.heatmap(og_corr.corr(), mask=mask, vmin=-1, vmax=1, annot=True, cmap='PRGn')\n",
    "# heatmap.set_title('Correlation Heatmap of Peptide Characteristics', fontdict={'fontsize':18}, pad=16);\n",
    "# plt.savefig('Correlation_Heatmap',format=fmt,dpi=dpi,bbox_inches=\"tight\")"
   ]
  },
  {
   "cell_type": "code",
   "execution_count": 14,
   "metadata": {},
   "outputs": [],
   "source": [
    "def Excel_Mapper(list_dfs, xls_path):\n",
    "    with ExcelWriter(xls_path) as writer:\n",
    "        for n, df in enumerate(list_dfs):\n",
    "            df.to_excel(writer,'sheet%s' % n)\n",
    "        writer.save()"
   ]
  },
  {
   "cell_type": "markdown",
   "metadata": {},
   "source": [
    "## <b>Trypsin Peptide Analyses</b>"
   ]
  },
  {
   "cell_type": "code",
   "execution_count": 15,
   "metadata": {},
   "outputs": [],
   "source": [
    "def Butcher(df,ident1=None,ident2=None,ident3=None,t_id1=None,t_id2=None,t_id3=None,t_value=0,acid=list(),\n",
    "            acid_target=None,labels=list(),excel_mapper=True,excel_name=None):\n",
    "    raw=df.loc[:,df.columns.str.contains(ident1)]\n",
    "    tag=df[labels]\n",
    "    raw = pd.concat([raw, tag], axis=1)\n",
    "    raw[acid_target]= raw[acid_target].apply(lambda x : re.sub(r\"[\\d]*[\\W]*\",\"\", x))\n",
    "    cut=raw.loc[:,raw.columns.str.contains(ident2)]\n",
    "    cuts = pd.concat([cut, tag], axis=1)\n",
    "    if t_id1 is None:\n",
    "        print(\"Select One Column for Filtering\")\n",
    "    elif t_id3 is None:\n",
    "        try:\n",
    "            cuts=cuts.loc[(cuts[t_id1]>t_value)|(cuts[t_id2]>t_value)]\n",
    "        except:\n",
    "            cuts=cuts.loc[(cuts[t_id1]>t_value)]\n",
    "    else:\n",
    "        cuts=cuts.loc[(cuts[t_id1]>t_value)|(cuts[t_id2]>t_value)|(cuts[t_id3]>t_value)]\n",
    "    cuts[acid_target]= cuts[acid_target].apply(lambda x : re.sub(r\"[\\d]*[\\W]*\",\"\", x))\n",
    "    cuts.reset_index(inplace=True)\n",
    "    excels=[raw,cuts]\n",
    "    Excel_Mapper(excels,excel_name +\".xlsx\")\n",
    "    return raw, cuts"
   ]
  },
  {
   "cell_type": "code",
   "execution_count": 16,
   "metadata": {},
   "outputs": [],
   "source": [
    "peanut=['Protein ID','Protein', 'Peptide','Gene','Mass','RT','Score (%)','m/z','z','Length']\n",
    "raw, cuts=Butcher(og_pep,ident1=\"AspN\",ident2=\"1hr\",t_id1=\"Area AspN_1hr_1:50_Rep1\"\n",
    "                  ,acid_target=\"Peptide\",labels=peanut,excel_name=\"AspN1hr\")"
   ]
  },
  {
   "cell_type": "code",
   "execution_count": 17,
   "metadata": {
    "scrolled": true
   },
   "outputs": [],
   "source": [
    "excels=[raw,cuts]"
   ]
  },
  {
   "cell_type": "code",
   "execution_count": 18,
   "metadata": {},
   "outputs": [],
   "source": [
    "Excel_Mapper(excels,\"test.xlsx\")"
   ]
  },
  {
   "cell_type": "code",
   "execution_count": 20,
   "metadata": {},
   "outputs": [
    {
     "ename": "KeyError",
     "evalue": "'Worksheet 1 does not exist.'",
     "output_type": "error",
     "traceback": [
      "\u001b[1;31m---------------------------------------------------------------------------\u001b[0m",
      "\u001b[1;31mKeyError\u001b[0m                                  Traceback (most recent call last)",
      "\u001b[1;32m<ipython-input-20-51e62f5cf8fa>\u001b[0m in \u001b[0;36m<module>\u001b[1;34m\u001b[0m\n\u001b[0;32m      2\u001b[0m \u001b[0mss\u001b[0m\u001b[1;33m=\u001b[0m\u001b[0mopenpyxl\u001b[0m\u001b[1;33m.\u001b[0m\u001b[0mload_workbook\u001b[0m\u001b[1;33m(\u001b[0m\u001b[1;34m\"test.xlsx\"\u001b[0m\u001b[1;33m)\u001b[0m\u001b[1;33m\u001b[0m\u001b[1;33m\u001b[0m\u001b[0m\n\u001b[0;32m      3\u001b[0m \u001b[1;31m#printing the sheet names\u001b[0m\u001b[1;33m\u001b[0m\u001b[1;33m\u001b[0m\u001b[1;33m\u001b[0m\u001b[0m\n\u001b[1;32m----> 4\u001b[1;33m \u001b[0mss_sheet\u001b[0m \u001b[1;33m=\u001b[0m \u001b[0mss\u001b[0m\u001b[1;33m[\u001b[0m\u001b[1;36m1\u001b[0m\u001b[1;33m]\u001b[0m\u001b[1;33m\u001b[0m\u001b[1;33m\u001b[0m\u001b[0m\n\u001b[0m\u001b[0;32m      5\u001b[0m \u001b[0mss_sheet\u001b[0m\u001b[1;33m.\u001b[0m\u001b[0mtitle\u001b[0m \u001b[1;33m=\u001b[0m \u001b[1;34m'Hell Ya'\u001b[0m\u001b[1;33m\u001b[0m\u001b[1;33m\u001b[0m\u001b[0m\n\u001b[0;32m      6\u001b[0m \u001b[0mss\u001b[0m\u001b[1;33m.\u001b[0m\u001b[0msave\u001b[0m\u001b[1;33m(\u001b[0m\u001b[1;34m\"test2.xlsx\"\u001b[0m\u001b[1;33m)\u001b[0m\u001b[1;33m\u001b[0m\u001b[1;33m\u001b[0m\u001b[0m\n",
      "\u001b[1;32m~\\Anaconda3\\envs\\SciFly\\lib\\site-packages\\openpyxl\\workbook\\workbook.py\u001b[0m in \u001b[0;36m__getitem__\u001b[1;34m(self, key)\u001b[0m\n\u001b[0;32m    271\u001b[0m             \u001b[1;32mif\u001b[0m \u001b[0msheet\u001b[0m\u001b[1;33m.\u001b[0m\u001b[0mtitle\u001b[0m \u001b[1;33m==\u001b[0m \u001b[0mkey\u001b[0m\u001b[1;33m:\u001b[0m\u001b[1;33m\u001b[0m\u001b[1;33m\u001b[0m\u001b[0m\n\u001b[0;32m    272\u001b[0m                 \u001b[1;32mreturn\u001b[0m \u001b[0msheet\u001b[0m\u001b[1;33m\u001b[0m\u001b[1;33m\u001b[0m\u001b[0m\n\u001b[1;32m--> 273\u001b[1;33m         \u001b[1;32mraise\u001b[0m \u001b[0mKeyError\u001b[0m\u001b[1;33m(\u001b[0m\u001b[1;34m\"Worksheet {0} does not exist.\"\u001b[0m\u001b[1;33m.\u001b[0m\u001b[0mformat\u001b[0m\u001b[1;33m(\u001b[0m\u001b[0mkey\u001b[0m\u001b[1;33m)\u001b[0m\u001b[1;33m)\u001b[0m\u001b[1;33m\u001b[0m\u001b[1;33m\u001b[0m\u001b[0m\n\u001b[0m\u001b[0;32m    274\u001b[0m \u001b[1;33m\u001b[0m\u001b[0m\n\u001b[0;32m    275\u001b[0m     \u001b[1;32mdef\u001b[0m \u001b[0m__delitem__\u001b[0m\u001b[1;33m(\u001b[0m\u001b[0mself\u001b[0m\u001b[1;33m,\u001b[0m \u001b[0mkey\u001b[0m\u001b[1;33m)\u001b[0m\u001b[1;33m:\u001b[0m\u001b[1;33m\u001b[0m\u001b[1;33m\u001b[0m\u001b[0m\n",
      "\u001b[1;31mKeyError\u001b[0m: 'Worksheet 1 does not exist.'"
     ]
    }
   ],
   "source": [
    "\n"
   ]
  },
  {
   "cell_type": "code",
   "execution_count": 21,
   "metadata": {},
   "outputs": [],
   "source": []
  },
  {
   "cell_type": "markdown",
   "metadata": {},
   "source": [
    "### Trypsin 1hr DataFrame Cleaning"
   ]
  },
  {
   "cell_type": "code",
   "execution_count": null,
   "metadata": {},
   "outputs": [],
   "source": [
    "x=\"Tryp\"\n",
    "y=\"1hr\"\n",
    "area1=\"Area Tryp_1hr_1:50_Rep1\"\n",
    "area2=\"Area Tryp_1hr_1:50_Rep2\"\n",
    "area3=None\n",
    "acid=[\"L\",\"K\"]\n",
    "acid_target=\"Peptide\"\n",
    "excel_name=\"Tryp1hr_50\"\n",
    "Tryp, Tryp1_50=Butcher(og_pep,ident1=x,ident2=y,t_id1=area1,t_id2=area2,t_id3=area3,\n",
    "                  acid=acid,acid_target=acid_target,labels=peanut,excel_name=excel_name)\n",
    "\n",
    "Tryp1_50['IPC'] = Tryp1_50['Peptide'].apply(isoelectric_point)\n",
    "Tryp1_50['Hydro_Sum'] = Tryp1_50['Peptide'].apply(hydrophobicity_score)\n",
    "Tryp1_50['Hydro_Sum_Norm']=Tryp1_50['Hydro_Sum'] / Tryp1_50['Length']\n",
    "Tryp1_50['Neutral_Z'] = Tryp1_50['Peptide'].apply(overall_charge)\n",
    "\n",
    "#Split Replicates\n",
    "Tryp1_50_Rep1=Tryp1_50.loc[(Tryp1_50['Area Tryp_1hr_1:50_Rep1'] > 0)]\n",
    "Tryp1_50_Rep2=Tryp1_50.loc[(Tryp1_50['Area Tryp_1hr_1:50_Rep2'] > 0)]\n",
    "\n",
    "#Copy Dataframe for Cross-Protein Analysis\n",
    "\n",
    "T1_50_pep=Tryp1_50.copy()\n",
    "#Tryp.to_excel('Trypsin_peptide_1hr_50.xlsx')"
   ]
  },
  {
   "cell_type": "code",
   "execution_count": null,
   "metadata": {},
   "outputs": [],
   "source": [
    "Tryp1_50"
   ]
  },
  {
   "cell_type": "code",
   "execution_count": null,
   "metadata": {},
   "outputs": [],
   "source": []
  },
  {
   "cell_type": "markdown",
   "metadata": {},
   "source": [
    "### Trypsin 18hr DataFrame Cleaning"
   ]
  },
  {
   "cell_type": "code",
   "execution_count": null,
   "metadata": {},
   "outputs": [],
   "source": [
    "###Trypsin_18hr_50\n",
    "\n",
    "y='18hr'\n",
    "x=y\n",
    "Tryp18_50=Tryp.loc[:, Tryp.columns.str.contains(x)]\n",
    "Tryp18_50 = pd.concat([og_mz, Tryp18_50], axis=1)\n",
    "Tryp18_50=Tryp18_50.loc[(Tryp18_50['Area Tryp_18hr_1:50_Rep1'] > 0) | (Tryp18_50['Area Trypsin_18hr_1:50_Rep2'] > 0)]\n",
    "\n",
    "#Clean Peptides - 1hr Trypsin \n",
    "\n",
    "L=[\"K\",\"R\"]\n",
    "Tryp18_50[\"Peptide\"]= Tryp18_50[\"Peptide\"].apply(lambda x : x[1:] if x.startswith(tuple(L)) else x)\n",
    "Tryp1_50[\"Peptide\"] =Tryp1_50[\"Peptide\"].str.replace('\\W+','')\n",
    "Tryp1_50[\"Peptide\"] = Tryp1_50[\"Peptide\"].str.replace('\\d+', '')\n",
    "Tryp18_50['IPC'] = Tryp18_50['Peptide'].apply(isoelectric_point)\n",
    "Tryp18_50['Hydro_Sum'] = Tryp18_50['Peptide'].apply(hydrophobicity_score)\n",
    "Tryp18_50['Hydro_Sum_Norm']=Tryp18_50['Hydro_Sum'] / Tryp18_50['Length']\n",
    "Tryp18_50['Neutral_Z'] = Tryp18_50['Peptide'].apply(overall_charge)\n",
    "#Split Replicates\n",
    "Tryp18_50_Rep1=Tryp18_50.loc[(Tryp18_50['Area Tryp_18hr_1:50_Rep1'] > 0)]\n",
    "Tryp18_50_Rep2=Tryp18_50.loc[(Tryp18_50['Area Trypsin_18hr_1:50_Rep2'] > 0)]\n",
    "\n",
    "#Copy Dataframe for Cross-Protein Analysis\n",
    "T18_50_pep=Tryp18_50.copy()\n",
    "\n",
    "\n",
    "#Tryp.to_excel('Trypsin_peptide_18hr_50.xlsx')"
   ]
  },
  {
   "cell_type": "code",
   "execution_count": null,
   "metadata": {},
   "outputs": [],
   "source": [
    "Tryp1_50_Rep1.describe()"
   ]
  },
  {
   "cell_type": "code",
   "execution_count": null,
   "metadata": {
    "scrolled": true
   },
   "outputs": [],
   "source": [
    "Tryp1_50_Rep2.describe()"
   ]
  },
  {
   "cell_type": "code",
   "execution_count": null,
   "metadata": {},
   "outputs": [],
   "source": [
    "x=Tryp1_50['Gene'].value_counts()\n",
    "x2=pd.DataFrame(x, columns=['Gene'])\n",
    "x3 = x2.loc[(x2['Gene']) > 1]\n",
    "x3\n",
    "x4=len(x3)/len(x2)*100 \n",
    "print('Ratio of Proteins with >2 Peptide Identified is: %.3f' % x4)"
   ]
  },
  {
   "cell_type": "code",
   "execution_count": null,
   "metadata": {},
   "outputs": [],
   "source": [
    "T_1_50_charge = Tryp1_50['z']\n",
    "T_1_50_length = Tryp1_50['Length']\n",
    "T_1_50_mass = Tryp1_50['Mass']\n",
    "T_1_50_hydro =Tryp1_50['IPC']"
   ]
  },
  {
   "cell_type": "code",
   "execution_count": null,
   "metadata": {},
   "outputs": [],
   "source": [
    "Tryp18_50_Rep1.describe()"
   ]
  },
  {
   "cell_type": "code",
   "execution_count": null,
   "metadata": {
    "scrolled": false
   },
   "outputs": [],
   "source": [
    "Tryp18_50_Rep2"
   ]
  },
  {
   "cell_type": "code",
   "execution_count": null,
   "metadata": {
    "scrolled": true
   },
   "outputs": [],
   "source": [
    "x=Tryp18_50['Gene'].value_counts()\n",
    "x2=pd.DataFrame(x, columns=['Gene'])\n",
    "x3 = x2.loc[(x2['Gene']) > 1]\n",
    "x3\n",
    "x4=len(x3)/len(x2)*100 \n",
    "print('Ratio of Proteins with >2 Peptide Identified is: %.3f' % x4)"
   ]
  },
  {
   "cell_type": "code",
   "execution_count": null,
   "metadata": {},
   "outputs": [],
   "source": [
    "T_18_50_charge = Tryp18_50['z']\n",
    "T_18_50_length = Tryp18_50['Length']\n",
    "T_18_50_mass = Tryp18_50['Mass']\n",
    "T_18_50_hydro =Tryp18_50['IPC']"
   ]
  },
  {
   "cell_type": "markdown",
   "metadata": {},
   "source": [
    "### ICE LOGO for Trypsin"
   ]
  },
  {
   "cell_type": "code",
   "execution_count": null,
   "metadata": {
    "scrolled": false
   },
   "outputs": [],
   "source": [
    "Tryp1_50_pep = Tryp1_50['Peptide']\n",
    "Tryp1_50_pep =Tryp1_50_pep.str.replace('\\W+','')\n",
    "Tryp1_50_pep = Tryp1_50_pep.str.replace('\\d+', '')\n",
    "Tryp1_50_pep = Tryp1_50_pep.str.slice(0,5)\n",
    "Tryp1_50_pep.to_excel('Trypsin_IceLogo_1hr_50.xlsx')\n",
    "Tryp1_50_pep"
   ]
  },
  {
   "cell_type": "code",
   "execution_count": null,
   "metadata": {},
   "outputs": [],
   "source": [
    "Tryp18_50_pep = Tryp18_50['Peptide']\n",
    "Tryp18_50_pep =Tryp18_50_pep.str.replace('\\W+','')\n",
    "Tryp18_50_pep = Tryp18_50_pep.str.replace('\\d+', '')\n",
    "# max_length = Tryp1_50_pep.map(len).max()\n",
    "# Tryp1_50_pep = Tryp1_50_pep.apply(lambda x: x + 'x'*(max_length - len(x)))\n",
    "Tryp18_50_pep = Tryp18_50_pep.str.slice(0,5)\n",
    "Tryp18_50_pep.to_excel('Trypsin_IceLogo_18hr_50.xlsx')\n",
    "Tryp18_50_pep"
   ]
  },
  {
   "cell_type": "code",
   "execution_count": null,
   "metadata": {
    "scrolled": true
   },
   "outputs": [],
   "source": [
    "Tryp1_50.describe()"
   ]
  },
  {
   "cell_type": "code",
   "execution_count": null,
   "metadata": {},
   "outputs": [],
   "source": [
    "Tryp18_50.describe()"
   ]
  },
  {
   "cell_type": "code",
   "execution_count": null,
   "metadata": {
    "scrolled": true
   },
   "outputs": [],
   "source": [
    "common=len(list(set(Tryp18_50.Peptide) & set(Tryp1_50.Peptide)))\n",
    "common"
   ]
  },
  {
   "cell_type": "code",
   "execution_count": null,
   "metadata": {
    "scrolled": true
   },
   "outputs": [],
   "source": [
    "unique=len(list(set(Tryp18_50.Peptide) ^ set(Tryp1_50.Peptide)))\n",
    "unique"
   ]
  },
  {
   "cell_type": "code",
   "execution_count": null,
   "metadata": {
    "scrolled": true
   },
   "outputs": [],
   "source": [
    "Ratio=(unique/(common+unique))*100\n",
    "Ratio"
   ]
  },
  {
   "cell_type": "markdown",
   "metadata": {},
   "source": [
    "### Figures for 1hr Trypsin Peptides"
   ]
  },
  {
   "cell_type": "markdown",
   "metadata": {},
   "source": [
    "#### Correlation Matrix"
   ]
  },
  {
   "cell_type": "code",
   "execution_count": null,
   "metadata": {},
   "outputs": [],
   "source": [
    "og_corr=T1_50_pep[['Mass','RT','Score (%)','m/z','z','Length','IPC','Neutral_Z', 'Hydro_Sum','Hydro_Sum_Norm']]"
   ]
  },
  {
   "cell_type": "code",
   "execution_count": null,
   "metadata": {},
   "outputs": [],
   "source": [
    "plt.figure(figsize=(16, 6))\n",
    "# define the mask to set the values in the upper triangle to True\n",
    "mask = np.triu(np.ones_like(og_corr.corr(), dtype=np.bool))\n",
    "heatmap = sns.heatmap(og_corr.corr(), mask=mask, vmin=-1, vmax=1, annot=True, cmap='Blues')\n",
    "heatmap.set_title('Correlation Heatmap of Peptide Characteristics', fontdict={'fontsize':18}, pad=16);\n",
    "plt.savefig('Correlation_T1',format=fmt,dpi=dpi,bbox_inches=\"tight\")"
   ]
  },
  {
   "cell_type": "code",
   "execution_count": null,
   "metadata": {},
   "outputs": [],
   "source": []
  },
  {
   "cell_type": "code",
   "execution_count": null,
   "metadata": {
    "scrolled": true
   },
   "outputs": [],
   "source": [
    "#Length, M/Z, Charge\n",
    "fig = plt.figure(figsize=(8,8), dpi=300)\n",
    "ax = fig.gca(projection='3d')\n",
    "X=T1_50_pep['Length']\n",
    "Y=T1_50_pep['RT']\n",
    "Z=T1_50_pep['z']\n",
    "ax.scatter(X, Y, Z,color='blue',s=12,alpha=0.3, edgecolor='k')\n",
    "ax.view_init(20, 50)\n",
    "ax.set_xlabel('Peptide Length')\n",
    "ax.set_ylabel('Retention Time (mins)')\n",
    "ax.set_zlabel('Peptide Charge (+)')\n",
    "ax.xaxis._axinfo[\"grid\"].update({\"linewidth\":1, \"color\" : \"grey\"})\n",
    "ax.yaxis._axinfo[\"grid\"].update({\"linewidth\":1, \"color\" : \"grey\"})\n",
    "ax.zaxis._axinfo[\"grid\"]['color'] = \"k\"\n",
    "ax.zaxis._axinfo[\"grid\"]['linestyle'] = \"--\"\n",
    "#ax.set_ylim3d(0, 300)\n",
    "#ax.set_xlim3d(0,6000)\n",
    "#ax.set_zlim3d(0,250)\n",
    "#plt.savefig('Tryp1_50_3d_Length_RT_z',format=fmt,dpi=dpi,bbox_inches=\"tight\")"
   ]
  },
  {
   "cell_type": "code",
   "execution_count": null,
   "metadata": {},
   "outputs": [],
   "source": [
    "fig = plt.figure(figsize=(8,8))\n",
    "plt.scatter(Y,X,color='blue',s=24, alpha=0.3)\n",
    "plt.xlabel('Retention Time (mins)')\n",
    "plt.ylabel('Peptide Length')\n",
    "#plt.savefig('TrypN1_50_scatter_RT_Length',format=fmt,dpi=dpi,bbox_inches=\"tight\")"
   ]
  },
  {
   "cell_type": "code",
   "execution_count": null,
   "metadata": {},
   "outputs": [],
   "source": [
    "from scipy.stats import pearsonr\n",
    "corr, _ = pearsonr(X, Z)\n",
    "print('Pearsons correlation: %.3f' % corr)"
   ]
  },
  {
   "cell_type": "code",
   "execution_count": null,
   "metadata": {},
   "outputs": [],
   "source": [
    "plt.scatter(X,Z,color='blue',s=24, alpha=0.3)\n",
    "plt.xlabel('Peptide Length')\n",
    "plt.ylabel('m/z')\n",
    "#plt.savefig('AspN1_50_sctatter_charge_RT',format=fmt,dpi=dpi,bbox_inches=\"tight\")"
   ]
  },
  {
   "cell_type": "code",
   "execution_count": null,
   "metadata": {},
   "outputs": [],
   "source": [
    "from scipy.stats import pearsonr\n",
    "corr, _ = pearsonr(X, Y)\n",
    "print('Pearsons correlation: %.3f' % corr)"
   ]
  },
  {
   "cell_type": "code",
   "execution_count": null,
   "metadata": {
    "scrolled": true
   },
   "outputs": [],
   "source": [
    "plt.scatter(Y,Z,color='blue',s=24, alpha=0.3)\n",
    "plt.xlabel('m/z')\n",
    "plt.ylabel('Peptide Charge')\n",
    "#plt.savefig('AspN1_50_sctatter_charge_RT',format=fmt,dpi=dpi,bbox_inches=\"tight\")"
   ]
  },
  {
   "cell_type": "code",
   "execution_count": null,
   "metadata": {},
   "outputs": [],
   "source": [
    "from scipy.stats import pearsonr\n",
    "corr, _ = pearsonr(Z, Y)\n",
    "print('Pearsons correlation: %.3f' % corr)"
   ]
  },
  {
   "cell_type": "code",
   "execution_count": null,
   "metadata": {
    "scrolled": false
   },
   "outputs": [],
   "source": [
    "#AREA, Peptide Length\n",
    "fig = plt.figure(figsize=(8,8), dpi=300)\n",
    "ax = fig.gca(projection='3d')\n",
    "X=T1_50_pep['z']\n",
    "Y=T1_50_pep['Hydro_Sum']\n",
    "Z=T1_50_pep['RT']\n",
    "ax.scatter(X, Y, Z,color='blue',s=12,alpha=0.3, edgecolor='k')\n",
    "ax.view_init(20, 50)\n",
    "ax.set_xlabel('Peptide Length')\n",
    "ax.set_ylabel('Retention Time (mins)')\n",
    "ax.set_zlabel('Peptide Charge (+)')\n",
    "ax.xaxis._axinfo[\"grid\"].update({\"linewidth\":1, \"color\" : \"grey\"})\n",
    "ax.yaxis._axinfo[\"grid\"].update({\"linewidth\":1, \"color\" : \"grey\"})\n",
    "ax.zaxis._axinfo[\"grid\"]['color'] = \"k\"\n",
    "ax.zaxis._axinfo[\"grid\"]['linestyle'] = \"--\"\n",
    "#ax.set_ylim3d(0, 300)\n",
    "#ax.set_xlim3d(0,6000)\n",
    "#ax.set_zlim3d(0,250)\n",
    "#plt.savefig('Tryp1_50_3d_Length_RT_z',format=fmt,dpi=dpi,bbox_inches=\"tight\")"
   ]
  },
  {
   "cell_type": "markdown",
   "metadata": {},
   "source": [
    "#### 4-way (IPC,Mass,Charge,Length)"
   ]
  },
  {
   "cell_type": "code",
   "execution_count": null,
   "metadata": {
    "scrolled": true
   },
   "outputs": [],
   "source": [
    "fig = plt.figure(figsize=(8,8), dpi=300)\n",
    "sns.set(font_scale = 1.5)\n",
    "sns.set_style(\"white\")\n",
    "cmap = sns.cubehelix_palette(start=-.3, rot=.0, as_cmap=True)\n",
    "sns.relplot(\n",
    "    data=T1_50_pep,\n",
    "    x=\"Mass\", y='IPC',\n",
    "    hue=\"z\", size=\"Length\",\n",
    "    palette=cmap, sizes=(10, 200),ax=ax\n",
    ")\n",
    "plt.savefig('Tryp1_50_hydro_4way',format=fmt,dpi=dpi,bbox_inches=\"tight\")"
   ]
  },
  {
   "cell_type": "code",
   "execution_count": null,
   "metadata": {},
   "outputs": [],
   "source": [
    "Z=T1_50_pep['IPC']\n",
    "Y=T1_50_pep['RT']\n",
    "corr, _ = pearsonr(Z, Y)\n",
    "print('Pearsons correlation: %.3f' % corr)"
   ]
  },
  {
   "cell_type": "code",
   "execution_count": null,
   "metadata": {},
   "outputs": [],
   "source": []
  },
  {
   "cell_type": "markdown",
   "metadata": {},
   "source": [
    "### Figures for 18hr Trypsin Peptides"
   ]
  },
  {
   "cell_type": "markdown",
   "metadata": {},
   "source": [
    "#### Correlation Matrix"
   ]
  },
  {
   "cell_type": "code",
   "execution_count": null,
   "metadata": {},
   "outputs": [],
   "source": [
    "og_corr=T18_50_pep[['Mass','RT','Score (%)','m/z','z','Length','IPC','Neutral_Z', 'Hydro_Sum','Hydro_Sum_Norm']]"
   ]
  },
  {
   "cell_type": "code",
   "execution_count": null,
   "metadata": {},
   "outputs": [],
   "source": [
    "plt.figure(figsize=(16, 6))\n",
    "# define the mask to set the values in the upper triangle to True\n",
    "mask = np.triu(np.ones_like(og_corr.corr(), dtype=np.bool))\n",
    "heatmap = sns.heatmap(og_corr.corr(), mask=mask, vmin=-1, vmax=1, annot=True, cmap='Blues')\n",
    "heatmap.set_title('Correlation Heatmap of Peptide Characteristics', fontdict={'fontsize':18}, pad=16);\n",
    "plt.savefig('Correlation_T18',format=fmt,dpi=dpi,bbox_inches=\"tight\")"
   ]
  },
  {
   "cell_type": "code",
   "execution_count": null,
   "metadata": {
    "scrolled": true
   },
   "outputs": [],
   "source": [
    "#3D scatter plot for peptide analyses\n",
    "fig = plt.figure(figsize=(8,8), dpi=300)\n",
    "ax = fig.gca(projection='3d')\n",
    "X=T18_50_pep['Length']\n",
    "Y=T18_50_pep['m/z']\n",
    "Z=T18_50_pep['z']\n",
    "ax.scatter(X, Y, Z,color='blue',s=12,alpha=0.3, edgecolor='k')\n",
    "ax.view_init(20, 50)\n",
    "ax.set_xlabel('Peptide Mass')\n",
    "ax.set_ylabel('m/z')\n",
    "ax.set_zlabel('Retention Time (mins)')\n",
    "ax.xaxis._axinfo[\"grid\"].update({\"linewidth\":1, \"color\" : \"grey\"})\n",
    "ax.yaxis._axinfo[\"grid\"].update({\"linewidth\":1, \"color\" : \"grey\"})\n",
    "ax.zaxis._axinfo[\"grid\"]['color'] = \"k\"\n",
    "ax.zaxis._axinfo[\"grid\"]['linestyle'] = \"--\"\n",
    "#ax.set_ylim3d(0, 300)\n",
    "#ax.set_xlim3d(0,6000)\n",
    "#ax.set_zlim3d(0,250)"
   ]
  },
  {
   "cell_type": "code",
   "execution_count": null,
   "metadata": {},
   "outputs": [],
   "source": [
    "plt.scatter(X,Z,color='blue',s=24, alpha=0.3)\n",
    "plt.xlabel('Peptide Length')\n",
    "plt.ylabel('Peptide Charge')\n",
    "#plt.savefig('AspN1_50_sctatter_charge_RT',format=fmt,dpi=dpi,bbox_inches=\"tight\")"
   ]
  },
  {
   "cell_type": "code",
   "execution_count": null,
   "metadata": {},
   "outputs": [],
   "source": [
    "from scipy.stats import pearsonr\n",
    "corr, _ = pearsonr(X, Z)\n",
    "print('Pearsons correlation: %.3f' % corr)"
   ]
  },
  {
   "cell_type": "code",
   "execution_count": null,
   "metadata": {},
   "outputs": [],
   "source": [
    "plt.scatter(X,Y,color='blue',s=24, alpha=0.3)\n",
    "plt.xlabel('Peptide Length')\n",
    "plt.ylabel('m/z')\n",
    "#plt.savefig('AspN1_50_sctatter_charge_RT',format=fmt,dpi=dpi,bbox_inches=\"tight\")"
   ]
  },
  {
   "cell_type": "code",
   "execution_count": null,
   "metadata": {},
   "outputs": [],
   "source": [
    "from scipy.stats import pearsonr\n",
    "corr, _ = pearsonr(X, Y)\n",
    "print('Pearsons correlation: %.3f' % corr)"
   ]
  },
  {
   "cell_type": "code",
   "execution_count": null,
   "metadata": {
    "scrolled": true
   },
   "outputs": [],
   "source": [
    "plt.scatter(Y,Z,color='blue',s=24, alpha=0.3)\n",
    "plt.xlabel('m/z')\n",
    "plt.ylabel('Peptide Charge')\n",
    "#plt.savefig('AspN1_50_sctatter_charge_RT',format=fmt,dpi=dpi,bbox_inches=\"tight\")"
   ]
  },
  {
   "cell_type": "code",
   "execution_count": null,
   "metadata": {
    "scrolled": false
   },
   "outputs": [],
   "source": [
    "from scipy.stats import pearsonr\n",
    "corr, _ = pearsonr(Z, Y)\n",
    "print('Pearsons correlation: %.3f' % corr)"
   ]
  },
  {
   "cell_type": "markdown",
   "metadata": {},
   "source": [
    "#### 4-way (IPC,Mass,Charge,Length)"
   ]
  },
  {
   "cell_type": "code",
   "execution_count": null,
   "metadata": {
    "scrolled": true
   },
   "outputs": [],
   "source": [
    "fig = plt.figure(figsize=(8,8), dpi=300)\n",
    "sns.set(font_scale = 1.5)\n",
    "sns.set_style(\"white\")\n",
    "cmap = sns.cubehelix_palette(start=-.3, rot=.0, as_cmap=True)\n",
    "sns.relplot(\n",
    "    data=T18_50_pep,\n",
    "    x=\"Mass\", y='IPC',\n",
    "    hue=\"z\", size=\"Length\",\n",
    "    palette=cmap, sizes=(10, 200),ax=ax\n",
    ")\n",
    "plt.savefig('Tryp18_50_hydro_4way',format=fmt,dpi=dpi,bbox_inches=\"tight\")"
   ]
  },
  {
   "cell_type": "code",
   "execution_count": null,
   "metadata": {},
   "outputs": [],
   "source": [
    "Z=T18_50_pep['IPC']\n",
    "Y=T18_50_pep['Mass']\n",
    "corr, _ = pearsonr(Z, Y)\n",
    "print('Pearsons correlation: %.3f' % corr)"
   ]
  },
  {
   "cell_type": "code",
   "execution_count": null,
   "metadata": {},
   "outputs": [],
   "source": [
    "Z=T18_50_pep['Hydro_Sum']\n",
    "Y=T18_50_pep['RT']\n",
    "corr, _ = pearsonr(Z, Y)\n",
    "print('Pearsons correlation: %.3f' % corr)"
   ]
  },
  {
   "cell_type": "code",
   "execution_count": null,
   "metadata": {},
   "outputs": [],
   "source": [
    "Z=T18_50_pep['Length']\n",
    "Y=T18_50_pep['RT']\n",
    "corr, _ = pearsonr(Z, Y)\n",
    "print('Pearsons correlation: %.3f' % corr)"
   ]
  },
  {
   "cell_type": "code",
   "execution_count": null,
   "metadata": {},
   "outputs": [],
   "source": [
    "Z=T18_50_pep['z']\n",
    "Y=T18_50_pep['RT']\n",
    "corr, _ = pearsonr(Z, Y)\n",
    "print('Pearsons correlation: %.3f' % corr)"
   ]
  },
  {
   "cell_type": "code",
   "execution_count": null,
   "metadata": {},
   "outputs": [],
   "source": [
    "Z=T18_50_pep['Neutral_Z']\n",
    "Y=T18_50_pep['RT']\n",
    "corr, _ = pearsonr(Z, Y)\n",
    "print('Pearsons correlation: %.3f' % corr)"
   ]
  },
  {
   "cell_type": "markdown",
   "metadata": {},
   "source": [
    "## <b> AspN Peptide Analyses </b>"
   ]
  },
  {
   "cell_type": "code",
   "execution_count": null,
   "metadata": {},
   "outputs": [],
   "source": [
    "y='AspN'\n",
    "x=y\n",
    "AspN=og_pep.loc[:, og_pep.columns.str.contains(x)]\n",
    "#AspN.to_excel('AspN_peptide.xlsx')\n",
    "\n",
    "###AspN_1hr_50\n",
    "y='1hr'\n",
    "x=y\n",
    "AspN1_50=AspN.loc[:, AspN.columns.str.contains(x)]\n",
    "AspN1_50 = pd.concat([og_mz, AspN1_50], axis=1)\n",
    "AspN1_50=AspN1_50.loc[(AspN1_50['Area AspN_1hr_1:50_Rep1'] > 0) | (AspN1_50['Area AspN_1hr_1:50_Rep2'] > 0)]\n",
    "\n",
    "L=['A', 'R', 'N','D', 'C', 'Q','E', 'G', 'H',\n",
    "             'I', 'L', 'K', 'F', 'P',\n",
    "             'S', 'T', 'W','Y', 'V',]\n",
    "AspN1_50[\"Peptide\"]= AspN1_50[\"Peptide\"].apply(lambda x : x[1:] if x.startswith(tuple(L)) else x)\n",
    "AspN1_50[\"Peptide\"] =AspN1_50[\"Peptide\"].str.replace('\\W+','')\n",
    "AspN1_50[\"Peptide\"] = AspN1_50[\"Peptide\"].str.replace('\\d+', '')\n",
    "AspN1_50['IPC'] = AspN1_50['Peptide'].apply(isoelectric_point)\n",
    "AspN1_50['Hydro_Sum'] = AspN1_50['Peptide'].apply(hydrophobicity_score)\n",
    "AspN1_50['Hydro_Sum_Norm']=AspN1_50['Hydro_Sum'] / AspN1_50['Length']\n",
    "AspN1_50['Neutral_Z'] = AspN1_50['Peptide'].apply(overall_charge)\n",
    "\n",
    "\n",
    "AspN1_50_Rep1=AspN1_50.loc[(AspN1_50['Area AspN_1hr_1:50_Rep1'] > 0)]\n",
    "AspN1_50_Rep2=AspN1_50.loc[(AspN1_50['Area AspN_1hr_1:50_Rep2'] > 0)]\n",
    "\n",
    "\n",
    "A1_50_pep=AspN1_50.copy()\n",
    "\n",
    "\n",
    "###AspN_18hr_50\n",
    "y='18hr'\n",
    "x=y\n",
    "AspN18_50=AspN.loc[:, AspN.columns.str.contains(x)]\n",
    "AspN18_50 = pd.concat([og_mz, AspN18_50], axis=1)\n",
    "AspN18_50=AspN18_50.loc[(AspN18_50['Area AspN_18hr_1:50_Rep1'] > 0) | (AspN18_50['Area AspN_18hr_1:50_Rep2'] > 0)]\n",
    "\n",
    "L=['A', 'R', 'N','D', 'C', 'Q','E', 'G', 'H',\n",
    "             'I', 'L', 'K', 'F', 'P',\n",
    "             'S', 'T', 'W','Y', 'V',]\n",
    "AspN18_50[\"Peptide\"]= AspN18_50[\"Peptide\"].apply(lambda x : x[1:] if x.startswith(tuple(L)) else x)\n",
    "AspN18_50[\"Peptide\"] =AspN18_50[\"Peptide\"].str.replace('\\W+','')\n",
    "AspN18_50[\"Peptide\"] = AspN18_50[\"Peptide\"].str.replace('\\d+', '')\n",
    "AspN18_50['IPC'] = AspN18_50['Peptide'].apply(isoelectric_point)\n",
    "AspN18_50['Hydro_Sum'] = AspN18_50['Peptide'].apply(hydrophobicity_score)\n",
    "AspN18_50['Hydro_Sum_Norm']=AspN18_50['Hydro_Sum'] / AspN1_50['Length']\n",
    "AspN18_50['Neutral_Z'] = AspN18_50['Peptide'].apply(overall_charge)\n",
    "\n",
    "AspN18_50_Rep1=AspN18_50.loc[(AspN18_50['Area AspN_18hr_1:50_Rep1'] > 0)]\n",
    "AspN18_50_Rep2=AspN18_50.loc[(AspN18_50['Area AspN_18hr_1:50_Rep2'] > 0)]\n",
    "\n",
    "\n",
    "A18_50_pep=AspN18_50.copy()\n",
    "A1_50_pep"
   ]
  },
  {
   "cell_type": "code",
   "execution_count": null,
   "metadata": {
    "scrolled": false
   },
   "outputs": [],
   "source": [
    "AspN1_50_Rep1.describe()"
   ]
  },
  {
   "cell_type": "code",
   "execution_count": null,
   "metadata": {
    "scrolled": false
   },
   "outputs": [],
   "source": [
    "AspN1_50_Rep2.describe()"
   ]
  },
  {
   "cell_type": "code",
   "execution_count": null,
   "metadata": {},
   "outputs": [],
   "source": [
    "x=AspN1_50['Gene'].value_counts()\n",
    "x2=pd.DataFrame(x, columns=['Gene'])\n",
    "x3 = x2.loc[(x2['Gene']) > 1]\n",
    "x3\n",
    "x4=len(x3)/len(x2)*100 \n",
    "print('Ratio of Proteins with >2 Peptide Identified is: %.3f' % x4)"
   ]
  },
  {
   "cell_type": "code",
   "execution_count": null,
   "metadata": {},
   "outputs": [],
   "source": [
    "A_1_50_charge = AspN1_50['z']\n",
    "A_1_50_length = AspN1_50['Length']\n",
    "A_1_50_mass = AspN1_50['Mass']\n",
    "A_1_50_hydro =AspN1_50['IPC']"
   ]
  },
  {
   "cell_type": "code",
   "execution_count": null,
   "metadata": {},
   "outputs": [],
   "source": [
    "A18_50_pep=AspN18_50  "
   ]
  },
  {
   "cell_type": "code",
   "execution_count": null,
   "metadata": {
    "scrolled": true
   },
   "outputs": [],
   "source": [
    "AspN18_50.describe()"
   ]
  },
  {
   "cell_type": "code",
   "execution_count": null,
   "metadata": {
    "scrolled": true
   },
   "outputs": [],
   "source": [
    "AspN18_50_Rep1.describe()"
   ]
  },
  {
   "cell_type": "code",
   "execution_count": null,
   "metadata": {},
   "outputs": [],
   "source": [
    "x=AspN18_50['Gene'].value_counts()\n",
    "x2=pd.DataFrame(x, columns=['Gene'])\n",
    "x3 = x2.loc[(x2['Gene']) > 1]\n",
    "x3\n",
    "x4=len(x3)/len(x2)*100 \n",
    "print('Ratio of Proteins with >2 Peptide Identified is: %.3f' % x4)"
   ]
  },
  {
   "cell_type": "code",
   "execution_count": null,
   "metadata": {},
   "outputs": [],
   "source": [
    "A_18_50_charge = AspN18_50['z']\n",
    "A_18_50_length = AspN18_50['Length']\n",
    "A_18_50_mass = AspN18_50['Mass']\n",
    "A_18_50_hydro =AspN18_50['IPC']"
   ]
  },
  {
   "cell_type": "code",
   "execution_count": null,
   "metadata": {
    "scrolled": true
   },
   "outputs": [],
   "source": [
    "AspN18_50_Rep2.describe()"
   ]
  },
  {
   "cell_type": "code",
   "execution_count": null,
   "metadata": {
    "scrolled": true
   },
   "outputs": [],
   "source": [
    "common=len(list(set(AspN18_50.Peptide) & set(AspN1_50.Peptide)))\n",
    "common"
   ]
  },
  {
   "cell_type": "code",
   "execution_count": null,
   "metadata": {
    "scrolled": true
   },
   "outputs": [],
   "source": [
    "unique=len(list(set(AspN18_50.Peptide) ^ set(AspN1_50.Peptide)))\n",
    "unique"
   ]
  },
  {
   "cell_type": "code",
   "execution_count": null,
   "metadata": {
    "scrolled": false
   },
   "outputs": [],
   "source": [
    "Ratio=(unique/(common+unique))*100\n",
    "Ratio"
   ]
  },
  {
   "cell_type": "markdown",
   "metadata": {},
   "source": [
    "### ICE LOGO for AspN"
   ]
  },
  {
   "cell_type": "code",
   "execution_count": null,
   "metadata": {},
   "outputs": [],
   "source": [
    "# AspN1_50['Peptide'] = AspN1_50['Peptide'].apply(lambda x : x[1:])\n",
    "AspN1_50_pep = AspN1_50['Peptide']\n",
    "AspN1_50_pep =AspN1_50_pep.str.replace('\\W+','')\n",
    "AspN1_50_pep = AspN1_50_pep.str.replace('\\d+', '')\n",
    "AspN1_50_pep = AspN1_50_pep.str.slice(0,5)\n",
    "AspN1_50_pep.to_excel('AspN_IceLogo_1hr_50.xlsx')\n",
    "AspN1_50_pep"
   ]
  },
  {
   "cell_type": "code",
   "execution_count": null,
   "metadata": {
    "scrolled": true
   },
   "outputs": [],
   "source": [
    "# AspN18_50['Peptide'] = AspN18_50['Peptide'].apply(lambda x : x[1:])\n",
    "AspN18_50_pep = AspN18_50['Peptide']\n",
    "AspN18_50_pep =AspN18_50_pep.str.replace('\\W+','')\n",
    "AspN18_50_pep = AspN18_50_pep.str.replace('\\d+', '')\n",
    "AspN18_50_pep = AspN18_50_pep.str.slice(0,5)\n",
    "AspN18_50_pep.to_excel('AspN_IceLogo_18hr_50.xlsx')\n",
    "AspN18_50_pep"
   ]
  },
  {
   "cell_type": "code",
   "execution_count": null,
   "metadata": {},
   "outputs": [],
   "source": []
  },
  {
   "cell_type": "markdown",
   "metadata": {},
   "source": [
    "### Figures for AspN 1hr"
   ]
  },
  {
   "cell_type": "markdown",
   "metadata": {},
   "source": [
    "#### Correlation Matrix"
   ]
  },
  {
   "cell_type": "code",
   "execution_count": null,
   "metadata": {},
   "outputs": [],
   "source": [
    "og_corr=A1_50_pep[['Mass','RT','Score (%)','m/z','z','Length','IPC','Neutral_Z', 'Hydro_Sum','Hydro_Sum_Norm']]"
   ]
  },
  {
   "cell_type": "code",
   "execution_count": null,
   "metadata": {
    "scrolled": true
   },
   "outputs": [],
   "source": [
    "plt.figure(figsize=(16, 6))\n",
    "# define the mask to set the values in the upper triangle to True\n",
    "mask = np.triu(np.ones_like(og_corr.corr(), dtype=np.bool))\n",
    "heatmap = sns.heatmap(og_corr.corr(), mask=mask, vmin=-1, vmax=1, annot=True, cmap='Greens')\n",
    "heatmap.set_title('Correlation Heatmap of Peptide Characteristics', fontdict={'fontsize':18}, pad=16);\n",
    "plt.savefig('Correlation_A1',format=fmt,dpi=dpi,bbox_inches=\"tight\")"
   ]
  },
  {
   "cell_type": "code",
   "execution_count": null,
   "metadata": {
    "scrolled": false
   },
   "outputs": [],
   "source": [
    "#3D scatter plot for peptide analyses\n",
    "fig = plt.figure(figsize=(8,8), dpi=300)\n",
    "ax = fig.gca(projection='3d')\n",
    "X=A1_50_pep['Length']\n",
    "Y=A1_50_pep['RT']\n",
    "Z=A1_50_pep['z']\n",
    "ax.scatter(X, Y, Z,color='green',s=12,alpha=0.3, edgecolor='k')\n",
    "ax.view_init(20, 50)\n",
    "ax.set_xlabel('Peptide Length')\n",
    "ax.set_ylabel('Retention Time (mins)')\n",
    "ax.set_zlabel('Peptide Charge (+)')\n",
    "ax.xaxis._axinfo[\"grid\"].update({\"linewidth\":1, \"color\" : \"grey\"})\n",
    "ax.yaxis._axinfo[\"grid\"].update({\"linewidth\":1, \"color\" : \"grey\"})\n",
    "ax.zaxis._axinfo[\"grid\"]['color'] = \"k\"\n",
    "ax.zaxis._axinfo[\"grid\"]['linestyle'] = \"--\"\n",
    "ax.set_ylim3d(0, 300)\n",
    "ax.set_xlim3d(0,65)\n",
    "ax.set_zlim3d(0,12)\n",
    "# plt.savefig('AspN1_50_3d_Length_RT_z',format=fmt,dpi=dpi,bbox_inches=\"tight\")"
   ]
  },
  {
   "cell_type": "code",
   "execution_count": null,
   "metadata": {},
   "outputs": [],
   "source": [
    "fig = plt.figure(figsize=(8,8))\n",
    "plt.scatter(Y,X,color='green',s=24, alpha=0.3)\n",
    "plt.ylabel('Peptide Length')\n",
    "plt.xlabel('Retention Time (mins)')\n",
    "#plt.savefig('AspN1_50_scatter_LengthvsRT',format=fmt,dpi=dpi,bbox_inches=\"tight\")"
   ]
  },
  {
   "cell_type": "code",
   "execution_count": null,
   "metadata": {},
   "outputs": [],
   "source": [
    "from scipy.stats import pearsonr\n",
    "corr, _ = pearsonr(X, Z)\n",
    "print('Pearsons correlation: %.3f' % corr)"
   ]
  },
  {
   "cell_type": "code",
   "execution_count": null,
   "metadata": {},
   "outputs": [],
   "source": [
    "plt.scatter(X,Y,color='green',s=24, alpha=0.3)\n",
    "plt.xlabel('Peptide Length')\n",
    "plt.ylabel('m/z')\n",
    "#plt.savefig('AspN1_50_sctatter_charge_RT',format=fmt,dpi=dpi,bbox_inches=\"tight\")"
   ]
  },
  {
   "cell_type": "code",
   "execution_count": null,
   "metadata": {},
   "outputs": [],
   "source": [
    "from scipy.stats import pearsonr\n",
    "corr, _ = pearsonr(X, Y)\n",
    "print('Pearsons correlation: %.3f' % corr)"
   ]
  },
  {
   "cell_type": "code",
   "execution_count": null,
   "metadata": {
    "scrolled": true
   },
   "outputs": [],
   "source": [
    "plt.scatter(Y,Z,color='green',s=24, alpha=0.3)\n",
    "plt.xlabel('m/z')\n",
    "plt.ylabel('Peptide Charge')\n",
    "#plt.savefig('AspN1_50_sctatter_charge_RT',format=fmt,dpi=dpi,bbox_inches=\"tight\")"
   ]
  },
  {
   "cell_type": "code",
   "execution_count": null,
   "metadata": {
    "scrolled": false
   },
   "outputs": [],
   "source": [
    "from scipy.stats import pearsonr\n",
    "corr, _ = pearsonr(Z, Y)\n",
    "print('Pearsons correlation: %.3f' % corr)"
   ]
  },
  {
   "cell_type": "code",
   "execution_count": null,
   "metadata": {},
   "outputs": [],
   "source": [
    "## Hydrophobicity Figure"
   ]
  },
  {
   "cell_type": "markdown",
   "metadata": {},
   "source": [
    "#### 4-way (IPC,Mass,Charge,Length)"
   ]
  },
  {
   "cell_type": "code",
   "execution_count": null,
   "metadata": {
    "scrolled": true
   },
   "outputs": [],
   "source": [
    "fig = plt.figure(figsize=(8,8), dpi=300)\n",
    "sns.set(font_scale = 1.5)\n",
    "sns.set_style(\"white\")\n",
    "cmap = sns.cubehelix_palette(start=-.1, rot=-.5, as_cmap=True)\n",
    "sns.relplot(\n",
    "    data=A1_50_pep,\n",
    "    x=\"Mass\", y='IPC',\n",
    "    hue=\"z\", size=\"Length\",\n",
    "    palette=cmap, sizes=(10, 200),ax=ax\n",
    ")\n",
    "plt.savefig('AspN1_50_hydro_4way',format=fmt,dpi=dpi,bbox_inches=\"tight\")"
   ]
  },
  {
   "cell_type": "code",
   "execution_count": null,
   "metadata": {},
   "outputs": [],
   "source": [
    "Z=A1_50_pep['IPC']\n",
    "Y=A1_50_pep['Mass']\n",
    "corr, _ = pearsonr(Z, Y)\n",
    "print('Pearsons correlation: %.3f' % corr)"
   ]
  },
  {
   "cell_type": "markdown",
   "metadata": {},
   "source": [
    "### Figures for AspN 18hr"
   ]
  },
  {
   "cell_type": "markdown",
   "metadata": {},
   "source": [
    "#### Correlation Matrix"
   ]
  },
  {
   "cell_type": "code",
   "execution_count": null,
   "metadata": {},
   "outputs": [],
   "source": [
    "og_corr=A18_50_pep[['Mass','RT','Score (%)','m/z','z','Length','IPC','Neutral_Z', 'Hydro_Sum','Hydro_Sum_Norm']]"
   ]
  },
  {
   "cell_type": "code",
   "execution_count": null,
   "metadata": {},
   "outputs": [],
   "source": [
    "plt.figure(figsize=(16, 6))\n",
    "# define the mask to set the values in the upper triangle to True\n",
    "mask = np.triu(np.ones_like(og_corr.corr(), dtype=np.bool))\n",
    "heatmap = sns.heatmap(og_corr.corr(), mask=mask, vmin=-1, vmax=1, annot=True, cmap='Greens')\n",
    "heatmap.set_title('Correlation Heatmap of Peptide Characteristics', fontdict={'fontsize':18}, pad=16);\n",
    "plt.savefig('Correlation_A18',format=fmt,dpi=dpi,bbox_inches=\"tight\")"
   ]
  },
  {
   "cell_type": "code",
   "execution_count": null,
   "metadata": {
    "scrolled": true
   },
   "outputs": [],
   "source": [
    "#3D scatter plot for peptide analyses\n",
    "fig = plt.figure(figsize=(8,8), dpi=300)\n",
    "ax = fig.gca(projection='3d')\n",
    "X=A18_50_pep['Length']\n",
    "Y=A18_50_pep['m/z']\n",
    "Z=A18_50_pep['z']\n",
    "ax.scatter(X, Y, Z,color='green',s=12,alpha=0.3, edgecolor='k')\n",
    "ax.view_init(20, 50)\n",
    "ax.set_xlabel('Peptide Mass')\n",
    "ax.set_ylabel('m/z')\n",
    "ax.set_zlabel('Retention Time (mins)')\n",
    "ax.xaxis._axinfo[\"grid\"].update({\"linewidth\":1, \"color\" : \"grey\"})\n",
    "ax.yaxis._axinfo[\"grid\"].update({\"linewidth\":1, \"color\" : \"grey\"})\n",
    "ax.zaxis._axinfo[\"grid\"]['color'] = \"k\"\n",
    "ax.zaxis._axinfo[\"grid\"]['linestyle'] = \"--\"\n",
    "#ax.set_ylim3d(0, 300)\n",
    "#ax.set_xlim3d(0,6000)\n",
    "#ax.set_zlim3d(0,250)"
   ]
  },
  {
   "cell_type": "code",
   "execution_count": null,
   "metadata": {},
   "outputs": [],
   "source": []
  },
  {
   "cell_type": "code",
   "execution_count": null,
   "metadata": {},
   "outputs": [],
   "source": [
    "plt.scatter(X,Z,color='green',s=24, alpha=0.3)\n",
    "plt.xlabel('Peptide Length')\n",
    "plt.ylabel('Peptide Charge')\n",
    "#plt.savefig('AspN1_50_sctatter_charge_RT',format=fmt,dpi=dpi,bbox_inches=\"tight\")"
   ]
  },
  {
   "cell_type": "code",
   "execution_count": null,
   "metadata": {},
   "outputs": [],
   "source": [
    "from scipy.stats import pearsonr\n",
    "corr, _ = pearsonr(X, Z)\n",
    "print('Pearsons correlation: %.3f' % corr)"
   ]
  },
  {
   "cell_type": "code",
   "execution_count": null,
   "metadata": {},
   "outputs": [],
   "source": [
    "plt.scatter(X,Y,color='green',s=24, alpha=0.3)\n",
    "plt.xlabel('Peptide Length')\n",
    "plt.ylabel('m/z')\n",
    "#plt.savefig('AspN1_50_sctatter_charge_RT',format=fmt,dpi=dpi,bbox_inches=\"tight\")"
   ]
  },
  {
   "cell_type": "code",
   "execution_count": null,
   "metadata": {},
   "outputs": [],
   "source": [
    "\n",
    "corr, _ = pearsonr(X, Y)\n",
    "print('Pearsons correlation: %.3f' % corr)"
   ]
  },
  {
   "cell_type": "code",
   "execution_count": null,
   "metadata": {
    "scrolled": true
   },
   "outputs": [],
   "source": [
    "plt.scatter(Y,Z,color='green',s=24, alpha=0.3)\n",
    "plt.xlabel('m/z')\n",
    "plt.ylabel('Peptide Charge')\n",
    "#plt.savefig('AspN1_50_sctatter_charge_RT',format=fmt,dpi=dpi,bbox_inches=\"tight\")"
   ]
  },
  {
   "cell_type": "code",
   "execution_count": null,
   "metadata": {
    "scrolled": true
   },
   "outputs": [],
   "source": [
    "\n",
    "corr, _ = pearsonr(Z, Y)\n",
    "print('Pearsons correlation: %.3f' % corr)"
   ]
  },
  {
   "cell_type": "markdown",
   "metadata": {},
   "source": [
    "#### 4-way (IPC,Mass,Charge,Length)"
   ]
  },
  {
   "cell_type": "code",
   "execution_count": null,
   "metadata": {
    "scrolled": false
   },
   "outputs": [],
   "source": [
    "fig = plt.figure(figsize=(8,8), dpi=300)\n",
    "sns.set(font_scale = 1.5)\n",
    "sns.set_style(\"white\")\n",
    "cmap = sns.cubehelix_palette(start=-.1, rot=-.5, as_cmap=True)\n",
    "sns.relplot(\n",
    "    data=A18_50_pep,\n",
    "    x=\"Mass\", y='IPC',\n",
    "    hue=\"z\", size=\"Length\",\n",
    "    palette=cmap, sizes=(10, 200),ax=ax\n",
    ")\n",
    "plt.savefig('AspN18_50_hydro_4way',format=fmt,dpi=dpi,bbox_inches=\"tight\")"
   ]
  },
  {
   "cell_type": "code",
   "execution_count": null,
   "metadata": {},
   "outputs": [],
   "source": [
    "Z=A18_50_pep['IPC']\n",
    "Y=A18_50_pep['Mass']\n",
    "corr, _ = pearsonr(Z, Y)\n",
    "print('Pearsons correlation: %.3f' % corr)"
   ]
  },
  {
   "cell_type": "markdown",
   "metadata": {},
   "source": [
    "## <b>GluC Peptide Analyses </b>"
   ]
  },
  {
   "cell_type": "code",
   "execution_count": null,
   "metadata": {},
   "outputs": [],
   "source": [
    "y='GluC'\n",
    "x=y\n",
    "GluC=og_pep.loc[:, og_pep.columns.str.contains(x)]\n",
    "#GluC.to_excel('GluC_peptide.xlsx')\n",
    "\n",
    "###GluC_1hr_50\n",
    "y='1hr'\n",
    "x=y\n",
    "GluC1_50=GluC.loc[:, GluC.columns.str.contains(x)]\n",
    "GluC1_50 = pd.concat([og_mz, GluC1_50], axis=1)\n",
    "GluC1_50=GluC1_50.loc[(GluC1_50['Area GluC_1hr_1:50_Rep1'] > 0) | (GluC1_50['Area GluC_1hr_1:50_Rep2'] > 0)]\n",
    "\n",
    "L=[\"E\"]\n",
    "GluC1_50[\"Peptide\"]= GluC1_50[\"Peptide\"].apply(lambda x : x[1:] if x.startswith(tuple(L)) else x)\n",
    "GluC1_50[\"Peptide\"] =GluC1_50[\"Peptide\"].str.replace('\\W+','')\n",
    "GluC1_50[\"Peptide\"] = GluC1_50[\"Peptide\"].str.replace('\\d+', '')\n",
    "GluC1_50['IPC'] = GluC1_50['Peptide'].apply(isoelectric_point)\n",
    "GluC1_50['Hydro_Sum'] = GluC1_50['Peptide'].apply(hydrophobicity_score)\n",
    "GluC1_50['Hydro_Sum_Norm']=GluC1_50['Hydro_Sum'] / GluC1_50['Length']\n",
    "GluC1_50['Neutral_Z'] = GluC1_50['Peptide'].apply(overall_charge)\n",
    "\n",
    "\n",
    "GluC1_50_Rep1=GluC1_50.loc[(GluC1_50['Area GluC_1hr_1:50_Rep1'] > 0)]\n",
    "GluC1_50_Rep2=GluC1_50.loc[(GluC1_50['Area GluC_1hr_1:50_Rep2'] > 0)]\n",
    "\n",
    "G1_50_pep=GluC1_50.copy()\n",
    "\n",
    "\n",
    "###GluC_18hr_50\n",
    "y='18hr'\n",
    "x=y\n",
    "GluC18_50=GluC.loc[:, GluC.columns.str.contains(x)]\n",
    "GluC18_50 = pd.concat([og_mz, GluC18_50], axis=1)\n",
    "GluC18_50=GluC18_50.loc[(GluC18_50['Area GluC_18hr_1:50_Rep1'] > 0) | (GluC18_50['Area GluC_18hr_1:50_Rep2'] > 0)]\n",
    "\n",
    "L=[\"E\"]\n",
    "GluC18_50[\"Peptide\"]= GluC18_50[\"Peptide\"].apply(lambda x : x[1:] if x.startswith(tuple(L)) else x)\n",
    "GluC18_50[\"Peptide\"] =GluC18_50[\"Peptide\"].str.replace('\\W+','')\n",
    "GluC18_50[\"Peptide\"] = GluC18_50[\"Peptide\"].str.replace('\\d+', '')\n",
    "GluC18_50['IPC'] = GluC18_50['Peptide'].apply(isoelectric_point)\n",
    "GluC18_50['Hydro_Sum'] = GluC18_50['Peptide'].apply(hydrophobicity_score)\n",
    "GluC18_50['Hydro_Sum_Norm']=GluC18_50['Hydro_Sum'] / GluC18_50['Length']\n",
    "GluC18_50['Neutral_Z'] = GluC18_50['Peptide'].apply(overall_charge)\n",
    "\n",
    "\n",
    "GluC18_50_Rep1=GluC18_50.loc[(GluC18_50['Area GluC_18hr_1:50_Rep1'] > 0)]\n",
    "GluC18_50_Rep2=GluC18_50.loc[(GluC18_50['Area GluC_18hr_1:50_Rep2'] > 0)]\n",
    "\n",
    "G18_50_pep=GluC18_50.copy()"
   ]
  },
  {
   "cell_type": "code",
   "execution_count": null,
   "metadata": {},
   "outputs": [],
   "source": [
    "GluC1_50.head()"
   ]
  },
  {
   "cell_type": "code",
   "execution_count": null,
   "metadata": {},
   "outputs": [],
   "source": [
    "GluC1_50_Rep1.describe()"
   ]
  },
  {
   "cell_type": "code",
   "execution_count": null,
   "metadata": {
    "scrolled": true
   },
   "outputs": [],
   "source": [
    "GluC1_50_Rep2.describe()"
   ]
  },
  {
   "cell_type": "code",
   "execution_count": null,
   "metadata": {},
   "outputs": [],
   "source": [
    "x=GluC1_50['Gene'].value_counts()\n",
    "x2=pd.DataFrame(x, columns=['Gene'])\n",
    "x3 = x2.loc[(x2['Gene']) > 1]\n",
    "x\n",
    "x4=len(x3)/len(x2)*100 \n",
    "print('Ratio of Proteins with >2 Peptide Identified is: %.3f' % x4)"
   ]
  },
  {
   "cell_type": "code",
   "execution_count": null,
   "metadata": {},
   "outputs": [],
   "source": [
    "G_1_50_charge = GluC1_50['z']\n",
    "G_1_50_length = GluC1_50['Length']\n",
    "G_1_50_mass = GluC1_50['Mass']\n",
    "G_1_50_hydro =GluC1_50['IPC']"
   ]
  },
  {
   "cell_type": "code",
   "execution_count": null,
   "metadata": {
    "scrolled": true
   },
   "outputs": [],
   "source": [
    "GluC18_50.describe()"
   ]
  },
  {
   "cell_type": "code",
   "execution_count": null,
   "metadata": {},
   "outputs": [],
   "source": [
    "GluC18_50_Rep1.head()"
   ]
  },
  {
   "cell_type": "code",
   "execution_count": null,
   "metadata": {
    "scrolled": false
   },
   "outputs": [],
   "source": [
    "GluC18_50_Rep2.describe()"
   ]
  },
  {
   "cell_type": "code",
   "execution_count": null,
   "metadata": {},
   "outputs": [],
   "source": [
    "x=GluC18_50['Gene'].value_counts()\n",
    "x2=pd.DataFrame(x, columns=['Gene'])\n",
    "x3 = x2.loc[(x2['Gene']) > 1]\n",
    "x3\n",
    "x4=len(x3)/len(x2)*100 \n",
    "print('Ratio of Proteins with >2 Peptide Identified is: %.3f' % x4)"
   ]
  },
  {
   "cell_type": "code",
   "execution_count": null,
   "metadata": {},
   "outputs": [],
   "source": [
    "G_18_50_charge = GluC18_50['z']\n",
    "G_18_50_length = GluC18_50['Length']\n",
    "G_18_50_mass = GluC18_50['Mass']\n",
    "G_18_50_hydro =GluC18_50['IPC']"
   ]
  },
  {
   "cell_type": "code",
   "execution_count": null,
   "metadata": {
    "scrolled": true
   },
   "outputs": [],
   "source": [
    "common=len(list(set(GluC18_50.Peptide) & set(GluC1_50.Peptide)))\n",
    "common"
   ]
  },
  {
   "cell_type": "code",
   "execution_count": null,
   "metadata": {
    "scrolled": true
   },
   "outputs": [],
   "source": [
    "unique=len(list(set(GluC18_50.Peptide) ^ set(GluC1_50.Peptide)))\n",
    "unique"
   ]
  },
  {
   "cell_type": "code",
   "execution_count": null,
   "metadata": {
    "scrolled": true
   },
   "outputs": [],
   "source": [
    "Ratio=(unique/(common+unique))*100\n",
    "Ratio"
   ]
  },
  {
   "cell_type": "markdown",
   "metadata": {},
   "source": [
    "### ICE LOGO for GluC"
   ]
  },
  {
   "cell_type": "code",
   "execution_count": null,
   "metadata": {},
   "outputs": [],
   "source": [
    "GluC1_50_pep = GluC1_50['Peptide']\n",
    "GluC1_50_pep =GluC1_50_pep.str.replace('\\W+','')\n",
    "GluC1_50_pep = GluC1_50_pep.str.replace('\\d+', '')\n",
    "GluC1_50_pep = GluC1_50_pep.str.slice(0,5)\n",
    "GluC1_50_pep.to_excel('GluC_IceLogo_1hr_50.xlsx')\n",
    "GluC1_50_pep.head()"
   ]
  },
  {
   "cell_type": "code",
   "execution_count": null,
   "metadata": {},
   "outputs": [],
   "source": [
    "GluC18_50_pep = GluC18_50['Peptide']\n",
    "GluC18_50_pep =GluC18_50_pep.str.replace('\\W+','')\n",
    "GluC18_50_pep = GluC18_50_pep.str.replace('\\d+', '')\n",
    "GluC18_50_pep = GluC18_50_pep.str.slice(0,5)\n",
    "GluC18_50_pep.to_excel('GluC_IceLogo_18hr_50.xlsx')\n",
    "GluC18_50_pep"
   ]
  },
  {
   "cell_type": "markdown",
   "metadata": {},
   "source": [
    "### Figures for GluC 1hr"
   ]
  },
  {
   "cell_type": "markdown",
   "metadata": {},
   "source": [
    "#### Correlation Matrix"
   ]
  },
  {
   "cell_type": "code",
   "execution_count": null,
   "metadata": {},
   "outputs": [],
   "source": [
    "og_corr=G1_50_pep[['Mass','RT','Score (%)','m/z','z','Length','IPC','Neutral_Z', 'Hydro_Sum','Hydro_Sum_Norm']]"
   ]
  },
  {
   "cell_type": "code",
   "execution_count": null,
   "metadata": {
    "scrolled": true
   },
   "outputs": [],
   "source": [
    "plt.figure(figsize=(16, 6))\n",
    "# define the mask to set the values in the upper triangle to True\n",
    "mask = np.triu(np.ones_like(og_corr.corr(), dtype=np.bool))\n",
    "heatmap = sns.heatmap(og_corr.corr(), mask=mask, vmin=-1, vmax=1, annot=True, cmap='Reds')\n",
    "heatmap.set_title('Correlation Heatmap of Peptide Characteristics', fontdict={'fontsize':18}, pad=16);\n",
    "plt.savefig('Correlation_G1',format=fmt,dpi=dpi,bbox_inches=\"tight\")"
   ]
  },
  {
   "cell_type": "code",
   "execution_count": null,
   "metadata": {
    "scrolled": true
   },
   "outputs": [],
   "source": [
    "#3D scatter plot for peptide analyses\n",
    "fig = plt.figure(figsize=(8,8), dpi=300)\n",
    "ax = fig.gca(projection='3d')\n",
    "X=G1_50_pep['Length']\n",
    "Y=G1_50_pep['m/z']\n",
    "Z=G1_50_pep['z']\n",
    "ax.scatter(X, Y, Z,color='red',s=12,alpha=0.3, edgecolor='k')\n",
    "ax.view_init(20, 50)\n",
    "ax.set_xlabel('Peptide Mass')\n",
    "ax.set_ylabel('m/z')\n",
    "ax.set_zlabel('Retention Time (mins)')\n",
    "ax.xaxis._axinfo[\"grid\"].update({\"linewidth\":1, \"color\" : \"grey\"})\n",
    "ax.yaxis._axinfo[\"grid\"].update({\"linewidth\":1, \"color\" : \"grey\"})\n",
    "ax.zaxis._axinfo[\"grid\"]['color'] = \"k\"\n",
    "ax.zaxis._axinfo[\"grid\"]['linestyle'] = \"--\"\n",
    "#ax.set_ylim3d(0, 300)\n",
    "#ax.set_xlim3d(0,6000)\n",
    "#ax.set_zlim3d(0,250)"
   ]
  },
  {
   "cell_type": "code",
   "execution_count": null,
   "metadata": {},
   "outputs": [],
   "source": []
  },
  {
   "cell_type": "code",
   "execution_count": null,
   "metadata": {},
   "outputs": [],
   "source": [
    "plt.scatter(X,Z,color='red',s=24, alpha=0.3)\n",
    "plt.xlabel('Peptide Length')\n",
    "plt.ylabel('Peptide Charge')\n",
    "#plt.savefig('AspN1_50_sctatter_charge_RT',format=fmt,dpi=dpi,bbox_inches=\"tight\")"
   ]
  },
  {
   "cell_type": "code",
   "execution_count": null,
   "metadata": {},
   "outputs": [],
   "source": [
    "corr, _ = pearsonr(X, Z)\n",
    "print('Pearsons correlation: %.3f' % corr)"
   ]
  },
  {
   "cell_type": "code",
   "execution_count": null,
   "metadata": {},
   "outputs": [],
   "source": [
    "plt.scatter(X,Y,color='red',s=24, alpha=0.3)\n",
    "plt.xlabel('Peptide Length')\n",
    "plt.ylabel('m/z')\n",
    "#plt.savefig('AspN1_50_sctatter_charge_RT',format=fmt,dpi=dpi,bbox_inches=\"tight\")"
   ]
  },
  {
   "cell_type": "code",
   "execution_count": null,
   "metadata": {},
   "outputs": [],
   "source": [
    "corr, _ = pearsonr(X, Y)\n",
    "print('Pearsons correlation: %.3f' % corr)"
   ]
  },
  {
   "cell_type": "code",
   "execution_count": null,
   "metadata": {
    "scrolled": true
   },
   "outputs": [],
   "source": [
    "plt.scatter(Y,Z,color='red',s=24, alpha=0.3)\n",
    "plt.xlabel('m/z')\n",
    "plt.ylabel('Peptide Charge')\n",
    "#plt.savefig('AspN1_50_sctatter_charge_RT',format=fmt,dpi=dpi,bbox_inches=\"tight\")"
   ]
  },
  {
   "cell_type": "code",
   "execution_count": null,
   "metadata": {
    "scrolled": true
   },
   "outputs": [],
   "source": [
    "corr, _ = pearsonr(Z, Y)\n",
    "print('Pearsons correlation: %.3f' % corr)"
   ]
  },
  {
   "cell_type": "markdown",
   "metadata": {},
   "source": [
    "#### 4-way (IPC,Mass,Charge,Length)"
   ]
  },
  {
   "cell_type": "code",
   "execution_count": null,
   "metadata": {
    "scrolled": false
   },
   "outputs": [],
   "source": [
    "fig = plt.figure(figsize=(8,8), dpi=300)\n",
    "sns.set(font_scale = 1.5)\n",
    "sns.set_style(\"white\")\n",
    "cmap = sns.cubehelix_palette(start=-.3, rot=.6, as_cmap=True)\n",
    "sns.relplot(\n",
    "    data=G1_50_pep,\n",
    "    x=\"Mass\", y='IPC',\n",
    "    hue=\"z\", size=\"Length\",\n",
    "    palette=cmap, sizes=(10, 200),ax=ax\n",
    ")\n",
    "plt.savefig('GluC1_50_hydro_4way',format=fmt,dpi=dpi,bbox_inches=\"tight\")"
   ]
  },
  {
   "cell_type": "code",
   "execution_count": null,
   "metadata": {},
   "outputs": [],
   "source": [
    "Z=G1_50_pep['IPC']\n",
    "Y=G1_50_pep['Mass']\n",
    "corr, _ = pearsonr(Z, Y)\n",
    "print('Pearsons correlation: %.3f' % corr)"
   ]
  },
  {
   "cell_type": "code",
   "execution_count": null,
   "metadata": {},
   "outputs": [],
   "source": [
    "Z=G1_50_pep['Hydro_Sum_Norm']\n",
    "Y=G1_50_pep['IPC']\n",
    "corr, _ = pearsonr(Z, Y)\n",
    "print('Pearsons correlation: %.3f' % corr)"
   ]
  },
  {
   "cell_type": "code",
   "execution_count": null,
   "metadata": {},
   "outputs": [],
   "source": [
    "Z=G1_50_pep['Hydro_Sum']\n",
    "Y=G1_50_pep['IPC']\n",
    "corr, _ = pearsonr(Z, Y)\n",
    "print('Pearsons correlation: %.3f' % corr)"
   ]
  },
  {
   "cell_type": "markdown",
   "metadata": {},
   "source": [
    "### Figures for GluC 18hr"
   ]
  },
  {
   "cell_type": "markdown",
   "metadata": {},
   "source": [
    "#### Correlation Matrix"
   ]
  },
  {
   "cell_type": "code",
   "execution_count": null,
   "metadata": {},
   "outputs": [],
   "source": [
    "og_corr=G18_50_pep[['Mass','RT','Score (%)','m/z','z','Length','IPC','Neutral_Z', 'Hydro_Sum','Hydro_Sum_Norm']]"
   ]
  },
  {
   "cell_type": "code",
   "execution_count": null,
   "metadata": {
    "scrolled": true
   },
   "outputs": [],
   "source": [
    "plt.figure(figsize=(16, 6))\n",
    "# define the mask to set the values in the upper triangle to True\n",
    "mask = np.triu(np.ones_like(og_corr.corr(), dtype=np.bool))\n",
    "heatmap = sns.heatmap(og_corr.corr(), mask=mask, vmin=-1, vmax=1, annot=True, cmap='Reds')\n",
    "heatmap.set_title('Correlation Heatmap of Peptide Characteristics', fontdict={'fontsize':18}, pad=16);\n",
    "plt.savefig('Correlation_G18',format=fmt,dpi=dpi,bbox_inches=\"tight\")"
   ]
  },
  {
   "cell_type": "code",
   "execution_count": null,
   "metadata": {
    "scrolled": true
   },
   "outputs": [],
   "source": [
    "#3D scatter plot for peptide analyses\n",
    "fig = plt.figure(figsize=(8,8), dpi=300)\n",
    "ax = fig.gca(projection='3d')\n",
    "X=G18_50_pep['Length']\n",
    "Y=G18_50_pep['m/z']\n",
    "Z=G18_50_pep['z']\n",
    "ax.scatter(X, Y, Z,color='red',s=12,alpha=0.3, edgecolor='k')\n",
    "ax.view_init(20, 50)\n",
    "ax.set_xlabel('Peptide Mass')\n",
    "ax.set_ylabel('m/z')\n",
    "ax.set_zlabel('Retention Time (mins)')\n",
    "ax.xaxis._axinfo[\"grid\"].update({\"linewidth\":1, \"color\" : \"grey\"})\n",
    "ax.yaxis._axinfo[\"grid\"].update({\"linewidth\":1, \"color\" : \"grey\"})\n",
    "ax.zaxis._axinfo[\"grid\"]['color'] = \"k\"\n",
    "ax.zaxis._axinfo[\"grid\"]['linestyle'] = \"--\"\n",
    "#ax.set_ylim3d(0, 300)\n",
    "#ax.set_xlim3d(0,6000)\n",
    "#ax.set_zlim3d(0,250)"
   ]
  },
  {
   "cell_type": "code",
   "execution_count": null,
   "metadata": {},
   "outputs": [],
   "source": [
    "sns.jointplot(data=G18_50_pep,x=\"Length\",y=\"RT\",kind='kde')"
   ]
  },
  {
   "cell_type": "code",
   "execution_count": null,
   "metadata": {},
   "outputs": [],
   "source": [
    "plt.scatter(X,Z,color='red',s=24, alpha=0.3)\n",
    "plt.xlabel('Peptide Length')\n",
    "plt.ylabel('Peptide Charge')\n",
    "#plt.savefig('AspN1_50_sctatter_charge_RT',format=fmt,dpi=dpi,bbox_inches=\"tight\")"
   ]
  },
  {
   "cell_type": "code",
   "execution_count": null,
   "metadata": {},
   "outputs": [],
   "source": [
    "corr, _ = pearsonr(X, Z)\n",
    "print('Pearsons correlation: %.3f' % corr)"
   ]
  },
  {
   "cell_type": "code",
   "execution_count": null,
   "metadata": {},
   "outputs": [],
   "source": [
    "plt.scatter(X,Y,color='red',s=24, alpha=0.3)\n",
    "plt.xlabel('Peptide Length')\n",
    "plt.ylabel('m/z')\n",
    "#plt.savefig('AspN1_50_sctatter_charge_RT',format=fmt,dpi=dpi,bbox_inches=\"tight\")"
   ]
  },
  {
   "cell_type": "code",
   "execution_count": null,
   "metadata": {},
   "outputs": [],
   "source": [
    "corr, _ = pearsonr(X, Y)\n",
    "print('Pearsons correlation: %.3f' % corr)"
   ]
  },
  {
   "cell_type": "code",
   "execution_count": null,
   "metadata": {
    "scrolled": true
   },
   "outputs": [],
   "source": [
    "plt.scatter(Y,Z,color='red',s=24, alpha=0.3)\n",
    "plt.xlabel('m/z')\n",
    "plt.ylabel('Peptide Charge')\n",
    "#plt.savefig('AspN1_50_sctatter_charge_RT',format=fmt,dpi=dpi,bbox_inches=\"tight\")"
   ]
  },
  {
   "cell_type": "code",
   "execution_count": null,
   "metadata": {
    "scrolled": false
   },
   "outputs": [],
   "source": [
    "corr, _ = pearsonr(Z, Y)\n",
    "print('Pearsons correlation: %.3f' % corr)"
   ]
  },
  {
   "cell_type": "markdown",
   "metadata": {},
   "source": [
    "#### 4-way (IPC,Mass,Charge,Length)"
   ]
  },
  {
   "cell_type": "code",
   "execution_count": null,
   "metadata": {
    "scrolled": true
   },
   "outputs": [],
   "source": [
    "fig = plt.figure(figsize=(20,20), dpi=300)\n",
    "sns.set(font_scale = 1.5)\n",
    "sns.set_style(\"white\")\n",
    "cmap = sns.cubehelix_palette(start=-.3, rot=.6, as_cmap=True)\n",
    "sns.relplot(\n",
    "    data=G18_50_pep,\n",
    "    x=\"Mass\", y='IPC',\n",
    "    hue=\"z\", size=\"Length\",\n",
    "    palette=cmap, sizes=(10, 200),ax=ax\n",
    ")\n",
    "plt.savefig('GluC18_50_hydro_4way',format=fmt,dpi=dpi,bbox_inches=\"tight\")"
   ]
  },
  {
   "cell_type": "code",
   "execution_count": null,
   "metadata": {},
   "outputs": [],
   "source": [
    "Z=G18_50_pep['IPC']\n",
    "Y=G18_50_pep['Mass']\n",
    "corr, _ = pearsonr(Z, Y)\n",
    "print('Pearsons correlation: %.3f' % corr)"
   ]
  },
  {
   "cell_type": "markdown",
   "metadata": {},
   "source": [
    "# Mixed Peptide Figures"
   ]
  },
  {
   "cell_type": "code",
   "execution_count": null,
   "metadata": {},
   "outputs": [],
   "source": [
    "### Colour Selection \n",
    "colors = [\"#2A3694\",\"#4C72B1\",\"#9F0A2F\",\"#FE0000\",\"#0F5F31\",\"#119347\"]\n",
    "color_map=sns.set_palette(sns.color_palette(colors,6))"
   ]
  },
  {
   "cell_type": "markdown",
   "metadata": {},
   "source": [
    "## KDE and Box Plots"
   ]
  },
  {
   "cell_type": "markdown",
   "metadata": {},
   "source": [
    "#### Length"
   ]
  },
  {
   "cell_type": "code",
   "execution_count": null,
   "metadata": {
    "scrolled": true
   },
   "outputs": [],
   "source": [
    "#Length of Peptides\n",
    "x=[T_18_50_length,T_1_50_length,A_18_50_length,A_1_50_length,G_18_50_length,G_1_50_length]\n",
    "length=[]\n",
    "length=pd.concat([i for i in x], axis=1)\n",
    "length.columns = ['Trypsin_18hrs', 'Trypsin_1hrs','AspN_18hrs','AspN_1hrs','GluC_18hrs','GluC_1hrs']\n",
    "length"
   ]
  },
  {
   "cell_type": "code",
   "execution_count": null,
   "metadata": {},
   "outputs": [],
   "source": [
    "df1 = length.stack().reset_index()\n",
    "df1.columns = ['Null','Digest','Length']\n",
    "df1.drop(['Null'], axis=1, inplace=True)\n",
    "df1"
   ]
  },
  {
   "cell_type": "code",
   "execution_count": null,
   "metadata": {
    "scrolled": true
   },
   "outputs": [],
   "source": [
    "sns.set(font_scale = 4)\n",
    "sns.set_style(\"white\")\n",
    "\n",
    "g=sns.displot(\n",
    "    data=df1,\n",
    "    x=\"Length\", hue=\"Digest\",\n",
    "    kind=\"kde\", height=15,log_scale=(0,2),color=color_map\n",
    "    \n",
    ")\n",
    "plt.xticks([10,20,30,40,50,60,70])\n",
    "plt.xlabel('Length', fontsize=48)\n",
    "plt.ylabel('Density(KDE)', fontsize=48)\n",
    "g.savefig(\"Length.eps\")"
   ]
  },
  {
   "cell_type": "code",
   "execution_count": null,
   "metadata": {},
   "outputs": [],
   "source": [
    "sns.set(font_scale = 1.5)\n",
    "sns.set_style(\"white\")\n",
    "sns.catplot(data=length,height=10, kind='box',color=color_map)\n",
    "plt.savefig(\"Length_boxen.eps\", dpi=dpi)"
   ]
  },
  {
   "cell_type": "markdown",
   "metadata": {},
   "source": [
    "#### Charge"
   ]
  },
  {
   "cell_type": "code",
   "execution_count": null,
   "metadata": {
    "scrolled": true
   },
   "outputs": [],
   "source": [
    "#Charge of Peptides\n",
    "xx=[T_18_50_charge,T_1_50_charge,A_18_50_charge,A_1_50_charge,G_18_50_charge,G_1_50_charge]\n",
    "charge=[]\n",
    "charge=pd.concat([i for i in xx], axis=1)\n",
    "charge.columns = ['Trypsin_18hrs', 'Trypsin_1hrs','AspN_18hrs','AspN_1hrs','GluC_18hrs','GluC_1hrs']\n",
    "charge"
   ]
  },
  {
   "cell_type": "code",
   "execution_count": null,
   "metadata": {},
   "outputs": [],
   "source": [
    "df1 = charge.stack().reset_index()\n",
    "df1.columns = ['Null','Digest','Charge']\n",
    "df1.drop(['Null'], axis=1, inplace=True)\n",
    "df1"
   ]
  },
  {
   "cell_type": "code",
   "execution_count": null,
   "metadata": {},
   "outputs": [],
   "source": [
    "sns.set(font_scale = 4)\n",
    "sns.set_style(\"white\")\n",
    "\n",
    "g=sns.displot(\n",
    "    data=df1,\n",
    "    x=\"Charge\", hue=\"Digest\",\n",
    "    kind=\"kde\", height=15,log_scale=(0,2),palette=color_map\n",
    "    \n",
    ")\n",
    "plt.xticks([1,2,3,4,5,6,7,8,9,10,11,12])\n",
    "plt.xlabel('Positive Charge State', fontsize=48)\n",
    "plt.ylabel('Density(KDE)', fontsize=48)\n",
    "g.savefig(\"Charge.eps\")"
   ]
  },
  {
   "cell_type": "code",
   "execution_count": null,
   "metadata": {
    "scrolled": false
   },
   "outputs": [],
   "source": [
    "sns.set(font_scale = 1.5)\n",
    "sns.set_style(\"white\")\n",
    "sns.catplot(data=charge,height=10, kind='box')\n",
    "plt.savefig(\"Charge_boxen.eps\", dpi=dpi)"
   ]
  },
  {
   "cell_type": "markdown",
   "metadata": {},
   "source": [
    "#### Mass"
   ]
  },
  {
   "cell_type": "code",
   "execution_count": null,
   "metadata": {
    "scrolled": true
   },
   "outputs": [],
   "source": [
    "#Charge of Peptides\n",
    "xxx=[T_18_50_mass,T_1_50_mass,A_18_50_mass,A_1_50_mass,G_18_50_mass,G_1_50_mass]\n",
    "mass=[]\n",
    "mass=pd.concat([i for i in xxx], axis=1)\n",
    "mass.columns = ['Trypsin_18hrs', 'Trypsin_1hrs','AspN_18hrs','AspN_1hrs','GluC_18hrs','GluC_1hrs']\n",
    "mass"
   ]
  },
  {
   "cell_type": "code",
   "execution_count": null,
   "metadata": {},
   "outputs": [],
   "source": [
    "df1 = mass.stack().reset_index()\n",
    "df1.columns = ['Null','Digest','Mass']\n",
    "df1.drop(['Null'], axis=1, inplace=True)\n",
    "df1"
   ]
  },
  {
   "cell_type": "code",
   "execution_count": null,
   "metadata": {},
   "outputs": [],
   "source": [
    "sns.set(font_scale = 4)\n",
    "sns.set_style(\"white\")\n",
    "\n",
    "g=sns.displot(\n",
    "    data=df1,\n",
    "    x=\"Mass\", hue=\"Digest\",\n",
    "    kind=\"kde\", height=15,log_scale=(0,2),\n",
    "    \n",
    ")\n",
    "# plt.xticks([1,2,3,4,5,6,7,8,9,10,11,12])\n",
    "plt.xlabel('Mass(kDa)', fontsize=48)\n",
    "plt.ylabel('Density(KDE)', fontsize=48)\n",
    "g.savefig(\"Mass.eps\")"
   ]
  },
  {
   "cell_type": "code",
   "execution_count": null,
   "metadata": {
    "scrolled": false
   },
   "outputs": [],
   "source": [
    "sns.set(font_scale = 1.5)\n",
    "sns.set_style(\"white\")\n",
    "sns.catplot(data=mass,height=10, kind='box')\n",
    "plt.title(\"Mass of Peptides\")\n",
    "plt.savefig(\"Mass_boxen.eps\", dpi=dpi)"
   ]
  },
  {
   "cell_type": "code",
   "execution_count": null,
   "metadata": {},
   "outputs": [],
   "source": []
  },
  {
   "cell_type": "markdown",
   "metadata": {},
   "source": [
    "#### Hydrophobicity"
   ]
  },
  {
   "cell_type": "code",
   "execution_count": null,
   "metadata": {},
   "outputs": [],
   "source": [
    "#Hydrophobicity of Peptides\n",
    "xx=[T_18_50_hydro,T_1_50_hydro,A_18_50_hydro,A_1_50_hydro,G_18_50_hydro,G_1_50_hydro]\n",
    "hydro=[]\n",
    "hydro=pd.concat([i for i in xx], axis=1)\n",
    "hydro.columns = ['Tryp_18_50', 'Tryp_1_50','AspN_18_50','AspN_1_50','GluC_18_50','GluC_1_50']\n",
    "hydro"
   ]
  },
  {
   "cell_type": "code",
   "execution_count": null,
   "metadata": {
    "scrolled": true
   },
   "outputs": [],
   "source": [
    "df1 = hydro.stack().reset_index()\n",
    "df1.columns = ['Null','Digest','Hydro_Score']\n",
    "df1.drop(['Null'], axis=1, inplace=True)\n",
    "df1"
   ]
  },
  {
   "cell_type": "markdown",
   "metadata": {},
   "source": [
    "##### Hydro_Score Statistics"
   ]
  },
  {
   "cell_type": "code",
   "execution_count": null,
   "metadata": {},
   "outputs": [],
   "source": [
    "mod = ols('Hydro_Score~Digest',data=df1).fit()\n",
    "hydro_anova=sm.stats.anova_lm(mod) \n",
    "print(hydro_anova)\n",
    "print(mod.summary())"
   ]
  },
  {
   "cell_type": "code",
   "execution_count": null,
   "metadata": {},
   "outputs": [],
   "source": [
    "Hydro_ANOVA=sm.stats.multicomp.pairwise_tukeyhsd(df1[\"Hydro_Score\"],df1[\"Digest\"],alpha=0.05)\n",
    "Hydro_ANOVA"
   ]
  },
  {
   "cell_type": "code",
   "execution_count": null,
   "metadata": {
    "scrolled": true
   },
   "outputs": [],
   "source": [
    "sns.set(font_scale = 4)\n",
    "sns.set_style(\"white\")\n",
    "\n",
    "g=sns.displot(\n",
    "    data=df1,\n",
    "    x=\"Hydro_Score\", hue=\"Digest\",\n",
    "    kind=\"kde\", height=15,log_scale=(0,0),\n",
    "    \n",
    ")\n",
    "plt.xlabel('Hydrophobicity', fontsize=48)\n",
    "plt.ylabel('Density(KDE)', fontsize=48)\n",
    "g.savefig(\"Hydro.eps\")"
   ]
  },
  {
   "cell_type": "code",
   "execution_count": null,
   "metadata": {},
   "outputs": [],
   "source": [
    "sns.set(font_scale = 1.5)\n",
    "sns.set_style(\"white\")\n",
    "sns.catplot(data=hydro,height=10, kind='box')\n",
    "# plt.title(\"Hydo of Peptides\")\n",
    "plt.savefig(\"HydroScore_Box.eps\", dpi=dpi)"
   ]
  },
  {
   "cell_type": "code",
   "execution_count": null,
   "metadata": {},
   "outputs": [],
   "source": [
    "T_1_50_RT =Tryp1_50['RT']\n",
    "T_18_50_RT =Tryp18_50['RT']\n",
    "A_1_50_RT =AspN1_50['RT']\n",
    "A_18_50_RT =AspN18_50['RT']\n",
    "G_1_50_RT =GluC1_50['RT']\n",
    "G_18_50_RT =GluC18_50['RT']\n",
    "xx=[T_18_50_RT,T_1_50_RT,A_18_50_RT,A_1_50_RT,G_18_50_RT,G_1_50_RT]\n",
    "RT=[]\n",
    "RT=pd.concat([i for i in xx], axis=1)\n",
    "RT.columns = ['Tryp_18_50', 'Tryp_1_50','AspN_18_50','AspN_1_50','GluC_18_50','GluC_1_50']\n",
    "RT"
   ]
  },
  {
   "cell_type": "code",
   "execution_count": null,
   "metadata": {},
   "outputs": [],
   "source": [
    "df2 = RT.stack().reset_index()\n",
    "df2.columns = ['Null','Digest','RT']\n",
    "df2.drop(['Null'], axis=1, inplace=True)\n",
    "df2"
   ]
  },
  {
   "cell_type": "code",
   "execution_count": null,
   "metadata": {},
   "outputs": [],
   "source": [
    "df3 = pd.concat([df1,df2],axis=1)\n",
    "df3.columns = ['Null','Hydro','Digest', 'RT']\n",
    "df3.drop(['Null'], axis=1, inplace=True)\n",
    "df3"
   ]
  },
  {
   "cell_type": "code",
   "execution_count": null,
   "metadata": {},
   "outputs": [],
   "source": []
  },
  {
   "cell_type": "markdown",
   "metadata": {},
   "source": [
    "## Grouped Peptide Analyses"
   ]
  },
  {
   "cell_type": "code",
   "execution_count": null,
   "metadata": {},
   "outputs": [],
   "source": [
    "og_pep.groupby(['Protein Accession']).size().reset_index(name='counts')"
   ]
  },
  {
   "cell_type": "markdown",
   "metadata": {},
   "source": [
    "### Grouping by Protein Identification (# of Peptides per Protein)"
   ]
  },
  {
   "cell_type": "code",
   "execution_count": null,
   "metadata": {
    "scrolled": true
   },
   "outputs": [],
   "source": [
    "grouping = ['Gene']\n",
    "\n",
    "T18_Counts=Tryp18_50.groupby(grouping).size().reset_index(name='counts')\n",
    "T1_Counts=Tryp1_50.groupby(grouping).size().reset_index(name='counts')\n",
    "A18_Counts=AspN18_50.groupby(grouping).size().reset_index(name='counts')\n",
    "A1_Counts=AspN1_50.groupby(grouping).size().reset_index(name='counts')\n",
    "G18_Counts=GluC18_50.groupby(grouping).size().reset_index(name='counts')\n",
    "G1_Counts=GluC1_50.groupby(grouping).size().reset_index(name='counts')\n",
    "# counts=pd.concat([T18_Counts, T1_Counts,A18_Counts,A1_Counts,G18_Counts,G1_Counts],axis=1)\n",
    "# counts.columns=['T18','T18_Counts','T1','T1_Counts','A18','A18_Counts','A1','A1_Counts','G18','G18_Counts','G1','G1_Counts']\n",
    "# counts = counts.sort_values(by ='G1_Counts', ascending=False )\n",
    "T18_Counts"
   ]
  },
  {
   "cell_type": "markdown",
   "metadata": {},
   "source": [
    "### Trypsin 18 hours, Counting protiens with > or < 1 peptide IDs"
   ]
  },
  {
   "cell_type": "code",
   "execution_count": null,
   "metadata": {
    "scrolled": true
   },
   "outputs": [],
   "source": [
    "T18_grouped=Tryp18_50.groupby(['Gene'], as_index=False).mean()\n",
    "T18_50_pep=pd.concat([T18_grouped,T18_Counts.counts],axis=1)\n",
    "T18_x2 = T18_50_pep.loc[(T18_50_pep['counts']) > 1]\n",
    "T18_x3 = T18_50_pep.loc[(T18_50_pep['counts']) == 1]\n",
    "x4=(len(T18_x3)/len(T18_x2))*100 \n",
    "print(\" The Number of Proteins with greater than 1 peptide detected is:\")\n",
    "print(len(T18_x2))\n",
    "print(\" The Number of Proteins with only 1 peptide detected is:\")\n",
    "print(len(T18_x3))\n",
    "print(\"The Ratio is:\")\n",
    "print(x4)\n",
    "T18_x2"
   ]
  },
  {
   "cell_type": "markdown",
   "metadata": {},
   "source": [
    "### Trypsin 1 hour, Counting protiens with > or < 1 peptide IDs"
   ]
  },
  {
   "cell_type": "code",
   "execution_count": null,
   "metadata": {},
   "outputs": [],
   "source": [
    "T1_grouped=Tryp1_50.groupby(['Gene'], as_index=False).mean()\n",
    "T1_50_pep=pd.concat([T1_grouped,T1_Counts.counts],axis=1)\n",
    "T1_x2 = T1_50_pep.loc[(T1_50_pep['counts']) > 1]\n",
    "T1_x3 = T1_50_pep.loc[(T1_50_pep['counts']) == 1]\n",
    "x4=len(T1_x3)/len(T1_x2)*100 \n",
    "print(\" The Number of Proteins with greater than 1 peptide detected is:\")\n",
    "print(len(T1_x2))\n",
    "print(\" The Number of Proteins with only 1 peptide detected is:\")\n",
    "print(len(T1_x3))\n",
    "print(\"The Ratio is:\")\n",
    "print(x4)"
   ]
  },
  {
   "cell_type": "markdown",
   "metadata": {},
   "source": [
    "### AspN 18 hours, Counting protiens with > or < 1 peptide IDs"
   ]
  },
  {
   "cell_type": "code",
   "execution_count": null,
   "metadata": {},
   "outputs": [],
   "source": [
    "\n",
    "df2=AspN18_50.groupby(['Gene'], as_index=False).mean()\n",
    "s=pd.concat([df2,A18_Counts.counts],axis=1)\n",
    "A18_x2 = s.loc[(s['counts']) > 1]\n",
    "A18_x3 = s.loc[(s['counts']) == 1]\n",
    "x4=len(A18_x3)/len(A18_x2)*100 \n",
    "print(\" The Number of Proteins with greater than 1 peptide detected is:\")\n",
    "print(len(A18_x2))\n",
    "print(\" The Number of Proteins with only 1 peptide detected is:\")\n",
    "print(len(A18_x3))\n",
    "print(\"The Ratio is:\")\n",
    "print(x4)"
   ]
  },
  {
   "cell_type": "markdown",
   "metadata": {},
   "source": [
    "###  AspN 1 hours, Counting protiens with > or < 1 peptide IDs"
   ]
  },
  {
   "cell_type": "code",
   "execution_count": null,
   "metadata": {},
   "outputs": [],
   "source": [
    "\n",
    "df2=AspN1_50.groupby(['Gene'], as_index=False).mean()\n",
    "s=pd.concat([df2,A1_Counts.counts],axis=1)\n",
    "A1_x2 = s.loc[(s['counts']) > 1]\n",
    "A1_x3 = s.loc[(s['counts']) == 1]\n",
    "x4=len(A1_x3)/len(A1_x2)*100 \n",
    "print(\" The Number of Proteins with greater than 1 peptide detected is:\")\n",
    "print(len(A1_x2))\n",
    "print(\" The Number of Proteins with only 1 peptide detected is:\")\n",
    "print(len(A1_x3))\n",
    "print(\"The Ratio is:\")\n",
    "print(x4)"
   ]
  },
  {
   "cell_type": "markdown",
   "metadata": {},
   "source": [
    "### GluC 18 hours, Counting protiens with > or < 1 peptide IDs"
   ]
  },
  {
   "cell_type": "code",
   "execution_count": null,
   "metadata": {},
   "outputs": [],
   "source": [
    "\n",
    "df2=GluC18_50.groupby(['Gene'], as_index=False).mean()\n",
    "s=pd.concat([df2,G18_Counts.counts],axis=1)\n",
    "G18_x2 = s.loc[(s['counts']) > 1]\n",
    "G18_x3 = s.loc[(s['counts']) == 1]\n",
    "x4=len(G18_x3)/len(G18_x2)*100 \n",
    "print(\" The Number of Proteins with greater than 1 peptide detected is:\")\n",
    "print(len(G18_x2))\n",
    "print(\" The Number of Proteins with only 1 peptide detected is:\")\n",
    "print(len(G18_x3))\n",
    "print(\"The Ratio is:\")\n",
    "print(x4)"
   ]
  },
  {
   "cell_type": "markdown",
   "metadata": {},
   "source": [
    "### GluC 1 hours, Counting protiens with > or < 1 peptide IDs "
   ]
  },
  {
   "cell_type": "code",
   "execution_count": null,
   "metadata": {},
   "outputs": [],
   "source": [
    "\n",
    "df2=GluC1_50.groupby(['Gene'], as_index=False).mean()\n",
    "s=pd.concat([df2,G1_Counts.counts],axis=1)\n",
    "G1_x2 = s.loc[(s['counts']) > 1]\n",
    "G1_x3 = s.loc[(s['counts']) == 1]\n",
    "x4=len(G1_x3)/len(G1_x2)*100 \n",
    "print(\" The Number of Proteins with greater than 1 peptide detected is:\")\n",
    "print(len(G1_x2))\n",
    "print(\" The Number of Proteins with only 1 peptide detected is:\")\n",
    "print(len(G1_x3))\n",
    "print(\"The Ratio is:\")\n",
    "print(x4)"
   ]
  },
  {
   "cell_type": "markdown",
   "metadata": {},
   "source": [
    "### Peptide per Protein Stacked Bar Graph"
   ]
  },
  {
   "cell_type": "code",
   "execution_count": null,
   "metadata": {},
   "outputs": [],
   "source": [
    "df = pd.DataFrame(columns=[\"Group\",\"Trypsin 18hrs\",\"Trypsin 1hrs\", \"AspN 18hrs\",\"AspN 1hrs\",\n",
    "                           \"GluC 18hrs\",\"GluC 1hrs\",], \n",
    "                  data=[[\"= 1 Peptide\",21.55,21.55,37.28,36.64,32.46,42.99],\n",
    "                        [\"> 1 Peptide\",100-21.55,100-21.55,100-37.28,100-36.64,100-32.46,100-42.99],\n",
    "])"
   ]
  },
  {
   "cell_type": "code",
   "execution_count": null,
   "metadata": {},
   "outputs": [],
   "source": [
    "from matplotlib.colors import ListedColormap\n",
    "\n",
    "df.set_index('Group')\\\n",
    "  .reindex(df.set_index('Group').sum().sort_values().index, axis=1)\\\n",
    "  .T.plot(kind='bar', stacked=True,\n",
    "          colormap=ListedColormap(sns.color_palette(\"PRGn\", 10)), \n",
    "          figsize=(12,6))\n",
    "# plt.savefig('Stacked_Peptide_per_Protein',format=fmt,dpi=dpi,bbox_inches=\"tight\")"
   ]
  },
  {
   "cell_type": "code",
   "execution_count": null,
   "metadata": {},
   "outputs": [],
   "source": []
  },
  {
   "cell_type": "code",
   "execution_count": null,
   "metadata": {},
   "outputs": [],
   "source": []
  },
  {
   "cell_type": "markdown",
   "metadata": {},
   "source": [
    "### IPC Hydrophobicity vs Peptide IDs/Protein"
   ]
  },
  {
   "cell_type": "markdown",
   "metadata": {},
   "source": [
    "#### Proteins with >2 peptides detected"
   ]
  },
  {
   "cell_type": "code",
   "execution_count": null,
   "metadata": {},
   "outputs": [],
   "source": [
    "xx=[T18_x2['IPC'],T1_x2['IPC'],A18_x2['IPC'],A1_x2['IPC'],G18_x2['IPC'],G1_x2['IPC']]\n",
    "IPC=[]\n",
    "IPC=pd.concat([i for i in xx], axis=1)\n",
    "IPC.columns = ['Trypsin_18hrs', 'Trypsin_1hrs','AspN_18hrs','AspN_1hrs','GluC_18hrs','GluC_1hrs']\n",
    "df1 = IPC.stack().reset_index()\n",
    "df1.columns = ['Null','Digest','IPC']\n",
    "df1.drop(['Null'], axis=1, inplace=True)\n"
   ]
  },
  {
   "cell_type": "code",
   "execution_count": null,
   "metadata": {},
   "outputs": [],
   "source": [
    "sns.set(font_scale = 4)\n",
    "sns.set_style(\"white\")\n",
    "\n",
    "g=sns.displot(\n",
    "    data=df1,\n",
    "    x=\"IPC\", hue=\"Digest\",\n",
    "    kind=\"kde\", height=15,log_scale=(0,2),\n",
    "    \n",
    ")\n",
    "plt.xlabel('Hydrophobicity(IPC))', fontsize=48)\n",
    "plt.ylabel('Density(KDE)', fontsize=48)\n",
    "plt.title('Hydrophobicity of Peptides for Proteins >2 Peptides',fontname='Times New Roman',fontweight='bold',fontsize=20,pad=30,backgroundcolor='#cbe7e3',color='black',style='italic');\n",
    "plt.savefig('IPC_Kernel Density_over2peptides',format=fmt,dpi=dpi,bbox_inches=\"tight\")"
   ]
  },
  {
   "cell_type": "markdown",
   "metadata": {},
   "source": [
    "#### Proteins with <2 peptides detected"
   ]
  },
  {
   "cell_type": "code",
   "execution_count": null,
   "metadata": {},
   "outputs": [],
   "source": [
    "xx=[T18_x3['IPC'],T1_x3['IPC'],A18_x3['IPC'],A1_x3['IPC'],G18_x3['IPC'],G1_x3['IPC']]\n",
    "IPC=[]\n",
    "IPC=pd.concat([i for i in xx], axis=1)\n",
    "IPC.columns = ['Trypsin_18hrs', 'Trypsin_1hrs','AspN_18hrs','AspN_1hrs','GluC_18hrs','GluC_1hrs']\n",
    "df1 = IPC.stack().reset_index()\n",
    "df1.columns = ['Null','Digest','IPC']\n",
    "df1.drop(['Null'], axis=1, inplace=True)\n"
   ]
  },
  {
   "cell_type": "code",
   "execution_count": null,
   "metadata": {
    "scrolled": true
   },
   "outputs": [],
   "source": [
    "sns.set(font_scale = 4)\n",
    "sns.set_style(\"white\")\n",
    "\n",
    "g=sns.displot(\n",
    "    data=df1,\n",
    "    x=\"IPC\", hue=\"Digest\",\n",
    "    kind=\"kde\", height=15,log_scale=(0,2),\n",
    "    \n",
    ")\n",
    "plt.xlabel('Hydrophobicity(IPC))', fontsize=48)\n",
    "plt.ylabel('Density(KDE)', fontsize=48)\n",
    "plt.title('Hydrophobicity of Peptides for Proteins <2 Proteins',fontname='Times New Roman',fontweight='bold',fontsize=20,pad=30,backgroundcolor='#cbe7e3',color='black',style='italic');\n",
    "plt.savefig('IPC_Kernel Density_under2peptides',format=fmt,dpi=dpi,bbox_inches=\"tight\")"
   ]
  },
  {
   "cell_type": "code",
   "execution_count": null,
   "metadata": {},
   "outputs": [],
   "source": [
    "# stop=stop"
   ]
  },
  {
   "cell_type": "markdown",
   "metadata": {},
   "source": [
    "# Section 2: Analysis of Proteins Only"
   ]
  },
  {
   "cell_type": "code",
   "execution_count": null,
   "metadata": {},
   "outputs": [],
   "source": [
    "og = pd.read_csv(\"proteins_1in50only.csv\")\n",
    "og[['Protein', 'Gene']] = og['Accession'].str.split('|', 1, expand=True)\n",
    "og.head()"
   ]
  },
  {
   "cell_type": "code",
   "execution_count": null,
   "metadata": {},
   "outputs": [],
   "source": [
    "og_info=og[['Protein ID','Protein', 'Gene','Avg. Mass','Score (%)','-10lgP','Coverage (%)','#Peptides']]"
   ]
  },
  {
   "cell_type": "markdown",
   "metadata": {},
   "source": [
    "## Trypsin Protein Analyses"
   ]
  },
  {
   "cell_type": "code",
   "execution_count": null,
   "metadata": {},
   "outputs": [],
   "source": [
    "Tryp=og.loc[:, og.columns.str.contains('Tryp')]\n",
    "Tryp = pd.concat([og_info, Tryp], axis=1)\n",
    "#Tryp.to_excel('AspN_50only.xlsx')\n",
    "Tryp.describe()"
   ]
  },
  {
   "cell_type": "code",
   "execution_count": null,
   "metadata": {},
   "outputs": [],
   "source": []
  },
  {
   "cell_type": "code",
   "execution_count": null,
   "metadata": {
    "scrolled": true
   },
   "outputs": [],
   "source": [
    "y='18hr'\n",
    "x=y\n",
    "Tryp18_50=Tryp.loc[:, Tryp.columns.str.contains(x)]\n",
    "Tryp18_50 = pd.concat([og_info, Tryp18_50], axis=1)\n",
    "Tryp18_50=Tryp18_50.loc[(Tryp18_50['#Spec Tryp_18hr_1:50_Rep1'] > 0) | (Tryp18_50['#Spec Trypsin_18hr_1:50_Rep2'] > 0)]\n",
    "Tryp18_50_Rep1=Tryp18_50.loc[(Tryp18_50['#Spec Tryp_18hr_1:50_Rep1'] > 0)]\n",
    "Tryp18_50_Rep2=Tryp18_50.loc[(Tryp18_50['#Spec Trypsin_18hr_1:50_Rep2'] > 0)]\n",
    "#Tryp18_50.to_excel('Tryp_' + str(y)+'.xlsx')\n",
    "Tryp18_50.describe()"
   ]
  },
  {
   "cell_type": "code",
   "execution_count": null,
   "metadata": {},
   "outputs": [],
   "source": [
    "Tryp18_50_x=Tryp18_50\n",
    "Tryp18_50_x['AvgCoverage'] = Tryp18_50_x[['Coverage (%) Tryp_18hr_1:50_Rep1','Coverage (%) Trypsin_18hr_1:50_Rep2']].mean(axis=1)\n",
    "Tryp18_50_coverage=Tryp18_50.loc[(Tryp18_50['AvgCoverage']>0)]\n",
    "T_18_50 = Tryp18_50_coverage['AvgCoverage']\n",
    "Tryp18_50_coverage.describe()"
   ]
  },
  {
   "cell_type": "code",
   "execution_count": null,
   "metadata": {
    "scrolled": true
   },
   "outputs": [],
   "source": [
    "Tryp18_50.median()"
   ]
  },
  {
   "cell_type": "code",
   "execution_count": null,
   "metadata": {
    "scrolled": true
   },
   "outputs": [],
   "source": [
    "Tryp18_50_Rep1.describe()"
   ]
  },
  {
   "cell_type": "code",
   "execution_count": null,
   "metadata": {},
   "outputs": [],
   "source": [
    "Tryp18_50_Rep2.describe()"
   ]
  },
  {
   "cell_type": "code",
   "execution_count": null,
   "metadata": {
    "scrolled": true
   },
   "outputs": [],
   "source": [
    "y='1hr'\n",
    "x=y\n",
    "Tryp1_50=Tryp.loc[:, Tryp.columns.str.contains(x)]\n",
    "Tryp1_50 = pd.concat([og_info, Tryp1_50], axis=1)\n",
    "Tryp1_50=Tryp1_50.loc[(Tryp1_50['#Spec Tryp_1hr_1:50_Rep1'] > 0) | (Tryp1_50['#Spec Tryp_1hr_1:50_Rep2'] > 0)]\n",
    "Tryp1_50_Rep1=Tryp1_50.loc[(Tryp1_50['#Spec Tryp_1hr_1:50_Rep1'] > 0)]\n",
    "Tryp1_50_Rep2=Tryp1_50.loc[(Tryp1_50['#Spec Tryp_1hr_1:50_Rep2'] > 0)]\n",
    "#Tryp18_50.to_excel('Tryp_' + str(y)+'.xlsx')\n",
    "Tryp1_50.describe()"
   ]
  },
  {
   "cell_type": "code",
   "execution_count": null,
   "metadata": {},
   "outputs": [],
   "source": [
    "Tryp1_50_x=Tryp1_50\n",
    "Tryp1_50_x['AvgCoverage'] = Tryp1_50_x[['Coverage (%) Tryp_1hr_1:50_Rep1','Coverage (%) Tryp_1hr_1:50_Rep2']].mean(axis=1)\n",
    "Tryp1_50_coverage=Tryp1_50.loc[(Tryp1_50['AvgCoverage']>0)]\n",
    "T_1_50 = Tryp1_50_coverage['AvgCoverage']\n",
    "Tryp1_50_coverage.describe()"
   ]
  },
  {
   "cell_type": "code",
   "execution_count": null,
   "metadata": {},
   "outputs": [],
   "source": [
    "Tryp1_50_Rep1.describe()"
   ]
  },
  {
   "cell_type": "code",
   "execution_count": null,
   "metadata": {},
   "outputs": [],
   "source": [
    "Tryp1_50_Rep2.describe()"
   ]
  },
  {
   "cell_type": "code",
   "execution_count": null,
   "metadata": {
    "scrolled": false
   },
   "outputs": [],
   "source": [
    "Tryp1_50.median()"
   ]
  },
  {
   "cell_type": "code",
   "execution_count": null,
   "metadata": {},
   "outputs": [],
   "source": [
    "common=len(list(set(Tryp18_50_coverage.Gene) & set(Tryp1_50_coverage.Gene)))\n",
    "common"
   ]
  },
  {
   "cell_type": "code",
   "execution_count": null,
   "metadata": {},
   "outputs": [],
   "source": [
    "unique=len(list(set(Tryp18_50_coverage.Gene) ^ set(Tryp1_50_coverage.Gene)))\n",
    "unique"
   ]
  },
  {
   "cell_type": "code",
   "execution_count": null,
   "metadata": {},
   "outputs": [],
   "source": [
    "Ratio=(unique/(common+unique))*100\n",
    "Ratio"
   ]
  },
  {
   "cell_type": "markdown",
   "metadata": {},
   "source": [
    "### Comparison of Time"
   ]
  },
  {
   "cell_type": "code",
   "execution_count": null,
   "metadata": {},
   "outputs": [],
   "source": [
    "x=set(Tryp18_50_coverage.Gene)\n",
    "x2=set(Tryp1_50_coverage.Gene)\n",
    "vd2=venn2([x, x2],set_labels=('18hrs', '1hr'),set_colors=('darkblue', 'blue'), alpha = 0.4)\n",
    "venn2_circles([x,x2], linestyle='-.', linewidth=4, color='black')\n",
    "for text in vd2.set_labels:\n",
    " text.set_fontsize(18);\n",
    "for text in vd2.subset_labels:\n",
    " text.set_fontsize(18)\n",
    "plt.title('Trypsin Comparison of Time',fontname='Times New Roman',fontweight='bold',fontsize=20,pad=30,backgroundcolor='#cbe7e3',color='black',style='italic');\n",
    "plt.show()"
   ]
  },
  {
   "cell_type": "markdown",
   "metadata": {},
   "source": [
    "## AspN Protein Analyses"
   ]
  },
  {
   "cell_type": "code",
   "execution_count": null,
   "metadata": {},
   "outputs": [],
   "source": [
    "AspN=og.loc[:, og.columns.str.contains('AspN')]\n",
    "AspN = pd.concat([og_info, AspN], axis=1)\n",
    "#AspN.to_excel('AspN_50only.xlsx')\n",
    "AspN"
   ]
  },
  {
   "cell_type": "code",
   "execution_count": null,
   "metadata": {
    "scrolled": false
   },
   "outputs": [],
   "source": [
    "y='18hr'\n",
    "x=y\n",
    "AspN18_50=AspN.loc[:, AspN.columns.str.contains(x)]\n",
    "AspN18_50 = pd.concat([og_info, AspN18_50], axis=1)\n",
    "AspN18_50=AspN18_50.loc[(AspN18_50['#Spec AspN_18hr_1:50_Rep1'] > 0) | (AspN18_50['#Spec AspN_18hr_1:50_Rep2'] > 0)]\n",
    "AspN18_50_Rep1=AspN18_50.loc[(AspN18_50['#Spec AspN_18hr_1:50_Rep1'] > 0)]\n",
    "AspN18_50_Rep2=AspN18_50.loc[(AspN18_50['#Spec AspN_18hr_1:50_Rep2'] > 0)]\n",
    "#AspN18_50.to_excel('AspN_' + str(y)+'.xlsx')\n",
    "AspN18_50.describe()"
   ]
  },
  {
   "cell_type": "code",
   "execution_count": null,
   "metadata": {},
   "outputs": [],
   "source": [
    "# Coverage \n",
    "AspN18_50_x=AspN18_50\n",
    "AspN18_50_x['AvgCoverage'] = AspN18_50_x[['Coverage (%) AspN_18hr_1:50_Rep1','Coverage (%) AspN_18hr_1:50_Rep2']].mean(axis=1)\n",
    "AspN18_50_coverage=AspN18_50.loc[(AspN18_50['AvgCoverage']>0)]\n",
    "A_18_50 = AspN18_50_coverage['AvgCoverage']\n",
    "AspN18_50_coverage.describe()\n"
   ]
  },
  {
   "cell_type": "code",
   "execution_count": null,
   "metadata": {},
   "outputs": [],
   "source": [
    "AspN18_50_Rep1.describe()"
   ]
  },
  {
   "cell_type": "code",
   "execution_count": null,
   "metadata": {},
   "outputs": [],
   "source": [
    "AspN18_50_Rep2.describe()"
   ]
  },
  {
   "cell_type": "code",
   "execution_count": null,
   "metadata": {},
   "outputs": [],
   "source": [
    "AspN18_50.median()"
   ]
  },
  {
   "cell_type": "code",
   "execution_count": null,
   "metadata": {
    "scrolled": true
   },
   "outputs": [],
   "source": [
    "y='1hr'\n",
    "x=y\n",
    "AspN1_50=AspN.loc[:, AspN.columns.str.contains(x)]\n",
    "AspN1_50 = pd.concat([og_info, AspN1_50], axis=1)\n",
    "AspN1_50=AspN1_50.loc[(AspN1_50['#Spec AspN_1hr_1:50_Rep1'] > 0) | (AspN1_50['#Spec AspN_1hr_1:50_Rep2'] > 0)]\n",
    "AspN1_50_Rep1=AspN1_50.loc[(AspN1_50['#Spec AspN_1hr_1:50_Rep1'] > 0)]\n",
    "AspN1_50_Rep2=AspN1_50.loc[(AspN1_50['#Spec AspN_1hr_1:50_Rep2'] > 0)]\n",
    "# AspN1_50=AspN1_50.loc[(AspN1_50['#Spec AspN_1hr_1:50_Rep1'] > 0) ]\n",
    "# AspN1_50=AspN1_50.loc[(AspN1_50['#Spec AspN_1hr_1:50_Rep2'] > 0)]\n",
    "#Tryp18_50.to_excel('Tryp_' + str(y)+'.xlsx')\n",
    "AspN1_50.describe()"
   ]
  },
  {
   "cell_type": "code",
   "execution_count": null,
   "metadata": {},
   "outputs": [],
   "source": [
    "# Coverage \n",
    "AspN1_50_x=AspN1_50\n",
    "AspN1_50_x['AvgCoverage'] = AspN1_50_x[['Coverage (%) AspN_1hr_1:50_Rep1','Coverage (%) AspN_1hr_1:50_Rep2']].mean(axis=1)\n",
    "AspN1_50_coverage=AspN1_50.loc[(AspN1_50['AvgCoverage']>0)]\n",
    "A_1_50 = AspN1_50_coverage['AvgCoverage']\n",
    "AspN1_50_coverage.describe()\n"
   ]
  },
  {
   "cell_type": "code",
   "execution_count": null,
   "metadata": {},
   "outputs": [],
   "source": [
    "AspN1_50_Rep1.describe()"
   ]
  },
  {
   "cell_type": "code",
   "execution_count": null,
   "metadata": {},
   "outputs": [],
   "source": [
    "AspN1_50_Rep2.describe()"
   ]
  },
  {
   "cell_type": "code",
   "execution_count": null,
   "metadata": {
    "scrolled": true
   },
   "outputs": [],
   "source": [
    "AspN1_50.median()"
   ]
  },
  {
   "cell_type": "code",
   "execution_count": null,
   "metadata": {
    "scrolled": true
   },
   "outputs": [],
   "source": [
    "common=len(list(set(AspN18_50_coverage.Gene) & set(AspN1_50_coverage.Gene)))\n",
    "common"
   ]
  },
  {
   "cell_type": "code",
   "execution_count": null,
   "metadata": {
    "scrolled": true
   },
   "outputs": [],
   "source": [
    "unique=len(list(set(AspN18_50_coverage.Gene) ^ set(AspN1_50_coverage.Gene)))\n",
    "unique"
   ]
  },
  {
   "cell_type": "code",
   "execution_count": null,
   "metadata": {},
   "outputs": [],
   "source": [
    "Ratio=(unique/(common+unique))*100\n",
    "Ratio"
   ]
  },
  {
   "cell_type": "markdown",
   "metadata": {},
   "source": [
    "### Comparison of Time"
   ]
  },
  {
   "cell_type": "code",
   "execution_count": null,
   "metadata": {},
   "outputs": [],
   "source": [
    "x=set(AspN18_50.Gene)\n",
    "x2=set(AspN1_50.Gene)\n",
    "vd2=venn2([x, x2],set_labels=('18hrs', '1hr'),set_colors=('orange', 'darkgrey'), alpha = 0.8)\n",
    "venn2_circles([x,x2], linestyle='-.', linewidth=4, color='black')\n",
    "for text in vd2.set_labels:\n",
    " text.set_fontsize(18);\n",
    "for text in vd2.subset_labels:\n",
    " text.set_fontsize(18)\n",
    "plt.title('GluC Comparison of Time',fontname='Times New Roman',fontweight='bold',fontsize=20,pad=30,backgroundcolor='#cbe7e3',color='black',style='italic');\n",
    "plt.show()"
   ]
  },
  {
   "cell_type": "markdown",
   "metadata": {},
   "source": [
    "## GluC Protein Analyses"
   ]
  },
  {
   "cell_type": "code",
   "execution_count": null,
   "metadata": {},
   "outputs": [],
   "source": [
    "GluC=og.loc[:, og.columns.str.contains('GluC')]\n",
    "GluC = pd.concat([og_info, GluC], axis=1)\n",
    "#AspN.to_excel('GluC_50only.xlsx')\n",
    "GluC"
   ]
  },
  {
   "cell_type": "code",
   "execution_count": null,
   "metadata": {
    "scrolled": false
   },
   "outputs": [],
   "source": [
    "y='18hr'\n",
    "x=y\n",
    "GluC18_50=GluC.loc[:, GluC.columns.str.contains(x)]\n",
    "GluC18_50 = pd.concat([og_info, GluC18_50], axis=1)\n",
    "GluC18_50=GluC18_50.loc[(GluC18_50['#Spec GluC_18hr_1:50_Rep1'] > 0) | (GluC18_50['#Spec GluC_18hr_1:50_Rep2'] > 0)]\n",
    "GluC18_50_Rep1=GluC18_50.loc[(GluC18_50['#Spec GluC_18hr_1:50_Rep1'] > 0)]\n",
    "GluC18_50_Rep2=GluC18_50.loc[(GluC18_50['#Spec GluC_18hr_1:50_Rep2'] > 0)]\n",
    "#GluC18_50.to_excel('GluC_' + str(y)+'.xlsx')\n",
    "GluC18_50.describe()"
   ]
  },
  {
   "cell_type": "code",
   "execution_count": null,
   "metadata": {},
   "outputs": [],
   "source": [
    "# Coverage \n",
    "GluC18_50_x=GluC18_50\n",
    "GluC18_50_x['AvgCoverage'] = GluC18_50_x[['Coverage (%) GluC_18hr_1:50_Rep1','Coverage (%) GluC_18hr_1:50_Rep2']].mean(axis=1)\n",
    "GluC18_50_coverage=GluC18_50.loc[(GluC18_50['AvgCoverage']>0)]\n",
    "G_18_50 = GluC18_50_coverage['AvgCoverage']\n",
    "GluC18_50_coverage.to_excel('GluC_18hr_Coverage.xlsx')\n",
    "GluC18_50_coverage.describe()"
   ]
  },
  {
   "cell_type": "code",
   "execution_count": null,
   "metadata": {
    "scrolled": true
   },
   "outputs": [],
   "source": [
    "GluC18_50_Rep1.describe()"
   ]
  },
  {
   "cell_type": "code",
   "execution_count": null,
   "metadata": {
    "scrolled": true
   },
   "outputs": [],
   "source": [
    "GluC18_50_Rep2.describe()"
   ]
  },
  {
   "cell_type": "code",
   "execution_count": null,
   "metadata": {},
   "outputs": [],
   "source": [
    "GluC18_50.median()"
   ]
  },
  {
   "cell_type": "code",
   "execution_count": null,
   "metadata": {
    "scrolled": false
   },
   "outputs": [],
   "source": [
    "y='1hr'\n",
    "x=y\n",
    "GluC1_50=GluC.loc[:, GluC.columns.str.contains(x)]\n",
    "GluC1_50 = pd.concat([og_info, GluC1_50], axis=1)\n",
    "GluC1_50=GluC1_50.loc[(GluC1_50['#Spec GluC_1hr_1:50_Rep1'] > 0) | (GluC1_50['#Spec GluC_1hr_1:50_Rep2'] > 0)]\n",
    "GluC1_50_Rep1=GluC1_50.loc[(GluC1_50['#Spec GluC_1hr_1:50_Rep1'] > 0)]\n",
    "GluC1_50_Rep2=GluC1_50.loc[(GluC1_50['#Spec GluC_1hr_1:50_Rep2'] > 0)]\n",
    "#GluC18_50.to_excel('GluC_' + str(y)+'.xlsx')\n",
    "GluC1_50.describe()"
   ]
  },
  {
   "cell_type": "code",
   "execution_count": null,
   "metadata": {},
   "outputs": [],
   "source": [
    "GluC1_50_x=GluC1_50\n",
    "GluC1_50_x['AvgCoverage'] = GluC1_50_x[['Coverage (%) GluC_1hr_1:50_Rep1','Coverage (%) GluC_1hr_1:50_Rep2']].mean(axis=1)\n",
    "GluC1_50_coverage=GluC1_50.loc[(GluC1_50['AvgCoverage']>0)]\n",
    "G_1_50 = GluC1_50_coverage['AvgCoverage']\n",
    "# GluC1_50_coverage.to_excel('GluC_1hr_Coverage.xlsx')\n",
    "GluC1_50_coverage.describe()"
   ]
  },
  {
   "cell_type": "code",
   "execution_count": null,
   "metadata": {},
   "outputs": [],
   "source": [
    "GluC1_50_Rep1.describe()"
   ]
  },
  {
   "cell_type": "code",
   "execution_count": null,
   "metadata": {},
   "outputs": [],
   "source": [
    "GluC1_50_Rep2.describe()"
   ]
  },
  {
   "cell_type": "code",
   "execution_count": null,
   "metadata": {
    "scrolled": true
   },
   "outputs": [],
   "source": [
    "GluC1_50.median()"
   ]
  },
  {
   "cell_type": "code",
   "execution_count": null,
   "metadata": {},
   "outputs": [],
   "source": [
    "common=len(list(set(GluC18_50_coverage.Gene) & set(GluC1_50_coverage.Gene)))\n",
    "common"
   ]
  },
  {
   "cell_type": "code",
   "execution_count": null,
   "metadata": {},
   "outputs": [],
   "source": [
    "unique=len(list(set(GluC18_50_coverage.Gene) ^ set(GluC1_50_coverage.Gene)))\n",
    "unique"
   ]
  },
  {
   "cell_type": "code",
   "execution_count": null,
   "metadata": {},
   "outputs": [],
   "source": [
    "Ratio=(unique/(common+unique))*100\n",
    "Ratio"
   ]
  },
  {
   "cell_type": "markdown",
   "metadata": {},
   "source": [
    "### Comparison of Time"
   ]
  },
  {
   "cell_type": "code",
   "execution_count": null,
   "metadata": {},
   "outputs": [],
   "source": [
    "x=set(GluC18_50_coverage.Gene)\n",
    "x2=set(GluC1_50_coverage.Gene)\n",
    "vd2=venn2([x, x2],set_labels=('18hrs', '1hr'),set_colors=('darkgreen', 'lightgreen'), alpha = 0.8)\n",
    "venn2_circles([x,x2], linestyle='-.', linewidth=4, color='black')\n",
    "for text in vd2.set_labels:\n",
    " text.set_fontsize(18);\n",
    "for text in vd2.subset_labels:\n",
    " text.set_fontsize(18)\n",
    "plt.title('GluC Comparison of Time',fontname='Times New Roman',fontweight='bold',fontsize=20,pad=30,backgroundcolor='#cbe7e3',color='black',style='italic');\n",
    "plt.show()"
   ]
  },
  {
   "cell_type": "markdown",
   "metadata": {},
   "source": [
    "## Protein List Comparisons"
   ]
  },
  {
   "cell_type": "code",
   "execution_count": null,
   "metadata": {},
   "outputs": [],
   "source": [
    "len(list(set(Tryp18_50_coverage.Gene) ^ set(AspN18_50_coverage.Gene) ^ set(GluC18_50_coverage.Gene)))"
   ]
  },
  {
   "cell_type": "code",
   "execution_count": null,
   "metadata": {},
   "outputs": [],
   "source": [
    "len(list(set(Tryp1_50_coverage.Gene) ^ set(AspN1_50_coverage.Gene) ^ set(GluC1_50_coverage.Gene)))"
   ]
  },
  {
   "cell_type": "code",
   "execution_count": null,
   "metadata": {},
   "outputs": [],
   "source": [
    "As = set(Tryp18_50_coverage.Gene)\n",
    "Bs = set(AspN18_50_coverage.Gene)\n",
    "Cs = set(GluC18_50_coverage.Gene)\n",
    "\n",
    "unique=len((As ^ Bs ^ Cs) ^ (As & Bs & Cs))\n",
    "unique"
   ]
  },
  {
   "cell_type": "code",
   "execution_count": null,
   "metadata": {},
   "outputs": [],
   "source": [
    "plt.figure(figsize=(10,10))\n",
    "vd3=venn3([As,Bs,Cs],\n",
    " set_labels=('Trypsin', 'AspN','GluC'),\n",
    " set_colors=('blue','red','green'), \n",
    " alpha = 0.8)\n",
    "venn3_circles([As,Bs,Cs], linestyle='-.', linewidth=2, color='black')\n",
    "for text in vd3.set_labels:\n",
    " text.set_fontsize(18)\n",
    "for text in vd3.subset_labels:\n",
    " text.set_fontsize(18)\n",
    "plt.title('18-hour Comparison of Enzyme',fontname='Times New Roman',fontweight='bold',fontsize=20,pad=30,backgroundcolor='#cbe7e3',color='black',style='italic');\n",
    "# plt.savefig('18hr_Venn',format=fmt,dpi=dpi,bbox_inches=\"tight\")\n",
    "plt.show()"
   ]
  },
  {
   "cell_type": "code",
   "execution_count": null,
   "metadata": {},
   "outputs": [],
   "source": [
    "As = set(Tryp1_50_coverage.Gene)\n",
    "Bs = set(AspN1_50_coverage.Gene)\n",
    "Cs = set(GluC1_50_coverage.Gene)\n",
    "\n",
    "unique=len((As ^ Bs ^ Cs) ^ (As & Bs & Cs))\n",
    "unique"
   ]
  },
  {
   "cell_type": "code",
   "execution_count": null,
   "metadata": {},
   "outputs": [],
   "source": [
    "plt.figure(figsize=(10,10))\n",
    "vd3=venn3([As,Bs,Cs],\n",
    " set_labels=('Trypsin', 'AspN','GluC'),\n",
    " set_colors=('blue','red','green'), \n",
    " alpha = 0.8)\n",
    "venn3_circles([As,Bs,Cs], linestyle='-.', linewidth=2, color='black')\n",
    "for text in vd3.set_labels:\n",
    " text.set_fontsize(18)\n",
    "for text in vd3.subset_labels:\n",
    " text.set_fontsize(18)\n",
    "plt.title('1-hour Comparison of Enzyme',fontname='Times New Roman',fontweight='bold',fontsize=20,pad=30,backgroundcolor='#cbe7e3',color='black',style='italic');\n",
    "# plt.savefig('1hr_Venn',format=fmt,dpi=dpi,bbox_inches=\"tight\")\n",
    "plt.show()"
   ]
  },
  {
   "cell_type": "code",
   "execution_count": null,
   "metadata": {},
   "outputs": [],
   "source": [
    "Trypsin_IDs= pd.concat([Tryp18_50.Gene,Tryp1_50.Gene]).drop_duplicates().reset_index(drop=True)\n",
    "Trypsin_IDs"
   ]
  },
  {
   "cell_type": "markdown",
   "metadata": {},
   "source": [
    "## Extra Analyses"
   ]
  },
  {
   "cell_type": "code",
   "execution_count": null,
   "metadata": {},
   "outputs": [],
   "source": [
    "#Dataframe for Coverages\n",
    "coverage = pd.DataFrame(T_18_50)\n",
    "coverage = pd.concat([coverage,T_1_50,A_18_50,A_1_50,G_18_50,G_1_50], axis=1)\n",
    "coverage.columns = ['Tryp_18_50', 'Tryp_1_50','AspN_18_50','AspN_1_50','GluC_18_50','GluC_1_50']"
   ]
  },
  {
   "cell_type": "code",
   "execution_count": null,
   "metadata": {},
   "outputs": [],
   "source": [
    "sns.set(rc={'figure.figsize':(11.7,8.27)})\n",
    "sns.set_style(\"ticks\")\n",
    "plt.tick_params(axis='x', colors='black', length=10, width=2)\n",
    "plt.tick_params(axis='y', colors='black', length=10, width=2)\n",
    "sns.violinplot(data=coverage, inner=\"quartile\", palette='Set1')\n",
    "plt.title('Sequence Coverage of All Proteins',fontname='Times New Roman',fontweight='bold',fontsize=20,pad=30,backgroundcolor='#cbe7e3',color='black',style='italic');\n",
    "# plt.savefig('Coverage',format=fmt,dpi=dpi,bbox_inches=\"tight\")"
   ]
  },
  {
   "cell_type": "code",
   "execution_count": null,
   "metadata": {},
   "outputs": [],
   "source": [
    "#Charge of Peptides\n",
    "xx=[T_18_50,T_1_50,A_18_50,A_1_50,G_18_50,G_1_50]\n",
    "coverage=[]\n",
    "coverage=pd.concat([i for i in xx], axis=1)\n",
    "coverage.columns = ['Tryp_18_50', 'Tryp_1_50','AspN_18_50','AspN_1_50','GluC_18_50','GluC_1_50']\n",
    "coverage"
   ]
  },
  {
   "cell_type": "code",
   "execution_count": null,
   "metadata": {},
   "outputs": [],
   "source": [
    "df1 = coverage.stack().reset_index()\n",
    "df1.columns = ['Null','Digest','Coverage']\n",
    "df1.drop(['Null'], axis=1, inplace=True)\n",
    "df1"
   ]
  },
  {
   "cell_type": "code",
   "execution_count": null,
   "metadata": {},
   "outputs": [],
   "source": [
    "sns.set(font_scale = 4)\n",
    "sns.set_style(\"white\")\n",
    "\n",
    "g=sns.displot(\n",
    "    data=df1,\n",
    "    x=\"Coverage\", hue=\"Digest\",\n",
    "    kind=\"kde\", height=15,log_scale=(0,2),\n",
    "    \n",
    ")\n",
    "plt.xlabel('Coverage(% of Protein))', fontsize=48)\n",
    "plt.ylabel('Density(KDE)', fontsize=48)\n",
    "plt.title('Kernel Density Estimation of Sequence Coverage',fontname='Times New Roman',fontweight='bold',fontsize=20,pad=30,backgroundcolor='#cbe7e3',color='black',style='italic');\n",
    "# g.savefig(\"Coverage.eps\")"
   ]
  },
  {
   "cell_type": "code",
   "execution_count": null,
   "metadata": {},
   "outputs": [],
   "source": [
    "sns.set(font_scale = 1.5)\n",
    "sns.set_style(\"white\")\n",
    "sns.catplot(data=coverage,height=10, kind='box')\n",
    "plt.title('Sequence Coverage',fontname='Times New Roman',fontweight='bold',fontsize=20,pad=30,backgroundcolor='#cbe7e3',color='black',style='italic');\n",
    "plt.savefig(\"Sequence_Coverage_box.eps\", dpi=dpi)"
   ]
  },
  {
   "cell_type": "markdown",
   "metadata": {},
   "source": [
    "# Section 3: Peptide vs Protein Comparisons"
   ]
  },
  {
   "cell_type": "markdown",
   "metadata": {},
   "source": [
    "## Analyzing Proteins with > 2 Peptides "
   ]
  },
  {
   "cell_type": "code",
   "execution_count": null,
   "metadata": {},
   "outputs": [],
   "source": [
    "y2 =T18_x2['Gene'].astype(str).values.tolist()\n",
    "T18 = Tryp18_50[Tryp18_50['Gene'].isin(y2)]\n",
    "T18.describe()"
   ]
  },
  {
   "cell_type": "code",
   "execution_count": null,
   "metadata": {},
   "outputs": [],
   "source": [
    "y2 =T1_x2['Gene'].astype(str).values.tolist()\n",
    "T1 = Tryp1_50[Tryp1_50['Gene'].isin(y2)]\n",
    "T1.describe()"
   ]
  },
  {
   "cell_type": "code",
   "execution_count": null,
   "metadata": {},
   "outputs": [],
   "source": [
    "y2 =A18_x2['Gene'].astype(str).values.tolist()\n",
    "A18 = AspN18_50[AspN18_50['Gene'].isin(y2)]\n",
    "A18.describe()"
   ]
  },
  {
   "cell_type": "code",
   "execution_count": null,
   "metadata": {},
   "outputs": [],
   "source": [
    "y2 =A1_x2['Gene'].astype(str).values.tolist()\n",
    "A1 = AspN1_50[AspN1_50['Gene'].isin(y2)]\n",
    "A1.describe()"
   ]
  },
  {
   "cell_type": "code",
   "execution_count": null,
   "metadata": {},
   "outputs": [],
   "source": [
    "y2 =G18_x2['Gene'].astype(str).values.tolist()\n",
    "G18 = GluC18_50[GluC18_50['Gene'].isin(y2)]\n",
    "G18.describe()"
   ]
  },
  {
   "cell_type": "code",
   "execution_count": null,
   "metadata": {},
   "outputs": [],
   "source": [
    "y2 =G1_x2['Gene'].astype(str).values.tolist()\n",
    "G1 = GluC1_50[GluC1_50['Gene'].isin(y2)]\n",
    "G1.describe()"
   ]
  },
  {
   "cell_type": "code",
   "execution_count": null,
   "metadata": {},
   "outputs": [],
   "source": [
    "xx=[T18.AvgCoverage,T1.AvgCoverage,A18.AvgCoverage,A1.AvgCoverage,G18.AvgCoverage,G1.AvgCoverage]\n",
    "cov=[]\n",
    "cov=pd.concat([i for i in xx], axis=1)\n",
    "cov.columns = ['Tryp_18_50', 'Tryp_1_50','AspN_18_50','AspN_1_50','GluC_18_50','GluC_1_50']"
   ]
  },
  {
   "cell_type": "markdown",
   "metadata": {},
   "source": [
    "### Sequence Coverage KDE"
   ]
  },
  {
   "cell_type": "code",
   "execution_count": null,
   "metadata": {
    "scrolled": true
   },
   "outputs": [],
   "source": [
    "df1 = cov.stack().reset_index()\n",
    "df1.columns = ['Null','Digest','Coverage']\n",
    "df1.drop(['Null'], axis=1, inplace=True)\n",
    "sns.set(font_scale = 4)\n",
    "sns.set_style(\"white\")\n",
    "\n",
    "g=sns.displot(\n",
    "    data=df1,\n",
    "    x=\"Coverage\", hue=\"Digest\",\n",
    "    kind=\"kde\", height=15,log_scale=(0,0),\n",
    "    \n",
    ")\n",
    "plt.xlabel('Sequence Coverage', fontsize=48)\n",
    "plt.ylabel('Density(KDE)', fontsize=48)\n",
    "plt.title('Kernel Density Estimation of Sequence Coverage in Proteins with >2 Peptides',fontname='Times New Roman',fontweight='bold',fontsize=20,pad=30,backgroundcolor='#cbe7e3',color='black',style='italic');\n",
    "# g.savefig(\"Hydro.eps\")"
   ]
  },
  {
   "cell_type": "markdown",
   "metadata": {},
   "source": [
    "### Sequence Coverage Box & Bar Graph"
   ]
  },
  {
   "cell_type": "code",
   "execution_count": null,
   "metadata": {
    "scrolled": true
   },
   "outputs": [],
   "source": [
    "sns.set(font_scale = 1.5)\n",
    "sns.set_style(\"white\")\n",
    "sns.catplot(data=cov,height=10, kind='box')\n",
    "# plt.savefig(\"Charge_boxen.eps\", dpi=dpi)"
   ]
  },
  {
   "cell_type": "code",
   "execution_count": null,
   "metadata": {
    "scrolled": false
   },
   "outputs": [],
   "source": [
    "sns.set(font_scale = 1.5)\n",
    "sns.set_style(\"white\")\n",
    "sns.catplot(data=cov,height=10, kind='bar')\n",
    "plt.title('Sequence Coverage in Protiens with > 2 Peptides',fontname='Times New Roman',fontweight='bold',fontsize=20,pad=30,backgroundcolor='#cbe7e3',color='black',style='italic');\n",
    "# plt.savefig(\"Charge_boxen.eps\", dpi=dpi)"
   ]
  },
  {
   "cell_type": "code",
   "execution_count": null,
   "metadata": {},
   "outputs": [],
   "source": [
    "As = set(T1.Gene)\n",
    "Bs = set(A1.Gene)\n",
    "Cs = set(G1.Gene)\n",
    "\n",
    "unique=len((As ^ Bs ^ Cs) ^ (As & Bs & Cs))\n",
    "unique"
   ]
  },
  {
   "cell_type": "markdown",
   "metadata": {},
   "source": [
    "### Venn Diagram of 1h Digestion"
   ]
  },
  {
   "cell_type": "code",
   "execution_count": null,
   "metadata": {
    "scrolled": false
   },
   "outputs": [],
   "source": [
    "plt.figure(figsize=(10,10))\n",
    "vd3=venn3([As,Bs,Cs],\n",
    " set_labels=('Trypsin', 'AspN','GluC'),\n",
    " set_colors=('blue','red','green'), \n",
    " alpha = 0.8)\n",
    "venn3_circles([As,Bs,Cs], linestyle='-.', linewidth=2, color='black')\n",
    "for text in vd3.set_labels:\n",
    " text.set_fontsize(18)\n",
    "for text in vd3.subset_labels:\n",
    " text.set_fontsize(18)\n",
    "plt.title('Protiens with > 2 Peptides - 1hr Digestion',fontname='Times New Roman',fontweight='bold',fontsize=20,pad=30,backgroundcolor='#cbe7e3',color='black',style='italic');\n",
    "# plt.savefig('18hr_Venn',format=fmt,dpi=dpi,bbox_inches=\"tight\")\n",
    "plt.show()"
   ]
  },
  {
   "cell_type": "markdown",
   "metadata": {},
   "source": [
    "### Venn Diagram of 18h Digestion"
   ]
  },
  {
   "cell_type": "code",
   "execution_count": null,
   "metadata": {},
   "outputs": [],
   "source": [
    "As = set(T18.Gene)\n",
    "Bs = set(A18.Gene)\n",
    "Cs = set(G18.Gene)\n",
    "\n",
    "unique=len((As ^ Bs ^ Cs) ^ (As & Bs & Cs))\n",
    "unique"
   ]
  },
  {
   "cell_type": "code",
   "execution_count": null,
   "metadata": {},
   "outputs": [],
   "source": [
    "plt.figure(figsize=(10,10))\n",
    "vd3=venn3([As,Bs,Cs],\n",
    " set_labels=('Trypsin', 'AspN','GluC'),\n",
    " set_colors=('blue','red','green'), \n",
    " alpha = 0.8)\n",
    "venn3_circles([As,Bs,Cs], linestyle='-.', linewidth=2, color='black')\n",
    "for text in vd3.set_labels:\n",
    " text.set_fontsize(18)\n",
    "for text in vd3.subset_labels:\n",
    " text.set_fontsize(18)\n",
    "plt.title('Protiens with > 2 Peptides - 18hr Digestion',fontname='Times New Roman',fontweight='bold',fontsize=20,pad=30,backgroundcolor='#cbe7e3',color='black',style='italic');\n",
    "# plt.savefig('18hr_Venn',format=fmt,dpi=dpi,bbox_inches=\"tight\")\n",
    "plt.show()"
   ]
  },
  {
   "cell_type": "markdown",
   "metadata": {},
   "source": [
    "## Analyzing Proteins with <2 Peptides"
   ]
  },
  {
   "cell_type": "code",
   "execution_count": null,
   "metadata": {},
   "outputs": [],
   "source": [
    "y2 =T18_x3['Gene'].astype(str).values.tolist()\n",
    "T18x = Tryp18_50[Tryp18_50['Gene'].isin(y2)]\n",
    "T18x.describe()"
   ]
  },
  {
   "cell_type": "code",
   "execution_count": null,
   "metadata": {},
   "outputs": [],
   "source": [
    "y2 =T1_x3['Gene'].astype(str).values.tolist()\n",
    "T1x = Tryp1_50[Tryp1_50['Gene'].isin(y2)]\n",
    "T1x.describe()"
   ]
  },
  {
   "cell_type": "code",
   "execution_count": null,
   "metadata": {},
   "outputs": [],
   "source": [
    "y2 =A18_x3['Gene'].astype(str).values.tolist()\n",
    "A18x = AspN18_50[AspN18_50['Gene'].isin(y2)]\n",
    "A18x.describe()"
   ]
  },
  {
   "cell_type": "code",
   "execution_count": null,
   "metadata": {},
   "outputs": [],
   "source": [
    "y2 =A1_x3['Gene'].astype(str).values.tolist()\n",
    "A1x = AspN1_50[AspN1_50['Gene'].isin(y2)]\n",
    "A1x.describe()"
   ]
  },
  {
   "cell_type": "code",
   "execution_count": null,
   "metadata": {},
   "outputs": [],
   "source": [
    "y2 =G18_x3['Gene'].astype(str).values.tolist()\n",
    "G18x = GluC18_50[GluC18_50['Gene'].isin(y2)]\n",
    "G18x.describe()"
   ]
  },
  {
   "cell_type": "code",
   "execution_count": null,
   "metadata": {},
   "outputs": [],
   "source": [
    "y2 =G1_x3['Gene'].astype(str).values.tolist()\n",
    "G1x = GluC1_50[GluC1_50['Gene'].isin(y2)]\n",
    "G1x.describe()"
   ]
  },
  {
   "cell_type": "code",
   "execution_count": null,
   "metadata": {},
   "outputs": [],
   "source": [
    "xx=[T18x.AvgCoverage,T1x.AvgCoverage,A18x.AvgCoverage,A1x.AvgCoverage,G18x.AvgCoverage,G1x.AvgCoverage]\n",
    "cov=[]\n",
    "cov=pd.concat([i for i in xx], axis=1)\n",
    "cov.columns = ['Tryp_18_50', 'Tryp_1_50','AspN_18_50','AspN_1_50','GluC_18_50','GluC_1_50']"
   ]
  },
  {
   "cell_type": "markdown",
   "metadata": {},
   "source": [
    "### Sequence Coverage KDE"
   ]
  },
  {
   "cell_type": "code",
   "execution_count": null,
   "metadata": {
    "scrolled": false
   },
   "outputs": [],
   "source": [
    "df1 = cov.stack().reset_index()\n",
    "df1.columns = ['Null','Digest','Coverage']\n",
    "df1.drop(['Null'], axis=1, inplace=True)\n",
    "sns.set(font_scale = 4)\n",
    "sns.set_style(\"white\")\n",
    "\n",
    "g=sns.displot(\n",
    "    data=df1,\n",
    "    x=\"Coverage\", hue=\"Digest\",\n",
    "    kind=\"kde\", height=15,log_scale=(0,2),\n",
    "    \n",
    ")\n",
    "plt.xlabel('Sequence Coverage', fontsize=48)\n",
    "plt.ylabel('Density(KDE)', fontsize=48)\n",
    "# g.savefig(\"Hydro.eps\")"
   ]
  },
  {
   "cell_type": "markdown",
   "metadata": {},
   "source": [
    "### Average Mass KDE"
   ]
  },
  {
   "cell_type": "code",
   "execution_count": null,
   "metadata": {},
   "outputs": [],
   "source": [
    "xx=[T18x['Avg. Mass'],T1x['Avg. Mass'],A18x['Avg. Mass'],A1x['Avg. Mass'],G18x['Avg. Mass'],G1x['Avg. Mass']]\n",
    "mass=[]\n",
    "mass=pd.concat([i for i in xx], axis=1)\n",
    "mass.columns = ['Tryp_18_50', 'Tryp_1_50','AspN_18_50','AspN_1_50','GluC_18_50','GluC_1_50']\n",
    "mass.describe()"
   ]
  },
  {
   "cell_type": "code",
   "execution_count": null,
   "metadata": {
    "scrolled": true
   },
   "outputs": [],
   "source": [
    "df1 = mass.stack().reset_index()\n",
    "df1.columns = ['Null','Digest','Coverage']\n",
    "df1.drop(['Null'], axis=1, inplace=True)\n",
    "sns.set(font_scale = 4)\n",
    "sns.set_style(\"white\")\n",
    "\n",
    "g=sns.displot(\n",
    "    data=df1,\n",
    "    x=\"Coverage\", hue=\"Digest\",\n",
    "    kind=\"kde\", height=15,log_scale=(2,0),\n",
    "    \n",
    ")\n",
    "plt.xlabel('Protein Mass', fontsize=48)\n",
    "plt.ylabel('Density(KDE)', fontsize=48)\n",
    "# g.savefig(\"Hydro.eps\")"
   ]
  },
  {
   "cell_type": "markdown",
   "metadata": {},
   "source": [
    "### Sequence Coverage Box & Bar Graph"
   ]
  },
  {
   "cell_type": "code",
   "execution_count": null,
   "metadata": {
    "scrolled": true
   },
   "outputs": [],
   "source": [
    "sns.set(font_scale = 1.5)\n",
    "sns.set_style(\"white\")\n",
    "sns.catplot(data=cov,height=10, kind='box')\n",
    "# plt.savefig(\"Charge_boxen.eps\", dpi=dpi)"
   ]
  },
  {
   "cell_type": "code",
   "execution_count": null,
   "metadata": {},
   "outputs": [],
   "source": [
    "sns.set(font_scale = 1.5)\n",
    "sns.set_style(\"white\")\n",
    "sns.catplot(data=mass,height=10, kind='bar')\n",
    "# plt.savefig(\"Charge_boxen.eps\", dpi=dpi)"
   ]
  },
  {
   "cell_type": "markdown",
   "metadata": {},
   "source": [
    "### Venn Diagram of 1h Digestion"
   ]
  },
  {
   "cell_type": "code",
   "execution_count": null,
   "metadata": {},
   "outputs": [],
   "source": [
    "As = set(T1x.Gene)\n",
    "Bs = set(A1x.Gene)\n",
    "Cs = set(G1x.Gene)\n",
    "\n",
    "unique=len((As ^ Bs ^ Cs) ^ (As & Bs & Cs))\n",
    "unique"
   ]
  },
  {
   "cell_type": "code",
   "execution_count": null,
   "metadata": {
    "scrolled": true
   },
   "outputs": [],
   "source": [
    "plt.figure(figsize=(10,10))\n",
    "vd3=venn3([As,Bs,Cs],\n",
    " set_labels=('Trypsin', 'AspN','GluC'),\n",
    " set_colors=('blue','red','green'), \n",
    " alpha = 0.8)\n",
    "venn3_circles([As,Bs,Cs], linestyle='-.', linewidth=2, color='black')\n",
    "for text in vd3.set_labels:\n",
    " text.set_fontsize(18)\n",
    "for text in vd3.subset_labels:\n",
    " text.set_fontsize(18)\n",
    "# plt.savefig('18hr_Venn',format=fmt,dpi=dpi,bbox_inches=\"tight\")\n",
    "plt.show()"
   ]
  },
  {
   "cell_type": "markdown",
   "metadata": {},
   "source": [
    "### Venn Diagram of 18h Digestion"
   ]
  },
  {
   "cell_type": "code",
   "execution_count": null,
   "metadata": {},
   "outputs": [],
   "source": [
    "As = set(T18x.Gene)\n",
    "Bs = set(A18x.Gene)\n",
    "Cs = set(G18x.Gene)\n",
    "\n",
    "unique=len((As ^ Bs ^ Cs) ^ (As & Bs & Cs))\n",
    "unique"
   ]
  },
  {
   "cell_type": "code",
   "execution_count": null,
   "metadata": {},
   "outputs": [],
   "source": [
    "plt.figure(figsize=(10,10))\n",
    "vd3=venn3([As,Bs,Cs],\n",
    " set_labels=('Trypsin', 'AspN','GluC'),\n",
    " set_colors=('blue','red','green'), \n",
    " alpha = 0.8)\n",
    "venn3_circles([As,Bs,Cs], linestyle='-.', linewidth=2, color='black')\n",
    "for text in vd3.set_labels:\n",
    " text.set_fontsize(18)\n",
    "for text in vd3.subset_labels:\n",
    " text.set_fontsize(18)\n",
    "# plt.savefig('18hr_Venn',format=fmt,dpi=dpi,bbox_inches=\"tight\")\n",
    "plt.show()"
   ]
  },
  {
   "cell_type": "markdown",
   "metadata": {},
   "source": [
    "## Analyzing Peptides of Proteins with >80% Sequence Coverage"
   ]
  },
  {
   "cell_type": "code",
   "execution_count": null,
   "metadata": {},
   "outputs": [],
   "source": [
    "# Select Threshold of Sequence Coverage\n",
    "sq = 80"
   ]
  },
  {
   "cell_type": "markdown",
   "metadata": {},
   "source": [
    "### Trypsin 18hr Analyses"
   ]
  },
  {
   "cell_type": "code",
   "execution_count": null,
   "metadata": {},
   "outputs": [],
   "source": [
    "T18_x4 = Tryp18_50_coverage.loc[(Tryp18_50_coverage['AvgCoverage']) >sq]\n",
    "y2 =T18_x4['Gene'].astype(str).values.tolist()\n",
    "T18_x5 = T18_50_pep[T18_50_pep['Gene'].isin(y2)]\n",
    "y2_T18=len(y2)\n",
    "print(len(y2))\n",
    "T18_x5.describe()"
   ]
  },
  {
   "cell_type": "markdown",
   "metadata": {},
   "source": [
    "### Trypsin 1hr Analyses"
   ]
  },
  {
   "cell_type": "code",
   "execution_count": null,
   "metadata": {
    "scrolled": false
   },
   "outputs": [],
   "source": [
    "T1_x4 = Tryp1_50_coverage.loc[(Tryp1_50_coverage['AvgCoverage']) >sq]\n",
    "y2 =T1_x4['Gene'].astype(str).values.tolist()\n",
    "T1_x5 = T1_50_pep[T1_50_pep['Gene'].isin(y2)]\n",
    "y2_T1=len(y2)\n",
    "print(len(y2))\n",
    "T1_x5.describe()"
   ]
  },
  {
   "cell_type": "markdown",
   "metadata": {},
   "source": [
    "### Asp-N 18hr Analyses"
   ]
  },
  {
   "cell_type": "code",
   "execution_count": null,
   "metadata": {},
   "outputs": [],
   "source": [
    "A18_x4 = AspN18_50_coverage.loc[(AspN18_50_coverage['AvgCoverage']) >sq]\n",
    "y2 =A18_x4['Gene'].astype(str).values.tolist()\n",
    "A18_x5 = A18_50_pep[A18_50_pep['Gene'].isin(y2)]\n",
    "y2_A18=len(y2)\n",
    "print(len(y2))\n",
    "A18_x5.describe()"
   ]
  },
  {
   "cell_type": "markdown",
   "metadata": {},
   "source": [
    "### Asp-N 1hr Analyses"
   ]
  },
  {
   "cell_type": "code",
   "execution_count": null,
   "metadata": {
    "scrolled": true
   },
   "outputs": [],
   "source": [
    "A1_x4 = AspN1_50_coverage.loc[(AspN1_50_coverage['AvgCoverage']) >sq]\n",
    "y2 =A1_x4['Gene'].astype(str).values.tolist()\n",
    "A1_x5 = A1_50_pep[A1_50_pep['Gene'].isin(y2)]\n",
    "y2_A1=len(y2)\n",
    "print(len(y2))\n",
    "A1_x5.describe()"
   ]
  },
  {
   "cell_type": "markdown",
   "metadata": {},
   "source": [
    "### Glu-C 18hr Analyses"
   ]
  },
  {
   "cell_type": "code",
   "execution_count": null,
   "metadata": {},
   "outputs": [],
   "source": [
    "G18_x4 = AspN18_50_coverage.loc[(AspN18_50_coverage['AvgCoverage']) >sq]\n",
    "y2 =G18_x4['Gene'].astype(str).values.tolist()\n",
    "G18_x5 = G18_50_pep[G18_50_pep['Gene'].isin(y2)]\n",
    "y2_G18=len(y2)\n",
    "print(len(y2))\n",
    "G18_x5.describe()"
   ]
  },
  {
   "cell_type": "markdown",
   "metadata": {},
   "source": [
    "### Glu-C 1hr Analyses"
   ]
  },
  {
   "cell_type": "code",
   "execution_count": null,
   "metadata": {
    "scrolled": false
   },
   "outputs": [],
   "source": [
    "G1_x4 = GluC1_50_coverage.loc[(GluC1_50_coverage['AvgCoverage']) >sq]\n",
    "y2 =G1_x4['Gene'].astype(str).values.tolist()\n",
    "G1_x5 = G1_50_pep[G1_50_pep['Gene'].isin(y2)]\n",
    "y2_G1=len(y2)\n",
    "print(len(y2))\n",
    "G1_x5.describe()"
   ]
  },
  {
   "cell_type": "markdown",
   "metadata": {},
   "source": [
    "### Stacked Bar Plot"
   ]
  },
  {
   "cell_type": "code",
   "execution_count": null,
   "metadata": {},
   "outputs": [],
   "source": [
    "df = pd.DataFrame(columns=[\"Digest Time\",\"Trypsin\",\"AspN\",\"GluC\"], \n",
    "                  data=[[\"1hr\",y2_T1,y2_A1,y2_G1],[\"18hr\",y2_T18,y2_A18,y2_G18],\n",
    "])"
   ]
  },
  {
   "cell_type": "code",
   "execution_count": null,
   "metadata": {},
   "outputs": [],
   "source": [
    "from matplotlib.colors import ListedColormap\n",
    "\n",
    "df.set_index('Digest Time')\\\n",
    "  .reindex(df.set_index('Digest Time').sum().sort_values().index, axis=1)\\\n",
    "  .T.plot(kind='bar', stacked=True,\n",
    "          colormap=ListedColormap(sns.color_palette(\"PRGn\", 10)), \n",
    "          figsize=(12,6))\n",
    "plt.title(\"Number of Proteins with >80% Sequence Coverage\")\n",
    "plt.savefig('Stacked_SequenceCoverage_Grouped_80',format=fmt,dpi=dpi,bbox_inches=\"tight\")"
   ]
  },
  {
   "cell_type": "code",
   "execution_count": null,
   "metadata": {},
   "outputs": [],
   "source": []
  },
  {
   "cell_type": "code",
   "execution_count": null,
   "metadata": {},
   "outputs": [],
   "source": []
  },
  {
   "cell_type": "code",
   "execution_count": null,
   "metadata": {},
   "outputs": [],
   "source": []
  }
 ],
 "metadata": {
  "kernelspec": {
   "display_name": "Python 3",
   "language": "python",
   "name": "python3"
  },
  "language_info": {
   "codemirror_mode": {
    "name": "ipython",
    "version": 3
   },
   "file_extension": ".py",
   "mimetype": "text/x-python",
   "name": "python",
   "nbconvert_exporter": "python",
   "pygments_lexer": "ipython3",
   "version": "3.8.3"
  },
  "toc": {
   "base_numbering": 1,
   "nav_menu": {},
   "number_sections": true,
   "sideBar": true,
   "skip_h1_title": false,
   "title_cell": "Table of Contents",
   "title_sidebar": "Contents",
   "toc_cell": false,
   "toc_position": {
    "height": "calc(100% - 180px)",
    "left": "10px",
    "top": "150px",
    "width": "336.594px"
   },
   "toc_section_display": true,
   "toc_window_display": false
  },
  "varInspector": {
   "cols": {
    "lenName": 16,
    "lenType": 16,
    "lenVar": 40
   },
   "kernels_config": {
    "python": {
     "delete_cmd_postfix": "",
     "delete_cmd_prefix": "del ",
     "library": "var_list.py",
     "varRefreshCmd": "print(var_dic_list())"
    },
    "r": {
     "delete_cmd_postfix": ") ",
     "delete_cmd_prefix": "rm(",
     "library": "var_list.r",
     "varRefreshCmd": "cat(var_dic_list()) "
    }
   },
   "types_to_exclude": [
    "module",
    "function",
    "builtin_function_or_method",
    "instance",
    "_Feature"
   ],
   "window_display": false
  }
 },
 "nbformat": 4,
 "nbformat_minor": 4
}
