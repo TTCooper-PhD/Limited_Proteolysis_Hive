{
 "cells": [
  {
   "cell_type": "code",
   "execution_count": 1,
   "metadata": {},
   "outputs": [],
   "source": [
    "import Peptide_Chef as Chef\n",
    "import math\n",
    "import numpy as np\n",
    "import pandas as pd\n",
    "import matplotlib \n",
    "import matplotlib.pyplot as plt\n",
    "import seaborn as sns\n",
    "# from Peptide_Chef import Cook_Book"
   ]
  },
  {
   "cell_type": "code",
   "execution_count": 2,
   "metadata": {},
   "outputs": [
    {
     "name": "stdout",
     "output_type": "stream",
     "text": [
      "The numpy version is 1.19.1.\n",
      "The pandas version is 1.0.5.\n",
      "The matplotlib version is 3.2.2.\n",
      "The seaborn version is 0.11.0.\n"
     ]
    }
   ],
   "source": [
    "print('The numpy version is {}.'.format(np.__version__))\n",
    "print('The pandas version is {}.'.format(pd.__version__))\n",
    "print('The matplotlib version is {}.'.format(matplotlib.__version__))\n",
    "print('The seaborn version is {}.'.format(sns.__version__))"
   ]
  },
  {
   "cell_type": "markdown",
   "metadata": {},
   "source": [
    "# In silico Digestion "
   ]
  },
  {
   "cell_type": "code",
   "execution_count": 3,
   "metadata": {},
   "outputs": [],
   "source": [
    "# use labelling format (below) to keep track of dfs.\n",
    "##(*_dig= Digestion of Given Enzyme/Missed/Length/Charge)"
   ]
  },
  {
   "cell_type": "code",
   "execution_count": 4,
   "metadata": {},
   "outputs": [],
   "source": [
    "url=\"https://ftp.uniprot.org/pub/databases/uniprot/current_release/knowledgebase/reference_proteomes/Eukaryota/UP000005640/UP000005640_9606.fasta.gz\""
   ]
  },
  {
   "cell_type": "code",
   "execution_count": 5,
   "metadata": {
    "scrolled": true
   },
   "outputs": [
    {
     "name": "stdout",
     "output_type": "stream",
     "text": [
      "Downloading the FASTA file from url...\n",
      "Unzipping...\n",
      "Takeout is Done!\n",
      "Here ya go boss!\n"
     ]
    }
   ],
   "source": [
    "Menu=Chef.CookBook(homebrew=False, takeout=True,url=url,measure=True, target=\"Peptide\")"
   ]
  },
  {
   "cell_type": "code",
   "execution_count": 6,
   "metadata": {
    "scrolled": false
   },
   "outputs": [
    {
     "data": {
      "text/html": [
       "<div>\n",
       "<style scoped>\n",
       "    .dataframe tbody tr th:only-of-type {\n",
       "        vertical-align: middle;\n",
       "    }\n",
       "\n",
       "    .dataframe tbody tr th {\n",
       "        vertical-align: top;\n",
       "    }\n",
       "\n",
       "    .dataframe thead th {\n",
       "        text-align: right;\n",
       "    }\n",
       "</style>\n",
       "<table border=\"1\" class=\"dataframe\">\n",
       "  <thead>\n",
       "    <tr style=\"text-align: right;\">\n",
       "      <th></th>\n",
       "      <th>Peptide</th>\n",
       "      <th>UniprotID</th>\n",
       "      <th>Gene</th>\n",
       "      <th>Identification</th>\n",
       "      <th>Protein_Length</th>\n",
       "    </tr>\n",
       "  </thead>\n",
       "  <tbody>\n",
       "    <tr>\n",
       "      <th>0</th>\n",
       "      <td>MGCCGCGSCGGCGGGCGGCGGGCGGGCGGGCGSCTTCRCYRVGCCS...</td>\n",
       "      <td>A0A286YF01</td>\n",
       "      <td>SCGR7</td>\n",
       "      <td>HUMAN Small cysteine and glycine repeat-contai...</td>\n",
       "      <td>96</td>\n",
       "    </tr>\n",
       "    <tr>\n",
       "      <th>1</th>\n",
       "      <td>MRAKPQSPLPRNPVPAWSPPTTTTDPMLEKDAAGGDFPANLVLQLM...</td>\n",
       "      <td>A1L1A6</td>\n",
       "      <td>IGS23</td>\n",
       "      <td>HUMAN Immunoglobulin superfamily member 23 OS=...</td>\n",
       "      <td>192</td>\n",
       "    </tr>\n",
       "    <tr>\n",
       "      <th>2</th>\n",
       "      <td>MVLLAGTRPQGGEARCMIPPPPSPLLGAQVEEDRTEFKEFQDFSSL...</td>\n",
       "      <td>A6NHS1</td>\n",
       "      <td>YK042</td>\n",
       "      <td>HUMAN Putative uncharacterized protein ENSP000...</td>\n",
       "      <td>94</td>\n",
       "    </tr>\n",
       "    <tr>\n",
       "      <th>3</th>\n",
       "      <td>MRLCLIPWNTTPHRVLPPVVWSAPSRKKPVLSARNSMMFGHLSPVR...</td>\n",
       "      <td>A6NL46</td>\n",
       "      <td>YF016</td>\n",
       "      <td>HUMAN Putative UPF0607 protein ENSP00000332738...</td>\n",
       "      <td>340</td>\n",
       "    </tr>\n",
       "    <tr>\n",
       "      <th>4</th>\n",
       "      <td>MRLCLIPQNTGTPQRVLPPVVWSPPSRKKPMLSACNSMMFGHLSPV...</td>\n",
       "      <td>A8MUI8</td>\n",
       "      <td>YA034</td>\n",
       "      <td>HUMAN Putative UPF0607 protein ENSP00000383783...</td>\n",
       "      <td>341</td>\n",
       "    </tr>\n",
       "  </tbody>\n",
       "</table>\n",
       "</div>"
      ],
      "text/plain": [
       "                                             Peptide   UniprotID   Gene  \\\n",
       "0  MGCCGCGSCGGCGGGCGGCGGGCGGGCGGGCGSCTTCRCYRVGCCS...  A0A286YF01  SCGR7   \n",
       "1  MRAKPQSPLPRNPVPAWSPPTTTTDPMLEKDAAGGDFPANLVLQLM...      A1L1A6  IGS23   \n",
       "2  MVLLAGTRPQGGEARCMIPPPPSPLLGAQVEEDRTEFKEFQDFSSL...      A6NHS1  YK042   \n",
       "3  MRLCLIPWNTTPHRVLPPVVWSAPSRKKPVLSARNSMMFGHLSPVR...      A6NL46  YF016   \n",
       "4  MRLCLIPQNTGTPQRVLPPVVWSPPSRKKPMLSACNSMMFGHLSPV...      A8MUI8  YA034   \n",
       "\n",
       "                                      Identification  Protein_Length  \n",
       "0  HUMAN Small cysteine and glycine repeat-contai...              96  \n",
       "1  HUMAN Immunoglobulin superfamily member 23 OS=...             192  \n",
       "2  HUMAN Putative uncharacterized protein ENSP000...              94  \n",
       "3  HUMAN Putative UPF0607 protein ENSP00000332738...             340  \n",
       "4  HUMAN Putative UPF0607 protein ENSP00000383783...             341  "
      ]
     },
     "execution_count": 6,
     "metadata": {},
     "output_type": "execute_result"
    }
   ],
   "source": [
    "Menu.head()"
   ]
  },
  {
   "cell_type": "code",
   "execution_count": 7,
   "metadata": {
    "scrolled": false
   },
   "outputs": [
    {
     "data": {
      "text/plain": [
       "{'arg-c': 'R',\n",
       " 'asp-n': '\\\\w(?=D)',\n",
       " 'bnps-skatole': 'W',\n",
       " 'caspase 1': '(?<=[FWYL]\\\\w[HAT])D(?=[^PEDQKR])',\n",
       " 'caspase 2': '(?<=DVA)D(?=[^PEDQKR])',\n",
       " 'caspase 3': '(?<=DMQ)D(?=[^PEDQKR])',\n",
       " 'caspase 4': '(?<=LEV)D(?=[^PEDQKR])',\n",
       " 'caspase 5': '(?<=[LW]EH)D',\n",
       " 'caspase 6': '(?<=VE[HI])D(?=[^PEDQKR])',\n",
       " 'caspase 7': '(?<=DEV)D(?=[^PEDQKR])',\n",
       " 'caspase 8': '(?<=[IL]ET)D(?=[^PEDQKR])',\n",
       " 'caspase 9': '(?<=LEH)D',\n",
       " 'caspase 10': '(?<=IEA)D',\n",
       " 'chymotrypsin high specificity': '([FY](?=[^P]))|(W(?=[^MP]))',\n",
       " 'chymotrypsin low specificity': '([FLY](?=[^P]))|(W(?=[^MP]))|(M(?=[^PY]))|(H(?=[^DMPW]))',\n",
       " 'clostripain': 'R',\n",
       " 'cnbr': 'M',\n",
       " 'enterokinase': '(?<=[DE]{3})K',\n",
       " 'factor xa': '(?<=[AFGILTVM][DE]G)R',\n",
       " 'formic acid': 'D',\n",
       " 'glutamyl endopeptidase': 'E',\n",
       " 'granzyme b': '(?<=IEP)D',\n",
       " 'hydroxylamine': 'N(?=G)',\n",
       " 'iodosobenzoic acid': 'W',\n",
       " 'lysc': 'K',\n",
       " 'ntcb': '\\\\w(?=C)',\n",
       " 'pepsin ph1.3': '((?<=[^HKR][^P])[^R](?=[FL][^P]))|((?<=[^HKR][^P])[FL](?=\\\\w[^P]))',\n",
       " 'pepsin ph2.0': '((?<=[^HKR][^P])[^R](?=[FLWY][^P]))|((?<=[^HKR][^P])[FLWY](?=\\\\w[^P]))',\n",
       " 'proline endopeptidase': '(?<=[HKR])P(?=[^P])',\n",
       " 'proteinase k': '[AEFILTVWY]',\n",
       " 'staphylococcal peptidase i': '(?<=[^E])E',\n",
       " 'thermolysin': '[^DE](?=[AFILMV])',\n",
       " 'thrombin': '((?<=G)R(?=G))|((?<=[AFGILTVM][AFGILTVWA]P)R(?=[^DE][^DE]))',\n",
       " 'trypsin': '([KR](?=[^P]))|((?<=W)K(?=P))|((?<=M)R(?=P))',\n",
       " 'trypsin_exception': '((?<=[CD])K(?=D))|((?<=C)K(?=[HY]))|((?<=C)R(?=K))|((?<=R)R(?=[HR]))'}"
      ]
     },
     "execution_count": 7,
     "metadata": {},
     "output_type": "execute_result"
    }
   ],
   "source": [
    "Chef.rules"
   ]
  },
  {
   "cell_type": "markdown",
   "metadata": {},
   "source": [
    "## Trypsin in Silco Digestion"
   ]
  },
  {
   "cell_type": "code",
   "execution_count": 8,
   "metadata": {},
   "outputs": [
    {
     "name": "stdout",
     "output_type": "stream",
     "text": [
      "You order is being processed and the butcher is preparing your trypsin-cut protein(s)!\n",
      "The butcher is working...\n",
      "Preparing your order...\n",
      "Order is up! You have acquired 562353 peptides that are between 7 and 100 amino acids!\n",
      "You order is being processed and the butcher is preparing your trypsin-cut protein(s)!\n",
      "The butcher is working...\n",
      "Preparing your order...\n",
      "Order is up! You have acquired 1551626 peptides that are between 7 and 100 amino acids!\n",
      "You order is being processed and the butcher is preparing your trypsin-cut protein(s)!\n",
      "The butcher is working...\n",
      "Preparing your order...\n",
      "Order is up! You have acquired 2682637 peptides that are between 7 and 100 amino acids!\n",
      "You order is being processed and the butcher is preparing your trypsin-cut protein(s)!\n",
      "The butcher is working...\n",
      "Preparing your order...\n",
      "Order is up! You have acquired 3825623 peptides that are between 7 and 100 amino acids!\n"
     ]
    }
   ],
   "source": [
    "# Trypsin in Silco Digestion\n",
    "missed_sites=[0,1,2,3]\n",
    "enzyme=\"trypsin\"\n",
    "Tryp_Peptides=[]\n",
    "for site in missed_sites:\n",
    "    x=f\"Tryp_{site}_dig\"\n",
    "    z=Chef.ButcherShop(Menu,target=\"Peptide\",identifier=\"Gene\", rule=enzyme,missed=site,exception=None,min_length=7,max_length=100)\n",
    "    globals()[str(x)]=Chef.Deli(z,meat_package=True)\n",
    "    Tryp_Peptides.append(globals()[str(x)])\n",
    "    "
   ]
  },
  {
   "cell_type": "code",
   "execution_count": 9,
   "metadata": {
    "scrolled": false
   },
   "outputs": [
    {
     "data": {
      "text/html": [
       "<div>\n",
       "<style scoped>\n",
       "    .dataframe tbody tr th:only-of-type {\n",
       "        vertical-align: middle;\n",
       "    }\n",
       "\n",
       "    .dataframe tbody tr th {\n",
       "        vertical-align: top;\n",
       "    }\n",
       "\n",
       "    .dataframe thead th {\n",
       "        text-align: right;\n",
       "    }\n",
       "</style>\n",
       "<table border=\"1\" class=\"dataframe\">\n",
       "  <thead>\n",
       "    <tr style=\"text-align: right;\">\n",
       "      <th></th>\n",
       "      <th>gene</th>\n",
       "      <th>aa_comp</th>\n",
       "      <th>peptide</th>\n",
       "      <th>Length</th>\n",
       "      <th>z</th>\n",
       "      <th>Mass</th>\n",
       "      <th>m/z</th>\n",
       "      <th>counts</th>\n",
       "    </tr>\n",
       "  </thead>\n",
       "  <tbody>\n",
       "    <tr>\n",
       "      <th>0</th>\n",
       "      <td>SCGR7</td>\n",
       "      <td>{'M': 1, 'G': 20, 'C': 12, 'S': 2, 'T': 2, 'R'...</td>\n",
       "      <td>MGCCGCGSCGGCGGGCGGCGGGCGGGCGGGCGSCTTCR</td>\n",
       "      <td>38</td>\n",
       "      <td>2</td>\n",
       "      <td>3039</td>\n",
       "      <td>1519.5</td>\n",
       "      <td>4</td>\n",
       "    </tr>\n",
       "    <tr>\n",
       "      <th>1</th>\n",
       "      <td>SCGR7</td>\n",
       "      <td>{'V': 1, 'G': 1, 'C': 6, 'S': 2, 'P': 1, 'R': 1}</td>\n",
       "      <td>VGCCSSCCPCCR</td>\n",
       "      <td>12</td>\n",
       "      <td>2</td>\n",
       "      <td>1201</td>\n",
       "      <td>600.5</td>\n",
       "      <td>4</td>\n",
       "    </tr>\n",
       "    <tr>\n",
       "      <th>2</th>\n",
       "      <td>SCGR7</td>\n",
       "      <td>{'G': 3, 'C': 7, 'S': 1, 'T': 1, 'P': 1, 'V': ...</td>\n",
       "      <td>GCCGGCCSTPVICCCR</td>\n",
       "      <td>16</td>\n",
       "      <td>2</td>\n",
       "      <td>1545</td>\n",
       "      <td>772.5</td>\n",
       "      <td>4</td>\n",
       "    </tr>\n",
       "    <tr>\n",
       "      <th>3</th>\n",
       "      <td>SCGR7</td>\n",
       "      <td>{'T': 1, 'C': 4, 'G': 4, 'S': 1, 'K': 1}</td>\n",
       "      <td>TCGSCGCGCGK</td>\n",
       "      <td>11</td>\n",
       "      <td>2</td>\n",
       "      <td>956</td>\n",
       "      <td>478.0</td>\n",
       "      <td>4</td>\n",
       "    </tr>\n",
       "    <tr>\n",
       "      <th>4</th>\n",
       "      <td>IGS23</td>\n",
       "      <td>{'A': 1, 'K': 1, 'P': 3, 'Q': 1, 'S': 1, 'L': ...</td>\n",
       "      <td>AKPQSPLPR</td>\n",
       "      <td>9</td>\n",
       "      <td>3</td>\n",
       "      <td>975</td>\n",
       "      <td>325.0</td>\n",
       "      <td>7</td>\n",
       "    </tr>\n",
       "  </tbody>\n",
       "</table>\n",
       "</div>"
      ],
      "text/plain": [
       "    gene                                            aa_comp  \\\n",
       "0  SCGR7  {'M': 1, 'G': 20, 'C': 12, 'S': 2, 'T': 2, 'R'...   \n",
       "1  SCGR7   {'V': 1, 'G': 1, 'C': 6, 'S': 2, 'P': 1, 'R': 1}   \n",
       "2  SCGR7  {'G': 3, 'C': 7, 'S': 1, 'T': 1, 'P': 1, 'V': ...   \n",
       "3  SCGR7           {'T': 1, 'C': 4, 'G': 4, 'S': 1, 'K': 1}   \n",
       "4  IGS23  {'A': 1, 'K': 1, 'P': 3, 'Q': 1, 'S': 1, 'L': ...   \n",
       "\n",
       "                                  peptide  Length  z  Mass     m/z  counts  \n",
       "0  MGCCGCGSCGGCGGGCGGCGGGCGGGCGGGCGSCTTCR      38  2  3039  1519.5       4  \n",
       "1                            VGCCSSCCPCCR      12  2  1201   600.5       4  \n",
       "2                        GCCGGCCSTPVICCCR      16  2  1545   772.5       4  \n",
       "3                             TCGSCGCGCGK      11  2   956   478.0       4  \n",
       "4                               AKPQSPLPR       9  3   975   325.0       7  "
      ]
     },
     "execution_count": 9,
     "metadata": {},
     "output_type": "execute_result"
    }
   ],
   "source": [
    "Tryp_0_dig.head()"
   ]
  },
  {
   "cell_type": "code",
   "execution_count": 10,
   "metadata": {},
   "outputs": [
    {
     "data": {
      "text/plain": [
       "4"
      ]
     },
     "execution_count": 10,
     "metadata": {},
     "output_type": "execute_result"
    }
   ],
   "source": [
    "len(Tryp_Peptides)"
   ]
  },
  {
   "cell_type": "code",
   "execution_count": 63,
   "metadata": {
    "scrolled": true
   },
   "outputs": [
    {
     "data": {
      "image/png": "[encoded data removed]",
      "text/plain": [
       "<Figure size 432x288 with 1 Axes>"
      ]
     },
     "metadata": {
      "needs_background": "light"
     },
     "output_type": "display_data"
    }
   ],
   "source": [
    "T_Pep_Counts=[]\n",
    "#Count are in Log10\n",
    "for df in Tryp_Peptides:\n",
    "    log = math.log2(len(df))\n",
    "    T_Pep_Counts.append(log)\n",
    "plt.plot(missed_sites,T_Pep_Counts,color=\"black\")\n",
    "plt.title('Trypsin Digestion - Human Proteome')\n",
    "plt.xlabel('Missed Cleavages per Proteins', fontsize=14)\n",
    "plt.ylabel('Log2(Number of Peptides)', fontsize=14)\n",
    "plt.xticks(fontsize=14)\n",
    "plt.yticks(fontsize=14)\n",
    "plt.ylim([15, 25])\n",
    "Ratios=[]\n",
    "for count in T_Pep_Counts:\n",
    "    ratio=2**(count-T_Pep_Counts[0])\n",
    "    ratiox=float(round(ratio,2))\n",
    "    Ratios.append(ratiox)\n",
    "for x_, y_, name in zip(missed_sites,T_Pep_Counts, Ratios):\n",
    "    plt.text(x_-0.1,y_ + 0.5, name , fontsize=14, color=\"red\")\n",
    "plt.text(1,16,\"Fold Change (rel. 0)\",color=\"red\")\n",
    "plt.show()"
   ]
  },
  {
   "cell_type": "code",
   "execution_count": 64,
   "metadata": {},
   "outputs": [
    {
     "name": "stdout",
     "output_type": "stream",
     "text": [
      "The number of proteins with > 1 peptides : 20445.0\n",
      "Ratio of Proteins with > 1 Peptides Identified: 99.378\n",
      "The number of proteins with > 1 peptides : 20573.0\n",
      "Ratio of Proteins with > 1 Peptides Identified: 99.922\n",
      "The number of proteins with > 1 peptides : 20576.0\n",
      "Ratio of Proteins with > 1 Peptides Identified: 99.937\n",
      "The number of proteins with > 1 peptides : 20577.0\n",
      "Ratio of Proteins with > 1 Peptides Identified: 99.937\n"
     ]
    },
    {
     "data": {
      "image/png": "[encoded data removed]",
      "text/plain": [
       "<Figure size 432x288 with 1 Axes>"
      ]
     },
     "metadata": {
      "needs_background": "light"
     },
     "output_type": "display_data"
    }
   ],
   "source": [
    "T_Pro_Counts=[]\n",
    "#Count are in Log10\n",
    "for df in Tryp_Peptides:\n",
    "    x,y,z=Chef.Wishbone(df,\"gene\",1)\n",
    "    T_Pro_Counts.append(y)\n",
    "plt.plot(missed_sites,T_Pro_Counts,color=\"black\")\n",
    "plt.title('Trypsin Digestion - Human Proteome')\n",
    "plt.xlabel('Missed Cleavages per Proteins', fontsize=14)\n",
    "plt.ylabel('Number of Protein', fontsize=14)\n",
    "plt.xticks(fontsize=14)\n",
    "plt.yticks(fontsize=14)\n",
    "plt.show()"
   ]
  },
  {
   "cell_type": "code",
   "execution_count": 66,
   "metadata": {},
   "outputs": [],
   "source": [
    "def Pep2Pro(protein,peptides):\n",
    "    protein = re.sub(r'[^A-Z]', '', protein)\n",
    "    mask = np.zeros(len(protein), dtype=np.int8)\n",
    "    for peptide in peptides:\n",
    "        indices = [m.start() for m in re.finditer(\n",
    "            '(?={})'.format(re.sub(r'[^A-Z]', '', peptide)), protein)]\n",
    "        for i in indices:\n",
    "            mask[i:i + len(peptide)] = 1\n",
    "    return mask.sum(dtype=float) / mask.size"
   ]
  },
  {
   "cell_type": "code",
   "execution_count": null,
   "metadata": {},
   "outputs": [
    {
     "name": "stdout",
     "output_type": "stream",
     "text": [
      "On to the next...\n"
     ]
    }
   ],
   "source": [
    "raw=Menu[[\"Peptide\", \"Gene\"]].set_index(\"Gene\").to_dict()[\"Peptide\"]\n",
    "cov_df=pd.DataFrame()\n",
    "i=0\n",
    "columns=[\"Tryp_0\",\"Tryp_1\",\"Tryp_2\",\"Tryp_3\",]\n",
    "for df in Tryp_Peptides:\n",
    "    name=f\"SC_{columns[i]}\" \n",
    "    x_list=list()\n",
    "    max_len=len(df)\n",
    "    for gene, protein in raw.items():\n",
    "        temp=df.loc[df.gene == gene][\"peptide\"]\n",
    "        temp2=list(temp)\n",
    "        x=Pep2Pro(protein,temp2)\n",
    "        x_list.append(x)\n",
    "    cov_df[name]= np.array(x_list)\n",
    "    i+=1\n",
    "    print(\"On to the next...\")\n",
    "print(\"Done\")"
   ]
  },
  {
   "cell_type": "code",
   "execution_count": 121,
   "metadata": {},
   "outputs": [
    {
     "data": {
      "text/html": [
       "<div>\n",
       "<style scoped>\n",
       "    .dataframe tbody tr th:only-of-type {\n",
       "        vertical-align: middle;\n",
       "    }\n",
       "\n",
       "    .dataframe tbody tr th {\n",
       "        vertical-align: top;\n",
       "    }\n",
       "\n",
       "    .dataframe thead th {\n",
       "        text-align: right;\n",
       "    }\n",
       "</style>\n",
       "<table border=\"1\" class=\"dataframe\">\n",
       "  <thead>\n",
       "    <tr style=\"text-align: right;\">\n",
       "      <th></th>\n",
       "      <th>SC_         gene                                            aa_comp  \\\\n0       SCGR7  {'M': 1, 'G': 20, 'C': 12, 'S': 2, 'T': 2, 'R'...   \\n1       SCGR7   {'V': 1, 'G': 1, 'C': 6, 'S': 2, 'P': 1, 'R': 1}   \\n2       SCGR7  {'G': 3, 'C': 7, 'S': 1, 'T': 1, 'P': 1, 'V': ...   \\n3       SCGR7           {'T': 1, 'C': 4, 'G': 4, 'S': 1, 'K': 1}   \\n4       IGS23  {'A': 1, 'K': 1, 'P': 3, 'Q': 1, 'S': 1, 'L': ...   \\n...       ...                                                ...   \\n562348  TTC7A  {'E': 2, 'A': 3, 'G': 2, 'F': 2, 'C': 1, 'I': ...   \\n562349  TTC7A   {'G': 1, 'N': 1, 'L': 1, 'E': 2, 'A': 1, 'K': 1}   \\n562350  TTC7A  {'E': 1, 'A': 1, 'L': 1, 'T': 1, 'V': 2, 'N': ...   \\n562351  TTC7A  {'I': 1, 'M': 2, 'H': 1, 'S': 2, 'L': 3, 'G': ...   \\n562352  TTC7A  {'Q': 5, 'S': 4, 'T': 2, 'C': 2, 'H': 1, 'E': ...   \\n\\n                                                 peptide  Length  z  Mass  \\\\n0                 MGCCGCGSCGGCGGGCGGCGGGCGGGCGGGCGSCTTCR      38  2  3039   \\n1                                           VGCCSSCCPCCR      12  2  1201   \\n2                                       GCCGGCCSTPVICCCR      16  2  1545   \\n3                                            TCGSCGCGCGK      11  2   956   \\n4                                              AKPQSPLPR       9  3   975   \\n...                                                  ...     ... ..   ...   \\n562348                           EAGFCIQEAAGLFPTSHSVLYMR      23  3  2507   \\n562349                                           GNLEEAK       7  2   739   \\n562350                                       EALTVNPDGVR      11  2  1150   \\n562351                                       IMHSLGLMLSR      11  3  1238   \\n562352  QSTCHEAWQGLGEVLQAQGQNEAAVDCFLTALELEASSPVLPFSIIPR      48  3  5134   \\n\\n                m/z  counts  \\n0       1519.500000       4  \\n1        600.500000       4  \\n2        772.500000       4  \\n3        478.000000       4  \\n4        325.000000       7  \\n...             ...     ...  \\n562348   835.666667      48  \\n562349   369.500000      48  \\n562350   575.000000      48  \\n562351   412.666667      48  \\n562352  1711.333333      48  \\n\\n[562353 rows x 8 columns]</th>\n",
       "      <th>SC_          gene                                            aa_comp  \\\\n0        SCGR7  {'M': 1, 'G': 20, 'C': 12, 'S': 2, 'T': 2, 'R'...   \\n1        SCGR7  {'M': 1, 'G': 20, 'C': 13, 'S': 2, 'T': 2, 'R'...   \\n2        SCGR7  {'C': 7, 'Y': 1, 'R': 2, 'V': 1, 'G': 1, 'S': ...   \\n3        SCGR7   {'V': 1, 'G': 1, 'C': 6, 'S': 2, 'P': 1, 'R': 1}   \\n4        SCGR7  {'V': 2, 'G': 4, 'C': 13, 'S': 3, 'P': 2, 'R':...   \\n...        ...                                                ...   \\n1551621  TTC7A  {'S': 1, 'L': 2, 'A': 1, 'Q': 1, 'K': 1, 'V': ...   \\n1551622  TTC7A   {'V': 2, 'L': 1, 'R': 2, 'D': 1, 'A': 1, 'E': 1}   \\n1551623  TTC7A  {'D': 2, 'A': 7, 'V': 4, 'E': 6, 'R': 2, 'Q': ...   \\n1551624  TTC7A  {'Q': 5, 'S': 4, 'T': 2, 'C': 2, 'H': 1, 'E': ...   \\n1551625  TTC7A  {'Q': 5, 'S': 4, 'T': 2, 'C': 2, 'H': 1, 'E': ...   \\n\\n                                                   peptide  Length  z  Mass  \\\\n0                   MGCCGCGSCGGCGGGCGGCGGGCGGGCGGGCGSCTTCR      38  2  3039   \\n1                MGCCGCGSCGGCGGGCGGCGGGCGGGCGGGCGSCTTCRCYR      41  3  3462   \\n2                                          CYRVGCCSSCCPCCR      15  3  1623   \\n3                                             VGCCSSCCPCCR      12  2  1201   \\n4                             VGCCSSCCPCCRGCCGGCCSTPVICCCR      28  3  2746   \\n...                                                    ...     ... ..   ...   \\n1551621                                           SLAQKVLR       8  3   896   \\n1551622                                           VLRDAVER       8  3   937   \\n1551623  DAVERQSTCHEAWQGLGEVLQAQGQNEAAVDCFLTALELEASSPVL...      53  4  5703   \\n1551624   QSTCHEAWQGLGEVLQAQGQNEAAVDCFLTALELEASSPVLPFSIIPR      48  3  5134   \\n1551625  QSTCHEAWQGLGEVLQAQGQNEAAVDCFLTALELEASSPVLPFSII...      50  3  5375   \\n\\n                 m/z  counts  \\n0        1519.500000      12  \\n1        1154.000000      12  \\n2         541.000000      12  \\n3         600.500000      12  \\n4         915.333333      12  \\n...              ...     ...  \\n1551621   298.666667     133  \\n1551622   312.333333     133  \\n1551623  1425.750000     133  \\n1551624  1711.333333     133  \\n1551625  1791.666667     133  \\n\\n[1551626 rows x 8 columns]</th>\n",
       "      <th>SC_          gene                                            aa_comp  \\\\n0        SCGR7  {'M': 1, 'G': 20, 'C': 12, 'S': 2, 'T': 2, 'R'...   \\n1        SCGR7  {'M': 1, 'G': 20, 'C': 13, 'S': 2, 'T': 2, 'R'...   \\n2        SCGR7  {'M': 1, 'G': 21, 'C': 19, 'S': 4, 'T': 2, 'R'...   \\n3        SCGR7  {'C': 7, 'Y': 1, 'R': 2, 'V': 1, 'G': 1, 'S': ...   \\n4        SCGR7   {'V': 1, 'G': 1, 'C': 6, 'S': 2, 'P': 1, 'R': 1}   \\n...        ...                                                ...   \\n2682632  TTC7A  {'V': 5, 'L': 7, 'R': 3, 'D': 2, 'A': 7, 'E': ...   \\n2682633  TTC7A  {'D': 2, 'A': 7, 'V': 4, 'E': 6, 'R': 2, 'Q': ...   \\n2682634  TTC7A  {'Q': 5, 'S': 4, 'T': 2, 'C': 2, 'H': 1, 'E': ...   \\n2682635  TTC7A  {'D': 2, 'A': 7, 'V': 4, 'E': 7, 'R': 2, 'Q': ...   \\n2682636  TTC7A  {'Q': 5, 'S': 4, 'T': 2, 'C': 2, 'H': 1, 'E': ...   \\n\\n                                                   peptide  Length  z  Mass  \\\\n0                   MGCCGCGSCGGCGGGCGGCGGGCGGGCGGGCGSCTTCR      38  2  3039   \\n1                MGCCGCGSCGGCGGGCGGCGGGCGGGCGGGCGSCTTCRCYR      41  3  3462   \\n2        MGCCGCGSCGGCGGGCGGCGGGCGGGCGGGCGSCTTCRCYRVGCCS...      53  4  4663   \\n3                                          CYRVGCCSSCCPCCR      15  3  1623   \\n4                                             VGCCSSCCPCCR      12  2  1201   \\n...                                                    ...     ... ..   ...   \\n2682632  VLRDAVERQSTCHEAWQGLGEVLQAQGQNEAAVDCFLTALELEASS...      56  5  6072   \\n2682633  DAVERQSTCHEAWQGLGEVLQAQGQNEAAVDCFLTALELEASSPVL...      53  4  5703   \\n2682634   QSTCHEAWQGLGEVLQAQGQNEAAVDCFLTALELEASSPVLPFSIIPR      48  3  5134   \\n2682635  DAVERQSTCHEAWQGLGEVLQAQGQNEAAVDCFLTALELEASSPVL...      55  4  5944   \\n2682636  QSTCHEAWQGLGEVLQAQGQNEAAVDCFLTALELEASSPVLPFSII...      50  3  5375   \\n\\n                 m/z  counts  \\n0        1519.500000      19  \\n1        1154.000000      19  \\n2        1165.750000      19  \\n3         541.000000      19  \\n4         600.500000      19  \\n...              ...     ...  \\n2682632  1214.400000     222  \\n2682633  1425.750000     222  \\n2682634  1711.333333     222  \\n2682635  1486.000000     222  \\n2682636  1791.666667     222  \\n\\n[2682637 rows x 8 columns]</th>\n",
       "      <th>SC_          gene                                            aa_comp  \\\\n0        SCGR7  {'M': 1, 'G': 20, 'C': 12, 'S': 2, 'T': 2, 'R'...   \\n1        SCGR7  {'M': 1, 'G': 20, 'C': 13, 'S': 2, 'T': 2, 'R'...   \\n2        SCGR7  {'M': 1, 'G': 21, 'C': 19, 'S': 4, 'T': 2, 'R'...   \\n3        SCGR7  {'C': 7, 'Y': 1, 'R': 2, 'V': 1, 'G': 1, 'S': ...   \\n4        SCGR7   {'V': 1, 'G': 1, 'C': 6, 'S': 2, 'P': 1, 'R': 1}   \\n...        ...                                                ...   \\n3825618  TTC7A  {'D': 2, 'A': 7, 'V': 4, 'E': 6, 'R': 2, 'Q': ...   \\n3825619  TTC7A  {'Q': 5, 'S': 4, 'T': 2, 'C': 2, 'H': 1, 'E': ...   \\n3825620  TTC7A  {'V': 5, 'L': 8, 'R': 3, 'D': 2, 'A': 7, 'E': ...   \\n3825621  TTC7A  {'D': 2, 'A': 7, 'V': 4, 'E': 7, 'R': 2, 'Q': ...   \\n3825622  TTC7A  {'Q': 5, 'S': 4, 'T': 2, 'C': 2, 'H': 1, 'E': ...   \\n\\n                                                   peptide  Length  z  Mass  \\\\n0                   MGCCGCGSCGGCGGGCGGCGGGCGGGCGGGCGSCTTCR      38  2  3039   \\n1                MGCCGCGSCGGCGGGCGGCGGGCGGGCGGGCGSCTTCRCYR      41  3  3462   \\n2        MGCCGCGSCGGCGGGCGGCGGGCGGGCGGGCGSCTTCRCYRVGCCS...      53  4  4663   \\n3                                          CYRVGCCSSCCPCCR      15  3  1623   \\n4                                             VGCCSSCCPCCR      12  2  1201   \\n...                                                    ...     ... ..   ...   \\n3825618  DAVERQSTCHEAWQGLGEVLQAQGQNEAAVDCFLTALELEASSPVL...      53  4  5703   \\n3825619   QSTCHEAWQGLGEVLQAQGQNEAAVDCFLTALELEASSPVLPFSIIPR      48  3  5134   \\n3825620  VLRDAVERQSTCHEAWQGLGEVLQAQGQNEAAVDCFLTALELEASS...      58  5  6313   \\n3825621  DAVERQSTCHEAWQGLGEVLQAQGQNEAAVDCFLTALELEASSPVL...      55  4  5944   \\n3825622  QSTCHEAWQGLGEVLQAQGQNEAAVDCFLTALELEASSPVLPFSII...      50  3  5375   \\n\\n                 m/z  counts  \\n0        1519.500000      25  \\n1        1154.000000      25  \\n2        1165.750000      25  \\n3         541.000000      25  \\n4         600.500000      25  \\n...              ...     ...  \\n3825618  1425.750000     310  \\n3825619  1711.333333     310  \\n3825620  1262.600000     310  \\n3825621  1486.000000     310  \\n3825622  1791.666667     310  \\n\\n[3825623 rows x 8 columns]</th>\n",
       "    </tr>\n",
       "  </thead>\n",
       "  <tbody>\n",
       "    <tr>\n",
       "      <th>0</th>\n",
       "      <td>0.802083</td>\n",
       "      <td>1.000000</td>\n",
       "      <td>1.000000</td>\n",
       "      <td>1.000000</td>\n",
       "    </tr>\n",
       "    <tr>\n",
       "      <th>1</th>\n",
       "      <td>0.906250</td>\n",
       "      <td>1.000000</td>\n",
       "      <td>1.000000</td>\n",
       "      <td>1.000000</td>\n",
       "    </tr>\n",
       "    <tr>\n",
       "      <th>2</th>\n",
       "      <td>0.904255</td>\n",
       "      <td>1.000000</td>\n",
       "      <td>1.000000</td>\n",
       "      <td>1.000000</td>\n",
       "    </tr>\n",
       "    <tr>\n",
       "      <th>3</th>\n",
       "      <td>0.682353</td>\n",
       "      <td>0.920588</td>\n",
       "      <td>0.985294</td>\n",
       "      <td>1.000000</td>\n",
       "    </tr>\n",
       "    <tr>\n",
       "      <th>4</th>\n",
       "      <td>0.724340</td>\n",
       "      <td>0.956012</td>\n",
       "      <td>0.988270</td>\n",
       "      <td>0.997067</td>\n",
       "    </tr>\n",
       "    <tr>\n",
       "      <th>...</th>\n",
       "      <td>...</td>\n",
       "      <td>...</td>\n",
       "      <td>...</td>\n",
       "      <td>...</td>\n",
       "    </tr>\n",
       "    <tr>\n",
       "      <th>20609</th>\n",
       "      <td>0.784870</td>\n",
       "      <td>0.988180</td>\n",
       "      <td>1.000000</td>\n",
       "      <td>1.000000</td>\n",
       "    </tr>\n",
       "    <tr>\n",
       "      <th>20610</th>\n",
       "      <td>0.752698</td>\n",
       "      <td>0.963129</td>\n",
       "      <td>1.000000</td>\n",
       "      <td>1.000000</td>\n",
       "    </tr>\n",
       "    <tr>\n",
       "      <th>20611</th>\n",
       "      <td>0.832653</td>\n",
       "      <td>0.998639</td>\n",
       "      <td>1.000000</td>\n",
       "      <td>1.000000</td>\n",
       "    </tr>\n",
       "    <tr>\n",
       "      <th>20612</th>\n",
       "      <td>0.579498</td>\n",
       "      <td>0.845188</td>\n",
       "      <td>0.962343</td>\n",
       "      <td>1.000000</td>\n",
       "    </tr>\n",
       "    <tr>\n",
       "      <th>20613</th>\n",
       "      <td>0.826340</td>\n",
       "      <td>0.998834</td>\n",
       "      <td>1.000000</td>\n",
       "      <td>1.000000</td>\n",
       "    </tr>\n",
       "  </tbody>\n",
       "</table>\n",
       "<p>20614 rows × 4 columns</p>\n",
       "</div>"
      ],
      "text/plain": [
       "       SC_         gene                                            aa_comp  \\\\n0       SCGR7  {'M': 1, 'G': 20, 'C': 12, 'S': 2, 'T': 2, 'R'...   \\n1       SCGR7   {'V': 1, 'G': 1, 'C': 6, 'S': 2, 'P': 1, 'R': 1}   \\n2       SCGR7  {'G': 3, 'C': 7, 'S': 1, 'T': 1, 'P': 1, 'V': ...   \\n3       SCGR7           {'T': 1, 'C': 4, 'G': 4, 'S': 1, 'K': 1}   \\n4       IGS23  {'A': 1, 'K': 1, 'P': 3, 'Q': 1, 'S': 1, 'L': ...   \\n...       ...                                                ...   \\n562348  TTC7A  {'E': 2, 'A': 3, 'G': 2, 'F': 2, 'C': 1, 'I': ...   \\n562349  TTC7A   {'G': 1, 'N': 1, 'L': 1, 'E': 2, 'A': 1, 'K': 1}   \\n562350  TTC7A  {'E': 1, 'A': 1, 'L': 1, 'T': 1, 'V': 2, 'N': ...   \\n562351  TTC7A  {'I': 1, 'M': 2, 'H': 1, 'S': 2, 'L': 3, 'G': ...   \\n562352  TTC7A  {'Q': 5, 'S': 4, 'T': 2, 'C': 2, 'H': 1, 'E': ...   \\n\\n                                                 peptide  Length  z  Mass  \\\\n0                 MGCCGCGSCGGCGGGCGGCGGGCGGGCGGGCGSCTTCR      38  2  3039   \\n1                                           VGCCSSCCPCCR      12  2  1201   \\n2                                       GCCGGCCSTPVICCCR      16  2  1545   \\n3                                            TCGSCGCGCGK      11  2   956   \\n4                                              AKPQSPLPR       9  3   975   \\n...                                                  ...     ... ..   ...   \\n562348                           EAGFCIQEAAGLFPTSHSVLYMR      23  3  2507   \\n562349                                           GNLEEAK       7  2   739   \\n562350                                       EALTVNPDGVR      11  2  1150   \\n562351                                       IMHSLGLMLSR      11  3  1238   \\n562352  QSTCHEAWQGLGEVLQAQGQNEAAVDCFLTALELEASSPVLPFSIIPR      48  3  5134   \\n\\n                m/z  counts  \\n0       1519.500000       4  \\n1        600.500000       4  \\n2        772.500000       4  \\n3        478.000000       4  \\n4        325.000000       7  \\n...             ...     ...  \\n562348   835.666667      48  \\n562349   369.500000      48  \\n562350   575.000000      48  \\n562351   412.666667      48  \\n562352  1711.333333      48  \\n\\n[562353 rows x 8 columns]  \\\n",
       "0                                               0.802083                                                                                                                                                                                                                                                                                                                                                                                                                                                                                                                                                                                                                                                                                                                                                                                                                                                                                                                                                                                                                                                                                                                                                                                                                                                                                                                                                                                                                                                                                                                                                                                                                                                                                                                                                                                                                                                                                                                                                                                                                                                                                                                                                                                                            \n",
       "1                                               0.906250                                                                                                                                                                                                                                                                                                                                                                                                                                                                                                                                                                                                                                                                                                                                                                                                                                                                                                                                                                                                                                                                                                                                                                                                                                                                                                                                                                                                                                                                                                                                                                                                                                                                                                                                                                                                                                                                                                                                                                                                                                                                                                                                                                                                            \n",
       "2                                               0.904255                                                                                                                                                                                                                                                                                                                                                                                                                                                                                                                                                                                                                                                                                                                                                                                                                                                                                                                                                                                                                                                                                                                                                                                                                                                                                                                                                                                                                                                                                                                                                                                                                                                                                                                                                                                                                                                                                                                                                                                                                                                                                                                                                                                                            \n",
       "3                                               0.682353                                                                                                                                                                                                                                                                                                                                                                                                                                                                                                                                                                                                                                                                                                                                                                                                                                                                                                                                                                                                                                                                                                                                                                                                                                                                                                                                                                                                                                                                                                                                                                                                                                                                                                                                                                                                                                                                                                                                                                                                                                                                                                                                                                                                            \n",
       "4                                               0.724340                                                                                                                                                                                                                                                                                                                                                                                                                                                                                                                                                                                                                                                                                                                                                                                                                                                                                                                                                                                                                                                                                                                                                                                                                                                                                                                                                                                                                                                                                                                                                                                                                                                                                                                                                                                                                                                                                                                                                                                                                                                                                                                                                                                                            \n",
       "...                                                  ...                                                                                                                                                                                                                                                                                                                                                                                                                                                                                                                                                                                                                                                                                                                                                                                                                                                                                                                                                                                                                                                                                                                                                                                                                                                                                                                                                                                                                                                                                                                                                                                                                                                                                                                                                                                                                                                                                                                                                                                                                                                                                                                                                                                                            \n",
       "20609                                           0.784870                                                                                                                                                                                                                                                                                                                                                                                                                                                                                                                                                                                                                                                                                                                                                                                                                                                                                                                                                                                                                                                                                                                                                                                                                                                                                                                                                                                                                                                                                                                                                                                                                                                                                                                                                                                                                                                                                                                                                                                                                                                                                                                                                                                                            \n",
       "20610                                           0.752698                                                                                                                                                                                                                                                                                                                                                                                                                                                                                                                                                                                                                                                                                                                                                                                                                                                                                                                                                                                                                                                                                                                                                                                                                                                                                                                                                                                                                                                                                                                                                                                                                                                                                                                                                                                                                                                                                                                                                                                                                                                                                                                                                                                                            \n",
       "20611                                           0.832653                                                                                                                                                                                                                                                                                                                                                                                                                                                                                                                                                                                                                                                                                                                                                                                                                                                                                                                                                                                                                                                                                                                                                                                                                                                                                                                                                                                                                                                                                                                                                                                                                                                                                                                                                                                                                                                                                                                                                                                                                                                                                                                                                                                                            \n",
       "20612                                           0.579498                                                                                                                                                                                                                                                                                                                                                                                                                                                                                                                                                                                                                                                                                                                                                                                                                                                                                                                                                                                                                                                                                                                                                                                                                                                                                                                                                                                                                                                                                                                                                                                                                                                                                                                                                                                                                                                                                                                                                                                                                                                                                                                                                                                                            \n",
       "20613                                           0.826340                                                                                                                                                                                                                                                                                                                                                                                                                                                                                                                                                                                                                                                                                                                                                                                                                                                                                                                                                                                                                                                                                                                                                                                                                                                                                                                                                                                                                                                                                                                                                                                                                                                                                                                                                                                                                                                                                                                                                                                                                                                                                                                                                                                                            \n",
       "\n",
       "       SC_          gene                                            aa_comp  \\\\n0        SCGR7  {'M': 1, 'G': 20, 'C': 12, 'S': 2, 'T': 2, 'R'...   \\n1        SCGR7  {'M': 1, 'G': 20, 'C': 13, 'S': 2, 'T': 2, 'R'...   \\n2        SCGR7  {'C': 7, 'Y': 1, 'R': 2, 'V': 1, 'G': 1, 'S': ...   \\n3        SCGR7   {'V': 1, 'G': 1, 'C': 6, 'S': 2, 'P': 1, 'R': 1}   \\n4        SCGR7  {'V': 2, 'G': 4, 'C': 13, 'S': 3, 'P': 2, 'R':...   \\n...        ...                                                ...   \\n1551621  TTC7A  {'S': 1, 'L': 2, 'A': 1, 'Q': 1, 'K': 1, 'V': ...   \\n1551622  TTC7A   {'V': 2, 'L': 1, 'R': 2, 'D': 1, 'A': 1, 'E': 1}   \\n1551623  TTC7A  {'D': 2, 'A': 7, 'V': 4, 'E': 6, 'R': 2, 'Q': ...   \\n1551624  TTC7A  {'Q': 5, 'S': 4, 'T': 2, 'C': 2, 'H': 1, 'E': ...   \\n1551625  TTC7A  {'Q': 5, 'S': 4, 'T': 2, 'C': 2, 'H': 1, 'E': ...   \\n\\n                                                   peptide  Length  z  Mass  \\\\n0                   MGCCGCGSCGGCGGGCGGCGGGCGGGCGGGCGSCTTCR      38  2  3039   \\n1                MGCCGCGSCGGCGGGCGGCGGGCGGGCGGGCGSCTTCRCYR      41  3  3462   \\n2                                          CYRVGCCSSCCPCCR      15  3  1623   \\n3                                             VGCCSSCCPCCR      12  2  1201   \\n4                             VGCCSSCCPCCRGCCGGCCSTPVICCCR      28  3  2746   \\n...                                                    ...     ... ..   ...   \\n1551621                                           SLAQKVLR       8  3   896   \\n1551622                                           VLRDAVER       8  3   937   \\n1551623  DAVERQSTCHEAWQGLGEVLQAQGQNEAAVDCFLTALELEASSPVL...      53  4  5703   \\n1551624   QSTCHEAWQGLGEVLQAQGQNEAAVDCFLTALELEASSPVLPFSIIPR      48  3  5134   \\n1551625  QSTCHEAWQGLGEVLQAQGQNEAAVDCFLTALELEASSPVLPFSII...      50  3  5375   \\n\\n                 m/z  counts  \\n0        1519.500000      12  \\n1        1154.000000      12  \\n2         541.000000      12  \\n3         600.500000      12  \\n4         915.333333      12  \\n...              ...     ...  \\n1551621   298.666667     133  \\n1551622   312.333333     133  \\n1551623  1425.750000     133  \\n1551624  1711.333333     133  \\n1551625  1791.666667     133  \\n\\n[1551626 rows x 8 columns]  \\\n",
       "0                                               1.000000                                                                                                                                                                                                                                                                                                                                                                                                                                                                                                                                                                                                                                                                                                                                                                                                                                                                                                                                                                                                                                                                                                                                                                                                                                                                                                                                                                                                                                                                                                                                                                                                                                                                                                                                                                                                                                                                                                                                                                                                                                                                                                                                                                                                                                                             \n",
       "1                                               1.000000                                                                                                                                                                                                                                                                                                                                                                                                                                                                                                                                                                                                                                                                                                                                                                                                                                                                                                                                                                                                                                                                                                                                                                                                                                                                                                                                                                                                                                                                                                                                                                                                                                                                                                                                                                                                                                                                                                                                                                                                                                                                                                                                                                                                                                                             \n",
       "2                                               1.000000                                                                                                                                                                                                                                                                                                                                                                                                                                                                                                                                                                                                                                                                                                                                                                                                                                                                                                                                                                                                                                                                                                                                                                                                                                                                                                                                                                                                                                                                                                                                                                                                                                                                                                                                                                                                                                                                                                                                                                                                                                                                                                                                                                                                                                                             \n",
       "3                                               0.920588                                                                                                                                                                                                                                                                                                                                                                                                                                                                                                                                                                                                                                                                                                                                                                                                                                                                                                                                                                                                                                                                                                                                                                                                                                                                                                                                                                                                                                                                                                                                                                                                                                                                                                                                                                                                                                                                                                                                                                                                                                                                                                                                                                                                                                                             \n",
       "4                                               0.956012                                                                                                                                                                                                                                                                                                                                                                                                                                                                                                                                                                                                                                                                                                                                                                                                                                                                                                                                                                                                                                                                                                                                                                                                                                                                                                                                                                                                                                                                                                                                                                                                                                                                                                                                                                                                                                                                                                                                                                                                                                                                                                                                                                                                                                                             \n",
       "...                                                  ...                                                                                                                                                                                                                                                                                                                                                                                                                                                                                                                                                                                                                                                                                                                                                                                                                                                                                                                                                                                                                                                                                                                                                                                                                                                                                                                                                                                                                                                                                                                                                                                                                                                                                                                                                                                                                                                                                                                                                                                                                                                                                                                                                                                                                                                             \n",
       "20609                                           0.988180                                                                                                                                                                                                                                                                                                                                                                                                                                                                                                                                                                                                                                                                                                                                                                                                                                                                                                                                                                                                                                                                                                                                                                                                                                                                                                                                                                                                                                                                                                                                                                                                                                                                                                                                                                                                                                                                                                                                                                                                                                                                                                                                                                                                                                                             \n",
       "20610                                           0.963129                                                                                                                                                                                                                                                                                                                                                                                                                                                                                                                                                                                                                                                                                                                                                                                                                                                                                                                                                                                                                                                                                                                                                                                                                                                                                                                                                                                                                                                                                                                                                                                                                                                                                                                                                                                                                                                                                                                                                                                                                                                                                                                                                                                                                                                             \n",
       "20611                                           0.998639                                                                                                                                                                                                                                                                                                                                                                                                                                                                                                                                                                                                                                                                                                                                                                                                                                                                                                                                                                                                                                                                                                                                                                                                                                                                                                                                                                                                                                                                                                                                                                                                                                                                                                                                                                                                                                                                                                                                                                                                                                                                                                                                                                                                                                                             \n",
       "20612                                           0.845188                                                                                                                                                                                                                                                                                                                                                                                                                                                                                                                                                                                                                                                                                                                                                                                                                                                                                                                                                                                                                                                                                                                                                                                                                                                                                                                                                                                                                                                                                                                                                                                                                                                                                                                                                                                                                                                                                                                                                                                                                                                                                                                                                                                                                                                             \n",
       "20613                                           0.998834                                                                                                                                                                                                                                                                                                                                                                                                                                                                                                                                                                                                                                                                                                                                                                                                                                                                                                                                                                                                                                                                                                                                                                                                                                                                                                                                                                                                                                                                                                                                                                                                                                                                                                                                                                                                                                                                                                                                                                                                                                                                                                                                                                                                                                                             \n",
       "\n",
       "       SC_          gene                                            aa_comp  \\\\n0        SCGR7  {'M': 1, 'G': 20, 'C': 12, 'S': 2, 'T': 2, 'R'...   \\n1        SCGR7  {'M': 1, 'G': 20, 'C': 13, 'S': 2, 'T': 2, 'R'...   \\n2        SCGR7  {'M': 1, 'G': 21, 'C': 19, 'S': 4, 'T': 2, 'R'...   \\n3        SCGR7  {'C': 7, 'Y': 1, 'R': 2, 'V': 1, 'G': 1, 'S': ...   \\n4        SCGR7   {'V': 1, 'G': 1, 'C': 6, 'S': 2, 'P': 1, 'R': 1}   \\n...        ...                                                ...   \\n2682632  TTC7A  {'V': 5, 'L': 7, 'R': 3, 'D': 2, 'A': 7, 'E': ...   \\n2682633  TTC7A  {'D': 2, 'A': 7, 'V': 4, 'E': 6, 'R': 2, 'Q': ...   \\n2682634  TTC7A  {'Q': 5, 'S': 4, 'T': 2, 'C': 2, 'H': 1, 'E': ...   \\n2682635  TTC7A  {'D': 2, 'A': 7, 'V': 4, 'E': 7, 'R': 2, 'Q': ...   \\n2682636  TTC7A  {'Q': 5, 'S': 4, 'T': 2, 'C': 2, 'H': 1, 'E': ...   \\n\\n                                                   peptide  Length  z  Mass  \\\\n0                   MGCCGCGSCGGCGGGCGGCGGGCGGGCGGGCGSCTTCR      38  2  3039   \\n1                MGCCGCGSCGGCGGGCGGCGGGCGGGCGGGCGSCTTCRCYR      41  3  3462   \\n2        MGCCGCGSCGGCGGGCGGCGGGCGGGCGGGCGSCTTCRCYRVGCCS...      53  4  4663   \\n3                                          CYRVGCCSSCCPCCR      15  3  1623   \\n4                                             VGCCSSCCPCCR      12  2  1201   \\n...                                                    ...     ... ..   ...   \\n2682632  VLRDAVERQSTCHEAWQGLGEVLQAQGQNEAAVDCFLTALELEASS...      56  5  6072   \\n2682633  DAVERQSTCHEAWQGLGEVLQAQGQNEAAVDCFLTALELEASSPVL...      53  4  5703   \\n2682634   QSTCHEAWQGLGEVLQAQGQNEAAVDCFLTALELEASSPVLPFSIIPR      48  3  5134   \\n2682635  DAVERQSTCHEAWQGLGEVLQAQGQNEAAVDCFLTALELEASSPVL...      55  4  5944   \\n2682636  QSTCHEAWQGLGEVLQAQGQNEAAVDCFLTALELEASSPVLPFSII...      50  3  5375   \\n\\n                 m/z  counts  \\n0        1519.500000      19  \\n1        1154.000000      19  \\n2        1165.750000      19  \\n3         541.000000      19  \\n4         600.500000      19  \\n...              ...     ...  \\n2682632  1214.400000     222  \\n2682633  1425.750000     222  \\n2682634  1711.333333     222  \\n2682635  1486.000000     222  \\n2682636  1791.666667     222  \\n\\n[2682637 rows x 8 columns]  \\\n",
       "0                                               1.000000                                                                                                                                                                                                                                                                                                                                                                                                                                                                                                                                                                                                                                                                                                                                                                                                                                                                                                                                                                                                                                                                                                                                                                                                                                                                                                                                                                                                                                                                                                                                                                                                                                                                                                                                                                                                                                                                                                                                                                                                                                                                                                                                                                                                                                                             \n",
       "1                                               1.000000                                                                                                                                                                                                                                                                                                                                                                                                                                                                                                                                                                                                                                                                                                                                                                                                                                                                                                                                                                                                                                                                                                                                                                                                                                                                                                                                                                                                                                                                                                                                                                                                                                                                                                                                                                                                                                                                                                                                                                                                                                                                                                                                                                                                                                                             \n",
       "2                                               1.000000                                                                                                                                                                                                                                                                                                                                                                                                                                                                                                                                                                                                                                                                                                                                                                                                                                                                                                                                                                                                                                                                                                                                                                                                                                                                                                                                                                                                                                                                                                                                                                                                                                                                                                                                                                                                                                                                                                                                                                                                                                                                                                                                                                                                                                                             \n",
       "3                                               0.985294                                                                                                                                                                                                                                                                                                                                                                                                                                                                                                                                                                                                                                                                                                                                                                                                                                                                                                                                                                                                                                                                                                                                                                                                                                                                                                                                                                                                                                                                                                                                                                                                                                                                                                                                                                                                                                                                                                                                                                                                                                                                                                                                                                                                                                                             \n",
       "4                                               0.988270                                                                                                                                                                                                                                                                                                                                                                                                                                                                                                                                                                                                                                                                                                                                                                                                                                                                                                                                                                                                                                                                                                                                                                                                                                                                                                                                                                                                                                                                                                                                                                                                                                                                                                                                                                                                                                                                                                                                                                                                                                                                                                                                                                                                                                                             \n",
       "...                                                  ...                                                                                                                                                                                                                                                                                                                                                                                                                                                                                                                                                                                                                                                                                                                                                                                                                                                                                                                                                                                                                                                                                                                                                                                                                                                                                                                                                                                                                                                                                                                                                                                                                                                                                                                                                                                                                                                                                                                                                                                                                                                                                                                                                                                                                                                             \n",
       "20609                                           1.000000                                                                                                                                                                                                                                                                                                                                                                                                                                                                                                                                                                                                                                                                                                                                                                                                                                                                                                                                                                                                                                                                                                                                                                                                                                                                                                                                                                                                                                                                                                                                                                                                                                                                                                                                                                                                                                                                                                                                                                                                                                                                                                                                                                                                                                                             \n",
       "20610                                           1.000000                                                                                                                                                                                                                                                                                                                                                                                                                                                                                                                                                                                                                                                                                                                                                                                                                                                                                                                                                                                                                                                                                                                                                                                                                                                                                                                                                                                                                                                                                                                                                                                                                                                                                                                                                                                                                                                                                                                                                                                                                                                                                                                                                                                                                                                             \n",
       "20611                                           1.000000                                                                                                                                                                                                                                                                                                                                                                                                                                                                                                                                                                                                                                                                                                                                                                                                                                                                                                                                                                                                                                                                                                                                                                                                                                                                                                                                                                                                                                                                                                                                                                                                                                                                                                                                                                                                                                                                                                                                                                                                                                                                                                                                                                                                                                                             \n",
       "20612                                           0.962343                                                                                                                                                                                                                                                                                                                                                                                                                                                                                                                                                                                                                                                                                                                                                                                                                                                                                                                                                                                                                                                                                                                                                                                                                                                                                                                                                                                                                                                                                                                                                                                                                                                                                                                                                                                                                                                                                                                                                                                                                                                                                                                                                                                                                                                             \n",
       "20613                                           1.000000                                                                                                                                                                                                                                                                                                                                                                                                                                                                                                                                                                                                                                                                                                                                                                                                                                                                                                                                                                                                                                                                                                                                                                                                                                                                                                                                                                                                                                                                                                                                                                                                                                                                                                                                                                                                                                                                                                                                                                                                                                                                                                                                                                                                                                                             \n",
       "\n",
       "       SC_          gene                                            aa_comp  \\\\n0        SCGR7  {'M': 1, 'G': 20, 'C': 12, 'S': 2, 'T': 2, 'R'...   \\n1        SCGR7  {'M': 1, 'G': 20, 'C': 13, 'S': 2, 'T': 2, 'R'...   \\n2        SCGR7  {'M': 1, 'G': 21, 'C': 19, 'S': 4, 'T': 2, 'R'...   \\n3        SCGR7  {'C': 7, 'Y': 1, 'R': 2, 'V': 1, 'G': 1, 'S': ...   \\n4        SCGR7   {'V': 1, 'G': 1, 'C': 6, 'S': 2, 'P': 1, 'R': 1}   \\n...        ...                                                ...   \\n3825618  TTC7A  {'D': 2, 'A': 7, 'V': 4, 'E': 6, 'R': 2, 'Q': ...   \\n3825619  TTC7A  {'Q': 5, 'S': 4, 'T': 2, 'C': 2, 'H': 1, 'E': ...   \\n3825620  TTC7A  {'V': 5, 'L': 8, 'R': 3, 'D': 2, 'A': 7, 'E': ...   \\n3825621  TTC7A  {'D': 2, 'A': 7, 'V': 4, 'E': 7, 'R': 2, 'Q': ...   \\n3825622  TTC7A  {'Q': 5, 'S': 4, 'T': 2, 'C': 2, 'H': 1, 'E': ...   \\n\\n                                                   peptide  Length  z  Mass  \\\\n0                   MGCCGCGSCGGCGGGCGGCGGGCGGGCGGGCGSCTTCR      38  2  3039   \\n1                MGCCGCGSCGGCGGGCGGCGGGCGGGCGGGCGSCTTCRCYR      41  3  3462   \\n2        MGCCGCGSCGGCGGGCGGCGGGCGGGCGGGCGSCTTCRCYRVGCCS...      53  4  4663   \\n3                                          CYRVGCCSSCCPCCR      15  3  1623   \\n4                                             VGCCSSCCPCCR      12  2  1201   \\n...                                                    ...     ... ..   ...   \\n3825618  DAVERQSTCHEAWQGLGEVLQAQGQNEAAVDCFLTALELEASSPVL...      53  4  5703   \\n3825619   QSTCHEAWQGLGEVLQAQGQNEAAVDCFLTALELEASSPVLPFSIIPR      48  3  5134   \\n3825620  VLRDAVERQSTCHEAWQGLGEVLQAQGQNEAAVDCFLTALELEASS...      58  5  6313   \\n3825621  DAVERQSTCHEAWQGLGEVLQAQGQNEAAVDCFLTALELEASSPVL...      55  4  5944   \\n3825622  QSTCHEAWQGLGEVLQAQGQNEAAVDCFLTALELEASSPVLPFSII...      50  3  5375   \\n\\n                 m/z  counts  \\n0        1519.500000      25  \\n1        1154.000000      25  \\n2        1165.750000      25  \\n3         541.000000      25  \\n4         600.500000      25  \\n...              ...     ...  \\n3825618  1425.750000     310  \\n3825619  1711.333333     310  \\n3825620  1262.600000     310  \\n3825621  1486.000000     310  \\n3825622  1791.666667     310  \\n\\n[3825623 rows x 8 columns]  \n",
       "0                                               1.000000                                                                                                                                                                                                                                                                                                                                                                                                                                                                                                                                                                                                                                                                                                                                                                                                                                                                                                                                                                                                                                                                                                                                                                                                                                                                                                                                                                                                                                                                                                                                                                                                                                                                                                                                                                                                                                                                                                                                                                                                                                                                                                                                                                                                                                                            \n",
       "1                                               1.000000                                                                                                                                                                                                                                                                                                                                                                                                                                                                                                                                                                                                                                                                                                                                                                                                                                                                                                                                                                                                                                                                                                                                                                                                                                                                                                                                                                                                                                                                                                                                                                                                                                                                                                                                                                                                                                                                                                                                                                                                                                                                                                                                                                                                                                                            \n",
       "2                                               1.000000                                                                                                                                                                                                                                                                                                                                                                                                                                                                                                                                                                                                                                                                                                                                                                                                                                                                                                                                                                                                                                                                                                                                                                                                                                                                                                                                                                                                                                                                                                                                                                                                                                                                                                                                                                                                                                                                                                                                                                                                                                                                                                                                                                                                                                                            \n",
       "3                                               1.000000                                                                                                                                                                                                                                                                                                                                                                                                                                                                                                                                                                                                                                                                                                                                                                                                                                                                                                                                                                                                                                                                                                                                                                                                                                                                                                                                                                                                                                                                                                                                                                                                                                                                                                                                                                                                                                                                                                                                                                                                                                                                                                                                                                                                                                                            \n",
       "4                                               0.997067                                                                                                                                                                                                                                                                                                                                                                                                                                                                                                                                                                                                                                                                                                                                                                                                                                                                                                                                                                                                                                                                                                                                                                                                                                                                                                                                                                                                                                                                                                                                                                                                                                                                                                                                                                                                                                                                                                                                                                                                                                                                                                                                                                                                                                                            \n",
       "...                                                  ...                                                                                                                                                                                                                                                                                                                                                                                                                                                                                                                                                                                                                                                                                                                                                                                                                                                                                                                                                                                                                                                                                                                                                                                                                                                                                                                                                                                                                                                                                                                                                                                                                                                                                                                                                                                                                                                                                                                                                                                                                                                                                                                                                                                                                                                            \n",
       "20609                                           1.000000                                                                                                                                                                                                                                                                                                                                                                                                                                                                                                                                                                                                                                                                                                                                                                                                                                                                                                                                                                                                                                                                                                                                                                                                                                                                                                                                                                                                                                                                                                                                                                                                                                                                                                                                                                                                                                                                                                                                                                                                                                                                                                                                                                                                                                                            \n",
       "20610                                           1.000000                                                                                                                                                                                                                                                                                                                                                                                                                                                                                                                                                                                                                                                                                                                                                                                                                                                                                                                                                                                                                                                                                                                                                                                                                                                                                                                                                                                                                                                                                                                                                                                                                                                                                                                                                                                                                                                                                                                                                                                                                                                                                                                                                                                                                                                            \n",
       "20611                                           1.000000                                                                                                                                                                                                                                                                                                                                                                                                                                                                                                                                                                                                                                                                                                                                                                                                                                                                                                                                                                                                                                                                                                                                                                                                                                                                                                                                                                                                                                                                                                                                                                                                                                                                                                                                                                                                                                                                                                                                                                                                                                                                                                                                                                                                                                                            \n",
       "20612                                           1.000000                                                                                                                                                                                                                                                                                                                                                                                                                                                                                                                                                                                                                                                                                                                                                                                                                                                                                                                                                                                                                                                                                                                                                                                                                                                                                                                                                                                                                                                                                                                                                                                                                                                                                                                                                                                                                                                                                                                                                                                                                                                                                                                                                                                                                                                            \n",
       "20613                                           1.000000                                                                                                                                                                                                                                                                                                                                                                                                                                                                                                                                                                                                                                                                                                                                                                                                                                                                                                                                                                                                                                                                                                                                                                                                                                                                                                                                                                                                                                                                                                                                                                                                                                                                                                                                                                                                                                                                                                                                                                                                                                                                                                                                                                                                                                                            \n",
       "\n",
       "[20614 rows x 4 columns]"
      ]
     },
     "execution_count": 121,
     "metadata": {},
     "output_type": "execute_result"
    }
   ],
   "source": [
    "cov_df"
   ]
  },
  {
   "cell_type": "code",
   "execution_count": null,
   "metadata": {},
   "outputs": [],
   "source": [
    "df1 = cov_df.stack().reset_index()\n",
    "df1.columns = ['Null','Digest','Coverage']\n",
    "df1.drop(['Null'], axis=1, inplace=True)\n",
    "sns.set(font_scale = 4)\n",
    "sns.set_style(\"white\")\n",
    "\n",
    "g=sns.displot(\n",
    "    data=df1,\n",
    "    x=\"Coverage\",,hue=\"Digest\"\n",
    "    kind=\"kde\", height=15,log_scale=(0,0),\n",
    "    \n",
    ")\n",
    "plt.xlabel('Sequence Coverage', fontsize=48)\n",
    "plt.ylabel('Density(KDE)', fontsize=48)\n",
    "cov=float(round(sum(x_list)/len(x_list),2))*100\n",
    "plt.text(0.01,5,f\"Avg. Sequence Coverage : {cov} %\",fontsize=24)\n",
    "plt.title('Trypsin-Digested Human Proteome  Sequence Coverage in Proteins with >2 Peptides',fontname='Arial',fontweight='bold',fontsize=20,pad=30,backgroundcolor='blue',color='yellow',style='oblique');"
   ]
  },
  {
   "cell_type": "code",
   "execution_count": null,
   "metadata": {},
   "outputs": [],
   "source": []
  },
  {
   "cell_type": "markdown",
   "metadata": {},
   "source": [
    "## AspN in Silco Digestion"
   ]
  },
  {
   "cell_type": "code",
   "execution_count": null,
   "metadata": {},
   "outputs": [],
   "source": [
    "# Trypsin in Silco Digestion\n",
    "missed_sites=[0,1,2,3]\n",
    "enzyme=\"asp-n\"\n",
    "for site in missed_sites:\n",
    "    x=f\"AspN{site}_dig\"\n",
    "    z=Chef.ButcherShop(Menu,target=\"Peptide\",identifier=\"Gene\", rule=enzyme,missed=site,exception=None,min_length=7,max_length=100)\n",
    "    globals()[str(x)]=Chef.Deli(z,meat_package=True)"
   ]
  },
  {
   "cell_type": "code",
   "execution_count": null,
   "metadata": {
    "scrolled": false
   },
   "outputs": [],
   "source": [
    "AspN_0_dig.head()"
   ]
  },
  {
   "cell_type": "markdown",
   "metadata": {},
   "source": [
    "## GluC in Silco Digestion"
   ]
  },
  {
   "cell_type": "code",
   "execution_count": null,
   "metadata": {},
   "outputs": [],
   "source": [
    "# Trypsin in Silco Digestion\n",
    "missed_sites=[0,1,2,3]\n",
    "enzyme=\"glutamyl endopeptidase\"\n",
    "for site in missed_sites:\n",
    "    x=f\"GluC_{site}_dig\"\n",
    "    z=Chef.ButcherShop(Menu,target=\"Peptide\",identifier=\"Gene\", rule=enzyme,missed=site,exception=None,min_length=7,max_length=100)\n",
    "    globals()[str(x)]=Chef.Deli(z,meat_package=True)"
   ]
  },
  {
   "cell_type": "code",
   "execution_count": null,
   "metadata": {
    "scrolled": true
   },
   "outputs": [],
   "source": [
    "GluC_0_dig.head()"
   ]
  },
  {
   "cell_type": "markdown",
   "metadata": {},
   "source": [
    "# Raw Experimental Data"
   ]
  },
  {
   "cell_type": "code",
   "execution_count": null,
   "metadata": {},
   "outputs": [],
   "source": []
  }
 ],
 "metadata": {
  "kernelspec": {
   "display_name": "Python 3",
   "language": "python",
   "name": "python3"
  },
  "language_info": {
   "codemirror_mode": {
    "name": "ipython",
    "version": 3
   },
   "file_extension": ".py",
   "mimetype": "text/x-python",
   "name": "python",
   "nbconvert_exporter": "python",
   "pygments_lexer": "ipython3",
   "version": "3.8.3"
  },
  "toc": {
   "base_numbering": 1,
   "nav_menu": {},
   "number_sections": true,
   "sideBar": true,
   "skip_h1_title": false,
   "title_cell": "Table of Contents",
   "title_sidebar": "Contents",
   "toc_cell": false,
   "toc_position": {},
   "toc_section_display": true,
   "toc_window_display": true
  },
  "varInspector": {
   "cols": {
    "lenName": 16,
    "lenType": 16,
    "lenVar": 40
   },
   "kernels_config": {
    "python": {
     "delete_cmd_postfix": "",
     "delete_cmd_prefix": "del ",
     "library": "var_list.py",
     "varRefreshCmd": "print(var_dic_list())"
    },
    "r": {
     "delete_cmd_postfix": ") ",
     "delete_cmd_prefix": "rm(",
     "library": "var_list.r",
     "varRefreshCmd": "cat(var_dic_list()) "
    }
   },
   "types_to_exclude": [
    "module",
    "function",
    "builtin_function_or_method",
    "instance",
    "_Feature"
   ],
   "window_display": false
  }
 },
 "nbformat": 4,
 "nbformat_minor": 4
}
