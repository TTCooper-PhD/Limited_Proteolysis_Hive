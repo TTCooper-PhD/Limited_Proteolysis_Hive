{
 "cells": [
  {
   "cell_type": "code",
   "execution_count": 1,
   "metadata": {},
   "outputs": [],
   "source": [
    "import Peptide_Chef as Chef\n",
    "import math\n",
    "import numpy as np\n",
    "import pandas as pd\n",
    "import matplotlib \n",
    "import matplotlib.pyplot as plt\n",
    "import seaborn as sns\n",
    "# from Peptide_Chef import Cook_Book"
   ]
  },
  {
   "cell_type": "code",
   "execution_count": 2,
   "metadata": {},
   "outputs": [
    {
     "name": "stdout",
     "output_type": "stream",
     "text": [
      "The numpy version is 1.19.1.\n",
      "The pandas version is 1.0.5.\n",
      "The matplotlib version is 3.2.2.\n",
      "The seaborn version is 0.11.0.\n"
     ]
    }
   ],
   "source": [
    "print('The numpy version is {}.'.format(np.__version__))\n",
    "print('The pandas version is {}.'.format(pd.__version__))\n",
    "print('The matplotlib version is {}.'.format(matplotlib.__version__))\n",
    "print('The seaborn version is {}.'.format(sns.__version__))"
   ]
  },
  {
   "cell_type": "markdown",
   "metadata": {},
   "source": [
    "# In silico Digestion "
   ]
  },
  {
   "cell_type": "code",
   "execution_count": 3,
   "metadata": {},
   "outputs": [],
   "source": [
    "# use labelling format (below) to keep track of dfs.\n",
    "##(*_dig= Digestion of Given Enzyme/Missed/Length/Charge)"
   ]
  },
  {
   "cell_type": "code",
   "execution_count": 4,
   "metadata": {},
   "outputs": [],
   "source": [
    "url=\"https://ftp.uniprot.org/pub/databases/uniprot/current_release/knowledgebase/reference_proteomes/Eukaryota/UP000005640/UP000005640_9606.fasta.gz\""
   ]
  },
  {
   "cell_type": "code",
   "execution_count": 5,
   "metadata": {
    "scrolled": true
   },
   "outputs": [
    {
     "name": "stdout",
     "output_type": "stream",
     "text": [
      "Downloading the FASTA file from url...\n",
      "Unzipping...\n",
      "Takeout is Done!\n",
      "Here ya go boss!\n"
     ]
    }
   ],
   "source": [
    "Menu=Chef.CookBook(homebrew=False, takeout=True,url=url,measure=True, target=\"Peptide\")"
   ]
  },
  {
   "cell_type": "code",
   "execution_count": 6,
   "metadata": {
    "scrolled": false
   },
   "outputs": [
    {
     "data": {
      "text/html": [
       "<div>\n",
       "<style scoped>\n",
       "    .dataframe tbody tr th:only-of-type {\n",
       "        vertical-align: middle;\n",
       "    }\n",
       "\n",
       "    .dataframe tbody tr th {\n",
       "        vertical-align: top;\n",
       "    }\n",
       "\n",
       "    .dataframe thead th {\n",
       "        text-align: right;\n",
       "    }\n",
       "</style>\n",
       "<table border=\"1\" class=\"dataframe\">\n",
       "  <thead>\n",
       "    <tr style=\"text-align: right;\">\n",
       "      <th></th>\n",
       "      <th>Peptide</th>\n",
       "      <th>UniprotID</th>\n",
       "      <th>Gene</th>\n",
       "      <th>Identification</th>\n",
       "      <th>Protein_Length</th>\n",
       "    </tr>\n",
       "  </thead>\n",
       "  <tbody>\n",
       "    <tr>\n",
       "      <th>0</th>\n",
       "      <td>MGCCGCGSCGGCGGGCGGCGGGCGGGCGGGCGSCTTCRCYRVGCCS...</td>\n",
       "      <td>A0A286YF01</td>\n",
       "      <td>SCGR7</td>\n",
       "      <td>HUMAN Small cysteine and glycine repeat-contai...</td>\n",
       "      <td>96</td>\n",
       "    </tr>\n",
       "    <tr>\n",
       "      <th>1</th>\n",
       "      <td>MRAKPQSPLPRNPVPAWSPPTTTTDPMLEKDAAGGDFPANLVLQLM...</td>\n",
       "      <td>A1L1A6</td>\n",
       "      <td>IGS23</td>\n",
       "      <td>HUMAN Immunoglobulin superfamily member 23 OS=...</td>\n",
       "      <td>192</td>\n",
       "    </tr>\n",
       "    <tr>\n",
       "      <th>2</th>\n",
       "      <td>MVLLAGTRPQGGEARCMIPPPPSPLLGAQVEEDRTEFKEFQDFSSL...</td>\n",
       "      <td>A6NHS1</td>\n",
       "      <td>YK042</td>\n",
       "      <td>HUMAN Putative uncharacterized protein ENSP000...</td>\n",
       "      <td>94</td>\n",
       "    </tr>\n",
       "    <tr>\n",
       "      <th>3</th>\n",
       "      <td>MRLCLIPWNTTPHRVLPPVVWSAPSRKKPVLSARNSMMFGHLSPVR...</td>\n",
       "      <td>A6NL46</td>\n",
       "      <td>YF016</td>\n",
       "      <td>HUMAN Putative UPF0607 protein ENSP00000332738...</td>\n",
       "      <td>340</td>\n",
       "    </tr>\n",
       "    <tr>\n",
       "      <th>4</th>\n",
       "      <td>MRLCLIPQNTGTPQRVLPPVVWSPPSRKKPMLSACNSMMFGHLSPV...</td>\n",
       "      <td>A8MUI8</td>\n",
       "      <td>YA034</td>\n",
       "      <td>HUMAN Putative UPF0607 protein ENSP00000383783...</td>\n",
       "      <td>341</td>\n",
       "    </tr>\n",
       "  </tbody>\n",
       "</table>\n",
       "</div>"
      ],
      "text/plain": [
       "                                             Peptide   UniprotID   Gene  \\\n",
       "0  MGCCGCGSCGGCGGGCGGCGGGCGGGCGGGCGSCTTCRCYRVGCCS...  A0A286YF01  SCGR7   \n",
       "1  MRAKPQSPLPRNPVPAWSPPTTTTDPMLEKDAAGGDFPANLVLQLM...      A1L1A6  IGS23   \n",
       "2  MVLLAGTRPQGGEARCMIPPPPSPLLGAQVEEDRTEFKEFQDFSSL...      A6NHS1  YK042   \n",
       "3  MRLCLIPWNTTPHRVLPPVVWSAPSRKKPVLSARNSMMFGHLSPVR...      A6NL46  YF016   \n",
       "4  MRLCLIPQNTGTPQRVLPPVVWSPPSRKKPMLSACNSMMFGHLSPV...      A8MUI8  YA034   \n",
       "\n",
       "                                      Identification  Protein_Length  \n",
       "0  HUMAN Small cysteine and glycine repeat-contai...              96  \n",
       "1  HUMAN Immunoglobulin superfamily member 23 OS=...             192  \n",
       "2  HUMAN Putative uncharacterized protein ENSP000...              94  \n",
       "3  HUMAN Putative UPF0607 protein ENSP00000332738...             340  \n",
       "4  HUMAN Putative UPF0607 protein ENSP00000383783...             341  "
      ]
     },
     "execution_count": 6,
     "metadata": {},
     "output_type": "execute_result"
    }
   ],
   "source": [
    "Menu.head()"
   ]
  },
  {
   "cell_type": "code",
   "execution_count": 7,
   "metadata": {
    "scrolled": false
   },
   "outputs": [
    {
     "data": {
      "text/plain": [
       "{'arg-c': 'R',\n",
       " 'asp-n': '\\\\w(?=D)',\n",
       " 'bnps-skatole': 'W',\n",
       " 'caspase 1': '(?<=[FWYL]\\\\w[HAT])D(?=[^PEDQKR])',\n",
       " 'caspase 2': '(?<=DVA)D(?=[^PEDQKR])',\n",
       " 'caspase 3': '(?<=DMQ)D(?=[^PEDQKR])',\n",
       " 'caspase 4': '(?<=LEV)D(?=[^PEDQKR])',\n",
       " 'caspase 5': '(?<=[LW]EH)D',\n",
       " 'caspase 6': '(?<=VE[HI])D(?=[^PEDQKR])',\n",
       " 'caspase 7': '(?<=DEV)D(?=[^PEDQKR])',\n",
       " 'caspase 8': '(?<=[IL]ET)D(?=[^PEDQKR])',\n",
       " 'caspase 9': '(?<=LEH)D',\n",
       " 'caspase 10': '(?<=IEA)D',\n",
       " 'chymotrypsin high specificity': '([FY](?=[^P]))|(W(?=[^MP]))',\n",
       " 'chymotrypsin low specificity': '([FLY](?=[^P]))|(W(?=[^MP]))|(M(?=[^PY]))|(H(?=[^DMPW]))',\n",
       " 'clostripain': 'R',\n",
       " 'cnbr': 'M',\n",
       " 'enterokinase': '(?<=[DE]{3})K',\n",
       " 'factor xa': '(?<=[AFGILTVM][DE]G)R',\n",
       " 'formic acid': 'D',\n",
       " 'glutamyl endopeptidase': 'E',\n",
       " 'granzyme b': '(?<=IEP)D',\n",
       " 'hydroxylamine': 'N(?=G)',\n",
       " 'iodosobenzoic acid': 'W',\n",
       " 'lysc': 'K',\n",
       " 'ntcb': '\\\\w(?=C)',\n",
       " 'pepsin ph1.3': '((?<=[^HKR][^P])[^R](?=[FL][^P]))|((?<=[^HKR][^P])[FL](?=\\\\w[^P]))',\n",
       " 'pepsin ph2.0': '((?<=[^HKR][^P])[^R](?=[FLWY][^P]))|((?<=[^HKR][^P])[FLWY](?=\\\\w[^P]))',\n",
       " 'proline endopeptidase': '(?<=[HKR])P(?=[^P])',\n",
       " 'proteinase k': '[AEFILTVWY]',\n",
       " 'staphylococcal peptidase i': '(?<=[^E])E',\n",
       " 'thermolysin': '[^DE](?=[AFILMV])',\n",
       " 'thrombin': '((?<=G)R(?=G))|((?<=[AFGILTVM][AFGILTVWA]P)R(?=[^DE][^DE]))',\n",
       " 'trypsin': '([KR](?=[^P]))|((?<=W)K(?=P))|((?<=M)R(?=P))',\n",
       " 'trypsin_exception': '((?<=[CD])K(?=D))|((?<=C)K(?=[HY]))|((?<=C)R(?=K))|((?<=R)R(?=[HR]))'}"
      ]
     },
     "execution_count": 7,
     "metadata": {},
     "output_type": "execute_result"
    }
   ],
   "source": [
    "Chef.rules"
   ]
  },
  {
   "cell_type": "markdown",
   "metadata": {},
   "source": [
    "## Trypsin in Silco Digestion"
   ]
  },
  {
   "cell_type": "code",
   "execution_count": 8,
   "metadata": {},
   "outputs": [
    {
     "name": "stdout",
     "output_type": "stream",
     "text": [
      "You order is being processed and the butcher is preparing your trypsin-cut protein(s)!\n",
      "The butcher is working...\n",
      "Generating trypsin-cut peptides based on 0-missed cleavages. \n",
      "Preparing your order...\n",
      "Order is up! You have acquired 418473 peptides that are between 7 and 100 amino acids!\n",
      "You order is being processed and the butcher is preparing your trypsin-cut protein(s)!\n",
      "The butcher is working...\n",
      "Generating trypsin-cut peptides based on 1-missed cleavages. \n",
      "Preparing your order...\n",
      "Order is up! You have acquired 1153504 peptides that are between 7 and 100 amino acids!\n"
     ]
    }
   ],
   "source": [
    "# Trypsin in Silco Digestion\n",
    "missed_sites=[0,1,2,3]\n",
    "enzyme=\"trypsin\"\n",
    "Tryp_Peptides=[]\n",
    "for site in missed_sites:\n",
    "    x=f\"Tryp_{site}_dig\"\n",
    "    z=Chef.ButcherShop(Menu,target=\"Peptide\",identifier=\"Gene\", rule=enzyme,missed=site,exception=None,min_length=7,max_length=100)\n",
    "    globals()[str(x)]=Chef.Deli(z,meat_package=True)\n",
    "    Tryp_Peptides.append(globals()[str(x)])\n",
    "    "
   ]
  },
  {
   "cell_type": "code",
   "execution_count": 9,
   "metadata": {
    "scrolled": false
   },
   "outputs": [
    {
     "data": {
      "text/html": [
       "<div>\n",
       "<style scoped>\n",
       "    .dataframe tbody tr th:only-of-type {\n",
       "        vertical-align: middle;\n",
       "    }\n",
       "\n",
       "    .dataframe tbody tr th {\n",
       "        vertical-align: top;\n",
       "    }\n",
       "\n",
       "    .dataframe thead th {\n",
       "        text-align: right;\n",
       "    }\n",
       "</style>\n",
       "<table border=\"1\" class=\"dataframe\">\n",
       "  <thead>\n",
       "    <tr style=\"text-align: right;\">\n",
       "      <th></th>\n",
       "      <th>SCGR7</th>\n",
       "      <th>gene</th>\n",
       "      <th>aa_comp</th>\n",
       "      <th>peptide</th>\n",
       "      <th>Length</th>\n",
       "      <th>z</th>\n",
       "      <th>Mass</th>\n",
       "      <th>m/z</th>\n",
       "      <th>counts</th>\n",
       "    </tr>\n",
       "  </thead>\n",
       "  <tbody>\n",
       "    <tr>\n",
       "      <th>0</th>\n",
       "      <td>TCGSCGCGCGK</td>\n",
       "      <td>SCGR7</td>\n",
       "      <td>{'T': 1, 'C': 4, 'G': 4, 'S': 1, 'K': 1}</td>\n",
       "      <td>TCGSCGCGCGK</td>\n",
       "      <td>11</td>\n",
       "      <td>2</td>\n",
       "      <td>956</td>\n",
       "      <td>478.000000</td>\n",
       "      <td>4</td>\n",
       "    </tr>\n",
       "    <tr>\n",
       "      <th>1</th>\n",
       "      <td>TCGSCGCGCGK</td>\n",
       "      <td>SCGR7</td>\n",
       "      <td>{'T': 1, 'C': 4, 'G': 4, 'S': 1, 'K': 1}</td>\n",
       "      <td>TCGSCGCGCGK</td>\n",
       "      <td>11</td>\n",
       "      <td>2</td>\n",
       "      <td>956</td>\n",
       "      <td>478.000000</td>\n",
       "      <td>4</td>\n",
       "    </tr>\n",
       "    <tr>\n",
       "      <th>2</th>\n",
       "      <td>TCGSCGCGCGK</td>\n",
       "      <td>SCGR7</td>\n",
       "      <td>{'T': 1, 'C': 4, 'G': 4, 'S': 1, 'K': 1}</td>\n",
       "      <td>TCGSCGCGCGK</td>\n",
       "      <td>11</td>\n",
       "      <td>2</td>\n",
       "      <td>956</td>\n",
       "      <td>478.000000</td>\n",
       "      <td>4</td>\n",
       "    </tr>\n",
       "    <tr>\n",
       "      <th>3</th>\n",
       "      <td>TCGSCGCGCGK</td>\n",
       "      <td>SCGR7</td>\n",
       "      <td>{'T': 1, 'C': 4, 'G': 4, 'S': 1, 'K': 1}</td>\n",
       "      <td>TCGSCGCGCGK</td>\n",
       "      <td>11</td>\n",
       "      <td>2</td>\n",
       "      <td>956</td>\n",
       "      <td>478.000000</td>\n",
       "      <td>4</td>\n",
       "    </tr>\n",
       "    <tr>\n",
       "      <th>4</th>\n",
       "      <td>NaN</td>\n",
       "      <td>IGS23</td>\n",
       "      <td>{'Q': 3, 'L': 9, 'V': 2, 'S': 6, 'E': 4, 'P': ...</td>\n",
       "      <td>QLVSEPVTISLPKPIMQPTEAEPMEPDPTLSLSGGSAIGLLAAGIL...</td>\n",
       "      <td>64</td>\n",
       "      <td>3</td>\n",
       "      <td>6463</td>\n",
       "      <td>2154.333333</td>\n",
       "      <td>7</td>\n",
       "    </tr>\n",
       "  </tbody>\n",
       "</table>\n",
       "</div>"
      ],
      "text/plain": [
       "         SCGR7   gene                                            aa_comp  \\\n",
       "0  TCGSCGCGCGK  SCGR7           {'T': 1, 'C': 4, 'G': 4, 'S': 1, 'K': 1}   \n",
       "1  TCGSCGCGCGK  SCGR7           {'T': 1, 'C': 4, 'G': 4, 'S': 1, 'K': 1}   \n",
       "2  TCGSCGCGCGK  SCGR7           {'T': 1, 'C': 4, 'G': 4, 'S': 1, 'K': 1}   \n",
       "3  TCGSCGCGCGK  SCGR7           {'T': 1, 'C': 4, 'G': 4, 'S': 1, 'K': 1}   \n",
       "4          NaN  IGS23  {'Q': 3, 'L': 9, 'V': 2, 'S': 6, 'E': 4, 'P': ...   \n",
       "\n",
       "                                             peptide  Length  z  Mass  \\\n",
       "0                                        TCGSCGCGCGK      11  2   956   \n",
       "1                                        TCGSCGCGCGK      11  2   956   \n",
       "2                                        TCGSCGCGCGK      11  2   956   \n",
       "3                                        TCGSCGCGCGK      11  2   956   \n",
       "4  QLVSEPVTISLPKPIMQPTEAEPMEPDPTLSLSGGSAIGLLAAGIL...      64  3  6463   \n",
       "\n",
       "           m/z  counts  \n",
       "0   478.000000       4  \n",
       "1   478.000000       4  \n",
       "2   478.000000       4  \n",
       "3   478.000000       4  \n",
       "4  2154.333333       7  "
      ]
     },
     "execution_count": 9,
     "metadata": {},
     "output_type": "execute_result"
    }
   ],
   "source": [
    "Tryp_0_dig.head()"
   ]
  },
  {
   "cell_type": "code",
   "execution_count": 33,
   "metadata": {
    "scrolled": false
   },
   "outputs": [
    {
     "data": {
      "text/plain": [
       "5150"
      ]
     },
     "execution_count": 33,
     "metadata": {},
     "output_type": "execute_result"
    }
   ],
   "source": [
    "Marked = set(Tryp_0_dig.gene)\n",
    "Total= set(Menu.Gene)\n",
    "unique= list(Marked ^ Total)\n",
    "len(unique)"
   ]
  },
  {
   "cell_type": "code",
   "execution_count": 55,
   "metadata": {},
   "outputs": [
    {
     "data": {
      "text/html": [
       "<div>\n",
       "<style scoped>\n",
       "    .dataframe tbody tr th:only-of-type {\n",
       "        vertical-align: middle;\n",
       "    }\n",
       "\n",
       "    .dataframe tbody tr th {\n",
       "        vertical-align: top;\n",
       "    }\n",
       "\n",
       "    .dataframe thead th {\n",
       "        text-align: right;\n",
       "    }\n",
       "</style>\n",
       "<table border=\"1\" class=\"dataframe\">\n",
       "  <thead>\n",
       "    <tr style=\"text-align: right;\">\n",
       "      <th></th>\n",
       "      <th>index</th>\n",
       "      <th>Peptide</th>\n",
       "      <th>UniprotID</th>\n",
       "      <th>Gene</th>\n",
       "      <th>Identification</th>\n",
       "      <th>Protein_Length</th>\n",
       "    </tr>\n",
       "  </thead>\n",
       "  <tbody>\n",
       "    <tr>\n",
       "      <th>0</th>\n",
       "      <td>6</td>\n",
       "      <td>MVGGGWKRRPGAGAGPQCEKTVDVKKSKFCEADVSSDLRKEVENHY...</td>\n",
       "      <td>A8MVJ9</td>\n",
       "      <td>HPF1L</td>\n",
       "      <td>HUMAN Putative histone PARylation factor 1-lik...</td>\n",
       "      <td>347</td>\n",
       "    </tr>\n",
       "    <tr>\n",
       "      <th>1</th>\n",
       "      <td>9</td>\n",
       "      <td>MTGSNSHITILTLNVNGLNSPIKRHRLASWIKSQDPSVCCIQETHL...</td>\n",
       "      <td>O00370</td>\n",
       "      <td>LORF2</td>\n",
       "      <td>HUMAN LINE-1 retrotransposable element ORF2 pr...</td>\n",
       "      <td>1275</td>\n",
       "    </tr>\n",
       "    <tr>\n",
       "      <th>2</th>\n",
       "      <td>13</td>\n",
       "      <td>MASKPAAGKSRGEKRKRVVLTLKEKIDICTRLEKGESRKALMQEYN...</td>\n",
       "      <td>O75564</td>\n",
       "      <td>JERKY</td>\n",
       "      <td>HUMAN Jerky protein homolog OS=Homo sapiens OX...</td>\n",
       "      <td>556</td>\n",
       "    </tr>\n",
       "    <tr>\n",
       "      <th>3</th>\n",
       "      <td>20</td>\n",
       "      <td>MAENGDNEKMAALEAKICHQIEYYFGDFNLPRDKFLKEQIKLDEGW...</td>\n",
       "      <td>P05455</td>\n",
       "      <td>LA</td>\n",
       "      <td>HUMAN Lupus La protein OS=Homo sapiens OX=9606...</td>\n",
       "      <td>408</td>\n",
       "    </tr>\n",
       "    <tr>\n",
       "      <th>4</th>\n",
       "      <td>21</td>\n",
       "      <td>MIRTLLLSTLVAGALSCGVSTYAPDMSRMLGGEEARPNSWPWQVSL...</td>\n",
       "      <td>P08218</td>\n",
       "      <td>CEL2B</td>\n",
       "      <td>HUMAN Chymotrypsin-like elastase family member...</td>\n",
       "      <td>269</td>\n",
       "    </tr>\n",
       "    <tr>\n",
       "      <th>...</th>\n",
       "      <td>...</td>\n",
       "      <td>...</td>\n",
       "      <td>...</td>\n",
       "      <td>...</td>\n",
       "      <td>...</td>\n",
       "      <td>...</td>\n",
       "    </tr>\n",
       "    <tr>\n",
       "      <th>5145</th>\n",
       "      <td>20596</td>\n",
       "      <td>MADRSLEGMALPLEVRARLAELELELSEGDITQKGYEKKRSKLIGA...</td>\n",
       "      <td>Q9Y2E4</td>\n",
       "      <td>DIP2C</td>\n",
       "      <td>HUMAN Disco-interacting protein 2 homolog C OS...</td>\n",
       "      <td>1556</td>\n",
       "    </tr>\n",
       "    <tr>\n",
       "      <th>5146</th>\n",
       "      <td>20601</td>\n",
       "      <td>MATERSRSAMDSPVPASMFAPEPSSPGAARAAAAAARLHGGFDSDC...</td>\n",
       "      <td>O00178</td>\n",
       "      <td>GTPB1</td>\n",
       "      <td>HUMAN GTP-binding protein 1 OS=Homo sapiens OX...</td>\n",
       "      <td>669</td>\n",
       "    </tr>\n",
       "    <tr>\n",
       "      <th>5147</th>\n",
       "      <td>20602</td>\n",
       "      <td>MASRKEGTGSTATSSSSTAGAAGKGKGKGGSGDSAVKQVQIDGLVV...</td>\n",
       "      <td>O15372</td>\n",
       "      <td>EIF3H</td>\n",
       "      <td>HUMAN Eukaryotic translation initiation factor...</td>\n",
       "      <td>352</td>\n",
       "    </tr>\n",
       "    <tr>\n",
       "      <th>5148</th>\n",
       "      <td>20606</td>\n",
       "      <td>MSATDRMGPRAVPGLRLALLLLLVLGTPKSGVQGQEGLDFPEYDGV...</td>\n",
       "      <td>P31415</td>\n",
       "      <td>CASQ1</td>\n",
       "      <td>HUMAN Calsequestrin-1 OS=Homo sapiens OX=9606 ...</td>\n",
       "      <td>396</td>\n",
       "    </tr>\n",
       "    <tr>\n",
       "      <th>5149</th>\n",
       "      <td>20610</td>\n",
       "      <td>MAAGKSGGSAGEITFLEALARSESKRDGGFKNNWSFDHEEESEGDT...</td>\n",
       "      <td>Q9GZR1</td>\n",
       "      <td>SENP6</td>\n",
       "      <td>HUMAN Sentrin-specific protease 6 OS=Homo sapi...</td>\n",
       "      <td>1112</td>\n",
       "    </tr>\n",
       "  </tbody>\n",
       "</table>\n",
       "<p>5150 rows × 6 columns</p>\n",
       "</div>"
      ],
      "text/plain": [
       "      index                                            Peptide UniprotID  \\\n",
       "0         6  MVGGGWKRRPGAGAGPQCEKTVDVKKSKFCEADVSSDLRKEVENHY...    A8MVJ9   \n",
       "1         9  MTGSNSHITILTLNVNGLNSPIKRHRLASWIKSQDPSVCCIQETHL...    O00370   \n",
       "2        13  MASKPAAGKSRGEKRKRVVLTLKEKIDICTRLEKGESRKALMQEYN...    O75564   \n",
       "3        20  MAENGDNEKMAALEAKICHQIEYYFGDFNLPRDKFLKEQIKLDEGW...    P05455   \n",
       "4        21  MIRTLLLSTLVAGALSCGVSTYAPDMSRMLGGEEARPNSWPWQVSL...    P08218   \n",
       "...     ...                                                ...       ...   \n",
       "5145  20596  MADRSLEGMALPLEVRARLAELELELSEGDITQKGYEKKRSKLIGA...    Q9Y2E4   \n",
       "5146  20601  MATERSRSAMDSPVPASMFAPEPSSPGAARAAAAAARLHGGFDSDC...    O00178   \n",
       "5147  20602  MASRKEGTGSTATSSSSTAGAAGKGKGKGGSGDSAVKQVQIDGLVV...    O15372   \n",
       "5148  20606  MSATDRMGPRAVPGLRLALLLLLVLGTPKSGVQGQEGLDFPEYDGV...    P31415   \n",
       "5149  20610  MAAGKSGGSAGEITFLEALARSESKRDGGFKNNWSFDHEEESEGDT...    Q9GZR1   \n",
       "\n",
       "       Gene                                     Identification  Protein_Length  \n",
       "0     HPF1L  HUMAN Putative histone PARylation factor 1-lik...             347  \n",
       "1     LORF2  HUMAN LINE-1 retrotransposable element ORF2 pr...            1275  \n",
       "2     JERKY  HUMAN Jerky protein homolog OS=Homo sapiens OX...             556  \n",
       "3        LA  HUMAN Lupus La protein OS=Homo sapiens OX=9606...             408  \n",
       "4     CEL2B  HUMAN Chymotrypsin-like elastase family member...             269  \n",
       "...     ...                                                ...             ...  \n",
       "5145  DIP2C  HUMAN Disco-interacting protein 2 homolog C OS...            1556  \n",
       "5146  GTPB1  HUMAN GTP-binding protein 1 OS=Homo sapiens OX...             669  \n",
       "5147  EIF3H  HUMAN Eukaryotic translation initiation factor...             352  \n",
       "5148  CASQ1  HUMAN Calsequestrin-1 OS=Homo sapiens OX=9606 ...             396  \n",
       "5149  SENP6  HUMAN Sentrin-specific protease 6 OS=Homo sapi...            1112  \n",
       "\n",
       "[5150 rows x 6 columns]"
      ]
     },
     "execution_count": 55,
     "metadata": {},
     "output_type": "execute_result"
    }
   ],
   "source": [
    "T_Missed = Menu[Menu['Gene'].isin(unique)]\n",
    "T_Missed.reset_index(inplace=True)\n",
    "T_Missed"
   ]
  },
  {
   "cell_type": "code",
   "execution_count": 47,
   "metadata": {
    "scrolled": true
   },
   "outputs": [
    {
     "data": {
      "text/plain": [
       "['MVGGGWK',\n",
       " 'RPGAGAGPQCEK',\n",
       " 'FCEADVSSDLR',\n",
       " 'EVENHYTLSLPEDFYHFWK',\n",
       " 'FCEELDSEKPADPLSASLGLQLVDPYNILAGK',\n",
       " 'STVPNFNLHWR',\n",
       " 'FYYDPPEFQTIIIR',\n",
       " 'LSATWGISDR',\n",
       " 'DSPDELPVYVGINEAK',\n",
       " 'NCIIVPNGDNVFAAVK',\n",
       " 'ELGYSLEQR',\n",
       " 'TFHGTGLVPPVDK',\n",
       " 'ELPETDADLK',\n",
       " 'TIVEAASDDER',\n",
       " 'AFAPIQEMMTFVQFANDECDYGMGLELGMDLFCYGSHYFHK',\n",
       " 'VAGQLLPLAYNLLK',\n",
       " 'NLFAEIMK',\n",
       " 'ENIDQFAA']"
      ]
     },
     "execution_count": 47,
     "metadata": {},
     "output_type": "execute_result"
    }
   ],
   "source": [
    "x=Chef.Cleaver(T_Missed[\"Peptide\"][0],rule=\"trypsin\",exception=None,missed_cleavages=0,min_length=7,max_length=100)\n",
    "x"
   ]
  },
  {
   "cell_type": "code",
   "execution_count": 56,
   "metadata": {},
   "outputs": [
    {
     "data": {
      "text/html": [
       "<div>\n",
       "<style scoped>\n",
       "    .dataframe tbody tr th:only-of-type {\n",
       "        vertical-align: middle;\n",
       "    }\n",
       "\n",
       "    .dataframe tbody tr th {\n",
       "        vertical-align: top;\n",
       "    }\n",
       "\n",
       "    .dataframe thead th {\n",
       "        text-align: right;\n",
       "    }\n",
       "</style>\n",
       "<table border=\"1\" class=\"dataframe\">\n",
       "  <thead>\n",
       "    <tr style=\"text-align: right;\">\n",
       "      <th></th>\n",
       "      <th>SCGR7</th>\n",
       "      <th>gene</th>\n",
       "      <th>aa_comp</th>\n",
       "      <th>peptide</th>\n",
       "      <th>Length</th>\n",
       "      <th>z</th>\n",
       "      <th>Mass</th>\n",
       "      <th>m/z</th>\n",
       "      <th>counts</th>\n",
       "    </tr>\n",
       "  </thead>\n",
       "  <tbody>\n",
       "  </tbody>\n",
       "</table>\n",
       "</div>"
      ],
      "text/plain": [
       "Empty DataFrame\n",
       "Columns: [SCGR7, gene, aa_comp, peptide, Length, z, Mass, m/z, counts]\n",
       "Index: []"
      ]
     },
     "execution_count": 56,
     "metadata": {},
     "output_type": "execute_result"
    }
   ],
   "source": [
    "Tryp_0_dig[Tryp_0_dig[\"gene\"]==\"LA\"]"
   ]
  },
  {
   "cell_type": "code",
   "execution_count": 45,
   "metadata": {
    "scrolled": true
   },
   "outputs": [
    {
     "name": "stdout",
     "output_type": "stream",
     "text": [
      "Marinating peptides...\n"
     ]
    },
    {
     "name": "stderr",
     "output_type": "stream",
     "text": [
      "C:\\Users\\tcoop\\Anaconda3\\envs\\SciFly\\lib\\site-packages\\Peptide_Chef\\__init__.py:345: SettingWithCopyWarning: \n",
      "A value is trying to be set on a copy of a slice from a DataFrame.\n",
      "Try using .loc[row_indexer,col_indexer] = value instead\n",
      "\n",
      "See the caveats in the documentation: https://pandas.pydata.org/pandas-docs/stable/user_guide/indexing.html#returning-a-view-versus-a-copy\n",
      "  df[\"IPC\"]=df[target].apply(Scales.Peptide_IPC)\n"
     ]
    },
    {
     "name": "stdout",
     "output_type": "stream",
     "text": [
      "IPC calculated!\n",
      "Its all GRAVY Baby!\n",
      "Charge at Neutral pH added!\n",
      "Peptides have been marinated!\n"
     ]
    },
    {
     "name": "stderr",
     "output_type": "stream",
     "text": [
      "C:\\Users\\tcoop\\Anaconda3\\envs\\SciFly\\lib\\site-packages\\Peptide_Chef\\__init__.py:348: SettingWithCopyWarning: \n",
      "A value is trying to be set on a copy of a slice from a DataFrame.\n",
      "Try using .loc[row_indexer,col_indexer] = value instead\n",
      "\n",
      "See the caveats in the documentation: https://pandas.pydata.org/pandas-docs/stable/user_guide/indexing.html#returning-a-view-versus-a-copy\n",
      "  df[\"Hydro_Sum\"]=df[target].apply(Scales.Peptide_GRAVY)\n",
      "C:\\Users\\tcoop\\Anaconda3\\envs\\SciFly\\lib\\site-packages\\Peptide_Chef\\__init__.py:351: SettingWithCopyWarning: \n",
      "A value is trying to be set on a copy of a slice from a DataFrame.\n",
      "Try using .loc[row_indexer,col_indexer] = value instead\n",
      "\n",
      "See the caveats in the documentation: https://pandas.pydata.org/pandas-docs/stable/user_guide/indexing.html#returning-a-view-versus-a-copy\n",
      "  df[\"Neutral_Z\"]=df[target].apply(Scales.Peptide_Neutral_pH)\n"
     ]
    },
    {
     "data": {
      "text/html": [
       "<div>\n",
       "<style scoped>\n",
       "    .dataframe tbody tr th:only-of-type {\n",
       "        vertical-align: middle;\n",
       "    }\n",
       "\n",
       "    .dataframe tbody tr th {\n",
       "        vertical-align: top;\n",
       "    }\n",
       "\n",
       "    .dataframe thead th {\n",
       "        text-align: right;\n",
       "    }\n",
       "</style>\n",
       "<table border=\"1\" class=\"dataframe\">\n",
       "  <thead>\n",
       "    <tr style=\"text-align: right;\">\n",
       "      <th></th>\n",
       "      <th>index</th>\n",
       "      <th>Peptide</th>\n",
       "      <th>UniprotID</th>\n",
       "      <th>Gene</th>\n",
       "      <th>Identification</th>\n",
       "      <th>Protein_Length</th>\n",
       "      <th>IPC</th>\n",
       "      <th>Hydro_Sum</th>\n",
       "      <th>Neutral_Z</th>\n",
       "    </tr>\n",
       "  </thead>\n",
       "  <tbody>\n",
       "    <tr>\n",
       "      <th>0</th>\n",
       "      <td>6</td>\n",
       "      <td>MVGGGWKRRPGAGAGPQCEKTVDVKKSKFCEADVSSDLRKEVENHY...</td>\n",
       "      <td>A8MVJ9</td>\n",
       "      <td>HPF1L</td>\n",
       "      <td>HUMAN Putative histone PARylation factor 1-lik...</td>\n",
       "      <td>347</td>\n",
       "      <td>8.111865</td>\n",
       "      <td>-0.540922</td>\n",
       "      <td>3.0</td>\n",
       "    </tr>\n",
       "    <tr>\n",
       "      <th>1</th>\n",
       "      <td>9</td>\n",
       "      <td>MTGSNSHITILTLNVNGLNSPIKRHRLASWIKSQDPSVCCIQETHL...</td>\n",
       "      <td>O00370</td>\n",
       "      <td>LORF2</td>\n",
       "      <td>HUMAN LINE-1 retrotransposable element ORF2 pr...</td>\n",
       "      <td>1275</td>\n",
       "      <td>10.057510</td>\n",
       "      <td>-0.512000</td>\n",
       "      <td>80.0</td>\n",
       "    </tr>\n",
       "    <tr>\n",
       "      <th>2</th>\n",
       "      <td>13</td>\n",
       "      <td>MASKPAAGKSRGEKRKRVVLTLKEKIDICTRLEKGESRKALMQEYN...</td>\n",
       "      <td>O75564</td>\n",
       "      <td>JERKY</td>\n",
       "      <td>HUMAN Jerky protein homolog OS=Homo sapiens OX...</td>\n",
       "      <td>556</td>\n",
       "      <td>7.848545</td>\n",
       "      <td>-0.411331</td>\n",
       "      <td>3.0</td>\n",
       "    </tr>\n",
       "    <tr>\n",
       "      <th>3</th>\n",
       "      <td>20</td>\n",
       "      <td>MAENGDNEKMAALEAKICHQIEYYFGDFNLPRDKFLKEQIKLDEGW...</td>\n",
       "      <td>P05455</td>\n",
       "      <td>LA</td>\n",
       "      <td>HUMAN Lupus La protein OS=Homo sapiens OX=9606...</td>\n",
       "      <td>408</td>\n",
       "      <td>6.780635</td>\n",
       "      <td>-0.973284</td>\n",
       "      <td>-1.0</td>\n",
       "    </tr>\n",
       "    <tr>\n",
       "      <th>4</th>\n",
       "      <td>21</td>\n",
       "      <td>MIRTLLLSTLVAGALSCGVSTYAPDMSRMLGGEEARPNSWPWQVSL...</td>\n",
       "      <td>P08218</td>\n",
       "      <td>CEL2B</td>\n",
       "      <td>HUMAN Chymotrypsin-like elastase family member...</td>\n",
       "      <td>269</td>\n",
       "      <td>6.546572</td>\n",
       "      <td>0.004089</td>\n",
       "      <td>-1.0</td>\n",
       "    </tr>\n",
       "    <tr>\n",
       "      <th>...</th>\n",
       "      <td>...</td>\n",
       "      <td>...</td>\n",
       "      <td>...</td>\n",
       "      <td>...</td>\n",
       "      <td>...</td>\n",
       "      <td>...</td>\n",
       "      <td>...</td>\n",
       "      <td>...</td>\n",
       "      <td>...</td>\n",
       "    </tr>\n",
       "    <tr>\n",
       "      <th>5145</th>\n",
       "      <td>20596</td>\n",
       "      <td>MADRSLEGMALPLEVRARLAELELELSEGDITQKGYEKKRSKLIGA...</td>\n",
       "      <td>Q9Y2E4</td>\n",
       "      <td>DIP2C</td>\n",
       "      <td>HUMAN Disco-interacting protein 2 homolog C OS...</td>\n",
       "      <td>1556</td>\n",
       "      <td>7.029326</td>\n",
       "      <td>-0.118188</td>\n",
       "      <td>-2.0</td>\n",
       "    </tr>\n",
       "    <tr>\n",
       "      <th>5146</th>\n",
       "      <td>20601</td>\n",
       "      <td>MATERSRSAMDSPVPASMFAPEPSSPGAARAAAAAARLHGGFDSDC...</td>\n",
       "      <td>O00178</td>\n",
       "      <td>GTPB1</td>\n",
       "      <td>HUMAN GTP-binding protein 1 OS=Homo sapiens OX...</td>\n",
       "      <td>669</td>\n",
       "      <td>8.316670</td>\n",
       "      <td>-0.307474</td>\n",
       "      <td>6.0</td>\n",
       "    </tr>\n",
       "    <tr>\n",
       "      <th>5147</th>\n",
       "      <td>20602</td>\n",
       "      <td>MASRKEGTGSTATSSSSTAGAAGKGKGKGGSGDSAVKQVQIDGLVV...</td>\n",
       "      <td>O15372</td>\n",
       "      <td>EIF3H</td>\n",
       "      <td>HUMAN Eukaryotic translation initiation factor...</td>\n",
       "      <td>352</td>\n",
       "      <td>6.109482</td>\n",
       "      <td>-0.552557</td>\n",
       "      <td>-5.0</td>\n",
       "    </tr>\n",
       "    <tr>\n",
       "      <th>5148</th>\n",
       "      <td>20606</td>\n",
       "      <td>MSATDRMGPRAVPGLRLALLLLLVLGTPKSGVQGQEGLDFPEYDGV...</td>\n",
       "      <td>P31415</td>\n",
       "      <td>CASQ1</td>\n",
       "      <td>HUMAN Calsequestrin-1 OS=Homo sapiens OX=9606 ...</td>\n",
       "      <td>396</td>\n",
       "      <td>3.858955</td>\n",
       "      <td>-0.432071</td>\n",
       "      <td>-71.0</td>\n",
       "    </tr>\n",
       "    <tr>\n",
       "      <th>5149</th>\n",
       "      <td>20610</td>\n",
       "      <td>MAAGKSGGSAGEITFLEALARSESKRDGGFKNNWSFDHEEESEGDT...</td>\n",
       "      <td>Q9GZR1</td>\n",
       "      <td>SENP6</td>\n",
       "      <td>HUMAN Sentrin-specific protease 6 OS=Homo sapi...</td>\n",
       "      <td>1112</td>\n",
       "      <td>6.300205</td>\n",
       "      <td>-0.717986</td>\n",
       "      <td>-10.0</td>\n",
       "    </tr>\n",
       "  </tbody>\n",
       "</table>\n",
       "<p>5150 rows × 9 columns</p>\n",
       "</div>"
      ],
      "text/plain": [
       "      index                                            Peptide UniprotID  \\\n",
       "0         6  MVGGGWKRRPGAGAGPQCEKTVDVKKSKFCEADVSSDLRKEVENHY...    A8MVJ9   \n",
       "1         9  MTGSNSHITILTLNVNGLNSPIKRHRLASWIKSQDPSVCCIQETHL...    O00370   \n",
       "2        13  MASKPAAGKSRGEKRKRVVLTLKEKIDICTRLEKGESRKALMQEYN...    O75564   \n",
       "3        20  MAENGDNEKMAALEAKICHQIEYYFGDFNLPRDKFLKEQIKLDEGW...    P05455   \n",
       "4        21  MIRTLLLSTLVAGALSCGVSTYAPDMSRMLGGEEARPNSWPWQVSL...    P08218   \n",
       "...     ...                                                ...       ...   \n",
       "5145  20596  MADRSLEGMALPLEVRARLAELELELSEGDITQKGYEKKRSKLIGA...    Q9Y2E4   \n",
       "5146  20601  MATERSRSAMDSPVPASMFAPEPSSPGAARAAAAAARLHGGFDSDC...    O00178   \n",
       "5147  20602  MASRKEGTGSTATSSSSTAGAAGKGKGKGGSGDSAVKQVQIDGLVV...    O15372   \n",
       "5148  20606  MSATDRMGPRAVPGLRLALLLLLVLGTPKSGVQGQEGLDFPEYDGV...    P31415   \n",
       "5149  20610  MAAGKSGGSAGEITFLEALARSESKRDGGFKNNWSFDHEEESEGDT...    Q9GZR1   \n",
       "\n",
       "       Gene                                     Identification  \\\n",
       "0     HPF1L  HUMAN Putative histone PARylation factor 1-lik...   \n",
       "1     LORF2  HUMAN LINE-1 retrotransposable element ORF2 pr...   \n",
       "2     JERKY  HUMAN Jerky protein homolog OS=Homo sapiens OX...   \n",
       "3        LA  HUMAN Lupus La protein OS=Homo sapiens OX=9606...   \n",
       "4     CEL2B  HUMAN Chymotrypsin-like elastase family member...   \n",
       "...     ...                                                ...   \n",
       "5145  DIP2C  HUMAN Disco-interacting protein 2 homolog C OS...   \n",
       "5146  GTPB1  HUMAN GTP-binding protein 1 OS=Homo sapiens OX...   \n",
       "5147  EIF3H  HUMAN Eukaryotic translation initiation factor...   \n",
       "5148  CASQ1  HUMAN Calsequestrin-1 OS=Homo sapiens OX=9606 ...   \n",
       "5149  SENP6  HUMAN Sentrin-specific protease 6 OS=Homo sapi...   \n",
       "\n",
       "      Protein_Length        IPC  Hydro_Sum  Neutral_Z  \n",
       "0                347   8.111865  -0.540922        3.0  \n",
       "1               1275  10.057510  -0.512000       80.0  \n",
       "2                556   7.848545  -0.411331        3.0  \n",
       "3                408   6.780635  -0.973284       -1.0  \n",
       "4                269   6.546572   0.004089       -1.0  \n",
       "...              ...        ...        ...        ...  \n",
       "5145            1556   7.029326  -0.118188       -2.0  \n",
       "5146             669   8.316670  -0.307474        6.0  \n",
       "5147             352   6.109482  -0.552557       -5.0  \n",
       "5148             396   3.858955  -0.432071      -71.0  \n",
       "5149            1112   6.300205  -0.717986      -10.0  \n",
       "\n",
       "[5150 rows x 9 columns]"
      ]
     },
     "execution_count": 45,
     "metadata": {},
     "output_type": "execute_result"
    }
   ],
   "source": [
    "Chef.Marinate(T_Missed,\"Peptide\",length=10,IPC=True,Hydro=True,GRAVY=True,NeutralZ=True,Peptide_Inspector=False)"
   ]
  },
  {
   "cell_type": "code",
   "execution_count": 10,
   "metadata": {},
   "outputs": [
    {
     "data": {
      "text/plain": [
       "2"
      ]
     },
     "execution_count": 10,
     "metadata": {},
     "output_type": "execute_result"
    }
   ],
   "source": [
    "len(Tryp_Peptides)"
   ]
  },
  {
   "cell_type": "code",
   "execution_count": 11,
   "metadata": {
    "scrolled": true
   },
   "outputs": [
    {
     "data": {
      "image/png": "[encoded data removed]",
      "text/plain": [
       "<Figure size 432x288 with 1 Axes>"
      ]
     },
     "metadata": {
      "needs_background": "light"
     },
     "output_type": "display_data"
    }
   ],
   "source": [
    "T_Pep_Counts=[]\n",
    "#Count are in Log10\n",
    "for df in Tryp_Peptides:\n",
    "    log = math.log2(len(df))\n",
    "    T_Pep_Counts.append(log)\n",
    "plt.plot(missed_sites,T_Pep_Counts,color=\"black\")\n",
    "plt.title('Trypsin Digestion - Human Proteome')\n",
    "plt.xlabel('Missed Cleavages per Proteins', fontsize=14)\n",
    "plt.ylabel('Log2(Number of Peptides)', fontsize=14)\n",
    "plt.xticks(fontsize=14)\n",
    "plt.yticks(fontsize=14)\n",
    "plt.ylim([15, 25])\n",
    "Ratios=[]\n",
    "for count in T_Pep_Counts:\n",
    "    ratio=2**(count-T_Pep_Counts[0])\n",
    "    ratiox=float(round(ratio,2))\n",
    "    Ratios.append(ratiox)\n",
    "for x_, y_, name in zip(missed_sites,T_Pep_Counts, Ratios):\n",
    "    plt.text(x_-0.1,y_ + 0.5, name , fontsize=14, color=\"red\")\n",
    "plt.text(1,16,\"Fold Change (rel. 0)\",color=\"red\")\n",
    "plt.show()"
   ]
  },
  {
   "cell_type": "code",
   "execution_count": 18,
   "metadata": {
    "scrolled": false
   },
   "outputs": [
    {
     "name": "stdout",
     "output_type": "stream",
     "text": [
      "The number of proteins with > 1 peptides : 15365.0\n",
      "Ratio of Proteins with > 1 Peptides Identified: 99.360\n",
      "The number of proteins with > 1 peptides : 15465.0\n",
      "Ratio of Proteins with > 1 Peptides Identified: 99.935\n"
     ]
    },
    {
     "data": {
      "image/png": "[encoded data removed]",
      "text/plain": [
       "<Figure size 432x288 with 1 Axes>"
      ]
     },
     "metadata": {
      "needs_background": "light"
     },
     "output_type": "display_data"
    }
   ],
   "source": [
    "T_Pro_Counts=[]\n",
    "xx=[]\n",
    "#Count are in Log10\n",
    "for df in Tryp_Peptides:\n",
    "    x,y,z=Chef.Wishbone(df,\"gene\",0)\n",
    "    T_Pro_Counts.append(y)\n",
    "    xx.append(x)\n",
    "plt.plot(missed_sites,T_Pro_Counts,color=\"black\")\n",
    "plt.title('Trypsin Digestion - Human Proteome')\n",
    "plt.xlabel('Missed Cleavages per Proteins', fontsize=14)\n",
    "plt.ylabel('Number of Protein', fontsize=14)\n",
    "plt.xticks(fontsize=14)\n",
    "plt.yticks(fontsize=14)\n",
    "plt.show()"
   ]
  },
  {
   "cell_type": "code",
   "execution_count": null,
   "metadata": {},
   "outputs": [],
   "source": [
    "T_Pro_Counts=[]\n",
    "xx=[]\n",
    "#Count are in Log10\n",
    "for df in Tryp_Peptides:\n",
    "    x,y,z=Chef.Wishbone(df,\"gene\",1)\n",
    "    T_Pro_Counts.append(y)\n",
    "    xx.append(x)\n",
    "plt.plot(missed_sites,T_Pro_Counts,color=\"black\")\n",
    "plt.title('Trypsin Digestion - Human Proteome')\n",
    "plt.xlabel('Missed Cleavages per Proteins', fontsize=14)\n",
    "plt.ylabel('Number of Protein', fontsize=14)\n",
    "plt.xticks(fontsize=14)\n",
    "plt.yticks(fontsize=14)\n",
    "plt.show()"
   ]
  },
  {
   "cell_type": "code",
   "execution_count": 19,
   "metadata": {},
   "outputs": [
    {
     "data": {
      "text/html": [
       "<div>\n",
       "<style scoped>\n",
       "    .dataframe tbody tr th:only-of-type {\n",
       "        vertical-align: middle;\n",
       "    }\n",
       "\n",
       "    .dataframe tbody tr th {\n",
       "        vertical-align: top;\n",
       "    }\n",
       "\n",
       "    .dataframe thead th {\n",
       "        text-align: right;\n",
       "    }\n",
       "</style>\n",
       "<table border=\"1\" class=\"dataframe\">\n",
       "  <thead>\n",
       "    <tr style=\"text-align: right;\">\n",
       "      <th></th>\n",
       "      <th>gene</th>\n",
       "    </tr>\n",
       "  </thead>\n",
       "  <tbody>\n",
       "    <tr>\n",
       "      <th>TITIN</th>\n",
       "      <td>1852</td>\n",
       "    </tr>\n",
       "    <tr>\n",
       "      <th>MUC16</th>\n",
       "      <td>566</td>\n",
       "    </tr>\n",
       "    <tr>\n",
       "      <th>DYST</th>\n",
       "      <td>440</td>\n",
       "    </tr>\n",
       "    <tr>\n",
       "      <th>MACF1</th>\n",
       "      <td>439</td>\n",
       "    </tr>\n",
       "    <tr>\n",
       "      <th>OBSCN</th>\n",
       "      <td>386</td>\n",
       "    </tr>\n",
       "    <tr>\n",
       "      <th>...</th>\n",
       "      <td>...</td>\n",
       "    </tr>\n",
       "    <tr>\n",
       "      <th>A0N4X2</th>\n",
       "      <td>2</td>\n",
       "    </tr>\n",
       "    <tr>\n",
       "      <th>GC224</th>\n",
       "      <td>2</td>\n",
       "    </tr>\n",
       "    <tr>\n",
       "      <th>VCX3</th>\n",
       "      <td>2</td>\n",
       "    </tr>\n",
       "    <tr>\n",
       "      <th>KR122</th>\n",
       "      <td>2</td>\n",
       "    </tr>\n",
       "    <tr>\n",
       "      <th>A0A075B6W6</th>\n",
       "      <td>2</td>\n",
       "    </tr>\n",
       "  </tbody>\n",
       "</table>\n",
       "<p>15365 rows × 1 columns</p>\n",
       "</div>"
      ],
      "text/plain": [
       "            gene\n",
       "TITIN       1852\n",
       "MUC16        566\n",
       "DYST         440\n",
       "MACF1        439\n",
       "OBSCN        386\n",
       "...          ...\n",
       "A0N4X2         2\n",
       "GC224          2\n",
       "VCX3           2\n",
       "KR122          2\n",
       "A0A075B6W6     2\n",
       "\n",
       "[15365 rows x 1 columns]"
      ]
     },
     "execution_count": 19,
     "metadata": {},
     "output_type": "execute_result"
    }
   ],
   "source": [
    "xx[0]"
   ]
  },
  {
   "cell_type": "code",
   "execution_count": 13,
   "metadata": {},
   "outputs": [],
   "source": [
    "import re\n",
    "def Pep2Pro(protein,peptides):\n",
    "    protein = re.sub(r'[^A-Z]', '', protein)\n",
    "    mask = np.zeros(len(protein), dtype=np.int8)\n",
    "    for peptide in peptides:\n",
    "        indices = [m.start() for m in re.finditer(\n",
    "            '(?={})'.format(re.sub(r'[^A-Z]', '', peptide)), protein)]\n",
    "        for i in indices:\n",
    "            mask[i:i + len(peptide)] = 1\n",
    "    return mask.sum(dtype=float) / mask.size"
   ]
  },
  {
   "cell_type": "code",
   "execution_count": 15,
   "metadata": {},
   "outputs": [
    {
     "name": "stdout",
     "output_type": "stream",
     "text": [
      "On to the next...\n",
      "On to the next...\n",
      "Done\n"
     ]
    }
   ],
   "source": [
    "raw=Menu[[\"Peptide\", \"Gene\"]].set_index(\"Gene\").to_dict()[\"Peptide\"]\n",
    "Tryp_Silico_Coverage=pd.DataFrame()\n",
    "i=0\n",
    "columns=[\"Tryp_0\",\"Tryp_1\",\"Tryp_2\",\"Tryp_3\",]\n",
    "for df in Tryp_Peptides:\n",
    "    name=f\"SC_{columns[i]}\" \n",
    "    x_list=list()\n",
    "    for gene, protein in raw.items():\n",
    "        temp=df.loc[df.gene == gene][\"peptide\"]\n",
    "        temp2=list(temp)\n",
    "        x=Pep2Pro(protein,temp2)\n",
    "        x_list.append(x)\n",
    "    Tryp_Silico_Coverage[name]= np.array(x_list)\n",
    "    i+=1\n",
    "    print(\"On to the next...\")\n",
    "print(\"Done\")"
   ]
  },
  {
   "cell_type": "code",
   "execution_count": 16,
   "metadata": {},
   "outputs": [],
   "source": [
    "Tryp_Silico_Coverage.replace(np.nan, 0, inplace=True)"
   ]
  },
  {
   "cell_type": "code",
   "execution_count": 17,
   "metadata": {
    "scrolled": true
   },
   "outputs": [
    {
     "data": {
      "text/html": [
       "<div>\n",
       "<style scoped>\n",
       "    .dataframe tbody tr th:only-of-type {\n",
       "        vertical-align: middle;\n",
       "    }\n",
       "\n",
       "    .dataframe tbody tr th {\n",
       "        vertical-align: top;\n",
       "    }\n",
       "\n",
       "    .dataframe thead th {\n",
       "        text-align: right;\n",
       "    }\n",
       "</style>\n",
       "<table border=\"1\" class=\"dataframe\">\n",
       "  <thead>\n",
       "    <tr style=\"text-align: right;\">\n",
       "      <th></th>\n",
       "      <th>SC_Tryp_0</th>\n",
       "      <th>SC_Tryp_1</th>\n",
       "    </tr>\n",
       "  </thead>\n",
       "  <tbody>\n",
       "    <tr>\n",
       "      <th>count</th>\n",
       "      <td>20614.000000</td>\n",
       "      <td>20614.000000</td>\n",
       "    </tr>\n",
       "    <tr>\n",
       "      <th>mean</th>\n",
       "      <td>0.046237</td>\n",
       "      <td>0.045412</td>\n",
       "    </tr>\n",
       "    <tr>\n",
       "      <th>std</th>\n",
       "      <td>0.077167</td>\n",
       "      <td>0.081587</td>\n",
       "    </tr>\n",
       "    <tr>\n",
       "      <th>min</th>\n",
       "      <td>0.000000</td>\n",
       "      <td>0.000000</td>\n",
       "    </tr>\n",
       "    <tr>\n",
       "      <th>25%</th>\n",
       "      <td>0.001305</td>\n",
       "      <td>0.001778</td>\n",
       "    </tr>\n",
       "    <tr>\n",
       "      <th>50%</th>\n",
       "      <td>0.023592</td>\n",
       "      <td>0.022951</td>\n",
       "    </tr>\n",
       "    <tr>\n",
       "      <th>75%</th>\n",
       "      <td>0.056726</td>\n",
       "      <td>0.052258</td>\n",
       "    </tr>\n",
       "    <tr>\n",
       "      <th>max</th>\n",
       "      <td>1.000000</td>\n",
       "      <td>1.000000</td>\n",
       "    </tr>\n",
       "  </tbody>\n",
       "</table>\n",
       "</div>"
      ],
      "text/plain": [
       "          SC_Tryp_0     SC_Tryp_1\n",
       "count  20614.000000  20614.000000\n",
       "mean       0.046237      0.045412\n",
       "std        0.077167      0.081587\n",
       "min        0.000000      0.000000\n",
       "25%        0.001305      0.001778\n",
       "50%        0.023592      0.022951\n",
       "75%        0.056726      0.052258\n",
       "max        1.000000      1.000000"
      ]
     },
     "execution_count": 17,
     "metadata": {},
     "output_type": "execute_result"
    }
   ],
   "source": [
    "Tryp_Silico_Coverage.describe()"
   ]
  },
  {
   "cell_type": "code",
   "execution_count": null,
   "metadata": {},
   "outputs": [],
   "source": [
    "plt.hist(Tryp_Silico_Coverage['SC_Tryp_0'])"
   ]
  },
  {
   "cell_type": "code",
   "execution_count": null,
   "metadata": {},
   "outputs": [],
   "source": [
    "Tryp_Silico_Coverage.to_excel('Silico_Trypsin_Coverage.xlsx')"
   ]
  },
  {
   "cell_type": "code",
   "execution_count": null,
   "metadata": {
    "scrolled": false
   },
   "outputs": [],
   "source": [
    "df1 = Tryp_Silico_Coverage.stack().reset_index()\n",
    "df1.columns = ['Null','Digest','Coverage']\n",
    "df1.drop(['Null'], axis=1, inplace=True)\n",
    "sns.set(font_scale = 4)\n",
    "sns.set_style(\"white\")\n",
    "\n",
    "g=sns.displot(\n",
    "    data=df1,\n",
    "    x=\"Coverage\",hue=\"Digest\",\n",
    "    kind=\"kde\", height=20,log_scale=(0,0),\n",
    "    \n",
    ")\n",
    "plt.xlabel('Sequence Coverage', fontsize=48)\n",
    "plt.ylabel('Density(KDE)', fontsize=48)\n",
    "plt.title('Trypsin-Digested Human Proteome  Sequence Coverage',fontname='Arial',fontweight='bold',fontsize=34,pad=30,backgroundcolor='blue',color='yellow',style='oblique');"
   ]
  },
  {
   "cell_type": "markdown",
   "metadata": {},
   "source": [
    "## AspN in Silco Digestion"
   ]
  },
  {
   "cell_type": "code",
   "execution_count": 20,
   "metadata": {},
   "outputs": [
    {
     "name": "stdout",
     "output_type": "stream",
     "text": [
      "You order is being processed and the butcher is preparing your asp-n-cut protein(s)!\n",
      "The butcher is working...\n",
      "Generating asp-n-cut peptides based on 0-missed cleavages. \n",
      "Preparing your order...\n",
      "Order is up! You have acquired 349508 peptides that are between 7 and 100 amino acids!\n",
      "You order is being processed and the butcher is preparing your asp-n-cut protein(s)!\n",
      "The butcher is working...\n",
      "Generating asp-n-cut peptides based on 1-missed cleavages. \n",
      "Preparing your order...\n",
      "Order is up! You have acquired 770186 peptides that are between 7 and 100 amino acids!\n",
      "You order is being processed and the butcher is preparing your asp-n-cut protein(s)!\n",
      "The butcher is working...\n",
      "Generating asp-n-cut peptides based on 2-missed cleavages. \n",
      "Preparing your order...\n",
      "Order is up! You have acquired 1155730 peptides that are between 7 and 100 amino acids!\n",
      "You order is being processed and the butcher is preparing your asp-n-cut protein(s)!\n",
      "The butcher is working...\n",
      "Generating asp-n-cut peptides based on 3-missed cleavages. \n",
      "Preparing your order...\n",
      "Order is up! You have acquired 1478445 peptides that are between 7 and 100 amino acids!\n"
     ]
    }
   ],
   "source": [
    "# AspN in Silco Digestion\n",
    "missed_sites=[0,1,2,3]\n",
    "enzyme=\"asp-n\"\n",
    "AspN_Peptides=[]\n",
    "for site in missed_sites:\n",
    "    x=f\"AspN_{site}_dig\"\n",
    "    zz=Chef.ButcherShop(Menu,target=\"Peptide\",identifier=\"Gene\", rule=enzyme,missed=site,exception=None,min_length=7,max_length=100)\n",
    "    globals()[str(x)]=Chef.Deli(zz,meat_package=True)\n",
    "    AspN_Peptides.append(globals()[str(x)])\n",
    "    \n",
    "    "
   ]
  },
  {
   "cell_type": "code",
   "execution_count": 21,
   "metadata": {
    "scrolled": false
   },
   "outputs": [
    {
     "data": {
      "text/html": [
       "<div>\n",
       "<style scoped>\n",
       "    .dataframe tbody tr th:only-of-type {\n",
       "        vertical-align: middle;\n",
       "    }\n",
       "\n",
       "    .dataframe tbody tr th {\n",
       "        vertical-align: top;\n",
       "    }\n",
       "\n",
       "    .dataframe thead th {\n",
       "        text-align: right;\n",
       "    }\n",
       "</style>\n",
       "<table border=\"1\" class=\"dataframe\">\n",
       "  <thead>\n",
       "    <tr style=\"text-align: right;\">\n",
       "      <th></th>\n",
       "      <th>gene</th>\n",
       "      <th>aa_comp</th>\n",
       "      <th>peptide</th>\n",
       "      <th>Length</th>\n",
       "      <th>z</th>\n",
       "      <th>Mass</th>\n",
       "      <th>m/z</th>\n",
       "      <th>counts</th>\n",
       "    </tr>\n",
       "  </thead>\n",
       "  <tbody>\n",
       "    <tr>\n",
       "      <th>0</th>\n",
       "      <td>SCGR7</td>\n",
       "      <td>{'M': 1, 'G': 30, 'C': 37, 'S': 6, 'T': 4, 'R'...</td>\n",
       "      <td>MGCCGCGSCGGCGGGCGGCGGGCGGGCGGGCGSCTTCRCYRVGCCS...</td>\n",
       "      <td>96</td>\n",
       "      <td>9</td>\n",
       "      <td>8928</td>\n",
       "      <td>992.0</td>\n",
       "      <td>1</td>\n",
       "    </tr>\n",
       "    <tr>\n",
       "      <th>1</th>\n",
       "      <td>IGS23</td>\n",
       "      <td>{'D': 1, 'R': 2, 'Q': 1, 'I': 2, 'G': 1, 'C': ...</td>\n",
       "      <td>DRQRIGICS</td>\n",
       "      <td>9</td>\n",
       "      <td>3</td>\n",
       "      <td>1029</td>\n",
       "      <td>343.0</td>\n",
       "      <td>5</td>\n",
       "    </tr>\n",
       "    <tr>\n",
       "      <th>2</th>\n",
       "      <td>IGS23</td>\n",
       "      <td>{'D': 1, 'R': 2, 'Q': 1, 'I': 2, 'G': 1, 'C': ...</td>\n",
       "      <td>DRQRIGICS</td>\n",
       "      <td>9</td>\n",
       "      <td>3</td>\n",
       "      <td>1029</td>\n",
       "      <td>343.0</td>\n",
       "      <td>5</td>\n",
       "    </tr>\n",
       "    <tr>\n",
       "      <th>3</th>\n",
       "      <td>IGS23</td>\n",
       "      <td>{'D': 1, 'R': 2, 'Q': 1, 'I': 2, 'G': 1, 'C': ...</td>\n",
       "      <td>DRQRIGICS</td>\n",
       "      <td>9</td>\n",
       "      <td>3</td>\n",
       "      <td>1029</td>\n",
       "      <td>343.0</td>\n",
       "      <td>5</td>\n",
       "    </tr>\n",
       "    <tr>\n",
       "      <th>4</th>\n",
       "      <td>IGS23</td>\n",
       "      <td>{'D': 1, 'R': 2, 'Q': 1, 'I': 2, 'G': 1, 'C': ...</td>\n",
       "      <td>DRQRIGICS</td>\n",
       "      <td>9</td>\n",
       "      <td>3</td>\n",
       "      <td>1029</td>\n",
       "      <td>343.0</td>\n",
       "      <td>5</td>\n",
       "    </tr>\n",
       "    <tr>\n",
       "      <th>...</th>\n",
       "      <td>...</td>\n",
       "      <td>...</td>\n",
       "      <td>...</td>\n",
       "      <td>...</td>\n",
       "      <td>...</td>\n",
       "      <td>...</td>\n",
       "      <td>...</td>\n",
       "      <td>...</td>\n",
       "    </tr>\n",
       "    <tr>\n",
       "      <th>349503</th>\n",
       "      <td>TTC7A</td>\n",
       "      <td>{'D': 1, 'C': 1, 'F': 2, 'L': 5, 'T': 1, 'A': ...</td>\n",
       "      <td>DCFLTALELEASSPVLPFSIIPREL</td>\n",
       "      <td>25</td>\n",
       "      <td>2</td>\n",
       "      <td>2738</td>\n",
       "      <td>1369.0</td>\n",
       "      <td>21</td>\n",
       "    </tr>\n",
       "    <tr>\n",
       "      <th>349504</th>\n",
       "      <td>TTC7A</td>\n",
       "      <td>{'D': 1, 'C': 1, 'F': 2, 'L': 5, 'T': 1, 'A': ...</td>\n",
       "      <td>DCFLTALELEASSPVLPFSIIPREL</td>\n",
       "      <td>25</td>\n",
       "      <td>2</td>\n",
       "      <td>2738</td>\n",
       "      <td>1369.0</td>\n",
       "      <td>21</td>\n",
       "    </tr>\n",
       "    <tr>\n",
       "      <th>349505</th>\n",
       "      <td>TTC7A</td>\n",
       "      <td>{'D': 1, 'C': 1, 'F': 2, 'L': 5, 'T': 1, 'A': ...</td>\n",
       "      <td>DCFLTALELEASSPVLPFSIIPREL</td>\n",
       "      <td>25</td>\n",
       "      <td>2</td>\n",
       "      <td>2738</td>\n",
       "      <td>1369.0</td>\n",
       "      <td>21</td>\n",
       "    </tr>\n",
       "    <tr>\n",
       "      <th>349506</th>\n",
       "      <td>TTC7A</td>\n",
       "      <td>{'D': 1, 'C': 1, 'F': 2, 'L': 5, 'T': 1, 'A': ...</td>\n",
       "      <td>DCFLTALELEASSPVLPFSIIPREL</td>\n",
       "      <td>25</td>\n",
       "      <td>2</td>\n",
       "      <td>2738</td>\n",
       "      <td>1369.0</td>\n",
       "      <td>21</td>\n",
       "    </tr>\n",
       "    <tr>\n",
       "      <th>349507</th>\n",
       "      <td>TTC7A</td>\n",
       "      <td>{'D': 1, 'C': 1, 'F': 2, 'L': 5, 'T': 1, 'A': ...</td>\n",
       "      <td>DCFLTALELEASSPVLPFSIIPREL</td>\n",
       "      <td>25</td>\n",
       "      <td>2</td>\n",
       "      <td>2738</td>\n",
       "      <td>1369.0</td>\n",
       "      <td>21</td>\n",
       "    </tr>\n",
       "  </tbody>\n",
       "</table>\n",
       "<p>349508 rows × 8 columns</p>\n",
       "</div>"
      ],
      "text/plain": [
       "         gene                                            aa_comp  \\\n",
       "0       SCGR7  {'M': 1, 'G': 30, 'C': 37, 'S': 6, 'T': 4, 'R'...   \n",
       "1       IGS23  {'D': 1, 'R': 2, 'Q': 1, 'I': 2, 'G': 1, 'C': ...   \n",
       "2       IGS23  {'D': 1, 'R': 2, 'Q': 1, 'I': 2, 'G': 1, 'C': ...   \n",
       "3       IGS23  {'D': 1, 'R': 2, 'Q': 1, 'I': 2, 'G': 1, 'C': ...   \n",
       "4       IGS23  {'D': 1, 'R': 2, 'Q': 1, 'I': 2, 'G': 1, 'C': ...   \n",
       "...       ...                                                ...   \n",
       "349503  TTC7A  {'D': 1, 'C': 1, 'F': 2, 'L': 5, 'T': 1, 'A': ...   \n",
       "349504  TTC7A  {'D': 1, 'C': 1, 'F': 2, 'L': 5, 'T': 1, 'A': ...   \n",
       "349505  TTC7A  {'D': 1, 'C': 1, 'F': 2, 'L': 5, 'T': 1, 'A': ...   \n",
       "349506  TTC7A  {'D': 1, 'C': 1, 'F': 2, 'L': 5, 'T': 1, 'A': ...   \n",
       "349507  TTC7A  {'D': 1, 'C': 1, 'F': 2, 'L': 5, 'T': 1, 'A': ...   \n",
       "\n",
       "                                                  peptide  Length  z  Mass  \\\n",
       "0       MGCCGCGSCGGCGGGCGGCGGGCGGGCGGGCGSCTTCRCYRVGCCS...      96  9  8928   \n",
       "1                                               DRQRIGICS       9  3  1029   \n",
       "2                                               DRQRIGICS       9  3  1029   \n",
       "3                                               DRQRIGICS       9  3  1029   \n",
       "4                                               DRQRIGICS       9  3  1029   \n",
       "...                                                   ...     ... ..   ...   \n",
       "349503                          DCFLTALELEASSPVLPFSIIPREL      25  2  2738   \n",
       "349504                          DCFLTALELEASSPVLPFSIIPREL      25  2  2738   \n",
       "349505                          DCFLTALELEASSPVLPFSIIPREL      25  2  2738   \n",
       "349506                          DCFLTALELEASSPVLPFSIIPREL      25  2  2738   \n",
       "349507                          DCFLTALELEASSPVLPFSIIPREL      25  2  2738   \n",
       "\n",
       "           m/z  counts  \n",
       "0        992.0       1  \n",
       "1        343.0       5  \n",
       "2        343.0       5  \n",
       "3        343.0       5  \n",
       "4        343.0       5  \n",
       "...        ...     ...  \n",
       "349503  1369.0      21  \n",
       "349504  1369.0      21  \n",
       "349505  1369.0      21  \n",
       "349506  1369.0      21  \n",
       "349507  1369.0      21  \n",
       "\n",
       "[349508 rows x 8 columns]"
      ]
     },
     "execution_count": 21,
     "metadata": {},
     "output_type": "execute_result"
    }
   ],
   "source": [
    "AspN_Peptides[0]"
   ]
  },
  {
   "cell_type": "code",
   "execution_count": 22,
   "metadata": {},
   "outputs": [
    {
     "data": {
      "text/plain": [
       "4"
      ]
     },
     "execution_count": 22,
     "metadata": {},
     "output_type": "execute_result"
    }
   ],
   "source": [
    "len(AspN_Peptides)"
   ]
  },
  {
   "cell_type": "code",
   "execution_count": 51,
   "metadata": {
    "scrolled": true
   },
   "outputs": [
    {
     "data": {
      "image/png": "[encoded data removed]",
      "text/plain": [
       "<Figure size 432x288 with 1 Axes>"
      ]
     },
     "metadata": {},
     "output_type": "display_data"
    }
   ],
   "source": [
    "A_Pep_Counts=[]\n",
    "#Count are in Log10\n",
    "for df in AspN_Peptides:\n",
    "    log = math.log2(len(df))\n",
    "    A_Pep_Counts.append(log)\n",
    "plt.plot(missed_sites,A_Pep_Counts,color=\"black\")\n",
    "plt.title('AspN Digestion - Human Proteome', fontsize=12)\n",
    "plt.xlabel('Missed Cleavages per Proteins', fontsize=14)\n",
    "plt.ylabel('Log2(Number of Peptides)', fontsize=14)\n",
    "plt.xticks(missed_sites,fontsize=14)\n",
    "plt.yticks(fontsize=14)\n",
    "plt.ylim([15, 25])\n",
    "Ratios=[]\n",
    "for count in A_Pep_Counts:\n",
    "    ratio=2**(count-A_Pep_Counts[0])\n",
    "    ratiox=float(round(ratio,2))\n",
    "    Ratios.append(ratiox)\n",
    "for x_, y_, name in zip(missed_sites,A_Pep_Counts, Ratios):\n",
    "    plt.text(x_-0.1,y_ + 0.5, name , fontsize=14, color=\"red\")\n",
    "plt.text(1,16,\"Fold Change (rel. 0)\",color=\"red\", fontsize=10)\n",
    "plt.show()"
   ]
  },
  {
   "cell_type": "code",
   "execution_count": 27,
   "metadata": {},
   "outputs": [
    {
     "name": "stdout",
     "output_type": "stream",
     "text": [
      "The number of proteins with > 1 peptides : 17988.0\n",
      "Ratio of Proteins with > 1 Peptides Identified: 98.284\n",
      "The number of proteins with > 1 peptides : 17904.0\n",
      "Ratio of Proteins with > 1 Peptides Identified: 98.743\n",
      "The number of proteins with > 1 peptides : 17834.0\n",
      "Ratio of Proteins with > 1 Peptides Identified: 98.738\n",
      "The number of proteins with > 1 peptides : 17818.0\n",
      "Ratio of Proteins with > 1 Peptides Identified: 98.737\n"
     ]
    },
    {
     "data": {
      "image/png": "[encoded data removed]",
      "text/plain": [
       "<Figure size 432x288 with 1 Axes>"
      ]
     },
     "metadata": {},
     "output_type": "display_data"
    }
   ],
   "source": [
    "A_Pro_Counts=[]\n",
    "#Count are in Log10\n",
    "for df in AspN_Peptides:\n",
    "    x,y,z=Chef.Wishbone(df,\"gene\",1)\n",
    "    A_Pro_Counts.append(y)\n",
    "plt.plot(missed_sites,A_Pro_Counts,color=\"black\")\n",
    "plt.title('Asp-N Digestion - Human Proteome', fontsize=12)\n",
    "plt.xlabel('Missed Cleavages per Proteins', fontsize=14)\n",
    "plt.ylabel('Number of Proteins', fontsize=14)\n",
    "plt.xticks(missed_sites,fontsize=14)\n",
    "plt.yticks(fontsize=14)\n",
    "plt.show()"
   ]
  },
  {
   "cell_type": "code",
   "execution_count": 46,
   "metadata": {},
   "outputs": [
    {
     "name": "stdout",
     "output_type": "stream",
     "text": [
      "On to the next...\n",
      "On to the next...\n",
      "On to the next...\n",
      "On to the next...\n",
      "Done\n"
     ]
    }
   ],
   "source": [
    "raw=Menu[[\"Peptide\", \"Gene\"]].set_index(\"Gene\").to_dict()[\"Peptide\"]\n",
    "AspN_Silico_Coverage=pd.DataFrame()\n",
    "i=0\n",
    "columns=[\"AspN_0\",\"AspN_1\",\"AspN_2\",\"AspN_3\",]\n",
    "for df in AspN_Peptides:\n",
    "    name=f\"SC_{columns[i]}\" \n",
    "    x_list=list()\n",
    "    max_len=len(df)\n",
    "    for gene, protein in raw.items():\n",
    "        temp=df.loc[df.gene == gene][\"peptide\"]\n",
    "        temp2=list(temp)\n",
    "        x=Pep2Pro(protein,temp2)\n",
    "        x_list.append(x)\n",
    "    AspN_Silico_Coverage[name]= np.array(x_list)\n",
    "    i+=1\n",
    "    print(\"On to the next...\")\n",
    "print(\"Done\")"
   ]
  },
  {
   "cell_type": "code",
   "execution_count": 63,
   "metadata": {},
   "outputs": [],
   "source": [
    "AspN_Silico_Coverage.replace(0,np.nan, inplace=True)"
   ]
  },
  {
   "cell_type": "code",
   "execution_count": 64,
   "metadata": {},
   "outputs": [
    {
     "data": {
      "text/html": [
       "<div>\n",
       "<style scoped>\n",
       "    .dataframe tbody tr th:only-of-type {\n",
       "        vertical-align: middle;\n",
       "    }\n",
       "\n",
       "    .dataframe tbody tr th {\n",
       "        vertical-align: top;\n",
       "    }\n",
       "\n",
       "    .dataframe thead th {\n",
       "        text-align: right;\n",
       "    }\n",
       "</style>\n",
       "<table border=\"1\" class=\"dataframe\">\n",
       "  <thead>\n",
       "    <tr style=\"text-align: right;\">\n",
       "      <th></th>\n",
       "      <th>SC_AspN_0</th>\n",
       "      <th>SC_AspN_1</th>\n",
       "      <th>SC_AspN_2</th>\n",
       "      <th>SC_AspN_3</th>\n",
       "    </tr>\n",
       "  </thead>\n",
       "  <tbody>\n",
       "    <tr>\n",
       "      <th>count</th>\n",
       "      <td>18302.000000</td>\n",
       "      <td>18132.000000</td>\n",
       "      <td>18062.000000</td>\n",
       "      <td>18046.000000</td>\n",
       "    </tr>\n",
       "    <tr>\n",
       "      <th>mean</th>\n",
       "      <td>0.104624</td>\n",
       "      <td>0.105596</td>\n",
       "      <td>0.105683</td>\n",
       "      <td>0.105684</td>\n",
       "    </tr>\n",
       "    <tr>\n",
       "      <th>std</th>\n",
       "      <td>0.143421</td>\n",
       "      <td>0.144886</td>\n",
       "      <td>0.145082</td>\n",
       "      <td>0.145075</td>\n",
       "    </tr>\n",
       "    <tr>\n",
       "      <th>min</th>\n",
       "      <td>0.000349</td>\n",
       "      <td>0.000349</td>\n",
       "      <td>0.000349</td>\n",
       "      <td>0.000349</td>\n",
       "    </tr>\n",
       "    <tr>\n",
       "      <th>25%</th>\n",
       "      <td>0.029041</td>\n",
       "      <td>0.029246</td>\n",
       "      <td>0.029255</td>\n",
       "      <td>0.029255</td>\n",
       "    </tr>\n",
       "    <tr>\n",
       "      <th>50%</th>\n",
       "      <td>0.058590</td>\n",
       "      <td>0.059158</td>\n",
       "      <td>0.059200</td>\n",
       "      <td>0.059190</td>\n",
       "    </tr>\n",
       "    <tr>\n",
       "      <th>75%</th>\n",
       "      <td>0.120612</td>\n",
       "      <td>0.121572</td>\n",
       "      <td>0.121578</td>\n",
       "      <td>0.121646</td>\n",
       "    </tr>\n",
       "    <tr>\n",
       "      <th>max</th>\n",
       "      <td>1.000000</td>\n",
       "      <td>1.000000</td>\n",
       "      <td>1.000000</td>\n",
       "      <td>1.000000</td>\n",
       "    </tr>\n",
       "  </tbody>\n",
       "</table>\n",
       "</div>"
      ],
      "text/plain": [
       "          SC_AspN_0     SC_AspN_1     SC_AspN_2     SC_AspN_3\n",
       "count  18302.000000  18132.000000  18062.000000  18046.000000\n",
       "mean       0.104624      0.105596      0.105683      0.105684\n",
       "std        0.143421      0.144886      0.145082      0.145075\n",
       "min        0.000349      0.000349      0.000349      0.000349\n",
       "25%        0.029041      0.029246      0.029255      0.029255\n",
       "50%        0.058590      0.059158      0.059200      0.059190\n",
       "75%        0.120612      0.121572      0.121578      0.121646\n",
       "max        1.000000      1.000000      1.000000      1.000000"
      ]
     },
     "execution_count": 64,
     "metadata": {},
     "output_type": "execute_result"
    }
   ],
   "source": [
    "AspN_Silico_Coverage.describe()"
   ]
  },
  {
   "cell_type": "code",
   "execution_count": 65,
   "metadata": {},
   "outputs": [
    {
     "data": {
      "text/plain": [
       "(array([12666.,  3360.,  1115.,   467.,   221.,   122.,    68.,    57.,\n",
       "           26.,   200.]),\n",
       " array([3.49344978e-04, 1.00314410e-01, 2.00279476e-01, 3.00244541e-01,\n",
       "        4.00209607e-01, 5.00174672e-01, 6.00139738e-01, 7.00104803e-01,\n",
       "        8.00069869e-01, 9.00034934e-01, 1.00000000e+00]),\n",
       " <a list of 10 Patch objects>)"
      ]
     },
     "execution_count": 65,
     "metadata": {},
     "output_type": "execute_result"
    },
    {
     "data": {
      "image/png": "[encoded data removed]",
      "text/plain": [
       "<Figure size 432x288 with 1 Axes>"
      ]
     },
     "metadata": {},
     "output_type": "display_data"
    }
   ],
   "source": [
    "plt.hist(AspN_Silico_Coverage['SC_AspN_0'])"
   ]
  },
  {
   "cell_type": "code",
   "execution_count": 49,
   "metadata": {},
   "outputs": [],
   "source": [
    "AspN_Silico_Coverage.to_excel('Silico_AspN_Coverage.xlsx')"
   ]
  },
  {
   "cell_type": "code",
   "execution_count": 50,
   "metadata": {
    "scrolled": false
   },
   "outputs": [
    {
     "data": {
      "image/png": "[encoded data removed]",
      "text/plain": [
       "<Figure size 1840.78x1440 with 1 Axes>"
      ]
     },
     "metadata": {},
     "output_type": "display_data"
    }
   ],
   "source": [
    "df1 = AspN_Silico_Coverage.stack().reset_index()\n",
    "df1.columns = ['Null','Digest','Coverage']\n",
    "df1.drop(['Null'], axis=1, inplace=True)\n",
    "sns.set(font_scale = 4)\n",
    "sns.set_style(\"white\")\n",
    "\n",
    "g=sns.displot(\n",
    "    data=df1,\n",
    "    x=\"Coverage\",hue=\"Digest\",\n",
    "    kind=\"kde\", height=20,log_scale=(0,0),\n",
    "    \n",
    ")\n",
    "plt.xlabel('Sequence Coverage', fontsize=48)\n",
    "plt.ylabel('Density(KDE)', fontsize=48)\n",
    "plt.title('AspN-Digested Human Proteome  Sequence Coverage',fontname='Arial',fontweight='bold',fontsize=34,pad=30,backgroundcolor='blue',color='yellow',style='oblique');"
   ]
  },
  {
   "cell_type": "markdown",
   "metadata": {},
   "source": [
    "## GluC in Silco Digestion"
   ]
  },
  {
   "cell_type": "code",
   "execution_count": null,
   "metadata": {},
   "outputs": [],
   "source": [
    "# Trypsin in Silco Digestion\n",
    "missed_sites=[0,1,2,3]\n",
    "enzyme=\"glutamyl endopeptidase\"\n",
    "for site in missed_sites:\n",
    "    x=f\"GluC_{site}_dig\"\n",
    "    z=Chef.ButcherShop(Menu,target=\"Peptide\",identifier=\"Gene\", rule=enzyme,missed=site,exception=None,min_length=7,max_length=100)\n",
    "    globals()[str(x)]=Chef.Deli(z,meat_package=True)"
   ]
  },
  {
   "cell_type": "code",
   "execution_count": null,
   "metadata": {
    "scrolled": true
   },
   "outputs": [],
   "source": [
    "GluC_0_dig.head()"
   ]
  },
  {
   "cell_type": "markdown",
   "metadata": {},
   "source": [
    "# Raw Experimental Data"
   ]
  },
  {
   "cell_type": "code",
   "execution_count": null,
   "metadata": {},
   "outputs": [],
   "source": []
  }
 ],
 "metadata": {
  "kernelspec": {
   "display_name": "Python 3",
   "language": "python",
   "name": "python3"
  },
  "language_info": {
   "codemirror_mode": {
    "name": "ipython",
    "version": 3
   },
   "file_extension": ".py",
   "mimetype": "text/x-python",
   "name": "python",
   "nbconvert_exporter": "python",
   "pygments_lexer": "ipython3",
   "version": "3.8.3"
  },
  "toc": {
   "base_numbering": 1,
   "nav_menu": {},
   "number_sections": true,
   "sideBar": true,
   "skip_h1_title": false,
   "title_cell": "Table of Contents",
   "title_sidebar": "Contents",
   "toc_cell": false,
   "toc_position": {},
   "toc_section_display": true,
   "toc_window_display": true
  },
  "varInspector": {
   "cols": {
    "lenName": 16,
    "lenType": 16,
    "lenVar": 40
   },
   "kernels_config": {
    "python": {
     "delete_cmd_postfix": "",
     "delete_cmd_prefix": "del ",
     "library": "var_list.py",
     "varRefreshCmd": "print(var_dic_list())"
    },
    "r": {
     "delete_cmd_postfix": ") ",
     "delete_cmd_prefix": "rm(",
     "library": "var_list.r",
     "varRefreshCmd": "cat(var_dic_list()) "
    }
   },
   "types_to_exclude": [
    "module",
    "function",
    "builtin_function_or_method",
    "instance",
    "_Feature"
   ],
   "window_display": false
  }
 },
 "nbformat": 4,
 "nbformat_minor": 4
}
